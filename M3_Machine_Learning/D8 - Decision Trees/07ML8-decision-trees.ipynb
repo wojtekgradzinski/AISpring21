{
  "cells": [
    {
      "cell_type": "markdown",
      "source": "<!-- <div style=\"background:#222222; color:#ffffff; padding:20px\"> -->\n<h1 align=\"center\">Guided ML With The Iris Dataset</h1>\n\n<h2 align=\"center\" tyle=\"color:#01ff84\" >Learning type | Activity type | Objective |</h2>\n<h2 align=\"center\">| Supervised | Multiclass classification | Identify a flower's class |</h2>\n\n\n<div>",
      "metadata": {
        "deletable": false,
        "editable": false,
        "nbgrader": {
          "cell_type": "markdown",
          "checksum": "425b290b3300794b0c51490054efb061",
          "grade": false,
          "grade_id": "cell-d16f9036bd325625",
          "locked": true,
          "schema_version": 3,
          "solution": false,
          "task": false
        },
        "cell_id": "00000-74344800-5e0c-46a6-aae6-550202d14fcc",
        "deepnote_cell_type": "markdown"
      }
    },
    {
      "cell_type": "markdown",
      "source": "Contents:\n\n1. Loading the data\n2. Setting up supervised learning problem (selecting features)\n3. Creating a first model\n    - Creating train and test datasets\n    - Normalizing train and test\n    - Fitting and predicting\n4. Evaluate the frist model predictions\n5. Crossvalidation of the model\n6. Creating an end to end ML pipeline\n    - Train/Test Split\n    - Normalize\n    - Crossvalidations\n    - Model\n    - fitting and predicting",
      "metadata": {
        "deletable": false,
        "editable": false,
        "nbgrader": {
          "cell_type": "markdown",
          "checksum": "829109418410f732b20fa5260845eae2",
          "grade": false,
          "grade_id": "cell-c273e6623fe661ab",
          "locked": true,
          "schema_version": 3,
          "solution": false,
          "task": false
        },
        "cell_id": "00001-b2efa187-e5ee-4b3f-9b0f-0a831276452e",
        "deepnote_cell_type": "markdown"
      }
    },
    {
      "cell_type": "markdown",
      "source": "## Instructions with NBGrader removed\n\nComplete the cells beginning with `# YOUR CODE HERE` and run the subsequent cells to check your code.",
      "metadata": {
        "deletable": false,
        "editable": false,
        "nbgrader": {
          "cell_type": "markdown",
          "checksum": "8d08b8142820842aefcd5c956a3206ac",
          "grade": false,
          "grade_id": "cell-b9b45906f7798060",
          "locked": true,
          "schema_version": 3,
          "solution": false,
          "task": false
        },
        "cell_id": "00002-f7b5b7a1-d2ab-45d3-a06a-387cbbe4f413",
        "deepnote_cell_type": "markdown"
      }
    },
    {
      "cell_type": "markdown",
      "source": "\nContents:\n1. Loading the data\n2. Setting up supervised learning problem (selecting features)\n3. Creating a first model\n    - Creating train and test datasets\n    - Normalizing train and test\n    - Fitting and predicting\n4. Evaluate the frist model predictions\n5. Crossvalidation of the model\n6. Creating an end to end ML pipeline\n    - Train/Test Split\n    - Normalize\n    - Crossvalidations\n    - Model\n    - fitting and predicting",
      "metadata": {
        "deletable": false,
        "editable": false,
        "nbgrader": {
          "cell_type": "markdown",
          "checksum": "f6f9da48ae5f9afe18e5f66e254f2c8e",
          "grade": false,
          "grade_id": "cell-ecfedf24107f7412",
          "locked": true,
          "schema_version": 3,
          "solution": false,
          "task": false
        },
        "cell_id": "00003-de59053e-aaab-4718-92d4-d3126f12fc26",
        "deepnote_cell_type": "markdown"
      }
    },
    {
      "cell_type": "markdown",
      "source": "## About the dataset\n\n[Iris](https://archive.ics.uci.edu/ml/datasets/iris) is a well-known multiclass dataset. It contains 3 classes of flowers with 50 examples each. There are a total of 4 features for each flower.\n\n![](./classic-datasets/images/Iris-versicolor-21_1.jpg)",
      "metadata": {
        "deletable": false,
        "editable": false,
        "nbgrader": {
          "cell_type": "markdown",
          "checksum": "d550a34573fd8f474e045823d568a379",
          "grade": false,
          "grade_id": "cell-d265ce864af311cc",
          "locked": true,
          "schema_version": 3,
          "solution": false,
          "task": false
        },
        "cell_id": "00004-f1e6688e-19a7-4c2f-bf8a-fda05de2efb6",
        "deepnote_cell_type": "markdown"
      }
    },
    {
      "cell_type": "markdown",
      "source": "## Package setups\n\n1. Run the following two cells to initalize the required libraries. ",
      "metadata": {
        "deletable": false,
        "editable": false,
        "nbgrader": {
          "cell_type": "markdown",
          "checksum": "87b95fe75781b483f205b07196ee8d7f",
          "grade": false,
          "grade_id": "cell-970959de1583c6aa",
          "locked": true,
          "schema_version": 3,
          "solution": false,
          "task": false
        },
        "cell_id": "00005-65ea5150-8a43-42cc-8912-92bfd219ab9f",
        "deepnote_cell_type": "markdown"
      }
    },
    {
      "cell_type": "code",
      "metadata": {
        "cell_id": "00006-714e9989-0da4-41e3-bc68-563c125af807",
        "deepnote_to_be_reexecuted": false,
        "source_hash": "1e64b7fc",
        "execution_start": 1619608375193,
        "execution_millis": 16,
        "deepnote_cell_type": "code"
      },
      "source": "#to debug package errors\nimport sys\nsys.path\nsys.executable",
      "execution_count": 1,
      "outputs": [
        {
          "output_type": "execute_result",
          "execution_count": 1,
          "data": {
            "text/plain": "'/usr/local/bin/python'"
          },
          "metadata": {}
        }
      ]
    },
    {
      "cell_type": "code",
      "metadata": {
        "cell_id": "00007-498747af-2cb1-4156-97c4-fd4249beb1d5",
        "deepnote_to_be_reexecuted": false,
        "source_hash": "ab47e6dd",
        "execution_start": 1619608380885,
        "execution_millis": 2316,
        "deepnote_cell_type": "code"
      },
      "source": "# Import needed packages\n# You may add or remove packages should you need them\nimport numpy as np\nimport matplotlib\nimport matplotlib.pyplot as plt\nimport seaborn as sns\nimport pandas as pd\nfrom sklearn import datasets\nfrom sklearn import model_selection\nfrom sklearn.preprocessing import StandardScaler\nfrom sklearn import preprocessing\nfrom sklearn.linear_model import LogisticRegression\nfrom sklearn.model_selection import train_test_split, cross_validate\nfrom sklearn.pipeline import make_pipeline\n\n# Display plots inline and change plot resolution to retina\n%matplotlib inline\n%config InlineBackend.figure_format = 'retina'\n# Set Seaborn aesthetic parameters to defaults\nsns.set()",
      "execution_count": 2,
      "outputs": []
    },
    {
      "cell_type": "code",
      "metadata": {
        "cell_id": "00008-30baf8f3-6c14-4017-ab3d-eb35140978a8",
        "deepnote_cell_type": "code"
      },
      "source": "",
      "execution_count": null,
      "outputs": []
    },
    {
      "cell_type": "markdown",
      "source": "## Step 1: Loading the data\n\n1. Load the iris dataset using ```datasets.load_iris()```\n2. Investigate the data structure with ```.keys()```\n3. Construct a dataframe from the dataset\n4. Create a 'target' and a 'class' column that contains the target names and values\n5. Display a random sample of the dataframe ",
      "metadata": {
        "deletable": false,
        "editable": false,
        "nbgrader": {
          "cell_type": "markdown",
          "checksum": "a339b0712c560653440a7d36ab5e8bc8",
          "grade": false,
          "grade_id": "cell-c1bf14dba6281d8f",
          "locked": true,
          "schema_version": 3,
          "solution": false,
          "task": false
        },
        "cell_id": "00009-43b7a479-7438-438b-874f-04a0fa0d7dc7",
        "deepnote_cell_type": "markdown"
      }
    },
    {
      "cell_type": "code",
      "metadata": {
        "deletable": false,
        "nbgrader": {
          "cell_type": "code",
          "checksum": "4779ca50002373e235c91b4bc239fd44",
          "grade": false,
          "grade_id": "cell-c92cca7755a29a2c",
          "locked": false,
          "schema_version": 3,
          "solution": true,
          "task": false
        },
        "cell_id": "00010-a83867cf-a4c7-49da-97df-5b977a8b84f8",
        "deepnote_to_be_reexecuted": false,
        "source_hash": "ae8dd5f3",
        "execution_start": 1619608404151,
        "execution_millis": 1,
        "deepnote_cell_type": "code"
      },
      "source": "def load_data():\n    #load the dataset\n    data = datasets.load_iris()\n    #return the dataset\n    return data",
      "execution_count": 3,
      "outputs": []
    },
    {
      "cell_type": "code",
      "metadata": {
        "deletable": false,
        "editable": false,
        "nbgrader": {
          "cell_type": "code",
          "checksum": "2dff5e326550ba31c1bb6ba5d90e251e",
          "grade": true,
          "grade_id": "cell-6955aa3f0eb9b484",
          "locked": true,
          "points": 1,
          "schema_version": 3,
          "solution": false,
          "task": false
        },
        "cell_id": "00011-b67dbd13-167e-4c47-9c68-850a52a61292",
        "deepnote_to_be_reexecuted": false,
        "source_hash": "dc242a8a",
        "execution_start": 1619608407728,
        "execution_millis": 7,
        "deepnote_cell_type": "code"
      },
      "source": "# assert load_data()['data'].shape == (150,4)",
      "execution_count": 4,
      "outputs": []
    },
    {
      "cell_type": "code",
      "metadata": {
        "cell_id": "00012-6d1971a2-adbc-41f6-b5bd-f1c15ec3cdef",
        "deepnote_to_be_reexecuted": false,
        "source_hash": "ebc3d2ab",
        "execution_start": 1619608410116,
        "execution_millis": 11,
        "deepnote_cell_type": "code"
      },
      "source": "dataset = load_data()\nload_data().feature_names",
      "execution_count": 5,
      "outputs": [
        {
          "output_type": "execute_result",
          "execution_count": 5,
          "data": {
            "text/plain": "['sepal length (cm)',\n 'sepal width (cm)',\n 'petal length (cm)',\n 'petal width (cm)']"
          },
          "metadata": {}
        }
      ]
    },
    {
      "cell_type": "code",
      "metadata": {
        "deletable": false,
        "nbgrader": {
          "cell_type": "code",
          "checksum": "0854adf2bd82feb9c7409fcff160ea6a",
          "grade": false,
          "grade_id": "cell-054f7e75dfc37e15",
          "locked": false,
          "schema_version": 3,
          "solution": true,
          "task": false
        },
        "cell_id": "00013-26c4ed74-f47f-4c27-9686-7947b2b19568",
        "deepnote_to_be_reexecuted": false,
        "source_hash": "dbe2aabe",
        "execution_start": 1619608413652,
        "execution_millis": 0,
        "deepnote_cell_type": "code"
      },
      "source": "def dataset_to_pandas():\n    #put the dataset into a pandas DF using the feature names as columnsç\n    #rename the column name so the dont include the '(cm)'\n    #add 2 columns one with the target and another with the target_names\n    \n    df = pd.DataFrame(dataset.data, columns = ['sepal length','sepal width','petal length','petal width'])\n    df['target'] = dataset.target\n    target_names = dataset.target_names\n    df['class'] = df['target'].replace({0: target_names[0],1: target_names[1], 2 : target_names[2]})\n    return df",
      "execution_count": 6,
      "outputs": []
    },
    {
      "cell_type": "code",
      "metadata": {
        "cell_id": "00014-a451b5d4-be87-4666-b712-74e1d42ae6c6",
        "deepnote_to_be_reexecuted": false,
        "source_hash": "5b8b7096",
        "execution_start": 1619608725112,
        "execution_millis": 49,
        "deepnote_cell_type": "code"
      },
      "source": "dataset_to_pandas()",
      "execution_count": 7,
      "outputs": [
        {
          "output_type": "execute_result",
          "execution_count": 7,
          "data": {
            "application/vnd.deepnote.dataframe.v2+json": {
              "row_count": 150,
              "column_count": 6,
              "columns": [
                {
                  "name": "sepal length",
                  "dtype": "float64",
                  "stats": {
                    "unique_count": 35,
                    "nan_count": 0,
                    "min": "4.3",
                    "max": "7.9",
                    "histogram": [
                      {
                        "bin_start": 4.3,
                        "bin_end": 4.66,
                        "count": 9
                      },
                      {
                        "bin_start": 4.66,
                        "bin_end": 5.02,
                        "count": 23
                      },
                      {
                        "bin_start": 5.02,
                        "bin_end": 5.38,
                        "count": 14
                      },
                      {
                        "bin_start": 5.38,
                        "bin_end": 5.74,
                        "count": 27
                      },
                      {
                        "bin_start": 5.74,
                        "bin_end": 6.1,
                        "count": 16
                      },
                      {
                        "bin_start": 6.1,
                        "bin_end": 6.46,
                        "count": 26
                      },
                      {
                        "bin_start": 6.46,
                        "bin_end": 6.82,
                        "count": 18
                      },
                      {
                        "bin_start": 6.82,
                        "bin_end": 7.18,
                        "count": 6
                      },
                      {
                        "bin_start": 7.18,
                        "bin_end": 7.54,
                        "count": 5
                      },
                      {
                        "bin_start": 7.54,
                        "bin_end": 7.9,
                        "count": 6
                      }
                    ]
                  }
                },
                {
                  "name": "sepal width",
                  "dtype": "float64",
                  "stats": {
                    "unique_count": 23,
                    "nan_count": 0,
                    "min": "2.0",
                    "max": "4.4",
                    "histogram": [
                      {
                        "bin_start": 2,
                        "bin_end": 2.24,
                        "count": 4
                      },
                      {
                        "bin_start": 2.24,
                        "bin_end": 2.48,
                        "count": 7
                      },
                      {
                        "bin_start": 2.48,
                        "bin_end": 2.72,
                        "count": 22
                      },
                      {
                        "bin_start": 2.72,
                        "bin_end": 2.96,
                        "count": 24
                      },
                      {
                        "bin_start": 2.96,
                        "bin_end": 3.2,
                        "count": 37
                      },
                      {
                        "bin_start": 3.2,
                        "bin_end": 3.4400000000000004,
                        "count": 31
                      },
                      {
                        "bin_start": 3.4400000000000004,
                        "bin_end": 3.6800000000000006,
                        "count": 10
                      },
                      {
                        "bin_start": 3.6800000000000006,
                        "bin_end": 3.9200000000000004,
                        "count": 11
                      },
                      {
                        "bin_start": 3.9200000000000004,
                        "bin_end": 4.16,
                        "count": 2
                      },
                      {
                        "bin_start": 4.16,
                        "bin_end": 4.4,
                        "count": 2
                      }
                    ]
                  }
                },
                {
                  "name": "petal length",
                  "dtype": "float64",
                  "stats": {
                    "unique_count": 43,
                    "nan_count": 0,
                    "min": "1.0",
                    "max": "6.9",
                    "histogram": [
                      {
                        "bin_start": 1,
                        "bin_end": 1.59,
                        "count": 37
                      },
                      {
                        "bin_start": 1.59,
                        "bin_end": 2.18,
                        "count": 13
                      },
                      {
                        "bin_start": 2.18,
                        "bin_end": 2.7700000000000005,
                        "count": 0
                      },
                      {
                        "bin_start": 2.7700000000000005,
                        "bin_end": 3.3600000000000003,
                        "count": 3
                      },
                      {
                        "bin_start": 3.3600000000000003,
                        "bin_end": 3.95,
                        "count": 8
                      },
                      {
                        "bin_start": 3.95,
                        "bin_end": 4.540000000000001,
                        "count": 26
                      },
                      {
                        "bin_start": 4.540000000000001,
                        "bin_end": 5.130000000000001,
                        "count": 29
                      },
                      {
                        "bin_start": 5.130000000000001,
                        "bin_end": 5.720000000000001,
                        "count": 18
                      },
                      {
                        "bin_start": 5.720000000000001,
                        "bin_end": 6.3100000000000005,
                        "count": 11
                      },
                      {
                        "bin_start": 6.3100000000000005,
                        "bin_end": 6.9,
                        "count": 5
                      }
                    ]
                  }
                },
                {
                  "name": "petal width",
                  "dtype": "float64",
                  "stats": {
                    "unique_count": 22,
                    "nan_count": 0,
                    "min": "0.1",
                    "max": "2.5",
                    "histogram": [
                      {
                        "bin_start": 0.1,
                        "bin_end": 0.33999999999999997,
                        "count": 41
                      },
                      {
                        "bin_start": 0.33999999999999997,
                        "bin_end": 0.58,
                        "count": 8
                      },
                      {
                        "bin_start": 0.58,
                        "bin_end": 0.82,
                        "count": 1
                      },
                      {
                        "bin_start": 0.82,
                        "bin_end": 1.06,
                        "count": 7
                      },
                      {
                        "bin_start": 1.06,
                        "bin_end": 1.3,
                        "count": 8
                      },
                      {
                        "bin_start": 1.3,
                        "bin_end": 1.54,
                        "count": 33
                      },
                      {
                        "bin_start": 1.54,
                        "bin_end": 1.78,
                        "count": 6
                      },
                      {
                        "bin_start": 1.78,
                        "bin_end": 2.02,
                        "count": 23
                      },
                      {
                        "bin_start": 2.02,
                        "bin_end": 2.2600000000000002,
                        "count": 9
                      },
                      {
                        "bin_start": 2.2600000000000002,
                        "bin_end": 2.5,
                        "count": 14
                      }
                    ]
                  }
                },
                {
                  "name": "target",
                  "dtype": "int64",
                  "stats": {
                    "unique_count": 3,
                    "nan_count": 0,
                    "min": "0",
                    "max": "2",
                    "histogram": [
                      {
                        "bin_start": 0,
                        "bin_end": 0.2,
                        "count": 50
                      },
                      {
                        "bin_start": 0.2,
                        "bin_end": 0.4,
                        "count": 0
                      },
                      {
                        "bin_start": 0.4,
                        "bin_end": 0.6000000000000001,
                        "count": 0
                      },
                      {
                        "bin_start": 0.6000000000000001,
                        "bin_end": 0.8,
                        "count": 0
                      },
                      {
                        "bin_start": 0.8,
                        "bin_end": 1,
                        "count": 0
                      },
                      {
                        "bin_start": 1,
                        "bin_end": 1.2000000000000002,
                        "count": 50
                      },
                      {
                        "bin_start": 1.2000000000000002,
                        "bin_end": 1.4000000000000001,
                        "count": 0
                      },
                      {
                        "bin_start": 1.4000000000000001,
                        "bin_end": 1.6,
                        "count": 0
                      },
                      {
                        "bin_start": 1.6,
                        "bin_end": 1.8,
                        "count": 0
                      },
                      {
                        "bin_start": 1.8,
                        "bin_end": 2,
                        "count": 50
                      }
                    ]
                  }
                },
                {
                  "name": "class",
                  "dtype": "object",
                  "stats": {
                    "unique_count": 3,
                    "nan_count": 0,
                    "categories": [
                      {
                        "name": "setosa",
                        "count": 50
                      },
                      {
                        "name": "versicolor",
                        "count": 50
                      },
                      {
                        "name": "virginica",
                        "count": 50
                      }
                    ]
                  }
                },
                {
                  "name": "_deepnote_index_column",
                  "dtype": "int64"
                }
              ],
              "rows_top": [
                {
                  "sepal length": 5.1,
                  "sepal width": 3.5,
                  "petal length": 1.4,
                  "petal width": 0.2,
                  "target": 0,
                  "class": "setosa",
                  "_deepnote_index_column": 0
                },
                {
                  "sepal length": 4.9,
                  "sepal width": 3,
                  "petal length": 1.4,
                  "petal width": 0.2,
                  "target": 0,
                  "class": "setosa",
                  "_deepnote_index_column": 1
                },
                {
                  "sepal length": 4.7,
                  "sepal width": 3.2,
                  "petal length": 1.3,
                  "petal width": 0.2,
                  "target": 0,
                  "class": "setosa",
                  "_deepnote_index_column": 2
                },
                {
                  "sepal length": 4.6,
                  "sepal width": 3.1,
                  "petal length": 1.5,
                  "petal width": 0.2,
                  "target": 0,
                  "class": "setosa",
                  "_deepnote_index_column": 3
                },
                {
                  "sepal length": 5,
                  "sepal width": 3.6,
                  "petal length": 1.4,
                  "petal width": 0.2,
                  "target": 0,
                  "class": "setosa",
                  "_deepnote_index_column": 4
                },
                {
                  "sepal length": 5.4,
                  "sepal width": 3.9,
                  "petal length": 1.7,
                  "petal width": 0.4,
                  "target": 0,
                  "class": "setosa",
                  "_deepnote_index_column": 5
                },
                {
                  "sepal length": 4.6,
                  "sepal width": 3.4,
                  "petal length": 1.4,
                  "petal width": 0.3,
                  "target": 0,
                  "class": "setosa",
                  "_deepnote_index_column": 6
                },
                {
                  "sepal length": 5,
                  "sepal width": 3.4,
                  "petal length": 1.5,
                  "petal width": 0.2,
                  "target": 0,
                  "class": "setosa",
                  "_deepnote_index_column": 7
                },
                {
                  "sepal length": 4.4,
                  "sepal width": 2.9,
                  "petal length": 1.4,
                  "petal width": 0.2,
                  "target": 0,
                  "class": "setosa",
                  "_deepnote_index_column": 8
                },
                {
                  "sepal length": 4.9,
                  "sepal width": 3.1,
                  "petal length": 1.5,
                  "petal width": 0.1,
                  "target": 0,
                  "class": "setosa",
                  "_deepnote_index_column": 9
                },
                {
                  "sepal length": 5.4,
                  "sepal width": 3.7,
                  "petal length": 1.5,
                  "petal width": 0.2,
                  "target": 0,
                  "class": "setosa",
                  "_deepnote_index_column": 10
                },
                {
                  "sepal length": 4.8,
                  "sepal width": 3.4,
                  "petal length": 1.6,
                  "petal width": 0.2,
                  "target": 0,
                  "class": "setosa",
                  "_deepnote_index_column": 11
                },
                {
                  "sepal length": 4.8,
                  "sepal width": 3,
                  "petal length": 1.4,
                  "petal width": 0.1,
                  "target": 0,
                  "class": "setosa",
                  "_deepnote_index_column": 12
                },
                {
                  "sepal length": 4.3,
                  "sepal width": 3,
                  "petal length": 1.1,
                  "petal width": 0.1,
                  "target": 0,
                  "class": "setosa",
                  "_deepnote_index_column": 13
                },
                {
                  "sepal length": 5.8,
                  "sepal width": 4,
                  "petal length": 1.2,
                  "petal width": 0.2,
                  "target": 0,
                  "class": "setosa",
                  "_deepnote_index_column": 14
                },
                {
                  "sepal length": 5.7,
                  "sepal width": 4.4,
                  "petal length": 1.5,
                  "petal width": 0.4,
                  "target": 0,
                  "class": "setosa",
                  "_deepnote_index_column": 15
                },
                {
                  "sepal length": 5.4,
                  "sepal width": 3.9,
                  "petal length": 1.3,
                  "petal width": 0.4,
                  "target": 0,
                  "class": "setosa",
                  "_deepnote_index_column": 16
                },
                {
                  "sepal length": 5.1,
                  "sepal width": 3.5,
                  "petal length": 1.4,
                  "petal width": 0.3,
                  "target": 0,
                  "class": "setosa",
                  "_deepnote_index_column": 17
                },
                {
                  "sepal length": 5.7,
                  "sepal width": 3.8,
                  "petal length": 1.7,
                  "petal width": 0.3,
                  "target": 0,
                  "class": "setosa",
                  "_deepnote_index_column": 18
                },
                {
                  "sepal length": 5.1,
                  "sepal width": 3.8,
                  "petal length": 1.5,
                  "petal width": 0.3,
                  "target": 0,
                  "class": "setosa",
                  "_deepnote_index_column": 19
                },
                {
                  "sepal length": 5.4,
                  "sepal width": 3.4,
                  "petal length": 1.7,
                  "petal width": 0.2,
                  "target": 0,
                  "class": "setosa",
                  "_deepnote_index_column": 20
                },
                {
                  "sepal length": 5.1,
                  "sepal width": 3.7,
                  "petal length": 1.5,
                  "petal width": 0.4,
                  "target": 0,
                  "class": "setosa",
                  "_deepnote_index_column": 21
                },
                {
                  "sepal length": 4.6,
                  "sepal width": 3.6,
                  "petal length": 1,
                  "petal width": 0.2,
                  "target": 0,
                  "class": "setosa",
                  "_deepnote_index_column": 22
                },
                {
                  "sepal length": 5.1,
                  "sepal width": 3.3,
                  "petal length": 1.7,
                  "petal width": 0.5,
                  "target": 0,
                  "class": "setosa",
                  "_deepnote_index_column": 23
                },
                {
                  "sepal length": 4.8,
                  "sepal width": 3.4,
                  "petal length": 1.9,
                  "petal width": 0.2,
                  "target": 0,
                  "class": "setosa",
                  "_deepnote_index_column": 24
                },
                {
                  "sepal length": 5,
                  "sepal width": 3,
                  "petal length": 1.6,
                  "petal width": 0.2,
                  "target": 0,
                  "class": "setosa",
                  "_deepnote_index_column": 25
                },
                {
                  "sepal length": 5,
                  "sepal width": 3.4,
                  "petal length": 1.6,
                  "petal width": 0.4,
                  "target": 0,
                  "class": "setosa",
                  "_deepnote_index_column": 26
                },
                {
                  "sepal length": 5.2,
                  "sepal width": 3.5,
                  "petal length": 1.5,
                  "petal width": 0.2,
                  "target": 0,
                  "class": "setosa",
                  "_deepnote_index_column": 27
                },
                {
                  "sepal length": 5.2,
                  "sepal width": 3.4,
                  "petal length": 1.4,
                  "petal width": 0.2,
                  "target": 0,
                  "class": "setosa",
                  "_deepnote_index_column": 28
                },
                {
                  "sepal length": 4.7,
                  "sepal width": 3.2,
                  "petal length": 1.6,
                  "petal width": 0.2,
                  "target": 0,
                  "class": "setosa",
                  "_deepnote_index_column": 29
                },
                {
                  "sepal length": 4.8,
                  "sepal width": 3.1,
                  "petal length": 1.6,
                  "petal width": 0.2,
                  "target": 0,
                  "class": "setosa",
                  "_deepnote_index_column": 30
                },
                {
                  "sepal length": 5.4,
                  "sepal width": 3.4,
                  "petal length": 1.5,
                  "petal width": 0.4,
                  "target": 0,
                  "class": "setosa",
                  "_deepnote_index_column": 31
                },
                {
                  "sepal length": 5.2,
                  "sepal width": 4.1,
                  "petal length": 1.5,
                  "petal width": 0.1,
                  "target": 0,
                  "class": "setosa",
                  "_deepnote_index_column": 32
                },
                {
                  "sepal length": 5.5,
                  "sepal width": 4.2,
                  "petal length": 1.4,
                  "petal width": 0.2,
                  "target": 0,
                  "class": "setosa",
                  "_deepnote_index_column": 33
                },
                {
                  "sepal length": 4.9,
                  "sepal width": 3.1,
                  "petal length": 1.5,
                  "petal width": 0.2,
                  "target": 0,
                  "class": "setosa",
                  "_deepnote_index_column": 34
                },
                {
                  "sepal length": 5,
                  "sepal width": 3.2,
                  "petal length": 1.2,
                  "petal width": 0.2,
                  "target": 0,
                  "class": "setosa",
                  "_deepnote_index_column": 35
                },
                {
                  "sepal length": 5.5,
                  "sepal width": 3.5,
                  "petal length": 1.3,
                  "petal width": 0.2,
                  "target": 0,
                  "class": "setosa",
                  "_deepnote_index_column": 36
                },
                {
                  "sepal length": 4.9,
                  "sepal width": 3.6,
                  "petal length": 1.4,
                  "petal width": 0.1,
                  "target": 0,
                  "class": "setosa",
                  "_deepnote_index_column": 37
                },
                {
                  "sepal length": 4.4,
                  "sepal width": 3,
                  "petal length": 1.3,
                  "petal width": 0.2,
                  "target": 0,
                  "class": "setosa",
                  "_deepnote_index_column": 38
                },
                {
                  "sepal length": 5.1,
                  "sepal width": 3.4,
                  "petal length": 1.5,
                  "petal width": 0.2,
                  "target": 0,
                  "class": "setosa",
                  "_deepnote_index_column": 39
                },
                {
                  "sepal length": 5,
                  "sepal width": 3.5,
                  "petal length": 1.3,
                  "petal width": 0.3,
                  "target": 0,
                  "class": "setosa",
                  "_deepnote_index_column": 40
                },
                {
                  "sepal length": 4.5,
                  "sepal width": 2.3,
                  "petal length": 1.3,
                  "petal width": 0.3,
                  "target": 0,
                  "class": "setosa",
                  "_deepnote_index_column": 41
                },
                {
                  "sepal length": 4.4,
                  "sepal width": 3.2,
                  "petal length": 1.3,
                  "petal width": 0.2,
                  "target": 0,
                  "class": "setosa",
                  "_deepnote_index_column": 42
                },
                {
                  "sepal length": 5,
                  "sepal width": 3.5,
                  "petal length": 1.6,
                  "petal width": 0.6,
                  "target": 0,
                  "class": "setosa",
                  "_deepnote_index_column": 43
                },
                {
                  "sepal length": 5.1,
                  "sepal width": 3.8,
                  "petal length": 1.9,
                  "petal width": 0.4,
                  "target": 0,
                  "class": "setosa",
                  "_deepnote_index_column": 44
                },
                {
                  "sepal length": 4.8,
                  "sepal width": 3,
                  "petal length": 1.4,
                  "petal width": 0.3,
                  "target": 0,
                  "class": "setosa",
                  "_deepnote_index_column": 45
                },
                {
                  "sepal length": 5.1,
                  "sepal width": 3.8,
                  "petal length": 1.6,
                  "petal width": 0.2,
                  "target": 0,
                  "class": "setosa",
                  "_deepnote_index_column": 46
                },
                {
                  "sepal length": 4.6,
                  "sepal width": 3.2,
                  "petal length": 1.4,
                  "petal width": 0.2,
                  "target": 0,
                  "class": "setosa",
                  "_deepnote_index_column": 47
                },
                {
                  "sepal length": 5.3,
                  "sepal width": 3.7,
                  "petal length": 1.5,
                  "petal width": 0.2,
                  "target": 0,
                  "class": "setosa",
                  "_deepnote_index_column": 48
                },
                {
                  "sepal length": 5,
                  "sepal width": 3.3,
                  "petal length": 1.4,
                  "petal width": 0.2,
                  "target": 0,
                  "class": "setosa",
                  "_deepnote_index_column": 49
                },
                {
                  "sepal length": 7,
                  "sepal width": 3.2,
                  "petal length": 4.7,
                  "petal width": 1.4,
                  "target": 1,
                  "class": "versicolor",
                  "_deepnote_index_column": 50
                },
                {
                  "sepal length": 6.4,
                  "sepal width": 3.2,
                  "petal length": 4.5,
                  "petal width": 1.5,
                  "target": 1,
                  "class": "versicolor",
                  "_deepnote_index_column": 51
                },
                {
                  "sepal length": 6.9,
                  "sepal width": 3.1,
                  "petal length": 4.9,
                  "petal width": 1.5,
                  "target": 1,
                  "class": "versicolor",
                  "_deepnote_index_column": 52
                },
                {
                  "sepal length": 5.5,
                  "sepal width": 2.3,
                  "petal length": 4,
                  "petal width": 1.3,
                  "target": 1,
                  "class": "versicolor",
                  "_deepnote_index_column": 53
                },
                {
                  "sepal length": 6.5,
                  "sepal width": 2.8,
                  "petal length": 4.6,
                  "petal width": 1.5,
                  "target": 1,
                  "class": "versicolor",
                  "_deepnote_index_column": 54
                },
                {
                  "sepal length": 5.7,
                  "sepal width": 2.8,
                  "petal length": 4.5,
                  "petal width": 1.3,
                  "target": 1,
                  "class": "versicolor",
                  "_deepnote_index_column": 55
                },
                {
                  "sepal length": 6.3,
                  "sepal width": 3.3,
                  "petal length": 4.7,
                  "petal width": 1.6,
                  "target": 1,
                  "class": "versicolor",
                  "_deepnote_index_column": 56
                },
                {
                  "sepal length": 4.9,
                  "sepal width": 2.4,
                  "petal length": 3.3,
                  "petal width": 1,
                  "target": 1,
                  "class": "versicolor",
                  "_deepnote_index_column": 57
                },
                {
                  "sepal length": 6.6,
                  "sepal width": 2.9,
                  "petal length": 4.6,
                  "petal width": 1.3,
                  "target": 1,
                  "class": "versicolor",
                  "_deepnote_index_column": 58
                },
                {
                  "sepal length": 5.2,
                  "sepal width": 2.7,
                  "petal length": 3.9,
                  "petal width": 1.4,
                  "target": 1,
                  "class": "versicolor",
                  "_deepnote_index_column": 59
                },
                {
                  "sepal length": 5,
                  "sepal width": 2,
                  "petal length": 3.5,
                  "petal width": 1,
                  "target": 1,
                  "class": "versicolor",
                  "_deepnote_index_column": 60
                },
                {
                  "sepal length": 5.9,
                  "sepal width": 3,
                  "petal length": 4.2,
                  "petal width": 1.5,
                  "target": 1,
                  "class": "versicolor",
                  "_deepnote_index_column": 61
                },
                {
                  "sepal length": 6,
                  "sepal width": 2.2,
                  "petal length": 4,
                  "petal width": 1,
                  "target": 1,
                  "class": "versicolor",
                  "_deepnote_index_column": 62
                },
                {
                  "sepal length": 6.1,
                  "sepal width": 2.9,
                  "petal length": 4.7,
                  "petal width": 1.4,
                  "target": 1,
                  "class": "versicolor",
                  "_deepnote_index_column": 63
                },
                {
                  "sepal length": 5.6,
                  "sepal width": 2.9,
                  "petal length": 3.6,
                  "petal width": 1.3,
                  "target": 1,
                  "class": "versicolor",
                  "_deepnote_index_column": 64
                },
                {
                  "sepal length": 6.7,
                  "sepal width": 3.1,
                  "petal length": 4.4,
                  "petal width": 1.4,
                  "target": 1,
                  "class": "versicolor",
                  "_deepnote_index_column": 65
                },
                {
                  "sepal length": 5.6,
                  "sepal width": 3,
                  "petal length": 4.5,
                  "petal width": 1.5,
                  "target": 1,
                  "class": "versicolor",
                  "_deepnote_index_column": 66
                },
                {
                  "sepal length": 5.8,
                  "sepal width": 2.7,
                  "petal length": 4.1,
                  "petal width": 1,
                  "target": 1,
                  "class": "versicolor",
                  "_deepnote_index_column": 67
                },
                {
                  "sepal length": 6.2,
                  "sepal width": 2.2,
                  "petal length": 4.5,
                  "petal width": 1.5,
                  "target": 1,
                  "class": "versicolor",
                  "_deepnote_index_column": 68
                },
                {
                  "sepal length": 5.6,
                  "sepal width": 2.5,
                  "petal length": 3.9,
                  "petal width": 1.1,
                  "target": 1,
                  "class": "versicolor",
                  "_deepnote_index_column": 69
                },
                {
                  "sepal length": 5.9,
                  "sepal width": 3.2,
                  "petal length": 4.8,
                  "petal width": 1.8,
                  "target": 1,
                  "class": "versicolor",
                  "_deepnote_index_column": 70
                },
                {
                  "sepal length": 6.1,
                  "sepal width": 2.8,
                  "petal length": 4,
                  "petal width": 1.3,
                  "target": 1,
                  "class": "versicolor",
                  "_deepnote_index_column": 71
                },
                {
                  "sepal length": 6.3,
                  "sepal width": 2.5,
                  "petal length": 4.9,
                  "petal width": 1.5,
                  "target": 1,
                  "class": "versicolor",
                  "_deepnote_index_column": 72
                },
                {
                  "sepal length": 6.1,
                  "sepal width": 2.8,
                  "petal length": 4.7,
                  "petal width": 1.2,
                  "target": 1,
                  "class": "versicolor",
                  "_deepnote_index_column": 73
                },
                {
                  "sepal length": 6.4,
                  "sepal width": 2.9,
                  "petal length": 4.3,
                  "petal width": 1.3,
                  "target": 1,
                  "class": "versicolor",
                  "_deepnote_index_column": 74
                },
                {
                  "sepal length": 6.6,
                  "sepal width": 3,
                  "petal length": 4.4,
                  "petal width": 1.4,
                  "target": 1,
                  "class": "versicolor",
                  "_deepnote_index_column": 75
                },
                {
                  "sepal length": 6.8,
                  "sepal width": 2.8,
                  "petal length": 4.8,
                  "petal width": 1.4,
                  "target": 1,
                  "class": "versicolor",
                  "_deepnote_index_column": 76
                },
                {
                  "sepal length": 6.7,
                  "sepal width": 3,
                  "petal length": 5,
                  "petal width": 1.7,
                  "target": 1,
                  "class": "versicolor",
                  "_deepnote_index_column": 77
                },
                {
                  "sepal length": 6,
                  "sepal width": 2.9,
                  "petal length": 4.5,
                  "petal width": 1.5,
                  "target": 1,
                  "class": "versicolor",
                  "_deepnote_index_column": 78
                },
                {
                  "sepal length": 5.7,
                  "sepal width": 2.6,
                  "petal length": 3.5,
                  "petal width": 1,
                  "target": 1,
                  "class": "versicolor",
                  "_deepnote_index_column": 79
                },
                {
                  "sepal length": 5.5,
                  "sepal width": 2.4,
                  "petal length": 3.8,
                  "petal width": 1.1,
                  "target": 1,
                  "class": "versicolor",
                  "_deepnote_index_column": 80
                },
                {
                  "sepal length": 5.5,
                  "sepal width": 2.4,
                  "petal length": 3.7,
                  "petal width": 1,
                  "target": 1,
                  "class": "versicolor",
                  "_deepnote_index_column": 81
                },
                {
                  "sepal length": 5.8,
                  "sepal width": 2.7,
                  "petal length": 3.9,
                  "petal width": 1.2,
                  "target": 1,
                  "class": "versicolor",
                  "_deepnote_index_column": 82
                },
                {
                  "sepal length": 6,
                  "sepal width": 2.7,
                  "petal length": 5.1,
                  "petal width": 1.6,
                  "target": 1,
                  "class": "versicolor",
                  "_deepnote_index_column": 83
                },
                {
                  "sepal length": 5.4,
                  "sepal width": 3,
                  "petal length": 4.5,
                  "petal width": 1.5,
                  "target": 1,
                  "class": "versicolor",
                  "_deepnote_index_column": 84
                },
                {
                  "sepal length": 6,
                  "sepal width": 3.4,
                  "petal length": 4.5,
                  "petal width": 1.6,
                  "target": 1,
                  "class": "versicolor",
                  "_deepnote_index_column": 85
                },
                {
                  "sepal length": 6.7,
                  "sepal width": 3.1,
                  "petal length": 4.7,
                  "petal width": 1.5,
                  "target": 1,
                  "class": "versicolor",
                  "_deepnote_index_column": 86
                },
                {
                  "sepal length": 6.3,
                  "sepal width": 2.3,
                  "petal length": 4.4,
                  "petal width": 1.3,
                  "target": 1,
                  "class": "versicolor",
                  "_deepnote_index_column": 87
                },
                {
                  "sepal length": 5.6,
                  "sepal width": 3,
                  "petal length": 4.1,
                  "petal width": 1.3,
                  "target": 1,
                  "class": "versicolor",
                  "_deepnote_index_column": 88
                },
                {
                  "sepal length": 5.5,
                  "sepal width": 2.5,
                  "petal length": 4,
                  "petal width": 1.3,
                  "target": 1,
                  "class": "versicolor",
                  "_deepnote_index_column": 89
                },
                {
                  "sepal length": 5.5,
                  "sepal width": 2.6,
                  "petal length": 4.4,
                  "petal width": 1.2,
                  "target": 1,
                  "class": "versicolor",
                  "_deepnote_index_column": 90
                },
                {
                  "sepal length": 6.1,
                  "sepal width": 3,
                  "petal length": 4.6,
                  "petal width": 1.4,
                  "target": 1,
                  "class": "versicolor",
                  "_deepnote_index_column": 91
                },
                {
                  "sepal length": 5.8,
                  "sepal width": 2.6,
                  "petal length": 4,
                  "petal width": 1.2,
                  "target": 1,
                  "class": "versicolor",
                  "_deepnote_index_column": 92
                },
                {
                  "sepal length": 5,
                  "sepal width": 2.3,
                  "petal length": 3.3,
                  "petal width": 1,
                  "target": 1,
                  "class": "versicolor",
                  "_deepnote_index_column": 93
                },
                {
                  "sepal length": 5.6,
                  "sepal width": 2.7,
                  "petal length": 4.2,
                  "petal width": 1.3,
                  "target": 1,
                  "class": "versicolor",
                  "_deepnote_index_column": 94
                },
                {
                  "sepal length": 5.7,
                  "sepal width": 3,
                  "petal length": 4.2,
                  "petal width": 1.2,
                  "target": 1,
                  "class": "versicolor",
                  "_deepnote_index_column": 95
                },
                {
                  "sepal length": 5.7,
                  "sepal width": 2.9,
                  "petal length": 4.2,
                  "petal width": 1.3,
                  "target": 1,
                  "class": "versicolor",
                  "_deepnote_index_column": 96
                },
                {
                  "sepal length": 6.2,
                  "sepal width": 2.9,
                  "petal length": 4.3,
                  "petal width": 1.3,
                  "target": 1,
                  "class": "versicolor",
                  "_deepnote_index_column": 97
                },
                {
                  "sepal length": 5.1,
                  "sepal width": 2.5,
                  "petal length": 3,
                  "petal width": 1.1,
                  "target": 1,
                  "class": "versicolor",
                  "_deepnote_index_column": 98
                },
                {
                  "sepal length": 5.7,
                  "sepal width": 2.8,
                  "petal length": 4.1,
                  "petal width": 1.3,
                  "target": 1,
                  "class": "versicolor",
                  "_deepnote_index_column": 99
                },
                {
                  "sepal length": 6.3,
                  "sepal width": 3.3,
                  "petal length": 6,
                  "petal width": 2.5,
                  "target": 2,
                  "class": "virginica",
                  "_deepnote_index_column": 100
                },
                {
                  "sepal length": 5.8,
                  "sepal width": 2.7,
                  "petal length": 5.1,
                  "petal width": 1.9,
                  "target": 2,
                  "class": "virginica",
                  "_deepnote_index_column": 101
                },
                {
                  "sepal length": 7.1,
                  "sepal width": 3,
                  "petal length": 5.9,
                  "petal width": 2.1,
                  "target": 2,
                  "class": "virginica",
                  "_deepnote_index_column": 102
                },
                {
                  "sepal length": 6.3,
                  "sepal width": 2.9,
                  "petal length": 5.6,
                  "petal width": 1.8,
                  "target": 2,
                  "class": "virginica",
                  "_deepnote_index_column": 103
                },
                {
                  "sepal length": 6.5,
                  "sepal width": 3,
                  "petal length": 5.8,
                  "petal width": 2.2,
                  "target": 2,
                  "class": "virginica",
                  "_deepnote_index_column": 104
                },
                {
                  "sepal length": 7.6,
                  "sepal width": 3,
                  "petal length": 6.6,
                  "petal width": 2.1,
                  "target": 2,
                  "class": "virginica",
                  "_deepnote_index_column": 105
                },
                {
                  "sepal length": 4.9,
                  "sepal width": 2.5,
                  "petal length": 4.5,
                  "petal width": 1.7,
                  "target": 2,
                  "class": "virginica",
                  "_deepnote_index_column": 106
                },
                {
                  "sepal length": 7.3,
                  "sepal width": 2.9,
                  "petal length": 6.3,
                  "petal width": 1.8,
                  "target": 2,
                  "class": "virginica",
                  "_deepnote_index_column": 107
                },
                {
                  "sepal length": 6.7,
                  "sepal width": 2.5,
                  "petal length": 5.8,
                  "petal width": 1.8,
                  "target": 2,
                  "class": "virginica",
                  "_deepnote_index_column": 108
                },
                {
                  "sepal length": 7.2,
                  "sepal width": 3.6,
                  "petal length": 6.1,
                  "petal width": 2.5,
                  "target": 2,
                  "class": "virginica",
                  "_deepnote_index_column": 109
                },
                {
                  "sepal length": 6.5,
                  "sepal width": 3.2,
                  "petal length": 5.1,
                  "petal width": 2,
                  "target": 2,
                  "class": "virginica",
                  "_deepnote_index_column": 110
                },
                {
                  "sepal length": 6.4,
                  "sepal width": 2.7,
                  "petal length": 5.3,
                  "petal width": 1.9,
                  "target": 2,
                  "class": "virginica",
                  "_deepnote_index_column": 111
                },
                {
                  "sepal length": 6.8,
                  "sepal width": 3,
                  "petal length": 5.5,
                  "petal width": 2.1,
                  "target": 2,
                  "class": "virginica",
                  "_deepnote_index_column": 112
                },
                {
                  "sepal length": 5.7,
                  "sepal width": 2.5,
                  "petal length": 5,
                  "petal width": 2,
                  "target": 2,
                  "class": "virginica",
                  "_deepnote_index_column": 113
                },
                {
                  "sepal length": 5.8,
                  "sepal width": 2.8,
                  "petal length": 5.1,
                  "petal width": 2.4,
                  "target": 2,
                  "class": "virginica",
                  "_deepnote_index_column": 114
                },
                {
                  "sepal length": 6.4,
                  "sepal width": 3.2,
                  "petal length": 5.3,
                  "petal width": 2.3,
                  "target": 2,
                  "class": "virginica",
                  "_deepnote_index_column": 115
                },
                {
                  "sepal length": 6.5,
                  "sepal width": 3,
                  "petal length": 5.5,
                  "petal width": 1.8,
                  "target": 2,
                  "class": "virginica",
                  "_deepnote_index_column": 116
                },
                {
                  "sepal length": 7.7,
                  "sepal width": 3.8,
                  "petal length": 6.7,
                  "petal width": 2.2,
                  "target": 2,
                  "class": "virginica",
                  "_deepnote_index_column": 117
                },
                {
                  "sepal length": 7.7,
                  "sepal width": 2.6,
                  "petal length": 6.9,
                  "petal width": 2.3,
                  "target": 2,
                  "class": "virginica",
                  "_deepnote_index_column": 118
                },
                {
                  "sepal length": 6,
                  "sepal width": 2.2,
                  "petal length": 5,
                  "petal width": 1.5,
                  "target": 2,
                  "class": "virginica",
                  "_deepnote_index_column": 119
                },
                {
                  "sepal length": 6.9,
                  "sepal width": 3.2,
                  "petal length": 5.7,
                  "petal width": 2.3,
                  "target": 2,
                  "class": "virginica",
                  "_deepnote_index_column": 120
                },
                {
                  "sepal length": 5.6,
                  "sepal width": 2.8,
                  "petal length": 4.9,
                  "petal width": 2,
                  "target": 2,
                  "class": "virginica",
                  "_deepnote_index_column": 121
                },
                {
                  "sepal length": 7.7,
                  "sepal width": 2.8,
                  "petal length": 6.7,
                  "petal width": 2,
                  "target": 2,
                  "class": "virginica",
                  "_deepnote_index_column": 122
                },
                {
                  "sepal length": 6.3,
                  "sepal width": 2.7,
                  "petal length": 4.9,
                  "petal width": 1.8,
                  "target": 2,
                  "class": "virginica",
                  "_deepnote_index_column": 123
                },
                {
                  "sepal length": 6.7,
                  "sepal width": 3.3,
                  "petal length": 5.7,
                  "petal width": 2.1,
                  "target": 2,
                  "class": "virginica",
                  "_deepnote_index_column": 124
                },
                {
                  "sepal length": 7.2,
                  "sepal width": 3.2,
                  "petal length": 6,
                  "petal width": 1.8,
                  "target": 2,
                  "class": "virginica",
                  "_deepnote_index_column": 125
                },
                {
                  "sepal length": 6.2,
                  "sepal width": 2.8,
                  "petal length": 4.8,
                  "petal width": 1.8,
                  "target": 2,
                  "class": "virginica",
                  "_deepnote_index_column": 126
                },
                {
                  "sepal length": 6.1,
                  "sepal width": 3,
                  "petal length": 4.9,
                  "petal width": 1.8,
                  "target": 2,
                  "class": "virginica",
                  "_deepnote_index_column": 127
                },
                {
                  "sepal length": 6.4,
                  "sepal width": 2.8,
                  "petal length": 5.6,
                  "petal width": 2.1,
                  "target": 2,
                  "class": "virginica",
                  "_deepnote_index_column": 128
                },
                {
                  "sepal length": 7.2,
                  "sepal width": 3,
                  "petal length": 5.8,
                  "petal width": 1.6,
                  "target": 2,
                  "class": "virginica",
                  "_deepnote_index_column": 129
                },
                {
                  "sepal length": 7.4,
                  "sepal width": 2.8,
                  "petal length": 6.1,
                  "petal width": 1.9,
                  "target": 2,
                  "class": "virginica",
                  "_deepnote_index_column": 130
                },
                {
                  "sepal length": 7.9,
                  "sepal width": 3.8,
                  "petal length": 6.4,
                  "petal width": 2,
                  "target": 2,
                  "class": "virginica",
                  "_deepnote_index_column": 131
                },
                {
                  "sepal length": 6.4,
                  "sepal width": 2.8,
                  "petal length": 5.6,
                  "petal width": 2.2,
                  "target": 2,
                  "class": "virginica",
                  "_deepnote_index_column": 132
                },
                {
                  "sepal length": 6.3,
                  "sepal width": 2.8,
                  "petal length": 5.1,
                  "petal width": 1.5,
                  "target": 2,
                  "class": "virginica",
                  "_deepnote_index_column": 133
                },
                {
                  "sepal length": 6.1,
                  "sepal width": 2.6,
                  "petal length": 5.6,
                  "petal width": 1.4,
                  "target": 2,
                  "class": "virginica",
                  "_deepnote_index_column": 134
                },
                {
                  "sepal length": 7.7,
                  "sepal width": 3,
                  "petal length": 6.1,
                  "petal width": 2.3,
                  "target": 2,
                  "class": "virginica",
                  "_deepnote_index_column": 135
                },
                {
                  "sepal length": 6.3,
                  "sepal width": 3.4,
                  "petal length": 5.6,
                  "petal width": 2.4,
                  "target": 2,
                  "class": "virginica",
                  "_deepnote_index_column": 136
                },
                {
                  "sepal length": 6.4,
                  "sepal width": 3.1,
                  "petal length": 5.5,
                  "petal width": 1.8,
                  "target": 2,
                  "class": "virginica",
                  "_deepnote_index_column": 137
                },
                {
                  "sepal length": 6,
                  "sepal width": 3,
                  "petal length": 4.8,
                  "petal width": 1.8,
                  "target": 2,
                  "class": "virginica",
                  "_deepnote_index_column": 138
                },
                {
                  "sepal length": 6.9,
                  "sepal width": 3.1,
                  "petal length": 5.4,
                  "petal width": 2.1,
                  "target": 2,
                  "class": "virginica",
                  "_deepnote_index_column": 139
                },
                {
                  "sepal length": 6.7,
                  "sepal width": 3.1,
                  "petal length": 5.6,
                  "petal width": 2.4,
                  "target": 2,
                  "class": "virginica",
                  "_deepnote_index_column": 140
                },
                {
                  "sepal length": 6.9,
                  "sepal width": 3.1,
                  "petal length": 5.1,
                  "petal width": 2.3,
                  "target": 2,
                  "class": "virginica",
                  "_deepnote_index_column": 141
                },
                {
                  "sepal length": 5.8,
                  "sepal width": 2.7,
                  "petal length": 5.1,
                  "petal width": 1.9,
                  "target": 2,
                  "class": "virginica",
                  "_deepnote_index_column": 142
                },
                {
                  "sepal length": 6.8,
                  "sepal width": 3.2,
                  "petal length": 5.9,
                  "petal width": 2.3,
                  "target": 2,
                  "class": "virginica",
                  "_deepnote_index_column": 143
                },
                {
                  "sepal length": 6.7,
                  "sepal width": 3.3,
                  "petal length": 5.7,
                  "petal width": 2.5,
                  "target": 2,
                  "class": "virginica",
                  "_deepnote_index_column": 144
                },
                {
                  "sepal length": 6.7,
                  "sepal width": 3,
                  "petal length": 5.2,
                  "petal width": 2.3,
                  "target": 2,
                  "class": "virginica",
                  "_deepnote_index_column": 145
                },
                {
                  "sepal length": 6.3,
                  "sepal width": 2.5,
                  "petal length": 5,
                  "petal width": 1.9,
                  "target": 2,
                  "class": "virginica",
                  "_deepnote_index_column": 146
                },
                {
                  "sepal length": 6.5,
                  "sepal width": 3,
                  "petal length": 5.2,
                  "petal width": 2,
                  "target": 2,
                  "class": "virginica",
                  "_deepnote_index_column": 147
                },
                {
                  "sepal length": 6.2,
                  "sepal width": 3.4,
                  "petal length": 5.4,
                  "petal width": 2.3,
                  "target": 2,
                  "class": "virginica",
                  "_deepnote_index_column": 148
                },
                {
                  "sepal length": 5.9,
                  "sepal width": 3,
                  "petal length": 5.1,
                  "petal width": 1.8,
                  "target": 2,
                  "class": "virginica",
                  "_deepnote_index_column": 149
                }
              ],
              "rows_bottom": null
            },
            "text/plain": "     sepal length  sepal width  petal length  petal width  target      class\n0             5.1          3.5           1.4          0.2       0     setosa\n1             4.9          3.0           1.4          0.2       0     setosa\n2             4.7          3.2           1.3          0.2       0     setosa\n3             4.6          3.1           1.5          0.2       0     setosa\n4             5.0          3.6           1.4          0.2       0     setosa\n..            ...          ...           ...          ...     ...        ...\n145           6.7          3.0           5.2          2.3       2  virginica\n146           6.3          2.5           5.0          1.9       2  virginica\n147           6.5          3.0           5.2          2.0       2  virginica\n148           6.2          3.4           5.4          2.3       2  virginica\n149           5.9          3.0           5.1          1.8       2  virginica\n\n[150 rows x 6 columns]",
            "text/html": "<div>\n<style scoped>\n    .dataframe tbody tr th:only-of-type {\n        vertical-align: middle;\n    }\n\n    .dataframe tbody tr th {\n        vertical-align: top;\n    }\n\n    .dataframe thead th {\n        text-align: right;\n    }\n</style>\n<table border=\"1\" class=\"dataframe\">\n  <thead>\n    <tr style=\"text-align: right;\">\n      <th></th>\n      <th>sepal length</th>\n      <th>sepal width</th>\n      <th>petal length</th>\n      <th>petal width</th>\n      <th>target</th>\n      <th>class</th>\n    </tr>\n  </thead>\n  <tbody>\n    <tr>\n      <th>0</th>\n      <td>5.1</td>\n      <td>3.5</td>\n      <td>1.4</td>\n      <td>0.2</td>\n      <td>0</td>\n      <td>setosa</td>\n    </tr>\n    <tr>\n      <th>1</th>\n      <td>4.9</td>\n      <td>3.0</td>\n      <td>1.4</td>\n      <td>0.2</td>\n      <td>0</td>\n      <td>setosa</td>\n    </tr>\n    <tr>\n      <th>2</th>\n      <td>4.7</td>\n      <td>3.2</td>\n      <td>1.3</td>\n      <td>0.2</td>\n      <td>0</td>\n      <td>setosa</td>\n    </tr>\n    <tr>\n      <th>3</th>\n      <td>4.6</td>\n      <td>3.1</td>\n      <td>1.5</td>\n      <td>0.2</td>\n      <td>0</td>\n      <td>setosa</td>\n    </tr>\n    <tr>\n      <th>4</th>\n      <td>5.0</td>\n      <td>3.6</td>\n      <td>1.4</td>\n      <td>0.2</td>\n      <td>0</td>\n      <td>setosa</td>\n    </tr>\n    <tr>\n      <th>...</th>\n      <td>...</td>\n      <td>...</td>\n      <td>...</td>\n      <td>...</td>\n      <td>...</td>\n      <td>...</td>\n    </tr>\n    <tr>\n      <th>145</th>\n      <td>6.7</td>\n      <td>3.0</td>\n      <td>5.2</td>\n      <td>2.3</td>\n      <td>2</td>\n      <td>virginica</td>\n    </tr>\n    <tr>\n      <th>146</th>\n      <td>6.3</td>\n      <td>2.5</td>\n      <td>5.0</td>\n      <td>1.9</td>\n      <td>2</td>\n      <td>virginica</td>\n    </tr>\n    <tr>\n      <th>147</th>\n      <td>6.5</td>\n      <td>3.0</td>\n      <td>5.2</td>\n      <td>2.0</td>\n      <td>2</td>\n      <td>virginica</td>\n    </tr>\n    <tr>\n      <th>148</th>\n      <td>6.2</td>\n      <td>3.4</td>\n      <td>5.4</td>\n      <td>2.3</td>\n      <td>2</td>\n      <td>virginica</td>\n    </tr>\n    <tr>\n      <th>149</th>\n      <td>5.9</td>\n      <td>3.0</td>\n      <td>5.1</td>\n      <td>1.8</td>\n      <td>2</td>\n      <td>virginica</td>\n    </tr>\n  </tbody>\n</table>\n<p>150 rows × 6 columns</p>\n</div>"
          },
          "metadata": {}
        }
      ]
    },
    {
      "cell_type": "code",
      "metadata": {
        "deletable": false,
        "editable": false,
        "nbgrader": {
          "cell_type": "code",
          "checksum": "e803679e20976baff81ad4577a79bfec",
          "grade": true,
          "grade_id": "cell-b18a01895567bcda",
          "locked": true,
          "points": 2,
          "schema_version": 3,
          "solution": false,
          "task": false
        },
        "cell_id": "00015-465b833e-a12e-4797-84a7-1e6127e452e9",
        "deepnote_to_be_reexecuted": false,
        "source_hash": "2b5d7e67",
        "execution_start": 1619608728515,
        "execution_millis": 2,
        "deepnote_cell_type": "code"
      },
      "source": "# df = dataset_to_pandas()\n# assert df['sepal length'].shape == (150,)\n# assert df['sepal width'].shape == (150,)\n# assert df['petal length'].shape == (150,)\n# assert df['petal width'].shape == (150,)\n# assert df['target'].shape == (150,)\n# assert df['class'].shape == (150,)\n",
      "execution_count": 8,
      "outputs": []
    },
    {
      "cell_type": "markdown",
      "source": "### Question\nFind the X and y values we're looking for. Notice that y is categorical and thus, we could **one-hot encode it** if we are looking at **class** or we can just pick **target**. In order to one hot encode we have  to re-shape `y` it using the **.get_dummies** function. \n\n## For the purpose of this exercise, do not use hot encoding, go only for target but think about if you have to drop it somewhere or not...",
      "metadata": {
        "cell_id": "00016-4539893c-fb86-4aa4-b0ad-d34d91bc53b1",
        "deepnote_cell_type": "markdown"
      }
    },
    {
      "cell_type": "code",
      "metadata": {
        "cell_id": "00017-276b018b-4935-4168-b2ba-ea6ce4490525",
        "deepnote_to_be_reexecuted": false,
        "source_hash": "fcd51a93",
        "execution_start": 1619608732142,
        "execution_millis": 0,
        "deepnote_cell_type": "code"
      },
      "source": "df_iris = dataset_to_pandas()",
      "execution_count": 9,
      "outputs": []
    },
    {
      "cell_type": "code",
      "metadata": {
        "deletable": false,
        "nbgrader": {
          "cell_type": "code",
          "checksum": "3a8ff0960c61f4785cbc8f88fd683036",
          "grade": false,
          "grade_id": "cell-fd162bfaf4394e79",
          "locked": false,
          "schema_version": 3,
          "solution": true,
          "task": false
        },
        "cell_id": "00018-d7aa314a-a4d1-4bdd-a964-d0619ed730c1",
        "deepnote_to_be_reexecuted": false,
        "source_hash": "619e1c8c",
        "execution_start": 1619608734090,
        "execution_millis": 2,
        "deepnote_cell_type": "code"
      },
      "source": "def ohe():\n    df_iris\n    df_iris[0] = np.where(df_iris['target'] == 0, 1,0) \n    df_iris[1] = np.where(df_iris['target'] == 1, 1,0)\n    df_iris[2] = np.where(df_iris['target'] == 2, 1,0)\n    df_iris.drop('class', axis=1, inplace=True)\n    return df_iris\n# first check for value(1), second if true get one if false get 0",
      "execution_count": 10,
      "outputs": []
    },
    {
      "cell_type": "code",
      "metadata": {
        "deletable": false,
        "editable": false,
        "nbgrader": {
          "cell_type": "code",
          "checksum": "fd1e5d3933256fa113642e421db19875",
          "grade": true,
          "grade_id": "cell-423f24383553b71a",
          "locked": true,
          "points": 1,
          "schema_version": 3,
          "solution": false,
          "task": false
        },
        "cell_id": "00019-31c923e8-3f1d-4832-b205-edb3af40b397",
        "deepnote_cell_type": "code"
      },
      "source": "ohe_data = ohe()\n\n# assert ohe_data.shape == (150,8)",
      "execution_count": 11,
      "outputs": []
    },
    {
      "cell_type": "code",
      "metadata": {
        "cell_id": "00020-dbfa5639-41d6-4c5a-97bf-58c15cce6a58",
        "deepnote_to_be_reexecuted": false,
        "source_hash": "efb352b5",
        "execution_start": 1619608737714,
        "execution_millis": 18,
        "deepnote_cell_type": "code"
      },
      "source": "df_iris",
      "execution_count": 11,
      "outputs": [
        {
          "output_type": "execute_result",
          "execution_count": 11,
          "data": {
            "application/vnd.deepnote.dataframe.v2+json": {
              "row_count": 150,
              "column_count": 6,
              "columns": [
                {
                  "name": "sepal length",
                  "dtype": "float64",
                  "stats": {
                    "unique_count": 35,
                    "nan_count": 0,
                    "min": "4.3",
                    "max": "7.9",
                    "histogram": [
                      {
                        "bin_start": 4.3,
                        "bin_end": 4.66,
                        "count": 9
                      },
                      {
                        "bin_start": 4.66,
                        "bin_end": 5.02,
                        "count": 23
                      },
                      {
                        "bin_start": 5.02,
                        "bin_end": 5.38,
                        "count": 14
                      },
                      {
                        "bin_start": 5.38,
                        "bin_end": 5.74,
                        "count": 27
                      },
                      {
                        "bin_start": 5.74,
                        "bin_end": 6.1,
                        "count": 16
                      },
                      {
                        "bin_start": 6.1,
                        "bin_end": 6.46,
                        "count": 26
                      },
                      {
                        "bin_start": 6.46,
                        "bin_end": 6.82,
                        "count": 18
                      },
                      {
                        "bin_start": 6.82,
                        "bin_end": 7.18,
                        "count": 6
                      },
                      {
                        "bin_start": 7.18,
                        "bin_end": 7.54,
                        "count": 5
                      },
                      {
                        "bin_start": 7.54,
                        "bin_end": 7.9,
                        "count": 6
                      }
                    ]
                  }
                },
                {
                  "name": "sepal width",
                  "dtype": "float64",
                  "stats": {
                    "unique_count": 23,
                    "nan_count": 0,
                    "min": "2.0",
                    "max": "4.4",
                    "histogram": [
                      {
                        "bin_start": 2,
                        "bin_end": 2.24,
                        "count": 4
                      },
                      {
                        "bin_start": 2.24,
                        "bin_end": 2.48,
                        "count": 7
                      },
                      {
                        "bin_start": 2.48,
                        "bin_end": 2.72,
                        "count": 22
                      },
                      {
                        "bin_start": 2.72,
                        "bin_end": 2.96,
                        "count": 24
                      },
                      {
                        "bin_start": 2.96,
                        "bin_end": 3.2,
                        "count": 37
                      },
                      {
                        "bin_start": 3.2,
                        "bin_end": 3.4400000000000004,
                        "count": 31
                      },
                      {
                        "bin_start": 3.4400000000000004,
                        "bin_end": 3.6800000000000006,
                        "count": 10
                      },
                      {
                        "bin_start": 3.6800000000000006,
                        "bin_end": 3.9200000000000004,
                        "count": 11
                      },
                      {
                        "bin_start": 3.9200000000000004,
                        "bin_end": 4.16,
                        "count": 2
                      },
                      {
                        "bin_start": 4.16,
                        "bin_end": 4.4,
                        "count": 2
                      }
                    ]
                  }
                },
                {
                  "name": "petal length",
                  "dtype": "float64",
                  "stats": {
                    "unique_count": 43,
                    "nan_count": 0,
                    "min": "1.0",
                    "max": "6.9",
                    "histogram": [
                      {
                        "bin_start": 1,
                        "bin_end": 1.59,
                        "count": 37
                      },
                      {
                        "bin_start": 1.59,
                        "bin_end": 2.18,
                        "count": 13
                      },
                      {
                        "bin_start": 2.18,
                        "bin_end": 2.7700000000000005,
                        "count": 0
                      },
                      {
                        "bin_start": 2.7700000000000005,
                        "bin_end": 3.3600000000000003,
                        "count": 3
                      },
                      {
                        "bin_start": 3.3600000000000003,
                        "bin_end": 3.95,
                        "count": 8
                      },
                      {
                        "bin_start": 3.95,
                        "bin_end": 4.540000000000001,
                        "count": 26
                      },
                      {
                        "bin_start": 4.540000000000001,
                        "bin_end": 5.130000000000001,
                        "count": 29
                      },
                      {
                        "bin_start": 5.130000000000001,
                        "bin_end": 5.720000000000001,
                        "count": 18
                      },
                      {
                        "bin_start": 5.720000000000001,
                        "bin_end": 6.3100000000000005,
                        "count": 11
                      },
                      {
                        "bin_start": 6.3100000000000005,
                        "bin_end": 6.9,
                        "count": 5
                      }
                    ]
                  }
                },
                {
                  "name": "petal width",
                  "dtype": "float64",
                  "stats": {
                    "unique_count": 22,
                    "nan_count": 0,
                    "min": "0.1",
                    "max": "2.5",
                    "histogram": [
                      {
                        "bin_start": 0.1,
                        "bin_end": 0.33999999999999997,
                        "count": 41
                      },
                      {
                        "bin_start": 0.33999999999999997,
                        "bin_end": 0.58,
                        "count": 8
                      },
                      {
                        "bin_start": 0.58,
                        "bin_end": 0.82,
                        "count": 1
                      },
                      {
                        "bin_start": 0.82,
                        "bin_end": 1.06,
                        "count": 7
                      },
                      {
                        "bin_start": 1.06,
                        "bin_end": 1.3,
                        "count": 8
                      },
                      {
                        "bin_start": 1.3,
                        "bin_end": 1.54,
                        "count": 33
                      },
                      {
                        "bin_start": 1.54,
                        "bin_end": 1.78,
                        "count": 6
                      },
                      {
                        "bin_start": 1.78,
                        "bin_end": 2.02,
                        "count": 23
                      },
                      {
                        "bin_start": 2.02,
                        "bin_end": 2.2600000000000002,
                        "count": 9
                      },
                      {
                        "bin_start": 2.2600000000000002,
                        "bin_end": 2.5,
                        "count": 14
                      }
                    ]
                  }
                },
                {
                  "name": "target",
                  "dtype": "int64",
                  "stats": {
                    "unique_count": 3,
                    "nan_count": 0,
                    "min": "0",
                    "max": "2",
                    "histogram": [
                      {
                        "bin_start": 0,
                        "bin_end": 0.2,
                        "count": 50
                      },
                      {
                        "bin_start": 0.2,
                        "bin_end": 0.4,
                        "count": 0
                      },
                      {
                        "bin_start": 0.4,
                        "bin_end": 0.6000000000000001,
                        "count": 0
                      },
                      {
                        "bin_start": 0.6000000000000001,
                        "bin_end": 0.8,
                        "count": 0
                      },
                      {
                        "bin_start": 0.8,
                        "bin_end": 1,
                        "count": 0
                      },
                      {
                        "bin_start": 1,
                        "bin_end": 1.2000000000000002,
                        "count": 50
                      },
                      {
                        "bin_start": 1.2000000000000002,
                        "bin_end": 1.4000000000000001,
                        "count": 0
                      },
                      {
                        "bin_start": 1.4000000000000001,
                        "bin_end": 1.6,
                        "count": 0
                      },
                      {
                        "bin_start": 1.6,
                        "bin_end": 1.8,
                        "count": 0
                      },
                      {
                        "bin_start": 1.8,
                        "bin_end": 2,
                        "count": 50
                      }
                    ]
                  }
                },
                {
                  "name": "class",
                  "dtype": "object",
                  "stats": {
                    "unique_count": 3,
                    "nan_count": 0,
                    "categories": [
                      {
                        "name": "setosa",
                        "count": 50
                      },
                      {
                        "name": "versicolor",
                        "count": 50
                      },
                      {
                        "name": "virginica",
                        "count": 50
                      }
                    ]
                  }
                },
                {
                  "name": "_deepnote_index_column",
                  "dtype": "int64"
                }
              ],
              "rows_top": [
                {
                  "sepal length": 5.1,
                  "sepal width": 3.5,
                  "petal length": 1.4,
                  "petal width": 0.2,
                  "target": 0,
                  "class": "setosa",
                  "_deepnote_index_column": 0
                },
                {
                  "sepal length": 4.9,
                  "sepal width": 3,
                  "petal length": 1.4,
                  "petal width": 0.2,
                  "target": 0,
                  "class": "setosa",
                  "_deepnote_index_column": 1
                },
                {
                  "sepal length": 4.7,
                  "sepal width": 3.2,
                  "petal length": 1.3,
                  "petal width": 0.2,
                  "target": 0,
                  "class": "setosa",
                  "_deepnote_index_column": 2
                },
                {
                  "sepal length": 4.6,
                  "sepal width": 3.1,
                  "petal length": 1.5,
                  "petal width": 0.2,
                  "target": 0,
                  "class": "setosa",
                  "_deepnote_index_column": 3
                },
                {
                  "sepal length": 5,
                  "sepal width": 3.6,
                  "petal length": 1.4,
                  "petal width": 0.2,
                  "target": 0,
                  "class": "setosa",
                  "_deepnote_index_column": 4
                },
                {
                  "sepal length": 5.4,
                  "sepal width": 3.9,
                  "petal length": 1.7,
                  "petal width": 0.4,
                  "target": 0,
                  "class": "setosa",
                  "_deepnote_index_column": 5
                },
                {
                  "sepal length": 4.6,
                  "sepal width": 3.4,
                  "petal length": 1.4,
                  "petal width": 0.3,
                  "target": 0,
                  "class": "setosa",
                  "_deepnote_index_column": 6
                },
                {
                  "sepal length": 5,
                  "sepal width": 3.4,
                  "petal length": 1.5,
                  "petal width": 0.2,
                  "target": 0,
                  "class": "setosa",
                  "_deepnote_index_column": 7
                },
                {
                  "sepal length": 4.4,
                  "sepal width": 2.9,
                  "petal length": 1.4,
                  "petal width": 0.2,
                  "target": 0,
                  "class": "setosa",
                  "_deepnote_index_column": 8
                },
                {
                  "sepal length": 4.9,
                  "sepal width": 3.1,
                  "petal length": 1.5,
                  "petal width": 0.1,
                  "target": 0,
                  "class": "setosa",
                  "_deepnote_index_column": 9
                },
                {
                  "sepal length": 5.4,
                  "sepal width": 3.7,
                  "petal length": 1.5,
                  "petal width": 0.2,
                  "target": 0,
                  "class": "setosa",
                  "_deepnote_index_column": 10
                },
                {
                  "sepal length": 4.8,
                  "sepal width": 3.4,
                  "petal length": 1.6,
                  "petal width": 0.2,
                  "target": 0,
                  "class": "setosa",
                  "_deepnote_index_column": 11
                },
                {
                  "sepal length": 4.8,
                  "sepal width": 3,
                  "petal length": 1.4,
                  "petal width": 0.1,
                  "target": 0,
                  "class": "setosa",
                  "_deepnote_index_column": 12
                },
                {
                  "sepal length": 4.3,
                  "sepal width": 3,
                  "petal length": 1.1,
                  "petal width": 0.1,
                  "target": 0,
                  "class": "setosa",
                  "_deepnote_index_column": 13
                },
                {
                  "sepal length": 5.8,
                  "sepal width": 4,
                  "petal length": 1.2,
                  "petal width": 0.2,
                  "target": 0,
                  "class": "setosa",
                  "_deepnote_index_column": 14
                },
                {
                  "sepal length": 5.7,
                  "sepal width": 4.4,
                  "petal length": 1.5,
                  "petal width": 0.4,
                  "target": 0,
                  "class": "setosa",
                  "_deepnote_index_column": 15
                },
                {
                  "sepal length": 5.4,
                  "sepal width": 3.9,
                  "petal length": 1.3,
                  "petal width": 0.4,
                  "target": 0,
                  "class": "setosa",
                  "_deepnote_index_column": 16
                },
                {
                  "sepal length": 5.1,
                  "sepal width": 3.5,
                  "petal length": 1.4,
                  "petal width": 0.3,
                  "target": 0,
                  "class": "setosa",
                  "_deepnote_index_column": 17
                },
                {
                  "sepal length": 5.7,
                  "sepal width": 3.8,
                  "petal length": 1.7,
                  "petal width": 0.3,
                  "target": 0,
                  "class": "setosa",
                  "_deepnote_index_column": 18
                },
                {
                  "sepal length": 5.1,
                  "sepal width": 3.8,
                  "petal length": 1.5,
                  "petal width": 0.3,
                  "target": 0,
                  "class": "setosa",
                  "_deepnote_index_column": 19
                },
                {
                  "sepal length": 5.4,
                  "sepal width": 3.4,
                  "petal length": 1.7,
                  "petal width": 0.2,
                  "target": 0,
                  "class": "setosa",
                  "_deepnote_index_column": 20
                },
                {
                  "sepal length": 5.1,
                  "sepal width": 3.7,
                  "petal length": 1.5,
                  "petal width": 0.4,
                  "target": 0,
                  "class": "setosa",
                  "_deepnote_index_column": 21
                },
                {
                  "sepal length": 4.6,
                  "sepal width": 3.6,
                  "petal length": 1,
                  "petal width": 0.2,
                  "target": 0,
                  "class": "setosa",
                  "_deepnote_index_column": 22
                },
                {
                  "sepal length": 5.1,
                  "sepal width": 3.3,
                  "petal length": 1.7,
                  "petal width": 0.5,
                  "target": 0,
                  "class": "setosa",
                  "_deepnote_index_column": 23
                },
                {
                  "sepal length": 4.8,
                  "sepal width": 3.4,
                  "petal length": 1.9,
                  "petal width": 0.2,
                  "target": 0,
                  "class": "setosa",
                  "_deepnote_index_column": 24
                },
                {
                  "sepal length": 5,
                  "sepal width": 3,
                  "petal length": 1.6,
                  "petal width": 0.2,
                  "target": 0,
                  "class": "setosa",
                  "_deepnote_index_column": 25
                },
                {
                  "sepal length": 5,
                  "sepal width": 3.4,
                  "petal length": 1.6,
                  "petal width": 0.4,
                  "target": 0,
                  "class": "setosa",
                  "_deepnote_index_column": 26
                },
                {
                  "sepal length": 5.2,
                  "sepal width": 3.5,
                  "petal length": 1.5,
                  "petal width": 0.2,
                  "target": 0,
                  "class": "setosa",
                  "_deepnote_index_column": 27
                },
                {
                  "sepal length": 5.2,
                  "sepal width": 3.4,
                  "petal length": 1.4,
                  "petal width": 0.2,
                  "target": 0,
                  "class": "setosa",
                  "_deepnote_index_column": 28
                },
                {
                  "sepal length": 4.7,
                  "sepal width": 3.2,
                  "petal length": 1.6,
                  "petal width": 0.2,
                  "target": 0,
                  "class": "setosa",
                  "_deepnote_index_column": 29
                },
                {
                  "sepal length": 4.8,
                  "sepal width": 3.1,
                  "petal length": 1.6,
                  "petal width": 0.2,
                  "target": 0,
                  "class": "setosa",
                  "_deepnote_index_column": 30
                },
                {
                  "sepal length": 5.4,
                  "sepal width": 3.4,
                  "petal length": 1.5,
                  "petal width": 0.4,
                  "target": 0,
                  "class": "setosa",
                  "_deepnote_index_column": 31
                },
                {
                  "sepal length": 5.2,
                  "sepal width": 4.1,
                  "petal length": 1.5,
                  "petal width": 0.1,
                  "target": 0,
                  "class": "setosa",
                  "_deepnote_index_column": 32
                },
                {
                  "sepal length": 5.5,
                  "sepal width": 4.2,
                  "petal length": 1.4,
                  "petal width": 0.2,
                  "target": 0,
                  "class": "setosa",
                  "_deepnote_index_column": 33
                },
                {
                  "sepal length": 4.9,
                  "sepal width": 3.1,
                  "petal length": 1.5,
                  "petal width": 0.2,
                  "target": 0,
                  "class": "setosa",
                  "_deepnote_index_column": 34
                },
                {
                  "sepal length": 5,
                  "sepal width": 3.2,
                  "petal length": 1.2,
                  "petal width": 0.2,
                  "target": 0,
                  "class": "setosa",
                  "_deepnote_index_column": 35
                },
                {
                  "sepal length": 5.5,
                  "sepal width": 3.5,
                  "petal length": 1.3,
                  "petal width": 0.2,
                  "target": 0,
                  "class": "setosa",
                  "_deepnote_index_column": 36
                },
                {
                  "sepal length": 4.9,
                  "sepal width": 3.6,
                  "petal length": 1.4,
                  "petal width": 0.1,
                  "target": 0,
                  "class": "setosa",
                  "_deepnote_index_column": 37
                },
                {
                  "sepal length": 4.4,
                  "sepal width": 3,
                  "petal length": 1.3,
                  "petal width": 0.2,
                  "target": 0,
                  "class": "setosa",
                  "_deepnote_index_column": 38
                },
                {
                  "sepal length": 5.1,
                  "sepal width": 3.4,
                  "petal length": 1.5,
                  "petal width": 0.2,
                  "target": 0,
                  "class": "setosa",
                  "_deepnote_index_column": 39
                },
                {
                  "sepal length": 5,
                  "sepal width": 3.5,
                  "petal length": 1.3,
                  "petal width": 0.3,
                  "target": 0,
                  "class": "setosa",
                  "_deepnote_index_column": 40
                },
                {
                  "sepal length": 4.5,
                  "sepal width": 2.3,
                  "petal length": 1.3,
                  "petal width": 0.3,
                  "target": 0,
                  "class": "setosa",
                  "_deepnote_index_column": 41
                },
                {
                  "sepal length": 4.4,
                  "sepal width": 3.2,
                  "petal length": 1.3,
                  "petal width": 0.2,
                  "target": 0,
                  "class": "setosa",
                  "_deepnote_index_column": 42
                },
                {
                  "sepal length": 5,
                  "sepal width": 3.5,
                  "petal length": 1.6,
                  "petal width": 0.6,
                  "target": 0,
                  "class": "setosa",
                  "_deepnote_index_column": 43
                },
                {
                  "sepal length": 5.1,
                  "sepal width": 3.8,
                  "petal length": 1.9,
                  "petal width": 0.4,
                  "target": 0,
                  "class": "setosa",
                  "_deepnote_index_column": 44
                },
                {
                  "sepal length": 4.8,
                  "sepal width": 3,
                  "petal length": 1.4,
                  "petal width": 0.3,
                  "target": 0,
                  "class": "setosa",
                  "_deepnote_index_column": 45
                },
                {
                  "sepal length": 5.1,
                  "sepal width": 3.8,
                  "petal length": 1.6,
                  "petal width": 0.2,
                  "target": 0,
                  "class": "setosa",
                  "_deepnote_index_column": 46
                },
                {
                  "sepal length": 4.6,
                  "sepal width": 3.2,
                  "petal length": 1.4,
                  "petal width": 0.2,
                  "target": 0,
                  "class": "setosa",
                  "_deepnote_index_column": 47
                },
                {
                  "sepal length": 5.3,
                  "sepal width": 3.7,
                  "petal length": 1.5,
                  "petal width": 0.2,
                  "target": 0,
                  "class": "setosa",
                  "_deepnote_index_column": 48
                },
                {
                  "sepal length": 5,
                  "sepal width": 3.3,
                  "petal length": 1.4,
                  "petal width": 0.2,
                  "target": 0,
                  "class": "setosa",
                  "_deepnote_index_column": 49
                },
                {
                  "sepal length": 7,
                  "sepal width": 3.2,
                  "petal length": 4.7,
                  "petal width": 1.4,
                  "target": 1,
                  "class": "versicolor",
                  "_deepnote_index_column": 50
                },
                {
                  "sepal length": 6.4,
                  "sepal width": 3.2,
                  "petal length": 4.5,
                  "petal width": 1.5,
                  "target": 1,
                  "class": "versicolor",
                  "_deepnote_index_column": 51
                },
                {
                  "sepal length": 6.9,
                  "sepal width": 3.1,
                  "petal length": 4.9,
                  "petal width": 1.5,
                  "target": 1,
                  "class": "versicolor",
                  "_deepnote_index_column": 52
                },
                {
                  "sepal length": 5.5,
                  "sepal width": 2.3,
                  "petal length": 4,
                  "petal width": 1.3,
                  "target": 1,
                  "class": "versicolor",
                  "_deepnote_index_column": 53
                },
                {
                  "sepal length": 6.5,
                  "sepal width": 2.8,
                  "petal length": 4.6,
                  "petal width": 1.5,
                  "target": 1,
                  "class": "versicolor",
                  "_deepnote_index_column": 54
                },
                {
                  "sepal length": 5.7,
                  "sepal width": 2.8,
                  "petal length": 4.5,
                  "petal width": 1.3,
                  "target": 1,
                  "class": "versicolor",
                  "_deepnote_index_column": 55
                },
                {
                  "sepal length": 6.3,
                  "sepal width": 3.3,
                  "petal length": 4.7,
                  "petal width": 1.6,
                  "target": 1,
                  "class": "versicolor",
                  "_deepnote_index_column": 56
                },
                {
                  "sepal length": 4.9,
                  "sepal width": 2.4,
                  "petal length": 3.3,
                  "petal width": 1,
                  "target": 1,
                  "class": "versicolor",
                  "_deepnote_index_column": 57
                },
                {
                  "sepal length": 6.6,
                  "sepal width": 2.9,
                  "petal length": 4.6,
                  "petal width": 1.3,
                  "target": 1,
                  "class": "versicolor",
                  "_deepnote_index_column": 58
                },
                {
                  "sepal length": 5.2,
                  "sepal width": 2.7,
                  "petal length": 3.9,
                  "petal width": 1.4,
                  "target": 1,
                  "class": "versicolor",
                  "_deepnote_index_column": 59
                },
                {
                  "sepal length": 5,
                  "sepal width": 2,
                  "petal length": 3.5,
                  "petal width": 1,
                  "target": 1,
                  "class": "versicolor",
                  "_deepnote_index_column": 60
                },
                {
                  "sepal length": 5.9,
                  "sepal width": 3,
                  "petal length": 4.2,
                  "petal width": 1.5,
                  "target": 1,
                  "class": "versicolor",
                  "_deepnote_index_column": 61
                },
                {
                  "sepal length": 6,
                  "sepal width": 2.2,
                  "petal length": 4,
                  "petal width": 1,
                  "target": 1,
                  "class": "versicolor",
                  "_deepnote_index_column": 62
                },
                {
                  "sepal length": 6.1,
                  "sepal width": 2.9,
                  "petal length": 4.7,
                  "petal width": 1.4,
                  "target": 1,
                  "class": "versicolor",
                  "_deepnote_index_column": 63
                },
                {
                  "sepal length": 5.6,
                  "sepal width": 2.9,
                  "petal length": 3.6,
                  "petal width": 1.3,
                  "target": 1,
                  "class": "versicolor",
                  "_deepnote_index_column": 64
                },
                {
                  "sepal length": 6.7,
                  "sepal width": 3.1,
                  "petal length": 4.4,
                  "petal width": 1.4,
                  "target": 1,
                  "class": "versicolor",
                  "_deepnote_index_column": 65
                },
                {
                  "sepal length": 5.6,
                  "sepal width": 3,
                  "petal length": 4.5,
                  "petal width": 1.5,
                  "target": 1,
                  "class": "versicolor",
                  "_deepnote_index_column": 66
                },
                {
                  "sepal length": 5.8,
                  "sepal width": 2.7,
                  "petal length": 4.1,
                  "petal width": 1,
                  "target": 1,
                  "class": "versicolor",
                  "_deepnote_index_column": 67
                },
                {
                  "sepal length": 6.2,
                  "sepal width": 2.2,
                  "petal length": 4.5,
                  "petal width": 1.5,
                  "target": 1,
                  "class": "versicolor",
                  "_deepnote_index_column": 68
                },
                {
                  "sepal length": 5.6,
                  "sepal width": 2.5,
                  "petal length": 3.9,
                  "petal width": 1.1,
                  "target": 1,
                  "class": "versicolor",
                  "_deepnote_index_column": 69
                },
                {
                  "sepal length": 5.9,
                  "sepal width": 3.2,
                  "petal length": 4.8,
                  "petal width": 1.8,
                  "target": 1,
                  "class": "versicolor",
                  "_deepnote_index_column": 70
                },
                {
                  "sepal length": 6.1,
                  "sepal width": 2.8,
                  "petal length": 4,
                  "petal width": 1.3,
                  "target": 1,
                  "class": "versicolor",
                  "_deepnote_index_column": 71
                },
                {
                  "sepal length": 6.3,
                  "sepal width": 2.5,
                  "petal length": 4.9,
                  "petal width": 1.5,
                  "target": 1,
                  "class": "versicolor",
                  "_deepnote_index_column": 72
                },
                {
                  "sepal length": 6.1,
                  "sepal width": 2.8,
                  "petal length": 4.7,
                  "petal width": 1.2,
                  "target": 1,
                  "class": "versicolor",
                  "_deepnote_index_column": 73
                },
                {
                  "sepal length": 6.4,
                  "sepal width": 2.9,
                  "petal length": 4.3,
                  "petal width": 1.3,
                  "target": 1,
                  "class": "versicolor",
                  "_deepnote_index_column": 74
                },
                {
                  "sepal length": 6.6,
                  "sepal width": 3,
                  "petal length": 4.4,
                  "petal width": 1.4,
                  "target": 1,
                  "class": "versicolor",
                  "_deepnote_index_column": 75
                },
                {
                  "sepal length": 6.8,
                  "sepal width": 2.8,
                  "petal length": 4.8,
                  "petal width": 1.4,
                  "target": 1,
                  "class": "versicolor",
                  "_deepnote_index_column": 76
                },
                {
                  "sepal length": 6.7,
                  "sepal width": 3,
                  "petal length": 5,
                  "petal width": 1.7,
                  "target": 1,
                  "class": "versicolor",
                  "_deepnote_index_column": 77
                },
                {
                  "sepal length": 6,
                  "sepal width": 2.9,
                  "petal length": 4.5,
                  "petal width": 1.5,
                  "target": 1,
                  "class": "versicolor",
                  "_deepnote_index_column": 78
                },
                {
                  "sepal length": 5.7,
                  "sepal width": 2.6,
                  "petal length": 3.5,
                  "petal width": 1,
                  "target": 1,
                  "class": "versicolor",
                  "_deepnote_index_column": 79
                },
                {
                  "sepal length": 5.5,
                  "sepal width": 2.4,
                  "petal length": 3.8,
                  "petal width": 1.1,
                  "target": 1,
                  "class": "versicolor",
                  "_deepnote_index_column": 80
                },
                {
                  "sepal length": 5.5,
                  "sepal width": 2.4,
                  "petal length": 3.7,
                  "petal width": 1,
                  "target": 1,
                  "class": "versicolor",
                  "_deepnote_index_column": 81
                },
                {
                  "sepal length": 5.8,
                  "sepal width": 2.7,
                  "petal length": 3.9,
                  "petal width": 1.2,
                  "target": 1,
                  "class": "versicolor",
                  "_deepnote_index_column": 82
                },
                {
                  "sepal length": 6,
                  "sepal width": 2.7,
                  "petal length": 5.1,
                  "petal width": 1.6,
                  "target": 1,
                  "class": "versicolor",
                  "_deepnote_index_column": 83
                },
                {
                  "sepal length": 5.4,
                  "sepal width": 3,
                  "petal length": 4.5,
                  "petal width": 1.5,
                  "target": 1,
                  "class": "versicolor",
                  "_deepnote_index_column": 84
                },
                {
                  "sepal length": 6,
                  "sepal width": 3.4,
                  "petal length": 4.5,
                  "petal width": 1.6,
                  "target": 1,
                  "class": "versicolor",
                  "_deepnote_index_column": 85
                },
                {
                  "sepal length": 6.7,
                  "sepal width": 3.1,
                  "petal length": 4.7,
                  "petal width": 1.5,
                  "target": 1,
                  "class": "versicolor",
                  "_deepnote_index_column": 86
                },
                {
                  "sepal length": 6.3,
                  "sepal width": 2.3,
                  "petal length": 4.4,
                  "petal width": 1.3,
                  "target": 1,
                  "class": "versicolor",
                  "_deepnote_index_column": 87
                },
                {
                  "sepal length": 5.6,
                  "sepal width": 3,
                  "petal length": 4.1,
                  "petal width": 1.3,
                  "target": 1,
                  "class": "versicolor",
                  "_deepnote_index_column": 88
                },
                {
                  "sepal length": 5.5,
                  "sepal width": 2.5,
                  "petal length": 4,
                  "petal width": 1.3,
                  "target": 1,
                  "class": "versicolor",
                  "_deepnote_index_column": 89
                },
                {
                  "sepal length": 5.5,
                  "sepal width": 2.6,
                  "petal length": 4.4,
                  "petal width": 1.2,
                  "target": 1,
                  "class": "versicolor",
                  "_deepnote_index_column": 90
                },
                {
                  "sepal length": 6.1,
                  "sepal width": 3,
                  "petal length": 4.6,
                  "petal width": 1.4,
                  "target": 1,
                  "class": "versicolor",
                  "_deepnote_index_column": 91
                },
                {
                  "sepal length": 5.8,
                  "sepal width": 2.6,
                  "petal length": 4,
                  "petal width": 1.2,
                  "target": 1,
                  "class": "versicolor",
                  "_deepnote_index_column": 92
                },
                {
                  "sepal length": 5,
                  "sepal width": 2.3,
                  "petal length": 3.3,
                  "petal width": 1,
                  "target": 1,
                  "class": "versicolor",
                  "_deepnote_index_column": 93
                },
                {
                  "sepal length": 5.6,
                  "sepal width": 2.7,
                  "petal length": 4.2,
                  "petal width": 1.3,
                  "target": 1,
                  "class": "versicolor",
                  "_deepnote_index_column": 94
                },
                {
                  "sepal length": 5.7,
                  "sepal width": 3,
                  "petal length": 4.2,
                  "petal width": 1.2,
                  "target": 1,
                  "class": "versicolor",
                  "_deepnote_index_column": 95
                },
                {
                  "sepal length": 5.7,
                  "sepal width": 2.9,
                  "petal length": 4.2,
                  "petal width": 1.3,
                  "target": 1,
                  "class": "versicolor",
                  "_deepnote_index_column": 96
                },
                {
                  "sepal length": 6.2,
                  "sepal width": 2.9,
                  "petal length": 4.3,
                  "petal width": 1.3,
                  "target": 1,
                  "class": "versicolor",
                  "_deepnote_index_column": 97
                },
                {
                  "sepal length": 5.1,
                  "sepal width": 2.5,
                  "petal length": 3,
                  "petal width": 1.1,
                  "target": 1,
                  "class": "versicolor",
                  "_deepnote_index_column": 98
                },
                {
                  "sepal length": 5.7,
                  "sepal width": 2.8,
                  "petal length": 4.1,
                  "petal width": 1.3,
                  "target": 1,
                  "class": "versicolor",
                  "_deepnote_index_column": 99
                },
                {
                  "sepal length": 6.3,
                  "sepal width": 3.3,
                  "petal length": 6,
                  "petal width": 2.5,
                  "target": 2,
                  "class": "virginica",
                  "_deepnote_index_column": 100
                },
                {
                  "sepal length": 5.8,
                  "sepal width": 2.7,
                  "petal length": 5.1,
                  "petal width": 1.9,
                  "target": 2,
                  "class": "virginica",
                  "_deepnote_index_column": 101
                },
                {
                  "sepal length": 7.1,
                  "sepal width": 3,
                  "petal length": 5.9,
                  "petal width": 2.1,
                  "target": 2,
                  "class": "virginica",
                  "_deepnote_index_column": 102
                },
                {
                  "sepal length": 6.3,
                  "sepal width": 2.9,
                  "petal length": 5.6,
                  "petal width": 1.8,
                  "target": 2,
                  "class": "virginica",
                  "_deepnote_index_column": 103
                },
                {
                  "sepal length": 6.5,
                  "sepal width": 3,
                  "petal length": 5.8,
                  "petal width": 2.2,
                  "target": 2,
                  "class": "virginica",
                  "_deepnote_index_column": 104
                },
                {
                  "sepal length": 7.6,
                  "sepal width": 3,
                  "petal length": 6.6,
                  "petal width": 2.1,
                  "target": 2,
                  "class": "virginica",
                  "_deepnote_index_column": 105
                },
                {
                  "sepal length": 4.9,
                  "sepal width": 2.5,
                  "petal length": 4.5,
                  "petal width": 1.7,
                  "target": 2,
                  "class": "virginica",
                  "_deepnote_index_column": 106
                },
                {
                  "sepal length": 7.3,
                  "sepal width": 2.9,
                  "petal length": 6.3,
                  "petal width": 1.8,
                  "target": 2,
                  "class": "virginica",
                  "_deepnote_index_column": 107
                },
                {
                  "sepal length": 6.7,
                  "sepal width": 2.5,
                  "petal length": 5.8,
                  "petal width": 1.8,
                  "target": 2,
                  "class": "virginica",
                  "_deepnote_index_column": 108
                },
                {
                  "sepal length": 7.2,
                  "sepal width": 3.6,
                  "petal length": 6.1,
                  "petal width": 2.5,
                  "target": 2,
                  "class": "virginica",
                  "_deepnote_index_column": 109
                },
                {
                  "sepal length": 6.5,
                  "sepal width": 3.2,
                  "petal length": 5.1,
                  "petal width": 2,
                  "target": 2,
                  "class": "virginica",
                  "_deepnote_index_column": 110
                },
                {
                  "sepal length": 6.4,
                  "sepal width": 2.7,
                  "petal length": 5.3,
                  "petal width": 1.9,
                  "target": 2,
                  "class": "virginica",
                  "_deepnote_index_column": 111
                },
                {
                  "sepal length": 6.8,
                  "sepal width": 3,
                  "petal length": 5.5,
                  "petal width": 2.1,
                  "target": 2,
                  "class": "virginica",
                  "_deepnote_index_column": 112
                },
                {
                  "sepal length": 5.7,
                  "sepal width": 2.5,
                  "petal length": 5,
                  "petal width": 2,
                  "target": 2,
                  "class": "virginica",
                  "_deepnote_index_column": 113
                },
                {
                  "sepal length": 5.8,
                  "sepal width": 2.8,
                  "petal length": 5.1,
                  "petal width": 2.4,
                  "target": 2,
                  "class": "virginica",
                  "_deepnote_index_column": 114
                },
                {
                  "sepal length": 6.4,
                  "sepal width": 3.2,
                  "petal length": 5.3,
                  "petal width": 2.3,
                  "target": 2,
                  "class": "virginica",
                  "_deepnote_index_column": 115
                },
                {
                  "sepal length": 6.5,
                  "sepal width": 3,
                  "petal length": 5.5,
                  "petal width": 1.8,
                  "target": 2,
                  "class": "virginica",
                  "_deepnote_index_column": 116
                },
                {
                  "sepal length": 7.7,
                  "sepal width": 3.8,
                  "petal length": 6.7,
                  "petal width": 2.2,
                  "target": 2,
                  "class": "virginica",
                  "_deepnote_index_column": 117
                },
                {
                  "sepal length": 7.7,
                  "sepal width": 2.6,
                  "petal length": 6.9,
                  "petal width": 2.3,
                  "target": 2,
                  "class": "virginica",
                  "_deepnote_index_column": 118
                },
                {
                  "sepal length": 6,
                  "sepal width": 2.2,
                  "petal length": 5,
                  "petal width": 1.5,
                  "target": 2,
                  "class": "virginica",
                  "_deepnote_index_column": 119
                },
                {
                  "sepal length": 6.9,
                  "sepal width": 3.2,
                  "petal length": 5.7,
                  "petal width": 2.3,
                  "target": 2,
                  "class": "virginica",
                  "_deepnote_index_column": 120
                },
                {
                  "sepal length": 5.6,
                  "sepal width": 2.8,
                  "petal length": 4.9,
                  "petal width": 2,
                  "target": 2,
                  "class": "virginica",
                  "_deepnote_index_column": 121
                },
                {
                  "sepal length": 7.7,
                  "sepal width": 2.8,
                  "petal length": 6.7,
                  "petal width": 2,
                  "target": 2,
                  "class": "virginica",
                  "_deepnote_index_column": 122
                },
                {
                  "sepal length": 6.3,
                  "sepal width": 2.7,
                  "petal length": 4.9,
                  "petal width": 1.8,
                  "target": 2,
                  "class": "virginica",
                  "_deepnote_index_column": 123
                },
                {
                  "sepal length": 6.7,
                  "sepal width": 3.3,
                  "petal length": 5.7,
                  "petal width": 2.1,
                  "target": 2,
                  "class": "virginica",
                  "_deepnote_index_column": 124
                },
                {
                  "sepal length": 7.2,
                  "sepal width": 3.2,
                  "petal length": 6,
                  "petal width": 1.8,
                  "target": 2,
                  "class": "virginica",
                  "_deepnote_index_column": 125
                },
                {
                  "sepal length": 6.2,
                  "sepal width": 2.8,
                  "petal length": 4.8,
                  "petal width": 1.8,
                  "target": 2,
                  "class": "virginica",
                  "_deepnote_index_column": 126
                },
                {
                  "sepal length": 6.1,
                  "sepal width": 3,
                  "petal length": 4.9,
                  "petal width": 1.8,
                  "target": 2,
                  "class": "virginica",
                  "_deepnote_index_column": 127
                },
                {
                  "sepal length": 6.4,
                  "sepal width": 2.8,
                  "petal length": 5.6,
                  "petal width": 2.1,
                  "target": 2,
                  "class": "virginica",
                  "_deepnote_index_column": 128
                },
                {
                  "sepal length": 7.2,
                  "sepal width": 3,
                  "petal length": 5.8,
                  "petal width": 1.6,
                  "target": 2,
                  "class": "virginica",
                  "_deepnote_index_column": 129
                },
                {
                  "sepal length": 7.4,
                  "sepal width": 2.8,
                  "petal length": 6.1,
                  "petal width": 1.9,
                  "target": 2,
                  "class": "virginica",
                  "_deepnote_index_column": 130
                },
                {
                  "sepal length": 7.9,
                  "sepal width": 3.8,
                  "petal length": 6.4,
                  "petal width": 2,
                  "target": 2,
                  "class": "virginica",
                  "_deepnote_index_column": 131
                },
                {
                  "sepal length": 6.4,
                  "sepal width": 2.8,
                  "petal length": 5.6,
                  "petal width": 2.2,
                  "target": 2,
                  "class": "virginica",
                  "_deepnote_index_column": 132
                },
                {
                  "sepal length": 6.3,
                  "sepal width": 2.8,
                  "petal length": 5.1,
                  "petal width": 1.5,
                  "target": 2,
                  "class": "virginica",
                  "_deepnote_index_column": 133
                },
                {
                  "sepal length": 6.1,
                  "sepal width": 2.6,
                  "petal length": 5.6,
                  "petal width": 1.4,
                  "target": 2,
                  "class": "virginica",
                  "_deepnote_index_column": 134
                },
                {
                  "sepal length": 7.7,
                  "sepal width": 3,
                  "petal length": 6.1,
                  "petal width": 2.3,
                  "target": 2,
                  "class": "virginica",
                  "_deepnote_index_column": 135
                },
                {
                  "sepal length": 6.3,
                  "sepal width": 3.4,
                  "petal length": 5.6,
                  "petal width": 2.4,
                  "target": 2,
                  "class": "virginica",
                  "_deepnote_index_column": 136
                },
                {
                  "sepal length": 6.4,
                  "sepal width": 3.1,
                  "petal length": 5.5,
                  "petal width": 1.8,
                  "target": 2,
                  "class": "virginica",
                  "_deepnote_index_column": 137
                },
                {
                  "sepal length": 6,
                  "sepal width": 3,
                  "petal length": 4.8,
                  "petal width": 1.8,
                  "target": 2,
                  "class": "virginica",
                  "_deepnote_index_column": 138
                },
                {
                  "sepal length": 6.9,
                  "sepal width": 3.1,
                  "petal length": 5.4,
                  "petal width": 2.1,
                  "target": 2,
                  "class": "virginica",
                  "_deepnote_index_column": 139
                },
                {
                  "sepal length": 6.7,
                  "sepal width": 3.1,
                  "petal length": 5.6,
                  "petal width": 2.4,
                  "target": 2,
                  "class": "virginica",
                  "_deepnote_index_column": 140
                },
                {
                  "sepal length": 6.9,
                  "sepal width": 3.1,
                  "petal length": 5.1,
                  "petal width": 2.3,
                  "target": 2,
                  "class": "virginica",
                  "_deepnote_index_column": 141
                },
                {
                  "sepal length": 5.8,
                  "sepal width": 2.7,
                  "petal length": 5.1,
                  "petal width": 1.9,
                  "target": 2,
                  "class": "virginica",
                  "_deepnote_index_column": 142
                },
                {
                  "sepal length": 6.8,
                  "sepal width": 3.2,
                  "petal length": 5.9,
                  "petal width": 2.3,
                  "target": 2,
                  "class": "virginica",
                  "_deepnote_index_column": 143
                },
                {
                  "sepal length": 6.7,
                  "sepal width": 3.3,
                  "petal length": 5.7,
                  "petal width": 2.5,
                  "target": 2,
                  "class": "virginica",
                  "_deepnote_index_column": 144
                },
                {
                  "sepal length": 6.7,
                  "sepal width": 3,
                  "petal length": 5.2,
                  "petal width": 2.3,
                  "target": 2,
                  "class": "virginica",
                  "_deepnote_index_column": 145
                },
                {
                  "sepal length": 6.3,
                  "sepal width": 2.5,
                  "petal length": 5,
                  "petal width": 1.9,
                  "target": 2,
                  "class": "virginica",
                  "_deepnote_index_column": 146
                },
                {
                  "sepal length": 6.5,
                  "sepal width": 3,
                  "petal length": 5.2,
                  "petal width": 2,
                  "target": 2,
                  "class": "virginica",
                  "_deepnote_index_column": 147
                },
                {
                  "sepal length": 6.2,
                  "sepal width": 3.4,
                  "petal length": 5.4,
                  "petal width": 2.3,
                  "target": 2,
                  "class": "virginica",
                  "_deepnote_index_column": 148
                },
                {
                  "sepal length": 5.9,
                  "sepal width": 3,
                  "petal length": 5.1,
                  "petal width": 1.8,
                  "target": 2,
                  "class": "virginica",
                  "_deepnote_index_column": 149
                }
              ],
              "rows_bottom": null
            },
            "text/plain": "     sepal length  sepal width  petal length  petal width  target      class\n0             5.1          3.5           1.4          0.2       0     setosa\n1             4.9          3.0           1.4          0.2       0     setosa\n2             4.7          3.2           1.3          0.2       0     setosa\n3             4.6          3.1           1.5          0.2       0     setosa\n4             5.0          3.6           1.4          0.2       0     setosa\n..            ...          ...           ...          ...     ...        ...\n145           6.7          3.0           5.2          2.3       2  virginica\n146           6.3          2.5           5.0          1.9       2  virginica\n147           6.5          3.0           5.2          2.0       2  virginica\n148           6.2          3.4           5.4          2.3       2  virginica\n149           5.9          3.0           5.1          1.8       2  virginica\n\n[150 rows x 6 columns]",
            "text/html": "<div>\n<style scoped>\n    .dataframe tbody tr th:only-of-type {\n        vertical-align: middle;\n    }\n\n    .dataframe tbody tr th {\n        vertical-align: top;\n    }\n\n    .dataframe thead th {\n        text-align: right;\n    }\n</style>\n<table border=\"1\" class=\"dataframe\">\n  <thead>\n    <tr style=\"text-align: right;\">\n      <th></th>\n      <th>sepal length</th>\n      <th>sepal width</th>\n      <th>petal length</th>\n      <th>petal width</th>\n      <th>target</th>\n      <th>class</th>\n    </tr>\n  </thead>\n  <tbody>\n    <tr>\n      <th>0</th>\n      <td>5.1</td>\n      <td>3.5</td>\n      <td>1.4</td>\n      <td>0.2</td>\n      <td>0</td>\n      <td>setosa</td>\n    </tr>\n    <tr>\n      <th>1</th>\n      <td>4.9</td>\n      <td>3.0</td>\n      <td>1.4</td>\n      <td>0.2</td>\n      <td>0</td>\n      <td>setosa</td>\n    </tr>\n    <tr>\n      <th>2</th>\n      <td>4.7</td>\n      <td>3.2</td>\n      <td>1.3</td>\n      <td>0.2</td>\n      <td>0</td>\n      <td>setosa</td>\n    </tr>\n    <tr>\n      <th>3</th>\n      <td>4.6</td>\n      <td>3.1</td>\n      <td>1.5</td>\n      <td>0.2</td>\n      <td>0</td>\n      <td>setosa</td>\n    </tr>\n    <tr>\n      <th>4</th>\n      <td>5.0</td>\n      <td>3.6</td>\n      <td>1.4</td>\n      <td>0.2</td>\n      <td>0</td>\n      <td>setosa</td>\n    </tr>\n    <tr>\n      <th>...</th>\n      <td>...</td>\n      <td>...</td>\n      <td>...</td>\n      <td>...</td>\n      <td>...</td>\n      <td>...</td>\n    </tr>\n    <tr>\n      <th>145</th>\n      <td>6.7</td>\n      <td>3.0</td>\n      <td>5.2</td>\n      <td>2.3</td>\n      <td>2</td>\n      <td>virginica</td>\n    </tr>\n    <tr>\n      <th>146</th>\n      <td>6.3</td>\n      <td>2.5</td>\n      <td>5.0</td>\n      <td>1.9</td>\n      <td>2</td>\n      <td>virginica</td>\n    </tr>\n    <tr>\n      <th>147</th>\n      <td>6.5</td>\n      <td>3.0</td>\n      <td>5.2</td>\n      <td>2.0</td>\n      <td>2</td>\n      <td>virginica</td>\n    </tr>\n    <tr>\n      <th>148</th>\n      <td>6.2</td>\n      <td>3.4</td>\n      <td>5.4</td>\n      <td>2.3</td>\n      <td>2</td>\n      <td>virginica</td>\n    </tr>\n    <tr>\n      <th>149</th>\n      <td>5.9</td>\n      <td>3.0</td>\n      <td>5.1</td>\n      <td>1.8</td>\n      <td>2</td>\n      <td>virginica</td>\n    </tr>\n  </tbody>\n</table>\n<p>150 rows × 6 columns</p>\n</div>"
          },
          "metadata": {}
        }
      ]
    },
    {
      "cell_type": "markdown",
      "source": "## Step 2: Setting up supervised learning problem (selecting features)\n\nFeature selection is an essential step in improving a model's perfromance. In the first version of the model we will use the **'sepal length'** and **'sepal width'** as predicting features. Later we will see the effect of adding additional features.\n\n1. Assign the values of the 'target' to Y as a numpy array\n2. Assign the remaining feature values to X as a numpy array\n3. Check the shape of X and Y. Check the first few values.\n    - Can we confirm our X and Y are created correctly?",
      "metadata": {
        "cell_id": "00021-cd7f66f2-1143-483b-b562-158e44be1e7f",
        "deepnote_cell_type": "markdown"
      }
    },
    {
      "cell_type": "code",
      "metadata": {
        "deletable": false,
        "nbgrader": {
          "cell_type": "code",
          "checksum": "56b10067459820c4e0a12ebf6efe8b5b",
          "grade": false,
          "grade_id": "cell-c0cf28fd18447a0b",
          "locked": false,
          "schema_version": 3,
          "solution": true,
          "task": false
        },
        "cell_id": "00022-27561d2e-bcec-4138-bd70-e68fb0e6e10b",
        "deepnote_to_be_reexecuted": false,
        "source_hash": "5bc92e08",
        "execution_start": 1619608772555,
        "execution_millis": 2,
        "deepnote_cell_type": "code"
      },
      "source": "def target_to_numpy():\n    Y = np.array(df_iris['target'])\n    return Y\n    \ndef data_to_numpy():\n    X = np.array(df_iris[['sepal length','sepal width']])\n    return X",
      "execution_count": 12,
      "outputs": []
    },
    {
      "cell_type": "code",
      "metadata": {
        "deletable": false,
        "editable": false,
        "nbgrader": {
          "cell_type": "code",
          "checksum": "97b1e0d84441ff74af70eef303cb09da",
          "grade": true,
          "grade_id": "cell-aaf03dfa38041beb",
          "locked": true,
          "points": 1,
          "schema_version": 3,
          "solution": false,
          "task": false
        },
        "cell_id": "00023-3e8c3882-0d25-4144-ba62-b7e51462a554",
        "deepnote_to_be_reexecuted": false,
        "source_hash": "9626c8e4",
        "execution_start": 1619608774858,
        "execution_millis": 0,
        "deepnote_cell_type": "code"
      },
      "source": "Y = target_to_numpy()\nX = data_to_numpy()\nassert isinstance(Y, np.ndarray)\nassert isinstance(X, np.ndarray)\nassert X.shape == (150,2)",
      "execution_count": 13,
      "outputs": []
    },
    {
      "cell_type": "code",
      "metadata": {
        "cell_id": "00024-a481a971-9091-454e-854d-a27994433152",
        "deepnote_to_be_reexecuted": false,
        "source_hash": "86503387",
        "execution_start": 1619608780937,
        "execution_millis": 9,
        "deepnote_cell_type": "code"
      },
      "source": "X = df_iris[['sepal length', 'sepal width']].values\nprint(X.shape)\nX[:5]",
      "execution_count": 14,
      "outputs": [
        {
          "name": "stdout",
          "text": "(150, 2)\n",
          "output_type": "stream"
        },
        {
          "output_type": "execute_result",
          "execution_count": 14,
          "data": {
            "text/plain": "array([[5.1, 3.5],\n       [4.9, 3. ],\n       [4.7, 3.2],\n       [4.6, 3.1],\n       [5. , 3.6]])"
          },
          "metadata": {}
        }
      ]
    },
    {
      "cell_type": "markdown",
      "source": "## Step 3: Creating the first model\n\nIn lecture we learned about creating a train and test datasets, normalizing, and fitting a model. In this step we will see how to build a simple version of this.\n\nWe have to be careful when constructing our train and test datasets. First, when we create train and test datasets we have to be careful that we always have the same datapoints in each set. Otherwise our results won't be reproduceable or we might introduce a bias into our model.\n\nWe also need to be attentive to when we normalize the data. What would be the effect of normalizing the data (i.e. with StandardScaler to a range between 0 - 1) before we create our train and test sets? Effectively we would use information in the test set to structure the values in the training set and vice versa. Therefore normalizing train and test independently is the preferred method.\n\n1. Create X_train, X_test, Y_train, Y_test using ```train_test_split()``` with an 80/20 train/test split. Look in the SKLearn documentation to understand how the function works.\n    - Inspect the first few rows of X_train.\n    - Run the cell a few times. Do the first few rows change?\n    - What option can we use in ```train_test_split()``` to stop this from happening?\n2. Normalize the train and test datasets with ```StandardScaler```\n    - We can fit the transform with ```.fit()``` and ```.transform()``` to apply it. Look in the documentation for an esample of how to do this.\n    - Does it make sense to normalize Y_train and Y_test?\n3. Initalize a ```LogisticRegression()``` model and use the ```.fit()``` method to initalize the first model.\n    - We will pass the X_train and Y_train variables to the ```.fit()``` method.\n    - Once the model is fit, use the ```.predict()``` with the X_test and save the output as predictions.",
      "metadata": {
        "cell_id": "00025-a0bfb194-4dcd-4c94-b390-0bd3bef3606f",
        "deepnote_cell_type": "markdown"
      }
    },
    {
      "cell_type": "code",
      "source": "df_iris.columns",
      "metadata": {
        "tags": [],
        "cell_id": "00026-dc52e0f8-68b2-4520-8e6d-1118b089ffdf",
        "deepnote_to_be_reexecuted": false,
        "source_hash": "e5204db0",
        "execution_start": 1619608823766,
        "execution_millis": 11,
        "deepnote_cell_type": "code"
      },
      "outputs": [
        {
          "output_type": "execute_result",
          "execution_count": 16,
          "data": {
            "text/plain": "Index(['sepal length', 'sepal width', 'petal length', 'petal width', 'target',\n       'class'],\n      dtype='object')"
          },
          "metadata": {}
        }
      ],
      "execution_count": 16
    },
    {
      "cell_type": "code",
      "source": "",
      "metadata": {
        "tags": [],
        "cell_id": "00027-54b2772f-295a-4f0b-9fe4-3520f4c8546f",
        "deepnote_cell_type": "code"
      },
      "outputs": [],
      "execution_count": null
    },
    {
      "cell_type": "code",
      "metadata": {
        "deletable": false,
        "nbgrader": {
          "cell_type": "code",
          "checksum": "a1e55823f8c49a22a28af13f984d10ba",
          "grade": false,
          "grade_id": "cell-586cc3c4a3d849fa",
          "locked": false,
          "schema_version": 3,
          "solution": true,
          "task": false
        },
        "cell_id": "00026-7ea197b9-7e73-40b0-a89a-b14580fb3f32",
        "deepnote_to_be_reexecuted": false,
        "source_hash": "ec1f4d0",
        "execution_start": 1619609649834,
        "execution_millis": 14,
        "deepnote_cell_type": "code"
      },
      "source": "#split train and test data 80/20\n# X_train, X_test, Y_train, Y_test = 0,0,0,0\nX_train, X_test, Y_train, Y_test = train_test_split(\n    X,Y,test_size=0.2,random_state=42)\n\n\nprint(X_train.shape)\nprint(Y_train.shape)\nprint(X_test.shape)\nprint(Y_test.shape)",
      "execution_count": 18,
      "outputs": [
        {
          "name": "stdout",
          "text": "(120, 2)\n(120,)\n(30, 2)\n(30,)\n",
          "output_type": "stream"
        }
      ]
    },
    {
      "cell_type": "code",
      "metadata": {
        "deletable": false,
        "editable": false,
        "nbgrader": {
          "cell_type": "code",
          "checksum": "79e08b4d1d8ba96ace800f9f7544289a",
          "grade": true,
          "grade_id": "cell-4415454a211f5895",
          "locked": true,
          "points": 1,
          "schema_version": 3,
          "solution": false,
          "task": false
        },
        "cell_id": "00027-df34614e-652e-44b1-a7f4-e2e06113b9c8",
        "deepnote_cell_type": "code"
      },
      "source": "# assert X_train.shape == (120,2)\n# assert Y_train.shape == (120,)\n# assert X_test.shape  == (30,2)\n# assert Y_test.shape  == (30,)",
      "execution_count": 17,
      "outputs": []
    },
    {
      "cell_type": "code",
      "metadata": {
        "cell_id": "00028-7ceb7f7b-7589-43e2-b727-697874ce42e3",
        "deepnote_to_be_reexecuted": false,
        "source_hash": "4c20a8c2",
        "execution_start": 1619609656468,
        "execution_millis": 13,
        "deepnote_cell_type": "code"
      },
      "source": "X_train[0]",
      "execution_count": 19,
      "outputs": [
        {
          "output_type": "execute_result",
          "execution_count": 19,
          "data": {
            "text/plain": "array([4.6, 3.6])"
          },
          "metadata": {}
        }
      ]
    },
    {
      "cell_type": "code",
      "metadata": {
        "deletable": false,
        "nbgrader": {
          "cell_type": "code",
          "checksum": "cae2c49fb6dd8edd9da705b91681b634",
          "grade": false,
          "grade_id": "cell-d94703390548f2df",
          "locked": false,
          "schema_version": 3,
          "solution": true,
          "task": false
        },
        "cell_id": "00029-3913de76-695d-4c0d-8403-721b622e43e5",
        "deepnote_to_be_reexecuted": false,
        "source_hash": "2e4c2c62",
        "execution_start": 1619609667073,
        "execution_millis": 11,
        "deepnote_cell_type": "code"
      },
      "source": "#normalize the dataset\n# create and fit the scaler object on the training data\nscaler = StandardScaler()\n# In sklearn.preprocessing.StandardScaler(), centering and scaling happens independently on each feature.\n\nX_train = scaler.fit_transform(X_train)\n\n#create and fit the scaler object on the training data\n\nX_test = scaler.fit_transform(X_test)\n\nX_train[:5]",
      "execution_count": 20,
      "outputs": [
        {
          "output_type": "execute_result",
          "execution_count": 20,
          "data": {
            "text/plain": "array([[-1.47393679,  1.20365799],\n       [-0.13307079,  2.99237573],\n       [ 1.08589829,  0.08570939],\n       [-1.23014297,  0.75647855],\n       [-1.7177306 ,  0.30929911]])"
          },
          "metadata": {}
        }
      ]
    },
    {
      "cell_type": "code",
      "metadata": {
        "cell_id": "00030-e56573a7-8322-4667-a390-a57c54eacfb5",
        "deepnote_to_be_reexecuted": false,
        "source_hash": "9d023042",
        "execution_start": 1619609672300,
        "execution_millis": 9,
        "deepnote_cell_type": "code"
      },
      "source": "np.max(X_train)",
      "execution_count": 21,
      "outputs": [
        {
          "output_type": "execute_result",
          "execution_count": 21,
          "data": {
            "text/plain": "2.9923757343597126"
          },
          "metadata": {}
        }
      ]
    },
    {
      "cell_type": "code",
      "metadata": {
        "deletable": false,
        "editable": false,
        "nbgrader": {
          "cell_type": "code",
          "checksum": "94c70e4e0a35aabf275dcfc54032c506",
          "grade": true,
          "grade_id": "cell-fd525045d90798a3",
          "locked": true,
          "points": 2,
          "schema_version": 3,
          "solution": false,
          "task": false
        },
        "cell_id": "00031-7352b75c-d85f-4b43-aae1-db54220d7f5e",
        "deepnote_cell_type": "code"
      },
      "source": "# assert np.amin(X_train) >= -2.5\n# assert np.amax(X_train) <= 3.2\n# assert np.amin(X_test) >= -2\n# assert np.amin(X_test) <= 2.75",
      "execution_count": 29,
      "outputs": [
        {
          "ename": "AssertionError",
          "evalue": "",
          "output_type": "error",
          "traceback": [
            "\u001b[0;31m---------------------------------------------------------------------------\u001b[0m",
            "\u001b[0;31mAssertionError\u001b[0m                            Traceback (most recent call last)",
            "\u001b[0;32m<ipython-input-29-faadc345742e>\u001b[0m in \u001b[0;36m<module>\u001b[0;34m\u001b[0m\n\u001b[1;32m      1\u001b[0m \u001b[0;32massert\u001b[0m \u001b[0mnp\u001b[0m\u001b[0;34m.\u001b[0m\u001b[0mamin\u001b[0m\u001b[0;34m(\u001b[0m\u001b[0mX_train\u001b[0m\u001b[0;34m)\u001b[0m \u001b[0;34m>=\u001b[0m \u001b[0;34m-\u001b[0m\u001b[0;36m2.5\u001b[0m\u001b[0;34m\u001b[0m\u001b[0;34m\u001b[0m\u001b[0m\n\u001b[1;32m      2\u001b[0m \u001b[0;32massert\u001b[0m \u001b[0mnp\u001b[0m\u001b[0;34m.\u001b[0m\u001b[0mamax\u001b[0m\u001b[0;34m(\u001b[0m\u001b[0mX_train\u001b[0m\u001b[0;34m)\u001b[0m \u001b[0;34m<=\u001b[0m \u001b[0;36m3.2\u001b[0m\u001b[0;34m\u001b[0m\u001b[0;34m\u001b[0m\u001b[0m\n\u001b[0;32m----> 3\u001b[0;31m \u001b[0;32massert\u001b[0m \u001b[0mnp\u001b[0m\u001b[0;34m.\u001b[0m\u001b[0mamin\u001b[0m\u001b[0;34m(\u001b[0m\u001b[0mX_test\u001b[0m\u001b[0;34m)\u001b[0m \u001b[0;34m>=\u001b[0m \u001b[0;34m-\u001b[0m\u001b[0;36m2\u001b[0m\u001b[0;34m\u001b[0m\u001b[0;34m\u001b[0m\u001b[0m\n\u001b[0m\u001b[1;32m      4\u001b[0m \u001b[0;32massert\u001b[0m \u001b[0mnp\u001b[0m\u001b[0;34m.\u001b[0m\u001b[0mamin\u001b[0m\u001b[0;34m(\u001b[0m\u001b[0mX_test\u001b[0m\u001b[0;34m)\u001b[0m \u001b[0;34m<=\u001b[0m \u001b[0;36m2.75\u001b[0m\u001b[0;34m\u001b[0m\u001b[0;34m\u001b[0m\u001b[0m\n",
            "\u001b[0;31mAssertionError\u001b[0m: "
          ]
        }
      ]
    },
    {
      "cell_type": "code",
      "metadata": {
        "deletable": false,
        "nbgrader": {
          "cell_type": "code",
          "checksum": "38fcab794674e83ebb32a2828a429d4b",
          "grade": false,
          "grade_id": "cell-a91abe39c7261df3",
          "locked": false,
          "schema_version": 3,
          "solution": true,
          "task": false
        },
        "cell_id": "00032-dd395e05-9cb3-4c9c-bd37-7d3d0439c1cd",
        "deepnote_to_be_reexecuted": false,
        "source_hash": "bbfdeb5b",
        "execution_start": 1619609680733,
        "execution_millis": 20,
        "deepnote_cell_type": "code"
      },
      "source": "#initalize and fit with Logistic Regression\nprediction = 0\n#initalize the logistic regressor\nclf = LogisticRegression(random_state=42).fit(X_train, Y_train)\n#make predictions\npredictions = clf.predict(X_test)\nprint(predictions)\n",
      "execution_count": 22,
      "outputs": [
        {
          "name": "stdout",
          "text": "[1 0 2 1 2 0 1 2 1 1 2 0 0 0 0 2 2 1 1 1 0 1 0 1 2 2 2 2 0 0]\n",
          "output_type": "stream"
        }
      ]
    },
    {
      "cell_type": "code",
      "metadata": {
        "deletable": false,
        "editable": false,
        "nbgrader": {
          "cell_type": "code",
          "checksum": "47ce21dba76593cfaa123c1ab6e3faae",
          "grade": true,
          "grade_id": "cell-61e5bc16122b7220",
          "locked": true,
          "points": 2,
          "schema_version": 3,
          "solution": false,
          "task": false
        },
        "cell_id": "00033-5e5d6155-7888-41a5-af43-2f13cae8a6a1",
        "deepnote_cell_type": "code"
      },
      "source": "# assert predictions.shape == (30,)",
      "execution_count": 24,
      "outputs": []
    },
    {
      "cell_type": "markdown",
      "source": "## Step 4: Evaluate the frist model's predictions\n\nWe will learn more about how to evaluate the performance of a classifier in later lessons. For now we will use % accuracy as our metric. It is important to know that this metric only helps us understand the specific performance of our model and not, for example, where we can improve it, or where it already perfoms well.\n\n1. Use ```.score()``` to evaluate the performance of our first model.",
      "metadata": {
        "deletable": false,
        "editable": false,
        "nbgrader": {
          "cell_type": "markdown",
          "checksum": "0cf62aaed986a743938e4194ee854464",
          "grade": false,
          "grade_id": "cell-ad53c7b7761b7c33",
          "locked": true,
          "schema_version": 3,
          "solution": false,
          "task": false
        },
        "cell_id": "00034-e86d23a9-c356-4514-9423-d167e9ebd058",
        "deepnote_cell_type": "markdown"
      }
    },
    {
      "cell_type": "code",
      "metadata": {
        "deletable": false,
        "nbgrader": {
          "cell_type": "code",
          "checksum": "eee957f8a23e8bf11a08b81ca09b59de",
          "grade": false,
          "grade_id": "cell-a19f9db86d767c57",
          "locked": false,
          "schema_version": 3,
          "solution": true,
          "task": false
        },
        "cell_id": "00035-ba40374c-0d16-4453-8950-cf9083747f5d",
        "deepnote_to_be_reexecuted": false,
        "source_hash": "ce35eb82",
        "execution_start": 1619609711188,
        "execution_millis": 9,
        "deepnote_cell_type": "code"
      },
      "source": "score = 0\n#evaluating the performace of our first model\nscore = clf.score(X_train,Y_train)\nprint(score)\n\n",
      "execution_count": 23,
      "outputs": [
        {
          "name": "stdout",
          "text": "0.7916666666666666\n",
          "output_type": "stream"
        }
      ]
    },
    {
      "cell_type": "code",
      "metadata": {
        "deletable": false,
        "editable": false,
        "nbgrader": {
          "cell_type": "code",
          "checksum": "b0ffe44569c3d8cfd1b662cb1eee741a",
          "grade": true,
          "grade_id": "cell-300a4e426c8fcfa1",
          "locked": true,
          "points": 1,
          "schema_version": 3,
          "solution": false,
          "task": false
        },
        "cell_id": "00036-b134660b-38a1-4856-9223-58838fccdc0c",
        "deepnote_cell_type": "code"
      },
      "source": "# assert score >=0.7",
      "execution_count": null,
      "outputs": []
    },
    {
      "cell_type": "code",
      "metadata": {
        "deletable": false,
        "editable": false,
        "nbgrader": {
          "cell_type": "code",
          "checksum": "f5c847b79b21710ec7f481b2e5641562",
          "grade": true,
          "grade_id": "cell-f7dbd3aa1419397f",
          "locked": true,
          "points": 1,
          "schema_version": 3,
          "solution": false,
          "task": false
        },
        "cell_id": "00037-96870610-80fb-42f7-93e3-306a2f918806",
        "deepnote_cell_type": "code"
      },
      "source": "# assert score >=0.72",
      "execution_count": null,
      "outputs": []
    },
    {
      "cell_type": "code",
      "metadata": {
        "deletable": false,
        "editable": false,
        "nbgrader": {
          "cell_type": "code",
          "checksum": "ba1d8e7eeb90894ad0d9ad61f191cacc",
          "grade": true,
          "grade_id": "cell-3b6954a5b2f244cd",
          "locked": true,
          "points": 1,
          "schema_version": 3,
          "solution": false,
          "task": false
        },
        "cell_id": "00038-7bc2a83a-b582-476e-bffc-76720dbd470c",
        "deepnote_cell_type": "code"
      },
      "source": "# assert score >=0.73",
      "execution_count": null,
      "outputs": []
    },
    {
      "cell_type": "markdown",
      "source": "## Step 5: Crossvalidation of the model\nOur first model achived ~90% accruacy. This is quite good. How do we know it is reproducable? If we run the model again and our performance is 85% which is correct? And what about improving our model? Can you think of one thing we can do to potentially improve the model?\n\n#### Crossvalidation\nCorssvalidation is when we create multiple X and Y datasets. On each dataset we train and fit the model. We then average the results and return a 'crossvalidated' accruacy.\n\n1. Initalize a new version of the model you trained above with the same paramters.\n2. Use ```cross_validate()``` to run the model with 5 crossvalidation folds. ",
      "metadata": {
        "deletable": false,
        "editable": false,
        "nbgrader": {
          "cell_type": "markdown",
          "checksum": "c79bec6a741d60a82f6bcbaf802ea63a",
          "grade": false,
          "grade_id": "cell-5606fc0823aee705",
          "locked": true,
          "schema_version": 3,
          "solution": false,
          "task": false
        },
        "cell_id": "00039-847c96b5-a171-4706-9956-6694932c692b",
        "deepnote_cell_type": "markdown"
      }
    },
    {
      "cell_type": "code",
      "metadata": {
        "deletable": false,
        "nbgrader": {
          "cell_type": "code",
          "checksum": "a94fe1023a3040a963c76b37ca85c8cb",
          "grade": false,
          "grade_id": "cell-49d1242d4949806f",
          "locked": false,
          "schema_version": 3,
          "solution": true,
          "task": false
        },
        "cell_id": "00040-52772812-0272-4a0e-aa36-2879dd247eb2",
        "deepnote_to_be_reexecuted": false,
        "source_hash": "9da60e98",
        "execution_start": 1619609719646,
        "execution_millis": 34,
        "deepnote_cell_type": "code"
      },
      "source": "#model with cross validation\n\n#cross validate the training set\nclf_cv = 0\nCV = 0\ncv = cross_validate(clf, X_train, Y_train, cv=5)\n\n\ndef print_scores(cv):\n    #print out cross validation scores\n    [print('Crossvalidation fold: {}  Accruacy: {}'.format(n, score)) for n, score in enumerate(cv['test_score'])]\n    #print out the mean of the cross validation\n    print('Mean train cross validation score {}'.format(cv['test_score'].mean()))\n    \nprint_scores(cv)",
      "execution_count": 24,
      "outputs": [
        {
          "name": "stdout",
          "text": "Crossvalidation fold: 0  Accruacy: 0.7083333333333334\nCrossvalidation fold: 1  Accruacy: 0.75\nCrossvalidation fold: 2  Accruacy: 0.875\nCrossvalidation fold: 3  Accruacy: 0.8333333333333334\nCrossvalidation fold: 4  Accruacy: 0.75\nMean train cross validation score 0.7833333333333334\n",
          "output_type": "stream"
        }
      ]
    },
    {
      "cell_type": "code",
      "metadata": {
        "deletable": false,
        "editable": false,
        "nbgrader": {
          "cell_type": "code",
          "checksum": "f654258178a1653e2150e77099a2517c",
          "grade": true,
          "grade_id": "cell-cbdb686462858d91",
          "locked": true,
          "points": 4,
          "schema_version": 3,
          "solution": false,
          "task": false
        },
        "cell_id": "00041-e187c911-bb75-4af7-9290-625e019d9f12",
        "deepnote_cell_type": "code"
      },
      "source": "# assert len(cv['test_score']) == 5\n# assert max(cv['test_score']) >= 0.85\n# assert min(cv['test_score']) >= 0.69\n# assert cv['test_score'].mean() >= 0.77",
      "execution_count": null,
      "outputs": []
    },
    {
      "cell_type": "markdown",
      "source": "## Step 6: Creating an end to end ML pipeline\nCongraulations you've trained, crossvalidated, predicted, and evaluated your frist classifier. Now that you understand the basic steps we will look at a way to combine all these steps together.\n\nBefore we go further think about what you would have to do if you wanted to change the model. Intalize a new model, change the vairables, redo the cross validation...etc. Seems like a lot. And when we have to change lots of code it is easy to make mistakes. And what if you wanted to try many models and see which one performed best? Or try changing many different features? How could you do it without writing each one out as we have?\n\nThe solution is to use SKLearn's pipeline class. A pipeline is an object that will execute the various steps in the machine learning process. We can choose what elements we want in the pipeline and those that we do not. Once setup, we can rapidly change models, or input data and have it return our results in an ordered way.\n\n\n1. Initalize a scaler and a classifer object like we did previously.\n2. Use the ```make_pipeline()``` function to construct a transofmraiton pipeline for the scaler and the classifier\n3. Input the pipeline object to the cross_validator and evaluate with 5 folds.\n4. Print out your results (hint: make a function for repetitve tasks like printing)",
      "metadata": {
        "deletable": false,
        "editable": false,
        "nbgrader": {
          "cell_type": "markdown",
          "checksum": "3715a10f14e6e81bfbdd7fff9c516566",
          "grade": false,
          "grade_id": "cell-979159550aa72926",
          "locked": true,
          "schema_version": 3,
          "solution": false,
          "task": false
        },
        "cell_id": "00042-f62cb866-9e81-4c82-82a6-0eb22f07cf43",
        "deepnote_cell_type": "markdown"
      }
    },
    {
      "cell_type": "code",
      "metadata": {
        "deletable": false,
        "nbgrader": {
          "cell_type": "code",
          "checksum": "c911b68feeb3cc9856690815db075f50",
          "grade": false,
          "grade_id": "cell-82685348a4b1d16a",
          "locked": false,
          "schema_version": 3,
          "solution": true,
          "task": false
        },
        "cell_id": "00043-5e1ad9a3-059a-455e-a40b-1ce24655208e",
        "deepnote_to_be_reexecuted": false,
        "source_hash": "c90550c4",
        "execution_start": 1619609858174,
        "execution_millis": 6,
        "deepnote_cell_type": "code"
      },
      "source": "scaler = 0\nclassifier = 0\npipe = 0\nscores = 0\n\n#define the scaler\nscaler = StandardScaler()\n#define the classifier\nclassifier = LogisticRegression(solver='lbfgs', multi_class='multinomial')\n#make the pipeline\n# pipe = make_pipeline(StandardScaler(),LogisticRegression)\npipe = make_pipeline(scaler, classifier)\n#run the cross validation\nscores = cross_validate(pipe, X, Y, cv=5)",
      "execution_count": 25,
      "outputs": []
    },
    {
      "cell_type": "code",
      "metadata": {
        "cell_id": "00044-615951c9-ea47-4395-91d1-dcc4e8085966",
        "deepnote_to_be_reexecuted": false,
        "source_hash": "8191568f",
        "execution_start": 1619609865217,
        "execution_millis": 15,
        "deepnote_cell_type": "code"
      },
      "source": "#print results\npipe",
      "execution_count": 26,
      "outputs": [
        {
          "output_type": "execute_result",
          "execution_count": 26,
          "data": {
            "text/plain": "Pipeline(steps=[('standardscaler', StandardScaler()),\n                ('logisticregression',\n                 LogisticRegression(multi_class='multinomial'))])"
          },
          "metadata": {}
        }
      ]
    },
    {
      "cell_type": "code",
      "metadata": {
        "cell_id": "00045-da14e7f1-65e6-412a-95cd-b3fc7854bbd0",
        "deepnote_to_be_reexecuted": false,
        "source_hash": "5c5444a1",
        "execution_start": 1619609869827,
        "execution_millis": 12,
        "deepnote_cell_type": "code"
      },
      "source": "#print results\nscores",
      "execution_count": 27,
      "outputs": [
        {
          "output_type": "execute_result",
          "execution_count": 27,
          "data": {
            "text/plain": "{'fit_time': array([0.00689077, 0.00582051, 0.0093534 , 0.00951743, 0.00948763]),\n 'score_time': array([0.00057364, 0.0004251 , 0.00072122, 0.0006566 , 0.0006988 ]),\n 'test_score': array([0.73333333, 0.83333333, 0.76666667, 0.86666667, 0.86666667])}"
          },
          "metadata": {}
        }
      ]
    },
    {
      "cell_type": "markdown",
      "source": "## Challenge Exercise\n\nIn this notebook we only used two features to predict the class of the flower. We also did not do any hypter parameter tuning. The challenge is to impove the prediction results. Some ideas we can try:\n1. Add features to the input and run the cross validation pipeline\n2. Investigate how to use ```GridSearchCV```, a powerful funtion that searches through hyperparmetrs and does cross validation.\n    - Hint: Input the pipeline directly into GridSearchCV\n3. Try a different models like RandomForest or SVM.",
      "metadata": {
        "cell_id": "00047-79e06819-addc-4a4a-833d-33ea982496b2",
        "deepnote_cell_type": "markdown"
      }
    },
    {
      "cell_type": "code",
      "source": "df_iris.head()",
      "metadata": {
        "tags": [],
        "cell_id": "00050-1ea323f1-4c7d-4e06-9696-8e4873d13834",
        "deepnote_to_be_reexecuted": false,
        "source_hash": "eecf322c",
        "execution_start": 1619609971070,
        "execution_millis": 11,
        "deepnote_cell_type": "code"
      },
      "outputs": [
        {
          "output_type": "execute_result",
          "execution_count": 28,
          "data": {
            "application/vnd.deepnote.dataframe.v2+json": {
              "row_count": 5,
              "column_count": 6,
              "columns": [
                {
                  "name": "sepal length",
                  "dtype": "float64",
                  "stats": {
                    "unique_count": 5,
                    "nan_count": 0,
                    "min": "4.6",
                    "max": "5.1",
                    "histogram": [
                      {
                        "bin_start": 4.6,
                        "bin_end": 4.6499999999999995,
                        "count": 1
                      },
                      {
                        "bin_start": 4.6499999999999995,
                        "bin_end": 4.699999999999999,
                        "count": 0
                      },
                      {
                        "bin_start": 4.699999999999999,
                        "bin_end": 4.75,
                        "count": 1
                      },
                      {
                        "bin_start": 4.75,
                        "bin_end": 4.8,
                        "count": 0
                      },
                      {
                        "bin_start": 4.8,
                        "bin_end": 4.85,
                        "count": 0
                      },
                      {
                        "bin_start": 4.85,
                        "bin_end": 4.8999999999999995,
                        "count": 0
                      },
                      {
                        "bin_start": 4.8999999999999995,
                        "bin_end": 4.949999999999999,
                        "count": 1
                      },
                      {
                        "bin_start": 4.949999999999999,
                        "bin_end": 5,
                        "count": 0
                      },
                      {
                        "bin_start": 5,
                        "bin_end": 5.05,
                        "count": 1
                      },
                      {
                        "bin_start": 5.05,
                        "bin_end": 5.1,
                        "count": 1
                      }
                    ]
                  }
                },
                {
                  "name": "sepal width",
                  "dtype": "float64",
                  "stats": {
                    "unique_count": 5,
                    "nan_count": 0,
                    "min": "3.0",
                    "max": "3.6",
                    "histogram": [
                      {
                        "bin_start": 3,
                        "bin_end": 3.06,
                        "count": 1
                      },
                      {
                        "bin_start": 3.06,
                        "bin_end": 3.12,
                        "count": 1
                      },
                      {
                        "bin_start": 3.12,
                        "bin_end": 3.18,
                        "count": 0
                      },
                      {
                        "bin_start": 3.18,
                        "bin_end": 3.24,
                        "count": 1
                      },
                      {
                        "bin_start": 3.24,
                        "bin_end": 3.3,
                        "count": 0
                      },
                      {
                        "bin_start": 3.3,
                        "bin_end": 3.3600000000000003,
                        "count": 0
                      },
                      {
                        "bin_start": 3.3600000000000003,
                        "bin_end": 3.42,
                        "count": 0
                      },
                      {
                        "bin_start": 3.42,
                        "bin_end": 3.48,
                        "count": 0
                      },
                      {
                        "bin_start": 3.48,
                        "bin_end": 3.54,
                        "count": 1
                      },
                      {
                        "bin_start": 3.54,
                        "bin_end": 3.6,
                        "count": 1
                      }
                    ]
                  }
                },
                {
                  "name": "petal length",
                  "dtype": "float64",
                  "stats": {
                    "unique_count": 3,
                    "nan_count": 0,
                    "min": "1.3",
                    "max": "1.5",
                    "histogram": [
                      {
                        "bin_start": 1.3,
                        "bin_end": 1.32,
                        "count": 1
                      },
                      {
                        "bin_start": 1.32,
                        "bin_end": 1.34,
                        "count": 0
                      },
                      {
                        "bin_start": 1.34,
                        "bin_end": 1.36,
                        "count": 0
                      },
                      {
                        "bin_start": 1.36,
                        "bin_end": 1.3800000000000001,
                        "count": 0
                      },
                      {
                        "bin_start": 1.3800000000000001,
                        "bin_end": 1.4,
                        "count": 0
                      },
                      {
                        "bin_start": 1.4,
                        "bin_end": 1.42,
                        "count": 3
                      },
                      {
                        "bin_start": 1.42,
                        "bin_end": 1.44,
                        "count": 0
                      },
                      {
                        "bin_start": 1.44,
                        "bin_end": 1.46,
                        "count": 0
                      },
                      {
                        "bin_start": 1.46,
                        "bin_end": 1.48,
                        "count": 0
                      },
                      {
                        "bin_start": 1.48,
                        "bin_end": 1.5,
                        "count": 1
                      }
                    ]
                  }
                },
                {
                  "name": "petal width",
                  "dtype": "float64",
                  "stats": {
                    "unique_count": 1,
                    "nan_count": 0,
                    "min": "0.2",
                    "max": "0.2",
                    "histogram": [
                      {
                        "bin_start": -0.3,
                        "bin_end": -0.19999999999999998,
                        "count": 0
                      },
                      {
                        "bin_start": -0.19999999999999998,
                        "bin_end": -0.09999999999999998,
                        "count": 0
                      },
                      {
                        "bin_start": -0.09999999999999998,
                        "bin_end": 5.551115123125783e-17,
                        "count": 0
                      },
                      {
                        "bin_start": 5.551115123125783e-17,
                        "bin_end": 0.10000000000000003,
                        "count": 0
                      },
                      {
                        "bin_start": 0.10000000000000003,
                        "bin_end": 0.2,
                        "count": 0
                      },
                      {
                        "bin_start": 0.2,
                        "bin_end": 0.3000000000000001,
                        "count": 5
                      },
                      {
                        "bin_start": 0.3000000000000001,
                        "bin_end": 0.4000000000000001,
                        "count": 0
                      },
                      {
                        "bin_start": 0.4000000000000001,
                        "bin_end": 0.5,
                        "count": 0
                      },
                      {
                        "bin_start": 0.5,
                        "bin_end": 0.6000000000000001,
                        "count": 0
                      },
                      {
                        "bin_start": 0.6000000000000001,
                        "bin_end": 0.7,
                        "count": 0
                      }
                    ]
                  }
                },
                {
                  "name": "target",
                  "dtype": "int64",
                  "stats": {
                    "unique_count": 1,
                    "nan_count": 0,
                    "min": "0",
                    "max": "0",
                    "histogram": [
                      {
                        "bin_start": -0.5,
                        "bin_end": -0.4,
                        "count": 0
                      },
                      {
                        "bin_start": -0.4,
                        "bin_end": -0.3,
                        "count": 0
                      },
                      {
                        "bin_start": -0.3,
                        "bin_end": -0.19999999999999996,
                        "count": 0
                      },
                      {
                        "bin_start": -0.19999999999999996,
                        "bin_end": -0.09999999999999998,
                        "count": 0
                      },
                      {
                        "bin_start": -0.09999999999999998,
                        "bin_end": 0,
                        "count": 0
                      },
                      {
                        "bin_start": 0,
                        "bin_end": 0.10000000000000009,
                        "count": 5
                      },
                      {
                        "bin_start": 0.10000000000000009,
                        "bin_end": 0.20000000000000007,
                        "count": 0
                      },
                      {
                        "bin_start": 0.20000000000000007,
                        "bin_end": 0.30000000000000004,
                        "count": 0
                      },
                      {
                        "bin_start": 0.30000000000000004,
                        "bin_end": 0.4,
                        "count": 0
                      },
                      {
                        "bin_start": 0.4,
                        "bin_end": 0.5,
                        "count": 0
                      }
                    ]
                  }
                },
                {
                  "name": "class",
                  "dtype": "object",
                  "stats": {
                    "unique_count": 1,
                    "nan_count": 0,
                    "categories": [
                      {
                        "name": "setosa",
                        "count": 5
                      }
                    ]
                  }
                },
                {
                  "name": "_deepnote_index_column",
                  "dtype": "int64"
                }
              ],
              "rows_top": [
                {
                  "sepal length": 5.1,
                  "sepal width": 3.5,
                  "petal length": 1.4,
                  "petal width": 0.2,
                  "target": 0,
                  "class": "setosa",
                  "_deepnote_index_column": 0
                },
                {
                  "sepal length": 4.9,
                  "sepal width": 3,
                  "petal length": 1.4,
                  "petal width": 0.2,
                  "target": 0,
                  "class": "setosa",
                  "_deepnote_index_column": 1
                },
                {
                  "sepal length": 4.7,
                  "sepal width": 3.2,
                  "petal length": 1.3,
                  "petal width": 0.2,
                  "target": 0,
                  "class": "setosa",
                  "_deepnote_index_column": 2
                },
                {
                  "sepal length": 4.6,
                  "sepal width": 3.1,
                  "petal length": 1.5,
                  "petal width": 0.2,
                  "target": 0,
                  "class": "setosa",
                  "_deepnote_index_column": 3
                },
                {
                  "sepal length": 5,
                  "sepal width": 3.6,
                  "petal length": 1.4,
                  "petal width": 0.2,
                  "target": 0,
                  "class": "setosa",
                  "_deepnote_index_column": 4
                }
              ],
              "rows_bottom": null
            },
            "text/plain": "   sepal length  sepal width  petal length  petal width  target   class\n0           5.1          3.5           1.4          0.2       0  setosa\n1           4.9          3.0           1.4          0.2       0  setosa\n2           4.7          3.2           1.3          0.2       0  setosa\n3           4.6          3.1           1.5          0.2       0  setosa\n4           5.0          3.6           1.4          0.2       0  setosa",
            "text/html": "<div>\n<style scoped>\n    .dataframe tbody tr th:only-of-type {\n        vertical-align: middle;\n    }\n\n    .dataframe tbody tr th {\n        vertical-align: top;\n    }\n\n    .dataframe thead th {\n        text-align: right;\n    }\n</style>\n<table border=\"1\" class=\"dataframe\">\n  <thead>\n    <tr style=\"text-align: right;\">\n      <th></th>\n      <th>sepal length</th>\n      <th>sepal width</th>\n      <th>petal length</th>\n      <th>petal width</th>\n      <th>target</th>\n      <th>class</th>\n    </tr>\n  </thead>\n  <tbody>\n    <tr>\n      <th>0</th>\n      <td>5.1</td>\n      <td>3.5</td>\n      <td>1.4</td>\n      <td>0.2</td>\n      <td>0</td>\n      <td>setosa</td>\n    </tr>\n    <tr>\n      <th>1</th>\n      <td>4.9</td>\n      <td>3.0</td>\n      <td>1.4</td>\n      <td>0.2</td>\n      <td>0</td>\n      <td>setosa</td>\n    </tr>\n    <tr>\n      <th>2</th>\n      <td>4.7</td>\n      <td>3.2</td>\n      <td>1.3</td>\n      <td>0.2</td>\n      <td>0</td>\n      <td>setosa</td>\n    </tr>\n    <tr>\n      <th>3</th>\n      <td>4.6</td>\n      <td>3.1</td>\n      <td>1.5</td>\n      <td>0.2</td>\n      <td>0</td>\n      <td>setosa</td>\n    </tr>\n    <tr>\n      <th>4</th>\n      <td>5.0</td>\n      <td>3.6</td>\n      <td>1.4</td>\n      <td>0.2</td>\n      <td>0</td>\n      <td>setosa</td>\n    </tr>\n  </tbody>\n</table>\n</div>"
          },
          "metadata": {}
        }
      ],
      "execution_count": 28
    },
    {
      "cell_type": "code",
      "source": "set(df_iris.target)",
      "metadata": {
        "tags": [],
        "cell_id": "00051-bd77d2f4-9405-4aa2-87e3-7b57ce5fced1",
        "deepnote_to_be_reexecuted": false,
        "source_hash": "4c13ed55",
        "execution_start": 1619610036756,
        "execution_millis": 6,
        "deepnote_cell_type": "code"
      },
      "outputs": [
        {
          "output_type": "execute_result",
          "execution_count": 29,
          "data": {
            "text/plain": "{0, 1, 2}"
          },
          "metadata": {}
        }
      ],
      "execution_count": 29
    },
    {
      "cell_type": "code",
      "source": "y = df_iris.target\nX = df_iris.drop(['target', 'class'], axis=1)",
      "metadata": {
        "tags": [],
        "cell_id": "00051-ea12130c-6b02-4f02-8747-ec82759e7641",
        "deepnote_to_be_reexecuted": false,
        "source_hash": "b37f366e",
        "execution_start": 1619610107776,
        "execution_millis": 3,
        "deepnote_cell_type": "code"
      },
      "outputs": [],
      "execution_count": 32
    },
    {
      "cell_type": "markdown",
      "source": "Initalize a DecisionTreeClassifier() model and use the .fit() method to initalize the first model.\nWe will pass the X_train and Y_train variables to the .fit() method.\nOnce the model is fit, use the .predict() with the X_test and save the output as predictions.\nThen compare the predictions to y_test",
      "metadata": {
        "tags": [],
        "cell_id": "00053-5bf5438a-cb98-4910-957d-e1b34158029b",
        "deepnote_cell_type": "markdown"
      }
    },
    {
      "cell_type": "markdown",
      "source": "## Decision Trees\n\n#### Iris Data",
      "metadata": {
        "tags": [],
        "cell_id": "00054-3e84b383-1f84-4f74-b3b3-018816f8cf74",
        "deepnote_cell_type": "markdown"
      }
    },
    {
      "cell_type": "code",
      "source": "from sklearn.model_selection import train_test_split\nfrom sklearn import tree",
      "metadata": {
        "tags": [],
        "cell_id": "00054-e6ae735a-1cb8-457d-8d22-6530fc5a300e",
        "deepnote_to_be_reexecuted": false,
        "source_hash": "2ebc97d9",
        "execution_start": 1619614004154,
        "execution_millis": 1,
        "deepnote_cell_type": "code"
      },
      "outputs": [],
      "execution_count": 67
    },
    {
      "cell_type": "code",
      "metadata": {
        "deletable": false,
        "nbgrader": {
          "cell_type": "code",
          "checksum": "d9c5ac9e443f032b6d2e99fcef3fa7c3",
          "grade": false,
          "grade_id": "cell-f1ba9880447e80ec",
          "locked": false,
          "schema_version": 3,
          "solution": true,
          "task": false
        },
        "cell_id": "00048-b6ab7b87-da08-41fa-ad63-abc94f694803",
        "deepnote_to_be_reexecuted": false,
        "source_hash": "75baad64",
        "execution_start": 1619614480456,
        "execution_millis": 16,
        "deepnote_cell_type": "code"
      },
      "source": "# Decision Trees - Classifier on Iris Data\n#train test split - then we fit on x train - predict on x test and compare y test to y predict\nX_train, X_test, y_train, y_test = train_test_split(X, y, random_state=1, test_size=0.2)\nclf = tree.DecisionTreeClassifier(random_state=1)\nclf = clf.fit(X_train, y_train)\npred = clf.predict(X_test)\nsum((y_test-pred) == 0) / len(pred)",
      "execution_count": 79,
      "outputs": [
        {
          "output_type": "execute_result",
          "execution_count": 79,
          "data": {
            "text/plain": "0.9666666666666667"
          },
          "metadata": {}
        }
      ]
    },
    {
      "cell_type": "code",
      "source": "from sklearn import metrics\n# Model Accuracy, how often is the classifier correct?\nprint(\"Accuracy:\",metrics.accuracy_score(y_test, pred))",
      "metadata": {
        "tags": [],
        "cell_id": "00059-4a264db0-fb4b-40a8-86e2-1865b528bdf3",
        "deepnote_to_be_reexecuted": false,
        "source_hash": "24316b19",
        "execution_start": 1619614471801,
        "execution_millis": 8,
        "deepnote_cell_type": "code"
      },
      "outputs": [
        {
          "name": "stdout",
          "text": "Accuracy: 0.9666666666666667\n",
          "output_type": "stream"
        }
      ],
      "execution_count": 78
    },
    {
      "cell_type": "code",
      "source": "tree.plot_tree(clf)",
      "metadata": {
        "tags": [],
        "cell_id": "00056-adf913c6-7f64-429c-bd22-63c206b780d5",
        "deepnote_to_be_reexecuted": false,
        "source_hash": "16866dde",
        "execution_start": 1619610345072,
        "execution_millis": 962,
        "deepnote_cell_type": "code"
      },
      "outputs": [
        {
          "output_type": "execute_result",
          "execution_count": 45,
          "data": {
            "text/plain": "[Text(167.4, 199.32, 'X[3] <= 0.8\\ngini = 0.667\\nsamples = 150\\nvalue = [50, 50, 50]'),\n Text(141.64615384615385, 163.07999999999998, 'gini = 0.0\\nsamples = 50\\nvalue = [50, 0, 0]'),\n Text(193.15384615384616, 163.07999999999998, 'X[3] <= 1.75\\ngini = 0.5\\nsamples = 100\\nvalue = [0, 50, 50]'),\n Text(103.01538461538462, 126.83999999999999, 'X[2] <= 4.95\\ngini = 0.168\\nsamples = 54\\nvalue = [0, 49, 5]'),\n Text(51.50769230769231, 90.6, 'X[3] <= 1.65\\ngini = 0.041\\nsamples = 48\\nvalue = [0, 47, 1]'),\n Text(25.753846153846155, 54.359999999999985, 'gini = 0.0\\nsamples = 47\\nvalue = [0, 47, 0]'),\n Text(77.26153846153846, 54.359999999999985, 'gini = 0.0\\nsamples = 1\\nvalue = [0, 0, 1]'),\n Text(154.52307692307693, 90.6, 'X[3] <= 1.55\\ngini = 0.444\\nsamples = 6\\nvalue = [0, 2, 4]'),\n Text(128.76923076923077, 54.359999999999985, 'gini = 0.0\\nsamples = 3\\nvalue = [0, 0, 3]'),\n Text(180.27692307692308, 54.359999999999985, 'X[0] <= 6.95\\ngini = 0.444\\nsamples = 3\\nvalue = [0, 2, 1]'),\n Text(154.52307692307693, 18.119999999999976, 'gini = 0.0\\nsamples = 2\\nvalue = [0, 2, 0]'),\n Text(206.03076923076924, 18.119999999999976, 'gini = 0.0\\nsamples = 1\\nvalue = [0, 0, 1]'),\n Text(283.2923076923077, 126.83999999999999, 'X[2] <= 4.85\\ngini = 0.043\\nsamples = 46\\nvalue = [0, 1, 45]'),\n Text(257.53846153846155, 90.6, 'X[0] <= 5.95\\ngini = 0.444\\nsamples = 3\\nvalue = [0, 1, 2]'),\n Text(231.7846153846154, 54.359999999999985, 'gini = 0.0\\nsamples = 1\\nvalue = [0, 1, 0]'),\n Text(283.2923076923077, 54.359999999999985, 'gini = 0.0\\nsamples = 2\\nvalue = [0, 0, 2]'),\n Text(309.04615384615386, 90.6, 'gini = 0.0\\nsamples = 43\\nvalue = [0, 0, 43]')]"
          },
          "metadata": {}
        },
        {
          "data": {
            "text/plain": "<Figure size 432x288 with 1 Axes>",
            "image/png": "[encoded data removed]"
          },
          "metadata": {
            "image/png": {
              "width": 715,
              "height": 463
            }
          },
          "output_type": "display_data"
        }
      ],
      "execution_count": 45
    },
    {
      "cell_type": "markdown",
      "source": "## test",
      "metadata": {
        "tags": [],
        "cell_id": "00058-dfcae6ee-9912-4ce9-a1a7-df3fb0a740b5",
        "deepnote_cell_type": "text-cell-h2"
      }
    },
    {
      "cell_type": "code",
      "source": "from sklearn.datasets import load_iris\nfrom sklearn.model_selection import cross_val_score\nfrom sklearn.tree import DecisionTreeClassifier\nclf = DecisionTreeClassifier(random_state=1)\ndf_iris = load_iris()\ncross = cross_val_score(clf, df_iris.data, df_iris.target, cv=50)\ncross",
      "metadata": {
        "tags": [],
        "cell_id": "00054-957e3c90-2f77-4ed5-bd5f-c1418a8c41a0",
        "deepnote_to_be_reexecuted": false,
        "source_hash": "8d926c74",
        "execution_start": 1619614883960,
        "execution_millis": 84,
        "deepnote_cell_type": "code"
      },
      "outputs": [
        {
          "output_type": "execute_result",
          "execution_count": 92,
          "data": {
            "text/plain": "array([1.        , 1.        , 1.        , 1.        , 1.        ,\n       1.        , 0.66666667, 0.66666667, 1.        , 1.        ,\n       1.        , 1.        , 1.        , 1.        , 1.        ,\n       1.        , 1.        , 1.        , 1.        , 0.66666667,\n       0.66666667, 1.        , 1.        , 1.        , 1.        ,\n       1.        , 1.        , 0.66666667, 1.        , 0.66666667,\n       1.        , 1.        , 1.        , 0.66666667, 1.        ,\n       1.        , 1.        , 1.        , 0.66666667, 1.        ,\n       1.        , 1.        , 1.        , 1.        , 1.        ,\n       1.        , 1.        , 1.        , 1.        , 1.        ])"
          },
          "metadata": {}
        }
      ],
      "execution_count": 92
    },
    {
      "cell_type": "code",
      "source": "import numpy as np\na = np.mean(cross)\na",
      "metadata": {
        "tags": [],
        "cell_id": "00061-ff9f2165-dd69-4629-9836-dbf8c4aa8c95",
        "deepnote_to_be_reexecuted": false,
        "source_hash": "9a51573c",
        "execution_start": 1619614835425,
        "execution_millis": 9,
        "deepnote_cell_type": "code"
      },
      "outputs": [
        {
          "output_type": "execute_result",
          "execution_count": 87,
          "data": {
            "text/plain": "0.9466666666666665"
          },
          "metadata": {}
        }
      ],
      "execution_count": 87
    },
    {
      "cell_type": "markdown",
      "source": "## Decision Trees\n\n#### Zoo data",
      "metadata": {
        "tags": [],
        "cell_id": "00062-7adc60d1-7a0f-4e20-a996-49d136b4a937",
        "deepnote_cell_type": "markdown"
      }
    },
    {
      "cell_type": "code",
      "source": "#load data\ndf_zoo = pd.read_csv('/work/zoo.csv')",
      "metadata": {
        "tags": [],
        "cell_id": "00062-fea86b7d-ac76-4578-a484-487d9f4a406a",
        "deepnote_to_be_reexecuted": false,
        "source_hash": "b032996f",
        "execution_start": 1619616073732,
        "execution_millis": 7,
        "deepnote_cell_type": "code"
      },
      "outputs": [],
      "execution_count": 106
    },
    {
      "cell_type": "code",
      "source": "df_zoo.describe()",
      "metadata": {
        "tags": [],
        "cell_id": "00064-199700c9-12af-40ed-9fd8-a38f57c98f38",
        "deepnote_to_be_reexecuted": false,
        "source_hash": "f41c919a",
        "execution_start": 1619616185107,
        "execution_millis": 59,
        "deepnote_cell_type": "code"
      },
      "outputs": [
        {
          "output_type": "execute_result",
          "execution_count": 108,
          "data": {
            "application/vnd.deepnote.dataframe.v2+json": {
              "row_count": 8,
              "column_count": 17,
              "columns": [
                {
                  "name": "hair",
                  "dtype": "float64",
                  "stats": {
                    "unique_count": 5,
                    "nan_count": 0,
                    "min": "0.0",
                    "max": "101.0",
                    "histogram": [
                      {
                        "bin_start": 0,
                        "bin_end": 10.1,
                        "count": 7
                      },
                      {
                        "bin_start": 10.1,
                        "bin_end": 20.2,
                        "count": 0
                      },
                      {
                        "bin_start": 20.2,
                        "bin_end": 30.299999999999997,
                        "count": 0
                      },
                      {
                        "bin_start": 30.299999999999997,
                        "bin_end": 40.4,
                        "count": 0
                      },
                      {
                        "bin_start": 40.4,
                        "bin_end": 50.5,
                        "count": 0
                      },
                      {
                        "bin_start": 50.5,
                        "bin_end": 60.599999999999994,
                        "count": 0
                      },
                      {
                        "bin_start": 60.599999999999994,
                        "bin_end": 70.7,
                        "count": 0
                      },
                      {
                        "bin_start": 70.7,
                        "bin_end": 80.8,
                        "count": 0
                      },
                      {
                        "bin_start": 80.8,
                        "bin_end": 90.89999999999999,
                        "count": 0
                      },
                      {
                        "bin_start": 90.89999999999999,
                        "bin_end": 101,
                        "count": 1
                      }
                    ]
                  }
                },
                {
                  "name": "feathers",
                  "dtype": "float64",
                  "stats": {
                    "unique_count": 5,
                    "nan_count": 0,
                    "min": "0.0",
                    "max": "101.0",
                    "histogram": [
                      {
                        "bin_start": 0,
                        "bin_end": 10.1,
                        "count": 7
                      },
                      {
                        "bin_start": 10.1,
                        "bin_end": 20.2,
                        "count": 0
                      },
                      {
                        "bin_start": 20.2,
                        "bin_end": 30.299999999999997,
                        "count": 0
                      },
                      {
                        "bin_start": 30.299999999999997,
                        "bin_end": 40.4,
                        "count": 0
                      },
                      {
                        "bin_start": 40.4,
                        "bin_end": 50.5,
                        "count": 0
                      },
                      {
                        "bin_start": 50.5,
                        "bin_end": 60.599999999999994,
                        "count": 0
                      },
                      {
                        "bin_start": 60.599999999999994,
                        "bin_end": 70.7,
                        "count": 0
                      },
                      {
                        "bin_start": 70.7,
                        "bin_end": 80.8,
                        "count": 0
                      },
                      {
                        "bin_start": 80.8,
                        "bin_end": 90.89999999999999,
                        "count": 0
                      },
                      {
                        "bin_start": 90.89999999999999,
                        "bin_end": 101,
                        "count": 1
                      }
                    ]
                  }
                },
                {
                  "name": "eggs",
                  "dtype": "float64",
                  "stats": {
                    "unique_count": 5,
                    "nan_count": 0,
                    "min": "0.0",
                    "max": "101.0",
                    "histogram": [
                      {
                        "bin_start": 0,
                        "bin_end": 10.1,
                        "count": 7
                      },
                      {
                        "bin_start": 10.1,
                        "bin_end": 20.2,
                        "count": 0
                      },
                      {
                        "bin_start": 20.2,
                        "bin_end": 30.299999999999997,
                        "count": 0
                      },
                      {
                        "bin_start": 30.299999999999997,
                        "bin_end": 40.4,
                        "count": 0
                      },
                      {
                        "bin_start": 40.4,
                        "bin_end": 50.5,
                        "count": 0
                      },
                      {
                        "bin_start": 50.5,
                        "bin_end": 60.599999999999994,
                        "count": 0
                      },
                      {
                        "bin_start": 60.599999999999994,
                        "bin_end": 70.7,
                        "count": 0
                      },
                      {
                        "bin_start": 70.7,
                        "bin_end": 80.8,
                        "count": 0
                      },
                      {
                        "bin_start": 80.8,
                        "bin_end": 90.89999999999999,
                        "count": 0
                      },
                      {
                        "bin_start": 90.89999999999999,
                        "bin_end": 101,
                        "count": 1
                      }
                    ]
                  }
                },
                {
                  "name": "milk",
                  "dtype": "float64",
                  "stats": {
                    "unique_count": 5,
                    "nan_count": 0,
                    "min": "0.0",
                    "max": "101.0",
                    "histogram": [
                      {
                        "bin_start": 0,
                        "bin_end": 10.1,
                        "count": 7
                      },
                      {
                        "bin_start": 10.1,
                        "bin_end": 20.2,
                        "count": 0
                      },
                      {
                        "bin_start": 20.2,
                        "bin_end": 30.299999999999997,
                        "count": 0
                      },
                      {
                        "bin_start": 30.299999999999997,
                        "bin_end": 40.4,
                        "count": 0
                      },
                      {
                        "bin_start": 40.4,
                        "bin_end": 50.5,
                        "count": 0
                      },
                      {
                        "bin_start": 50.5,
                        "bin_end": 60.599999999999994,
                        "count": 0
                      },
                      {
                        "bin_start": 60.599999999999994,
                        "bin_end": 70.7,
                        "count": 0
                      },
                      {
                        "bin_start": 70.7,
                        "bin_end": 80.8,
                        "count": 0
                      },
                      {
                        "bin_start": 80.8,
                        "bin_end": 90.89999999999999,
                        "count": 0
                      },
                      {
                        "bin_start": 90.89999999999999,
                        "bin_end": 101,
                        "count": 1
                      }
                    ]
                  }
                },
                {
                  "name": "airborne",
                  "dtype": "float64",
                  "stats": {
                    "unique_count": 5,
                    "nan_count": 0,
                    "min": "0.0",
                    "max": "101.0",
                    "histogram": [
                      {
                        "bin_start": 0,
                        "bin_end": 10.1,
                        "count": 7
                      },
                      {
                        "bin_start": 10.1,
                        "bin_end": 20.2,
                        "count": 0
                      },
                      {
                        "bin_start": 20.2,
                        "bin_end": 30.299999999999997,
                        "count": 0
                      },
                      {
                        "bin_start": 30.299999999999997,
                        "bin_end": 40.4,
                        "count": 0
                      },
                      {
                        "bin_start": 40.4,
                        "bin_end": 50.5,
                        "count": 0
                      },
                      {
                        "bin_start": 50.5,
                        "bin_end": 60.599999999999994,
                        "count": 0
                      },
                      {
                        "bin_start": 60.599999999999994,
                        "bin_end": 70.7,
                        "count": 0
                      },
                      {
                        "bin_start": 70.7,
                        "bin_end": 80.8,
                        "count": 0
                      },
                      {
                        "bin_start": 80.8,
                        "bin_end": 90.89999999999999,
                        "count": 0
                      },
                      {
                        "bin_start": 90.89999999999999,
                        "bin_end": 101,
                        "count": 1
                      }
                    ]
                  }
                },
                {
                  "name": "aquatic",
                  "dtype": "float64",
                  "stats": {
                    "unique_count": 5,
                    "nan_count": 0,
                    "min": "0.0",
                    "max": "101.0",
                    "histogram": [
                      {
                        "bin_start": 0,
                        "bin_end": 10.1,
                        "count": 7
                      },
                      {
                        "bin_start": 10.1,
                        "bin_end": 20.2,
                        "count": 0
                      },
                      {
                        "bin_start": 20.2,
                        "bin_end": 30.299999999999997,
                        "count": 0
                      },
                      {
                        "bin_start": 30.299999999999997,
                        "bin_end": 40.4,
                        "count": 0
                      },
                      {
                        "bin_start": 40.4,
                        "bin_end": 50.5,
                        "count": 0
                      },
                      {
                        "bin_start": 50.5,
                        "bin_end": 60.599999999999994,
                        "count": 0
                      },
                      {
                        "bin_start": 60.599999999999994,
                        "bin_end": 70.7,
                        "count": 0
                      },
                      {
                        "bin_start": 70.7,
                        "bin_end": 80.8,
                        "count": 0
                      },
                      {
                        "bin_start": 80.8,
                        "bin_end": 90.89999999999999,
                        "count": 0
                      },
                      {
                        "bin_start": 90.89999999999999,
                        "bin_end": 101,
                        "count": 1
                      }
                    ]
                  }
                },
                {
                  "name": "predator",
                  "dtype": "float64",
                  "stats": {
                    "unique_count": 5,
                    "nan_count": 0,
                    "min": "0.0",
                    "max": "101.0",
                    "histogram": [
                      {
                        "bin_start": 0,
                        "bin_end": 10.1,
                        "count": 7
                      },
                      {
                        "bin_start": 10.1,
                        "bin_end": 20.2,
                        "count": 0
                      },
                      {
                        "bin_start": 20.2,
                        "bin_end": 30.299999999999997,
                        "count": 0
                      },
                      {
                        "bin_start": 30.299999999999997,
                        "bin_end": 40.4,
                        "count": 0
                      },
                      {
                        "bin_start": 40.4,
                        "bin_end": 50.5,
                        "count": 0
                      },
                      {
                        "bin_start": 50.5,
                        "bin_end": 60.599999999999994,
                        "count": 0
                      },
                      {
                        "bin_start": 60.599999999999994,
                        "bin_end": 70.7,
                        "count": 0
                      },
                      {
                        "bin_start": 70.7,
                        "bin_end": 80.8,
                        "count": 0
                      },
                      {
                        "bin_start": 80.8,
                        "bin_end": 90.89999999999999,
                        "count": 0
                      },
                      {
                        "bin_start": 90.89999999999999,
                        "bin_end": 101,
                        "count": 1
                      }
                    ]
                  }
                },
                {
                  "name": "toothed",
                  "dtype": "float64",
                  "stats": {
                    "unique_count": 5,
                    "nan_count": 0,
                    "min": "0.0",
                    "max": "101.0",
                    "histogram": [
                      {
                        "bin_start": 0,
                        "bin_end": 10.1,
                        "count": 7
                      },
                      {
                        "bin_start": 10.1,
                        "bin_end": 20.2,
                        "count": 0
                      },
                      {
                        "bin_start": 20.2,
                        "bin_end": 30.299999999999997,
                        "count": 0
                      },
                      {
                        "bin_start": 30.299999999999997,
                        "bin_end": 40.4,
                        "count": 0
                      },
                      {
                        "bin_start": 40.4,
                        "bin_end": 50.5,
                        "count": 0
                      },
                      {
                        "bin_start": 50.5,
                        "bin_end": 60.599999999999994,
                        "count": 0
                      },
                      {
                        "bin_start": 60.599999999999994,
                        "bin_end": 70.7,
                        "count": 0
                      },
                      {
                        "bin_start": 70.7,
                        "bin_end": 80.8,
                        "count": 0
                      },
                      {
                        "bin_start": 80.8,
                        "bin_end": 90.89999999999999,
                        "count": 0
                      },
                      {
                        "bin_start": 90.89999999999999,
                        "bin_end": 101,
                        "count": 1
                      }
                    ]
                  }
                },
                {
                  "name": "backbone",
                  "dtype": "float64",
                  "stats": {
                    "unique_count": 5,
                    "nan_count": 0,
                    "min": "0.0",
                    "max": "101.0",
                    "histogram": [
                      {
                        "bin_start": 0,
                        "bin_end": 10.1,
                        "count": 7
                      },
                      {
                        "bin_start": 10.1,
                        "bin_end": 20.2,
                        "count": 0
                      },
                      {
                        "bin_start": 20.2,
                        "bin_end": 30.299999999999997,
                        "count": 0
                      },
                      {
                        "bin_start": 30.299999999999997,
                        "bin_end": 40.4,
                        "count": 0
                      },
                      {
                        "bin_start": 40.4,
                        "bin_end": 50.5,
                        "count": 0
                      },
                      {
                        "bin_start": 50.5,
                        "bin_end": 60.599999999999994,
                        "count": 0
                      },
                      {
                        "bin_start": 60.599999999999994,
                        "bin_end": 70.7,
                        "count": 0
                      },
                      {
                        "bin_start": 70.7,
                        "bin_end": 80.8,
                        "count": 0
                      },
                      {
                        "bin_start": 80.8,
                        "bin_end": 90.89999999999999,
                        "count": 0
                      },
                      {
                        "bin_start": 90.89999999999999,
                        "bin_end": 101,
                        "count": 1
                      }
                    ]
                  }
                },
                {
                  "name": "breathes",
                  "dtype": "float64",
                  "stats": {
                    "unique_count": 5,
                    "nan_count": 0,
                    "min": "0.0",
                    "max": "101.0",
                    "histogram": [
                      {
                        "bin_start": 0,
                        "bin_end": 10.1,
                        "count": 7
                      },
                      {
                        "bin_start": 10.1,
                        "bin_end": 20.2,
                        "count": 0
                      },
                      {
                        "bin_start": 20.2,
                        "bin_end": 30.299999999999997,
                        "count": 0
                      },
                      {
                        "bin_start": 30.299999999999997,
                        "bin_end": 40.4,
                        "count": 0
                      },
                      {
                        "bin_start": 40.4,
                        "bin_end": 50.5,
                        "count": 0
                      },
                      {
                        "bin_start": 50.5,
                        "bin_end": 60.599999999999994,
                        "count": 0
                      },
                      {
                        "bin_start": 60.599999999999994,
                        "bin_end": 70.7,
                        "count": 0
                      },
                      {
                        "bin_start": 70.7,
                        "bin_end": 80.8,
                        "count": 0
                      },
                      {
                        "bin_start": 80.8,
                        "bin_end": 90.89999999999999,
                        "count": 0
                      },
                      {
                        "bin_start": 90.89999999999999,
                        "bin_end": 101,
                        "count": 1
                      }
                    ]
                  }
                },
                {
                  "name": "venomous",
                  "dtype": "float64",
                  "stats": {
                    "unique_count": 5,
                    "nan_count": 0,
                    "min": "0.0",
                    "max": "101.0",
                    "histogram": [
                      {
                        "bin_start": 0,
                        "bin_end": 10.1,
                        "count": 7
                      },
                      {
                        "bin_start": 10.1,
                        "bin_end": 20.2,
                        "count": 0
                      },
                      {
                        "bin_start": 20.2,
                        "bin_end": 30.299999999999997,
                        "count": 0
                      },
                      {
                        "bin_start": 30.299999999999997,
                        "bin_end": 40.4,
                        "count": 0
                      },
                      {
                        "bin_start": 40.4,
                        "bin_end": 50.5,
                        "count": 0
                      },
                      {
                        "bin_start": 50.5,
                        "bin_end": 60.599999999999994,
                        "count": 0
                      },
                      {
                        "bin_start": 60.599999999999994,
                        "bin_end": 70.7,
                        "count": 0
                      },
                      {
                        "bin_start": 70.7,
                        "bin_end": 80.8,
                        "count": 0
                      },
                      {
                        "bin_start": 80.8,
                        "bin_end": 90.89999999999999,
                        "count": 0
                      },
                      {
                        "bin_start": 90.89999999999999,
                        "bin_end": 101,
                        "count": 1
                      }
                    ]
                  }
                },
                {
                  "name": "fins",
                  "dtype": "float64",
                  "stats": {
                    "unique_count": 5,
                    "nan_count": 0,
                    "min": "0.0",
                    "max": "101.0",
                    "histogram": [
                      {
                        "bin_start": 0,
                        "bin_end": 10.1,
                        "count": 7
                      },
                      {
                        "bin_start": 10.1,
                        "bin_end": 20.2,
                        "count": 0
                      },
                      {
                        "bin_start": 20.2,
                        "bin_end": 30.299999999999997,
                        "count": 0
                      },
                      {
                        "bin_start": 30.299999999999997,
                        "bin_end": 40.4,
                        "count": 0
                      },
                      {
                        "bin_start": 40.4,
                        "bin_end": 50.5,
                        "count": 0
                      },
                      {
                        "bin_start": 50.5,
                        "bin_end": 60.599999999999994,
                        "count": 0
                      },
                      {
                        "bin_start": 60.599999999999994,
                        "bin_end": 70.7,
                        "count": 0
                      },
                      {
                        "bin_start": 70.7,
                        "bin_end": 80.8,
                        "count": 0
                      },
                      {
                        "bin_start": 80.8,
                        "bin_end": 90.89999999999999,
                        "count": 0
                      },
                      {
                        "bin_start": 90.89999999999999,
                        "bin_end": 101,
                        "count": 1
                      }
                    ]
                  }
                },
                {
                  "name": "legs",
                  "dtype": "float64",
                  "stats": {
                    "unique_count": 7,
                    "nan_count": 0,
                    "min": "0.0",
                    "max": "101.0",
                    "histogram": [
                      {
                        "bin_start": 0,
                        "bin_end": 10.1,
                        "count": 7
                      },
                      {
                        "bin_start": 10.1,
                        "bin_end": 20.2,
                        "count": 0
                      },
                      {
                        "bin_start": 20.2,
                        "bin_end": 30.299999999999997,
                        "count": 0
                      },
                      {
                        "bin_start": 30.299999999999997,
                        "bin_end": 40.4,
                        "count": 0
                      },
                      {
                        "bin_start": 40.4,
                        "bin_end": 50.5,
                        "count": 0
                      },
                      {
                        "bin_start": 50.5,
                        "bin_end": 60.599999999999994,
                        "count": 0
                      },
                      {
                        "bin_start": 60.599999999999994,
                        "bin_end": 70.7,
                        "count": 0
                      },
                      {
                        "bin_start": 70.7,
                        "bin_end": 80.8,
                        "count": 0
                      },
                      {
                        "bin_start": 80.8,
                        "bin_end": 90.89999999999999,
                        "count": 0
                      },
                      {
                        "bin_start": 90.89999999999999,
                        "bin_end": 101,
                        "count": 1
                      }
                    ]
                  }
                },
                {
                  "name": "tail",
                  "dtype": "float64",
                  "stats": {
                    "unique_count": 5,
                    "nan_count": 0,
                    "min": "0.0",
                    "max": "101.0",
                    "histogram": [
                      {
                        "bin_start": 0,
                        "bin_end": 10.1,
                        "count": 7
                      },
                      {
                        "bin_start": 10.1,
                        "bin_end": 20.2,
                        "count": 0
                      },
                      {
                        "bin_start": 20.2,
                        "bin_end": 30.299999999999997,
                        "count": 0
                      },
                      {
                        "bin_start": 30.299999999999997,
                        "bin_end": 40.4,
                        "count": 0
                      },
                      {
                        "bin_start": 40.4,
                        "bin_end": 50.5,
                        "count": 0
                      },
                      {
                        "bin_start": 50.5,
                        "bin_end": 60.599999999999994,
                        "count": 0
                      },
                      {
                        "bin_start": 60.599999999999994,
                        "bin_end": 70.7,
                        "count": 0
                      },
                      {
                        "bin_start": 70.7,
                        "bin_end": 80.8,
                        "count": 0
                      },
                      {
                        "bin_start": 80.8,
                        "bin_end": 90.89999999999999,
                        "count": 0
                      },
                      {
                        "bin_start": 90.89999999999999,
                        "bin_end": 101,
                        "count": 1
                      }
                    ]
                  }
                },
                {
                  "name": "domestic",
                  "dtype": "float64",
                  "stats": {
                    "unique_count": 5,
                    "nan_count": 0,
                    "min": "0.0",
                    "max": "101.0",
                    "histogram": [
                      {
                        "bin_start": 0,
                        "bin_end": 10.1,
                        "count": 7
                      },
                      {
                        "bin_start": 10.1,
                        "bin_end": 20.2,
                        "count": 0
                      },
                      {
                        "bin_start": 20.2,
                        "bin_end": 30.299999999999997,
                        "count": 0
                      },
                      {
                        "bin_start": 30.299999999999997,
                        "bin_end": 40.4,
                        "count": 0
                      },
                      {
                        "bin_start": 40.4,
                        "bin_end": 50.5,
                        "count": 0
                      },
                      {
                        "bin_start": 50.5,
                        "bin_end": 60.599999999999994,
                        "count": 0
                      },
                      {
                        "bin_start": 60.599999999999994,
                        "bin_end": 70.7,
                        "count": 0
                      },
                      {
                        "bin_start": 70.7,
                        "bin_end": 80.8,
                        "count": 0
                      },
                      {
                        "bin_start": 80.8,
                        "bin_end": 90.89999999999999,
                        "count": 0
                      },
                      {
                        "bin_start": 90.89999999999999,
                        "bin_end": 101,
                        "count": 1
                      }
                    ]
                  }
                },
                {
                  "name": "catsize",
                  "dtype": "float64",
                  "stats": {
                    "unique_count": 5,
                    "nan_count": 0,
                    "min": "0.0",
                    "max": "101.0",
                    "histogram": [
                      {
                        "bin_start": 0,
                        "bin_end": 10.1,
                        "count": 7
                      },
                      {
                        "bin_start": 10.1,
                        "bin_end": 20.2,
                        "count": 0
                      },
                      {
                        "bin_start": 20.2,
                        "bin_end": 30.299999999999997,
                        "count": 0
                      },
                      {
                        "bin_start": 30.299999999999997,
                        "bin_end": 40.4,
                        "count": 0
                      },
                      {
                        "bin_start": 40.4,
                        "bin_end": 50.5,
                        "count": 0
                      },
                      {
                        "bin_start": 50.5,
                        "bin_end": 60.599999999999994,
                        "count": 0
                      },
                      {
                        "bin_start": 60.599999999999994,
                        "bin_end": 70.7,
                        "count": 0
                      },
                      {
                        "bin_start": 70.7,
                        "bin_end": 80.8,
                        "count": 0
                      },
                      {
                        "bin_start": 80.8,
                        "bin_end": 90.89999999999999,
                        "count": 0
                      },
                      {
                        "bin_start": 90.89999999999999,
                        "bin_end": 101,
                        "count": 1
                      }
                    ]
                  }
                },
                {
                  "name": "class_type",
                  "dtype": "float64",
                  "stats": {
                    "unique_count": 7,
                    "nan_count": 0,
                    "min": "1.0",
                    "max": "101.0",
                    "histogram": [
                      {
                        "bin_start": 1,
                        "bin_end": 11,
                        "count": 7
                      },
                      {
                        "bin_start": 11,
                        "bin_end": 21,
                        "count": 0
                      },
                      {
                        "bin_start": 21,
                        "bin_end": 31,
                        "count": 0
                      },
                      {
                        "bin_start": 31,
                        "bin_end": 41,
                        "count": 0
                      },
                      {
                        "bin_start": 41,
                        "bin_end": 51,
                        "count": 0
                      },
                      {
                        "bin_start": 51,
                        "bin_end": 61,
                        "count": 0
                      },
                      {
                        "bin_start": 61,
                        "bin_end": 71,
                        "count": 0
                      },
                      {
                        "bin_start": 71,
                        "bin_end": 81,
                        "count": 0
                      },
                      {
                        "bin_start": 81,
                        "bin_end": 91,
                        "count": 0
                      },
                      {
                        "bin_start": 91,
                        "bin_end": 101,
                        "count": 1
                      }
                    ]
                  }
                },
                {
                  "name": "_deepnote_index_column",
                  "dtype": "object"
                }
              ],
              "rows_top": [
                {
                  "hair": 101,
                  "feathers": 101,
                  "eggs": 101,
                  "milk": 101,
                  "airborne": 101,
                  "aquatic": 101,
                  "predator": 101,
                  "toothed": 101,
                  "backbone": 101,
                  "breathes": 101,
                  "venomous": 101,
                  "fins": 101,
                  "legs": 101,
                  "tail": 101,
                  "domestic": 101,
                  "catsize": 101,
                  "class_type": 101,
                  "_deepnote_index_column": "count"
                },
                {
                  "hair": 0.42574257425742573,
                  "feathers": 0.19801980198019803,
                  "eggs": 0.5841584158415841,
                  "milk": 0.40594059405940597,
                  "airborne": 0.2376237623762376,
                  "aquatic": 0.3564356435643564,
                  "predator": 0.5544554455445545,
                  "toothed": 0.6039603960396039,
                  "backbone": 0.8217821782178217,
                  "breathes": 0.7920792079207921,
                  "venomous": 0.07920792079207921,
                  "fins": 0.16831683168316833,
                  "legs": 2.8415841584158414,
                  "tail": 0.7425742574257426,
                  "domestic": 0.12871287128712872,
                  "catsize": 0.43564356435643564,
                  "class_type": 2.8316831683168315,
                  "_deepnote_index_column": "mean"
                },
                {
                  "hair": 0.4969212141469781,
                  "feathers": 0.40049474354098635,
                  "eggs": 0.49532467599895047,
                  "milk": 0.493522397096265,
                  "airborne": 0.42775027414334044,
                  "aquatic": 0.48133477779694206,
                  "predator": 0.4995047051780889,
                  "toothed": 0.49151211421066887,
                  "backbone": 0.38460472186286,
                  "breathes": 0.4078438839352215,
                  "venomous": 0.2714099599068422,
                  "fins": 0.37601348195757744,
                  "legs": 2.033384731266205,
                  "tail": 0.43939652585186995,
                  "domestic": 0.3365521159236312,
                  "catsize": 0.4983139890502457,
                  "class_type": 2.1027092377725127,
                  "_deepnote_index_column": "std"
                },
                {
                  "hair": 0,
                  "feathers": 0,
                  "eggs": 0,
                  "milk": 0,
                  "airborne": 0,
                  "aquatic": 0,
                  "predator": 0,
                  "toothed": 0,
                  "backbone": 0,
                  "breathes": 0,
                  "venomous": 0,
                  "fins": 0,
                  "legs": 0,
                  "tail": 0,
                  "domestic": 0,
                  "catsize": 0,
                  "class_type": 1,
                  "_deepnote_index_column": "min"
                },
                {
                  "hair": 0,
                  "feathers": 0,
                  "eggs": 0,
                  "milk": 0,
                  "airborne": 0,
                  "aquatic": 0,
                  "predator": 0,
                  "toothed": 0,
                  "backbone": 1,
                  "breathes": 1,
                  "venomous": 0,
                  "fins": 0,
                  "legs": 2,
                  "tail": 0,
                  "domestic": 0,
                  "catsize": 0,
                  "class_type": 1,
                  "_deepnote_index_column": "25%"
                },
                {
                  "hair": 0,
                  "feathers": 0,
                  "eggs": 1,
                  "milk": 0,
                  "airborne": 0,
                  "aquatic": 0,
                  "predator": 1,
                  "toothed": 1,
                  "backbone": 1,
                  "breathes": 1,
                  "venomous": 0,
                  "fins": 0,
                  "legs": 4,
                  "tail": 1,
                  "domestic": 0,
                  "catsize": 0,
                  "class_type": 2,
                  "_deepnote_index_column": "50%"
                },
                {
                  "hair": 1,
                  "feathers": 0,
                  "eggs": 1,
                  "milk": 1,
                  "airborne": 0,
                  "aquatic": 1,
                  "predator": 1,
                  "toothed": 1,
                  "backbone": 1,
                  "breathes": 1,
                  "venomous": 0,
                  "fins": 0,
                  "legs": 4,
                  "tail": 1,
                  "domestic": 0,
                  "catsize": 1,
                  "class_type": 4,
                  "_deepnote_index_column": "75%"
                },
                {
                  "hair": 1,
                  "feathers": 1,
                  "eggs": 1,
                  "milk": 1,
                  "airborne": 1,
                  "aquatic": 1,
                  "predator": 1,
                  "toothed": 1,
                  "backbone": 1,
                  "breathes": 1,
                  "venomous": 1,
                  "fins": 1,
                  "legs": 8,
                  "tail": 1,
                  "domestic": 1,
                  "catsize": 1,
                  "class_type": 7,
                  "_deepnote_index_column": "max"
                }
              ],
              "rows_bottom": null
            },
            "text/plain": "             hair    feathers        eggs        milk    airborne     aquatic  \\\ncount  101.000000  101.000000  101.000000  101.000000  101.000000  101.000000   \nmean     0.425743    0.198020    0.584158    0.405941    0.237624    0.356436   \nstd      0.496921    0.400495    0.495325    0.493522    0.427750    0.481335   \nmin      0.000000    0.000000    0.000000    0.000000    0.000000    0.000000   \n25%      0.000000    0.000000    0.000000    0.000000    0.000000    0.000000   \n50%      0.000000    0.000000    1.000000    0.000000    0.000000    0.000000   \n75%      1.000000    0.000000    1.000000    1.000000    0.000000    1.000000   \nmax      1.000000    1.000000    1.000000    1.000000    1.000000    1.000000   \n\n         predator     toothed    backbone    breathes    venomous        fins  \\\ncount  101.000000  101.000000  101.000000  101.000000  101.000000  101.000000   \nmean     0.554455    0.603960    0.821782    0.792079    0.079208    0.168317   \nstd      0.499505    0.491512    0.384605    0.407844    0.271410    0.376013   \nmin      0.000000    0.000000    0.000000    0.000000    0.000000    0.000000   \n25%      0.000000    0.000000    1.000000    1.000000    0.000000    0.000000   \n50%      1.000000    1.000000    1.000000    1.000000    0.000000    0.000000   \n75%      1.000000    1.000000    1.000000    1.000000    0.000000    0.000000   \nmax      1.000000    1.000000    1.000000    1.000000    1.000000    1.000000   \n\n             legs        tail    domestic     catsize  class_type  \ncount  101.000000  101.000000  101.000000  101.000000  101.000000  \nmean     2.841584    0.742574    0.128713    0.435644    2.831683  \nstd      2.033385    0.439397    0.336552    0.498314    2.102709  \nmin      0.000000    0.000000    0.000000    0.000000    1.000000  \n25%      2.000000    0.000000    0.000000    0.000000    1.000000  \n50%      4.000000    1.000000    0.000000    0.000000    2.000000  \n75%      4.000000    1.000000    0.000000    1.000000    4.000000  \nmax      8.000000    1.000000    1.000000    1.000000    7.000000  ",
            "text/html": "<div>\n<style scoped>\n    .dataframe tbody tr th:only-of-type {\n        vertical-align: middle;\n    }\n\n    .dataframe tbody tr th {\n        vertical-align: top;\n    }\n\n    .dataframe thead th {\n        text-align: right;\n    }\n</style>\n<table border=\"1\" class=\"dataframe\">\n  <thead>\n    <tr style=\"text-align: right;\">\n      <th></th>\n      <th>hair</th>\n      <th>feathers</th>\n      <th>eggs</th>\n      <th>milk</th>\n      <th>airborne</th>\n      <th>aquatic</th>\n      <th>predator</th>\n      <th>toothed</th>\n      <th>backbone</th>\n      <th>breathes</th>\n      <th>venomous</th>\n      <th>fins</th>\n      <th>legs</th>\n      <th>tail</th>\n      <th>domestic</th>\n      <th>catsize</th>\n      <th>class_type</th>\n    </tr>\n  </thead>\n  <tbody>\n    <tr>\n      <th>count</th>\n      <td>101.000000</td>\n      <td>101.000000</td>\n      <td>101.000000</td>\n      <td>101.000000</td>\n      <td>101.000000</td>\n      <td>101.000000</td>\n      <td>101.000000</td>\n      <td>101.000000</td>\n      <td>101.000000</td>\n      <td>101.000000</td>\n      <td>101.000000</td>\n      <td>101.000000</td>\n      <td>101.000000</td>\n      <td>101.000000</td>\n      <td>101.000000</td>\n      <td>101.000000</td>\n      <td>101.000000</td>\n    </tr>\n    <tr>\n      <th>mean</th>\n      <td>0.425743</td>\n      <td>0.198020</td>\n      <td>0.584158</td>\n      <td>0.405941</td>\n      <td>0.237624</td>\n      <td>0.356436</td>\n      <td>0.554455</td>\n      <td>0.603960</td>\n      <td>0.821782</td>\n      <td>0.792079</td>\n      <td>0.079208</td>\n      <td>0.168317</td>\n      <td>2.841584</td>\n      <td>0.742574</td>\n      <td>0.128713</td>\n      <td>0.435644</td>\n      <td>2.831683</td>\n    </tr>\n    <tr>\n      <th>std</th>\n      <td>0.496921</td>\n      <td>0.400495</td>\n      <td>0.495325</td>\n      <td>0.493522</td>\n      <td>0.427750</td>\n      <td>0.481335</td>\n      <td>0.499505</td>\n      <td>0.491512</td>\n      <td>0.384605</td>\n      <td>0.407844</td>\n      <td>0.271410</td>\n      <td>0.376013</td>\n      <td>2.033385</td>\n      <td>0.439397</td>\n      <td>0.336552</td>\n      <td>0.498314</td>\n      <td>2.102709</td>\n    </tr>\n    <tr>\n      <th>min</th>\n      <td>0.000000</td>\n      <td>0.000000</td>\n      <td>0.000000</td>\n      <td>0.000000</td>\n      <td>0.000000</td>\n      <td>0.000000</td>\n      <td>0.000000</td>\n      <td>0.000000</td>\n      <td>0.000000</td>\n      <td>0.000000</td>\n      <td>0.000000</td>\n      <td>0.000000</td>\n      <td>0.000000</td>\n      <td>0.000000</td>\n      <td>0.000000</td>\n      <td>0.000000</td>\n      <td>1.000000</td>\n    </tr>\n    <tr>\n      <th>25%</th>\n      <td>0.000000</td>\n      <td>0.000000</td>\n      <td>0.000000</td>\n      <td>0.000000</td>\n      <td>0.000000</td>\n      <td>0.000000</td>\n      <td>0.000000</td>\n      <td>0.000000</td>\n      <td>1.000000</td>\n      <td>1.000000</td>\n      <td>0.000000</td>\n      <td>0.000000</td>\n      <td>2.000000</td>\n      <td>0.000000</td>\n      <td>0.000000</td>\n      <td>0.000000</td>\n      <td>1.000000</td>\n    </tr>\n    <tr>\n      <th>50%</th>\n      <td>0.000000</td>\n      <td>0.000000</td>\n      <td>1.000000</td>\n      <td>0.000000</td>\n      <td>0.000000</td>\n      <td>0.000000</td>\n      <td>1.000000</td>\n      <td>1.000000</td>\n      <td>1.000000</td>\n      <td>1.000000</td>\n      <td>0.000000</td>\n      <td>0.000000</td>\n      <td>4.000000</td>\n      <td>1.000000</td>\n      <td>0.000000</td>\n      <td>0.000000</td>\n      <td>2.000000</td>\n    </tr>\n    <tr>\n      <th>75%</th>\n      <td>1.000000</td>\n      <td>0.000000</td>\n      <td>1.000000</td>\n      <td>1.000000</td>\n      <td>0.000000</td>\n      <td>1.000000</td>\n      <td>1.000000</td>\n      <td>1.000000</td>\n      <td>1.000000</td>\n      <td>1.000000</td>\n      <td>0.000000</td>\n      <td>0.000000</td>\n      <td>4.000000</td>\n      <td>1.000000</td>\n      <td>0.000000</td>\n      <td>1.000000</td>\n      <td>4.000000</td>\n    </tr>\n    <tr>\n      <th>max</th>\n      <td>1.000000</td>\n      <td>1.000000</td>\n      <td>1.000000</td>\n      <td>1.000000</td>\n      <td>1.000000</td>\n      <td>1.000000</td>\n      <td>1.000000</td>\n      <td>1.000000</td>\n      <td>1.000000</td>\n      <td>1.000000</td>\n      <td>1.000000</td>\n      <td>1.000000</td>\n      <td>8.000000</td>\n      <td>1.000000</td>\n      <td>1.000000</td>\n      <td>1.000000</td>\n      <td>7.000000</td>\n    </tr>\n  </tbody>\n</table>\n</div>"
          },
          "metadata": {}
        }
      ],
      "execution_count": 108
    },
    {
      "cell_type": "code",
      "source": "y = df_zoo.class_type\nX = df_zoo.drop(['class_type','animal_name'], axis=1)",
      "metadata": {
        "tags": [],
        "cell_id": "00066-3224994a-5439-4707-a10b-1085def4b7ba",
        "deepnote_to_be_reexecuted": false,
        "source_hash": "958ad22a",
        "execution_start": 1619616250590,
        "execution_millis": 1,
        "deepnote_cell_type": "code"
      },
      "outputs": [],
      "execution_count": 112
    },
    {
      "cell_type": "code",
      "source": "X_train, X_test, y_train, y_test = train_test_split(X, y, random_state=1, test_size=0.2)\nclf = tree.DecisionTreeClassifier(random_state=1)\nclf = clf.fit(X_train, y_train)\npred = clf.predict(X_test)\nsum((y_test-pred) == 0) / len(pred)",
      "metadata": {
        "tags": [],
        "cell_id": "00063-c31158d6-f448-4f6d-9f6e-90bb0284f602",
        "deepnote_to_be_reexecuted": false,
        "source_hash": "36d493a3",
        "execution_start": 1619616252129,
        "execution_millis": 21,
        "deepnote_cell_type": "code"
      },
      "outputs": [
        {
          "output_type": "execute_result",
          "execution_count": 113,
          "data": {
            "text/plain": "0.9523809523809523"
          },
          "metadata": {}
        }
      ],
      "execution_count": 113
    },
    {
      "cell_type": "code",
      "source": "",
      "metadata": {
        "tags": [],
        "cell_id": "00068-db1a9c28-6204-4b12-a372-c8193f40df80",
        "deepnote_cell_type": "code"
      },
      "outputs": [],
      "execution_count": null
    },
    {
      "cell_type": "markdown",
      "source": "<a style='text-decoration:none;line-height:16px;display:flex;color:#5B5B62;padding:10px;justify-content:end;' href='https://deepnote.com?utm_source=created-in-deepnote-cell&projectId=93b95208-6978-4cc9-bd04-78d290558c98' target=\"_blank\">\n<img alt='Created in deepnote.com' style='display:inline;max-height:16px;margin:0px;margin-right:7.5px;' src='data:image/svg+xml;base64,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' > </img>\nCreated in <span style='font-weight:600;margin-left:4px;'>Deepnote</span></a>",
      "metadata": {
        "tags": [],
        "created_in_deepnote_cell": true,
        "deepnote_cell_type": "markdown"
      }
    }
  ],
  "nbformat": 4,
  "nbformat_minor": 2,
  "metadata": {
    "kernelspec": {
      "name": "python388jvsc74a57bd02d78e359ff02d0c79ca305c8815f63c63e3b9beac7f2ccf04f89f33a94ce9080",
      "display_name": "Python 3.8.8 64-bit ('machine_learning': conda)"
    },
    "language_info": {
      "codemirror_mode": {
        "name": "ipython",
        "version": 3
      },
      "file_extension": ".py",
      "mimetype": "text/x-python",
      "name": "python",
      "nbconvert_exporter": "python",
      "pygments_lexer": "ipython3",
      "version": "3.8.8-final"
    },
    "deepnote_notebook_id": "531170b3-886d-4ca8-b5ab-d177f72d0f83",
    "deepnote": {},
    "deepnote_execution_queue": []
  }
}