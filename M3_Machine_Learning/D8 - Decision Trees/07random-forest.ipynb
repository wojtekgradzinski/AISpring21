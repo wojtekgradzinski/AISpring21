{
  "cells": [
    {
      "cell_type": "code",
      "metadata": {
        "tags": [],
        "cell_id": "00000-92fdb7d1-c526-4b44-be68-1676eabb93b0",
        "deepnote_to_be_reexecuted": false,
        "source_hash": "92dffa28",
        "execution_start": 1619619845254,
        "execution_millis": 1588,
        "deepnote_cell_type": "code"
      },
      "source": "import numpy as np\nimport pandas as pd\nfrom sklearn.ensemble import RandomForestClassifier\nfrom sklearn.datasets import make_classification\nfrom sklearn.ensemble import RandomForestRegressor\nfrom sklearn.metrics import mean_absolute_error\nfrom sklearn.model_selection import train_test_split, cross_validate",
      "execution_count": 1,
      "outputs": []
    },
    {
      "cell_type": "markdown",
      "source": "### Iris Data",
      "metadata": {
        "tags": [],
        "cell_id": "00004-edb128e4-df67-4647-8bbf-b15f3b76aae0",
        "deepnote_cell_type": "markdown"
      }
    },
    {
      "cell_type": "code",
      "source": "from sklearn.datasets import load_iris",
      "metadata": {
        "tags": [],
        "cell_id": "00005-14cc3f7a-caae-47e1-ae02-2a16adb09b18",
        "deepnote_to_be_reexecuted": false,
        "source_hash": "a8d0cab0",
        "execution_start": 1619619846843,
        "execution_millis": 0,
        "deepnote_cell_type": "code"
      },
      "outputs": [],
      "execution_count": 2
    },
    {
      "cell_type": "code",
      "source": "df_iris = load_iris()\ndf_iris.keys()",
      "metadata": {
        "tags": [],
        "cell_id": "00006-033953e7-0d88-401e-b6a8-52b08b8f39ec",
        "deepnote_to_be_reexecuted": false,
        "source_hash": "f2bb943b",
        "execution_start": 1619619846844,
        "execution_millis": 26,
        "deepnote_cell_type": "code"
      },
      "outputs": [
        {
          "output_type": "execute_result",
          "execution_count": 3,
          "data": {
            "text/plain": "dict_keys(['data', 'target', 'frame', 'target_names', 'DESCR', 'feature_names', 'filename'])"
          },
          "metadata": {}
        }
      ],
      "execution_count": 3
    },
    {
      "cell_type": "code",
      "source": "df = pd.DataFrame(df_iris.data, columns = ['sepal length','sepal width','petal length','petal width'])",
      "metadata": {
        "tags": [],
        "cell_id": "00005-78106848-4516-46c9-8c96-253b2897b6bb",
        "deepnote_to_be_reexecuted": false,
        "source_hash": "13240467",
        "execution_start": 1619619846844,
        "execution_millis": 0,
        "deepnote_cell_type": "code"
      },
      "outputs": [],
      "execution_count": 4
    },
    {
      "cell_type": "code",
      "source": "y = df_iris.target\nX = df",
      "metadata": {
        "tags": [],
        "cell_id": "00006-41791a78-d9c0-44a0-93a5-b3fd2437aaf9",
        "deepnote_to_be_reexecuted": false,
        "source_hash": "f8e6c487",
        "execution_start": 1619619846845,
        "execution_millis": 0,
        "deepnote_cell_type": "code"
      },
      "outputs": [],
      "execution_count": 5
    },
    {
      "cell_type": "code",
      "source": "X_train, X_test, y_train, y_test = train_test_split(X, y, random_state=1, test_size=0.2)",
      "metadata": {
        "tags": [],
        "cell_id": "00008-34d45939-0ba1-4e05-bc3c-af454316dcf5",
        "deepnote_to_be_reexecuted": false,
        "source_hash": "1a0b27f7",
        "execution_start": 1619619846845,
        "execution_millis": 0,
        "deepnote_cell_type": "code"
      },
      "outputs": [],
      "execution_count": 6
    },
    {
      "cell_type": "code",
      "source": "for i in range(100,500,50):\n    clf_r = RandomForestClassifier(n_estimators=i)\n    clf_r = clf_r.fit(X_train, y_train)\n    pred_r = clf_r.predict(X_test)\n    acc = sum((y_test-pred_r) == 0) / len(pred_r)\n    print(acc)\n",
      "metadata": {
        "tags": [],
        "cell_id": "00009-858ffb7d-0e52-4036-a5d4-f3dd9574b1a4",
        "deepnote_to_be_reexecuted": false,
        "source_hash": "401a7e5",
        "execution_start": 1619619846890,
        "execution_millis": 3375,
        "deepnote_cell_type": "code"
      },
      "outputs": [
        {
          "name": "stdout",
          "text": "0.9666666666666667\n0.9666666666666667\n0.9666666666666667\n0.9666666666666667\n0.9666666666666667\n0.9666666666666667\n0.9666666666666667\n0.9666666666666667\n",
          "output_type": "stream"
        }
      ],
      "execution_count": 7
    },
    {
      "cell_type": "markdown",
      "source": "## Regressor",
      "metadata": {
        "tags": [],
        "cell_id": "00009-b63713d8-8f64-4d18-b413-f8de25c109d3",
        "deepnote_cell_type": "text-cell-h2"
      }
    },
    {
      "cell_type": "code",
      "source": "# iris_model = RandomForestRegressor(random_state=1)\n# iris_model.fit(X_train, y_train)\n# iris_preds = iris_model.predict(X_test)\n# print(mean_absolute_error(y_test, melb_preds))",
      "metadata": {
        "tags": [],
        "cell_id": "00001-0a498db9-824a-429b-b85c-31c7c545228e",
        "deepnote_to_be_reexecuted": false,
        "source_hash": "8701eac9",
        "execution_start": 1619619889458,
        "execution_millis": 0,
        "deepnote_cell_type": "code"
      },
      "outputs": [],
      "execution_count": 9
    },
    {
      "cell_type": "code",
      "source": "",
      "metadata": {
        "tags": [],
        "cell_id": "00010-fe1ae299-6abd-4cd4-ac6c-24e23aca0a8c",
        "deepnote_to_be_reexecuted": true,
        "source_hash": "b623e53d",
        "deepnote_cell_type": "code"
      },
      "outputs": [],
      "execution_count": null
    },
    {
      "cell_type": "markdown",
      "source": "## Classifier",
      "metadata": {
        "tags": [],
        "cell_id": "00012-5e9c46be-0600-40a9-80fe-82a4f34e34b9",
        "deepnote_cell_type": "text-cell-h2"
      }
    },
    {
      "cell_type": "markdown",
      "source": "## test1",
      "metadata": {
        "tags": [],
        "cell_id": "00012-94deec0f-8214-492e-9141-fbba4701b682",
        "deepnote_cell_type": "text-cell-h2"
      }
    },
    {
      "cell_type": "code",
      "source": "# get_params([deep]) # Get parameters for this estimator.\n# set_params(**params) # Set the parameters of this estimator.\n\nX1, y1 = make_classification(n_samples=100, n_features=4,\n                           n_informative=2, n_redundant=0,\n                           random_state=0, shuffle=False)\nclf = RandomForestClassifier(max_depth=2, random_state=0)\nclf.fit(X1, y1)\nclf.predict(X1)",
      "metadata": {
        "tags": [],
        "cell_id": "00005-3966632c-70fb-4007-8ba9-055fe67de530",
        "deepnote_to_be_reexecuted": false,
        "source_hash": "91eb7d5f",
        "execution_start": 1619619894520,
        "execution_millis": 134,
        "deepnote_cell_type": "code"
      },
      "outputs": [
        {
          "output_type": "execute_result",
          "execution_count": 10,
          "data": {
            "text/plain": "array([0, 0, 0, 0, 0, 0, 0, 0, 0, 0, 1, 0, 0, 0, 0, 0, 1, 0, 0, 0, 1, 0,\n       1, 0, 1, 1, 1, 1, 1, 1, 1, 0, 1, 1, 1, 1, 1, 1, 1, 1, 1, 1, 1, 1,\n       1, 1, 1, 1, 1, 1, 0, 0, 0, 0, 0, 0, 0, 0, 0, 0, 0, 0, 0, 0, 0, 0,\n       0, 0, 0, 0, 0, 0, 0, 0, 0, 1, 1, 1, 1, 1, 1, 1, 1, 0, 1, 1, 1, 1,\n       1, 1, 1, 0, 1, 1, 1, 1, 1, 1, 1, 1])"
          },
          "metadata": {}
        }
      ],
      "execution_count": 10
    },
    {
      "cell_type": "markdown",
      "source": "### Zoo Data",
      "metadata": {
        "tags": [],
        "cell_id": "00007-81f9b9e1-d05a-4507-bf69-3d917dab3ec1",
        "deepnote_cell_type": "markdown"
      }
    },
    {
      "cell_type": "code",
      "source": "#load data\ndf_zoo = pd.read_csv('/work/zoo.csv')",
      "metadata": {
        "tags": [],
        "cell_id": "00009-60ce1c65-281b-4d00-89fd-c2a58d4e29e1",
        "deepnote_to_be_reexecuted": false,
        "source_hash": "b032996f",
        "execution_start": 1619619899697,
        "execution_millis": 19,
        "deepnote_cell_type": "code"
      },
      "outputs": [],
      "execution_count": 11
    },
    {
      "cell_type": "code",
      "source": "df_zoo.describe()",
      "metadata": {
        "tags": [],
        "cell_id": "00010-91b2675c-d836-4f36-9523-1166b9bd864a",
        "deepnote_to_be_reexecuted": false,
        "source_hash": "f41c919a",
        "execution_start": 1619619902296,
        "execution_millis": 133,
        "deepnote_cell_type": "code"
      },
      "outputs": [
        {
          "output_type": "execute_result",
          "execution_count": 12,
          "data": {
            "application/vnd.deepnote.dataframe.v2+json": {
              "row_count": 8,
              "column_count": 17,
              "columns": [
                {
                  "name": "hair",
                  "dtype": "float64",
                  "stats": {
                    "unique_count": 5,
                    "nan_count": 0,
                    "min": "0.0",
                    "max": "101.0",
                    "histogram": [
                      {
                        "bin_start": 0,
                        "bin_end": 10.1,
                        "count": 7
                      },
                      {
                        "bin_start": 10.1,
                        "bin_end": 20.2,
                        "count": 0
                      },
                      {
                        "bin_start": 20.2,
                        "bin_end": 30.299999999999997,
                        "count": 0
                      },
                      {
                        "bin_start": 30.299999999999997,
                        "bin_end": 40.4,
                        "count": 0
                      },
                      {
                        "bin_start": 40.4,
                        "bin_end": 50.5,
                        "count": 0
                      },
                      {
                        "bin_start": 50.5,
                        "bin_end": 60.599999999999994,
                        "count": 0
                      },
                      {
                        "bin_start": 60.599999999999994,
                        "bin_end": 70.7,
                        "count": 0
                      },
                      {
                        "bin_start": 70.7,
                        "bin_end": 80.8,
                        "count": 0
                      },
                      {
                        "bin_start": 80.8,
                        "bin_end": 90.89999999999999,
                        "count": 0
                      },
                      {
                        "bin_start": 90.89999999999999,
                        "bin_end": 101,
                        "count": 1
                      }
                    ]
                  }
                },
                {
                  "name": "feathers",
                  "dtype": "float64",
                  "stats": {
                    "unique_count": 5,
                    "nan_count": 0,
                    "min": "0.0",
                    "max": "101.0",
                    "histogram": [
                      {
                        "bin_start": 0,
                        "bin_end": 10.1,
                        "count": 7
                      },
                      {
                        "bin_start": 10.1,
                        "bin_end": 20.2,
                        "count": 0
                      },
                      {
                        "bin_start": 20.2,
                        "bin_end": 30.299999999999997,
                        "count": 0
                      },
                      {
                        "bin_start": 30.299999999999997,
                        "bin_end": 40.4,
                        "count": 0
                      },
                      {
                        "bin_start": 40.4,
                        "bin_end": 50.5,
                        "count": 0
                      },
                      {
                        "bin_start": 50.5,
                        "bin_end": 60.599999999999994,
                        "count": 0
                      },
                      {
                        "bin_start": 60.599999999999994,
                        "bin_end": 70.7,
                        "count": 0
                      },
                      {
                        "bin_start": 70.7,
                        "bin_end": 80.8,
                        "count": 0
                      },
                      {
                        "bin_start": 80.8,
                        "bin_end": 90.89999999999999,
                        "count": 0
                      },
                      {
                        "bin_start": 90.89999999999999,
                        "bin_end": 101,
                        "count": 1
                      }
                    ]
                  }
                },
                {
                  "name": "eggs",
                  "dtype": "float64",
                  "stats": {
                    "unique_count": 5,
                    "nan_count": 0,
                    "min": "0.0",
                    "max": "101.0",
                    "histogram": [
                      {
                        "bin_start": 0,
                        "bin_end": 10.1,
                        "count": 7
                      },
                      {
                        "bin_start": 10.1,
                        "bin_end": 20.2,
                        "count": 0
                      },
                      {
                        "bin_start": 20.2,
                        "bin_end": 30.299999999999997,
                        "count": 0
                      },
                      {
                        "bin_start": 30.299999999999997,
                        "bin_end": 40.4,
                        "count": 0
                      },
                      {
                        "bin_start": 40.4,
                        "bin_end": 50.5,
                        "count": 0
                      },
                      {
                        "bin_start": 50.5,
                        "bin_end": 60.599999999999994,
                        "count": 0
                      },
                      {
                        "bin_start": 60.599999999999994,
                        "bin_end": 70.7,
                        "count": 0
                      },
                      {
                        "bin_start": 70.7,
                        "bin_end": 80.8,
                        "count": 0
                      },
                      {
                        "bin_start": 80.8,
                        "bin_end": 90.89999999999999,
                        "count": 0
                      },
                      {
                        "bin_start": 90.89999999999999,
                        "bin_end": 101,
                        "count": 1
                      }
                    ]
                  }
                },
                {
                  "name": "milk",
                  "dtype": "float64",
                  "stats": {
                    "unique_count": 5,
                    "nan_count": 0,
                    "min": "0.0",
                    "max": "101.0",
                    "histogram": [
                      {
                        "bin_start": 0,
                        "bin_end": 10.1,
                        "count": 7
                      },
                      {
                        "bin_start": 10.1,
                        "bin_end": 20.2,
                        "count": 0
                      },
                      {
                        "bin_start": 20.2,
                        "bin_end": 30.299999999999997,
                        "count": 0
                      },
                      {
                        "bin_start": 30.299999999999997,
                        "bin_end": 40.4,
                        "count": 0
                      },
                      {
                        "bin_start": 40.4,
                        "bin_end": 50.5,
                        "count": 0
                      },
                      {
                        "bin_start": 50.5,
                        "bin_end": 60.599999999999994,
                        "count": 0
                      },
                      {
                        "bin_start": 60.599999999999994,
                        "bin_end": 70.7,
                        "count": 0
                      },
                      {
                        "bin_start": 70.7,
                        "bin_end": 80.8,
                        "count": 0
                      },
                      {
                        "bin_start": 80.8,
                        "bin_end": 90.89999999999999,
                        "count": 0
                      },
                      {
                        "bin_start": 90.89999999999999,
                        "bin_end": 101,
                        "count": 1
                      }
                    ]
                  }
                },
                {
                  "name": "airborne",
                  "dtype": "float64",
                  "stats": {
                    "unique_count": 5,
                    "nan_count": 0,
                    "min": "0.0",
                    "max": "101.0",
                    "histogram": [
                      {
                        "bin_start": 0,
                        "bin_end": 10.1,
                        "count": 7
                      },
                      {
                        "bin_start": 10.1,
                        "bin_end": 20.2,
                        "count": 0
                      },
                      {
                        "bin_start": 20.2,
                        "bin_end": 30.299999999999997,
                        "count": 0
                      },
                      {
                        "bin_start": 30.299999999999997,
                        "bin_end": 40.4,
                        "count": 0
                      },
                      {
                        "bin_start": 40.4,
                        "bin_end": 50.5,
                        "count": 0
                      },
                      {
                        "bin_start": 50.5,
                        "bin_end": 60.599999999999994,
                        "count": 0
                      },
                      {
                        "bin_start": 60.599999999999994,
                        "bin_end": 70.7,
                        "count": 0
                      },
                      {
                        "bin_start": 70.7,
                        "bin_end": 80.8,
                        "count": 0
                      },
                      {
                        "bin_start": 80.8,
                        "bin_end": 90.89999999999999,
                        "count": 0
                      },
                      {
                        "bin_start": 90.89999999999999,
                        "bin_end": 101,
                        "count": 1
                      }
                    ]
                  }
                },
                {
                  "name": "aquatic",
                  "dtype": "float64",
                  "stats": {
                    "unique_count": 5,
                    "nan_count": 0,
                    "min": "0.0",
                    "max": "101.0",
                    "histogram": [
                      {
                        "bin_start": 0,
                        "bin_end": 10.1,
                        "count": 7
                      },
                      {
                        "bin_start": 10.1,
                        "bin_end": 20.2,
                        "count": 0
                      },
                      {
                        "bin_start": 20.2,
                        "bin_end": 30.299999999999997,
                        "count": 0
                      },
                      {
                        "bin_start": 30.299999999999997,
                        "bin_end": 40.4,
                        "count": 0
                      },
                      {
                        "bin_start": 40.4,
                        "bin_end": 50.5,
                        "count": 0
                      },
                      {
                        "bin_start": 50.5,
                        "bin_end": 60.599999999999994,
                        "count": 0
                      },
                      {
                        "bin_start": 60.599999999999994,
                        "bin_end": 70.7,
                        "count": 0
                      },
                      {
                        "bin_start": 70.7,
                        "bin_end": 80.8,
                        "count": 0
                      },
                      {
                        "bin_start": 80.8,
                        "bin_end": 90.89999999999999,
                        "count": 0
                      },
                      {
                        "bin_start": 90.89999999999999,
                        "bin_end": 101,
                        "count": 1
                      }
                    ]
                  }
                },
                {
                  "name": "predator",
                  "dtype": "float64",
                  "stats": {
                    "unique_count": 5,
                    "nan_count": 0,
                    "min": "0.0",
                    "max": "101.0",
                    "histogram": [
                      {
                        "bin_start": 0,
                        "bin_end": 10.1,
                        "count": 7
                      },
                      {
                        "bin_start": 10.1,
                        "bin_end": 20.2,
                        "count": 0
                      },
                      {
                        "bin_start": 20.2,
                        "bin_end": 30.299999999999997,
                        "count": 0
                      },
                      {
                        "bin_start": 30.299999999999997,
                        "bin_end": 40.4,
                        "count": 0
                      },
                      {
                        "bin_start": 40.4,
                        "bin_end": 50.5,
                        "count": 0
                      },
                      {
                        "bin_start": 50.5,
                        "bin_end": 60.599999999999994,
                        "count": 0
                      },
                      {
                        "bin_start": 60.599999999999994,
                        "bin_end": 70.7,
                        "count": 0
                      },
                      {
                        "bin_start": 70.7,
                        "bin_end": 80.8,
                        "count": 0
                      },
                      {
                        "bin_start": 80.8,
                        "bin_end": 90.89999999999999,
                        "count": 0
                      },
                      {
                        "bin_start": 90.89999999999999,
                        "bin_end": 101,
                        "count": 1
                      }
                    ]
                  }
                },
                {
                  "name": "toothed",
                  "dtype": "float64",
                  "stats": {
                    "unique_count": 5,
                    "nan_count": 0,
                    "min": "0.0",
                    "max": "101.0",
                    "histogram": [
                      {
                        "bin_start": 0,
                        "bin_end": 10.1,
                        "count": 7
                      },
                      {
                        "bin_start": 10.1,
                        "bin_end": 20.2,
                        "count": 0
                      },
                      {
                        "bin_start": 20.2,
                        "bin_end": 30.299999999999997,
                        "count": 0
                      },
                      {
                        "bin_start": 30.299999999999997,
                        "bin_end": 40.4,
                        "count": 0
                      },
                      {
                        "bin_start": 40.4,
                        "bin_end": 50.5,
                        "count": 0
                      },
                      {
                        "bin_start": 50.5,
                        "bin_end": 60.599999999999994,
                        "count": 0
                      },
                      {
                        "bin_start": 60.599999999999994,
                        "bin_end": 70.7,
                        "count": 0
                      },
                      {
                        "bin_start": 70.7,
                        "bin_end": 80.8,
                        "count": 0
                      },
                      {
                        "bin_start": 80.8,
                        "bin_end": 90.89999999999999,
                        "count": 0
                      },
                      {
                        "bin_start": 90.89999999999999,
                        "bin_end": 101,
                        "count": 1
                      }
                    ]
                  }
                },
                {
                  "name": "backbone",
                  "dtype": "float64",
                  "stats": {
                    "unique_count": 5,
                    "nan_count": 0,
                    "min": "0.0",
                    "max": "101.0",
                    "histogram": [
                      {
                        "bin_start": 0,
                        "bin_end": 10.1,
                        "count": 7
                      },
                      {
                        "bin_start": 10.1,
                        "bin_end": 20.2,
                        "count": 0
                      },
                      {
                        "bin_start": 20.2,
                        "bin_end": 30.299999999999997,
                        "count": 0
                      },
                      {
                        "bin_start": 30.299999999999997,
                        "bin_end": 40.4,
                        "count": 0
                      },
                      {
                        "bin_start": 40.4,
                        "bin_end": 50.5,
                        "count": 0
                      },
                      {
                        "bin_start": 50.5,
                        "bin_end": 60.599999999999994,
                        "count": 0
                      },
                      {
                        "bin_start": 60.599999999999994,
                        "bin_end": 70.7,
                        "count": 0
                      },
                      {
                        "bin_start": 70.7,
                        "bin_end": 80.8,
                        "count": 0
                      },
                      {
                        "bin_start": 80.8,
                        "bin_end": 90.89999999999999,
                        "count": 0
                      },
                      {
                        "bin_start": 90.89999999999999,
                        "bin_end": 101,
                        "count": 1
                      }
                    ]
                  }
                },
                {
                  "name": "breathes",
                  "dtype": "float64",
                  "stats": {
                    "unique_count": 5,
                    "nan_count": 0,
                    "min": "0.0",
                    "max": "101.0",
                    "histogram": [
                      {
                        "bin_start": 0,
                        "bin_end": 10.1,
                        "count": 7
                      },
                      {
                        "bin_start": 10.1,
                        "bin_end": 20.2,
                        "count": 0
                      },
                      {
                        "bin_start": 20.2,
                        "bin_end": 30.299999999999997,
                        "count": 0
                      },
                      {
                        "bin_start": 30.299999999999997,
                        "bin_end": 40.4,
                        "count": 0
                      },
                      {
                        "bin_start": 40.4,
                        "bin_end": 50.5,
                        "count": 0
                      },
                      {
                        "bin_start": 50.5,
                        "bin_end": 60.599999999999994,
                        "count": 0
                      },
                      {
                        "bin_start": 60.599999999999994,
                        "bin_end": 70.7,
                        "count": 0
                      },
                      {
                        "bin_start": 70.7,
                        "bin_end": 80.8,
                        "count": 0
                      },
                      {
                        "bin_start": 80.8,
                        "bin_end": 90.89999999999999,
                        "count": 0
                      },
                      {
                        "bin_start": 90.89999999999999,
                        "bin_end": 101,
                        "count": 1
                      }
                    ]
                  }
                },
                {
                  "name": "venomous",
                  "dtype": "float64",
                  "stats": {
                    "unique_count": 5,
                    "nan_count": 0,
                    "min": "0.0",
                    "max": "101.0",
                    "histogram": [
                      {
                        "bin_start": 0,
                        "bin_end": 10.1,
                        "count": 7
                      },
                      {
                        "bin_start": 10.1,
                        "bin_end": 20.2,
                        "count": 0
                      },
                      {
                        "bin_start": 20.2,
                        "bin_end": 30.299999999999997,
                        "count": 0
                      },
                      {
                        "bin_start": 30.299999999999997,
                        "bin_end": 40.4,
                        "count": 0
                      },
                      {
                        "bin_start": 40.4,
                        "bin_end": 50.5,
                        "count": 0
                      },
                      {
                        "bin_start": 50.5,
                        "bin_end": 60.599999999999994,
                        "count": 0
                      },
                      {
                        "bin_start": 60.599999999999994,
                        "bin_end": 70.7,
                        "count": 0
                      },
                      {
                        "bin_start": 70.7,
                        "bin_end": 80.8,
                        "count": 0
                      },
                      {
                        "bin_start": 80.8,
                        "bin_end": 90.89999999999999,
                        "count": 0
                      },
                      {
                        "bin_start": 90.89999999999999,
                        "bin_end": 101,
                        "count": 1
                      }
                    ]
                  }
                },
                {
                  "name": "fins",
                  "dtype": "float64",
                  "stats": {
                    "unique_count": 5,
                    "nan_count": 0,
                    "min": "0.0",
                    "max": "101.0",
                    "histogram": [
                      {
                        "bin_start": 0,
                        "bin_end": 10.1,
                        "count": 7
                      },
                      {
                        "bin_start": 10.1,
                        "bin_end": 20.2,
                        "count": 0
                      },
                      {
                        "bin_start": 20.2,
                        "bin_end": 30.299999999999997,
                        "count": 0
                      },
                      {
                        "bin_start": 30.299999999999997,
                        "bin_end": 40.4,
                        "count": 0
                      },
                      {
                        "bin_start": 40.4,
                        "bin_end": 50.5,
                        "count": 0
                      },
                      {
                        "bin_start": 50.5,
                        "bin_end": 60.599999999999994,
                        "count": 0
                      },
                      {
                        "bin_start": 60.599999999999994,
                        "bin_end": 70.7,
                        "count": 0
                      },
                      {
                        "bin_start": 70.7,
                        "bin_end": 80.8,
                        "count": 0
                      },
                      {
                        "bin_start": 80.8,
                        "bin_end": 90.89999999999999,
                        "count": 0
                      },
                      {
                        "bin_start": 90.89999999999999,
                        "bin_end": 101,
                        "count": 1
                      }
                    ]
                  }
                },
                {
                  "name": "legs",
                  "dtype": "float64",
                  "stats": {
                    "unique_count": 7,
                    "nan_count": 0,
                    "min": "0.0",
                    "max": "101.0",
                    "histogram": [
                      {
                        "bin_start": 0,
                        "bin_end": 10.1,
                        "count": 7
                      },
                      {
                        "bin_start": 10.1,
                        "bin_end": 20.2,
                        "count": 0
                      },
                      {
                        "bin_start": 20.2,
                        "bin_end": 30.299999999999997,
                        "count": 0
                      },
                      {
                        "bin_start": 30.299999999999997,
                        "bin_end": 40.4,
                        "count": 0
                      },
                      {
                        "bin_start": 40.4,
                        "bin_end": 50.5,
                        "count": 0
                      },
                      {
                        "bin_start": 50.5,
                        "bin_end": 60.599999999999994,
                        "count": 0
                      },
                      {
                        "bin_start": 60.599999999999994,
                        "bin_end": 70.7,
                        "count": 0
                      },
                      {
                        "bin_start": 70.7,
                        "bin_end": 80.8,
                        "count": 0
                      },
                      {
                        "bin_start": 80.8,
                        "bin_end": 90.89999999999999,
                        "count": 0
                      },
                      {
                        "bin_start": 90.89999999999999,
                        "bin_end": 101,
                        "count": 1
                      }
                    ]
                  }
                },
                {
                  "name": "tail",
                  "dtype": "float64",
                  "stats": {
                    "unique_count": 5,
                    "nan_count": 0,
                    "min": "0.0",
                    "max": "101.0",
                    "histogram": [
                      {
                        "bin_start": 0,
                        "bin_end": 10.1,
                        "count": 7
                      },
                      {
                        "bin_start": 10.1,
                        "bin_end": 20.2,
                        "count": 0
                      },
                      {
                        "bin_start": 20.2,
                        "bin_end": 30.299999999999997,
                        "count": 0
                      },
                      {
                        "bin_start": 30.299999999999997,
                        "bin_end": 40.4,
                        "count": 0
                      },
                      {
                        "bin_start": 40.4,
                        "bin_end": 50.5,
                        "count": 0
                      },
                      {
                        "bin_start": 50.5,
                        "bin_end": 60.599999999999994,
                        "count": 0
                      },
                      {
                        "bin_start": 60.599999999999994,
                        "bin_end": 70.7,
                        "count": 0
                      },
                      {
                        "bin_start": 70.7,
                        "bin_end": 80.8,
                        "count": 0
                      },
                      {
                        "bin_start": 80.8,
                        "bin_end": 90.89999999999999,
                        "count": 0
                      },
                      {
                        "bin_start": 90.89999999999999,
                        "bin_end": 101,
                        "count": 1
                      }
                    ]
                  }
                },
                {
                  "name": "domestic",
                  "dtype": "float64",
                  "stats": {
                    "unique_count": 5,
                    "nan_count": 0,
                    "min": "0.0",
                    "max": "101.0",
                    "histogram": [
                      {
                        "bin_start": 0,
                        "bin_end": 10.1,
                        "count": 7
                      },
                      {
                        "bin_start": 10.1,
                        "bin_end": 20.2,
                        "count": 0
                      },
                      {
                        "bin_start": 20.2,
                        "bin_end": 30.299999999999997,
                        "count": 0
                      },
                      {
                        "bin_start": 30.299999999999997,
                        "bin_end": 40.4,
                        "count": 0
                      },
                      {
                        "bin_start": 40.4,
                        "bin_end": 50.5,
                        "count": 0
                      },
                      {
                        "bin_start": 50.5,
                        "bin_end": 60.599999999999994,
                        "count": 0
                      },
                      {
                        "bin_start": 60.599999999999994,
                        "bin_end": 70.7,
                        "count": 0
                      },
                      {
                        "bin_start": 70.7,
                        "bin_end": 80.8,
                        "count": 0
                      },
                      {
                        "bin_start": 80.8,
                        "bin_end": 90.89999999999999,
                        "count": 0
                      },
                      {
                        "bin_start": 90.89999999999999,
                        "bin_end": 101,
                        "count": 1
                      }
                    ]
                  }
                },
                {
                  "name": "catsize",
                  "dtype": "float64",
                  "stats": {
                    "unique_count": 5,
                    "nan_count": 0,
                    "min": "0.0",
                    "max": "101.0",
                    "histogram": [
                      {
                        "bin_start": 0,
                        "bin_end": 10.1,
                        "count": 7
                      },
                      {
                        "bin_start": 10.1,
                        "bin_end": 20.2,
                        "count": 0
                      },
                      {
                        "bin_start": 20.2,
                        "bin_end": 30.299999999999997,
                        "count": 0
                      },
                      {
                        "bin_start": 30.299999999999997,
                        "bin_end": 40.4,
                        "count": 0
                      },
                      {
                        "bin_start": 40.4,
                        "bin_end": 50.5,
                        "count": 0
                      },
                      {
                        "bin_start": 50.5,
                        "bin_end": 60.599999999999994,
                        "count": 0
                      },
                      {
                        "bin_start": 60.599999999999994,
                        "bin_end": 70.7,
                        "count": 0
                      },
                      {
                        "bin_start": 70.7,
                        "bin_end": 80.8,
                        "count": 0
                      },
                      {
                        "bin_start": 80.8,
                        "bin_end": 90.89999999999999,
                        "count": 0
                      },
                      {
                        "bin_start": 90.89999999999999,
                        "bin_end": 101,
                        "count": 1
                      }
                    ]
                  }
                },
                {
                  "name": "class_type",
                  "dtype": "float64",
                  "stats": {
                    "unique_count": 7,
                    "nan_count": 0,
                    "min": "1.0",
                    "max": "101.0",
                    "histogram": [
                      {
                        "bin_start": 1,
                        "bin_end": 11,
                        "count": 7
                      },
                      {
                        "bin_start": 11,
                        "bin_end": 21,
                        "count": 0
                      },
                      {
                        "bin_start": 21,
                        "bin_end": 31,
                        "count": 0
                      },
                      {
                        "bin_start": 31,
                        "bin_end": 41,
                        "count": 0
                      },
                      {
                        "bin_start": 41,
                        "bin_end": 51,
                        "count": 0
                      },
                      {
                        "bin_start": 51,
                        "bin_end": 61,
                        "count": 0
                      },
                      {
                        "bin_start": 61,
                        "bin_end": 71,
                        "count": 0
                      },
                      {
                        "bin_start": 71,
                        "bin_end": 81,
                        "count": 0
                      },
                      {
                        "bin_start": 81,
                        "bin_end": 91,
                        "count": 0
                      },
                      {
                        "bin_start": 91,
                        "bin_end": 101,
                        "count": 1
                      }
                    ]
                  }
                },
                {
                  "name": "_deepnote_index_column",
                  "dtype": "object"
                }
              ],
              "rows_top": [
                {
                  "hair": 101,
                  "feathers": 101,
                  "eggs": 101,
                  "milk": 101,
                  "airborne": 101,
                  "aquatic": 101,
                  "predator": 101,
                  "toothed": 101,
                  "backbone": 101,
                  "breathes": 101,
                  "venomous": 101,
                  "fins": 101,
                  "legs": 101,
                  "tail": 101,
                  "domestic": 101,
                  "catsize": 101,
                  "class_type": 101,
                  "_deepnote_index_column": "count"
                },
                {
                  "hair": 0.42574257425742573,
                  "feathers": 0.19801980198019803,
                  "eggs": 0.5841584158415841,
                  "milk": 0.40594059405940597,
                  "airborne": 0.2376237623762376,
                  "aquatic": 0.3564356435643564,
                  "predator": 0.5544554455445545,
                  "toothed": 0.6039603960396039,
                  "backbone": 0.8217821782178217,
                  "breathes": 0.7920792079207921,
                  "venomous": 0.07920792079207921,
                  "fins": 0.16831683168316833,
                  "legs": 2.8415841584158414,
                  "tail": 0.7425742574257426,
                  "domestic": 0.12871287128712872,
                  "catsize": 0.43564356435643564,
                  "class_type": 2.8316831683168315,
                  "_deepnote_index_column": "mean"
                },
                {
                  "hair": 0.4969212141469781,
                  "feathers": 0.40049474354098635,
                  "eggs": 0.49532467599895047,
                  "milk": 0.493522397096265,
                  "airborne": 0.42775027414334044,
                  "aquatic": 0.48133477779694206,
                  "predator": 0.4995047051780889,
                  "toothed": 0.49151211421066887,
                  "backbone": 0.38460472186286,
                  "breathes": 0.4078438839352215,
                  "venomous": 0.2714099599068422,
                  "fins": 0.37601348195757744,
                  "legs": 2.033384731266205,
                  "tail": 0.43939652585186995,
                  "domestic": 0.3365521159236312,
                  "catsize": 0.4983139890502457,
                  "class_type": 2.1027092377725127,
                  "_deepnote_index_column": "std"
                },
                {
                  "hair": 0,
                  "feathers": 0,
                  "eggs": 0,
                  "milk": 0,
                  "airborne": 0,
                  "aquatic": 0,
                  "predator": 0,
                  "toothed": 0,
                  "backbone": 0,
                  "breathes": 0,
                  "venomous": 0,
                  "fins": 0,
                  "legs": 0,
                  "tail": 0,
                  "domestic": 0,
                  "catsize": 0,
                  "class_type": 1,
                  "_deepnote_index_column": "min"
                },
                {
                  "hair": 0,
                  "feathers": 0,
                  "eggs": 0,
                  "milk": 0,
                  "airborne": 0,
                  "aquatic": 0,
                  "predator": 0,
                  "toothed": 0,
                  "backbone": 1,
                  "breathes": 1,
                  "venomous": 0,
                  "fins": 0,
                  "legs": 2,
                  "tail": 0,
                  "domestic": 0,
                  "catsize": 0,
                  "class_type": 1,
                  "_deepnote_index_column": "25%"
                },
                {
                  "hair": 0,
                  "feathers": 0,
                  "eggs": 1,
                  "milk": 0,
                  "airborne": 0,
                  "aquatic": 0,
                  "predator": 1,
                  "toothed": 1,
                  "backbone": 1,
                  "breathes": 1,
                  "venomous": 0,
                  "fins": 0,
                  "legs": 4,
                  "tail": 1,
                  "domestic": 0,
                  "catsize": 0,
                  "class_type": 2,
                  "_deepnote_index_column": "50%"
                },
                {
                  "hair": 1,
                  "feathers": 0,
                  "eggs": 1,
                  "milk": 1,
                  "airborne": 0,
                  "aquatic": 1,
                  "predator": 1,
                  "toothed": 1,
                  "backbone": 1,
                  "breathes": 1,
                  "venomous": 0,
                  "fins": 0,
                  "legs": 4,
                  "tail": 1,
                  "domestic": 0,
                  "catsize": 1,
                  "class_type": 4,
                  "_deepnote_index_column": "75%"
                },
                {
                  "hair": 1,
                  "feathers": 1,
                  "eggs": 1,
                  "milk": 1,
                  "airborne": 1,
                  "aquatic": 1,
                  "predator": 1,
                  "toothed": 1,
                  "backbone": 1,
                  "breathes": 1,
                  "venomous": 1,
                  "fins": 1,
                  "legs": 8,
                  "tail": 1,
                  "domestic": 1,
                  "catsize": 1,
                  "class_type": 7,
                  "_deepnote_index_column": "max"
                }
              ],
              "rows_bottom": null
            },
            "text/plain": "             hair    feathers        eggs        milk    airborne     aquatic  \\\ncount  101.000000  101.000000  101.000000  101.000000  101.000000  101.000000   \nmean     0.425743    0.198020    0.584158    0.405941    0.237624    0.356436   \nstd      0.496921    0.400495    0.495325    0.493522    0.427750    0.481335   \nmin      0.000000    0.000000    0.000000    0.000000    0.000000    0.000000   \n25%      0.000000    0.000000    0.000000    0.000000    0.000000    0.000000   \n50%      0.000000    0.000000    1.000000    0.000000    0.000000    0.000000   \n75%      1.000000    0.000000    1.000000    1.000000    0.000000    1.000000   \nmax      1.000000    1.000000    1.000000    1.000000    1.000000    1.000000   \n\n         predator     toothed    backbone    breathes    venomous        fins  \\\ncount  101.000000  101.000000  101.000000  101.000000  101.000000  101.000000   \nmean     0.554455    0.603960    0.821782    0.792079    0.079208    0.168317   \nstd      0.499505    0.491512    0.384605    0.407844    0.271410    0.376013   \nmin      0.000000    0.000000    0.000000    0.000000    0.000000    0.000000   \n25%      0.000000    0.000000    1.000000    1.000000    0.000000    0.000000   \n50%      1.000000    1.000000    1.000000    1.000000    0.000000    0.000000   \n75%      1.000000    1.000000    1.000000    1.000000    0.000000    0.000000   \nmax      1.000000    1.000000    1.000000    1.000000    1.000000    1.000000   \n\n             legs        tail    domestic     catsize  class_type  \ncount  101.000000  101.000000  101.000000  101.000000  101.000000  \nmean     2.841584    0.742574    0.128713    0.435644    2.831683  \nstd      2.033385    0.439397    0.336552    0.498314    2.102709  \nmin      0.000000    0.000000    0.000000    0.000000    1.000000  \n25%      2.000000    0.000000    0.000000    0.000000    1.000000  \n50%      4.000000    1.000000    0.000000    0.000000    2.000000  \n75%      4.000000    1.000000    0.000000    1.000000    4.000000  \nmax      8.000000    1.000000    1.000000    1.000000    7.000000  ",
            "text/html": "<div>\n<style scoped>\n    .dataframe tbody tr th:only-of-type {\n        vertical-align: middle;\n    }\n\n    .dataframe tbody tr th {\n        vertical-align: top;\n    }\n\n    .dataframe thead th {\n        text-align: right;\n    }\n</style>\n<table border=\"1\" class=\"dataframe\">\n  <thead>\n    <tr style=\"text-align: right;\">\n      <th></th>\n      <th>hair</th>\n      <th>feathers</th>\n      <th>eggs</th>\n      <th>milk</th>\n      <th>airborne</th>\n      <th>aquatic</th>\n      <th>predator</th>\n      <th>toothed</th>\n      <th>backbone</th>\n      <th>breathes</th>\n      <th>venomous</th>\n      <th>fins</th>\n      <th>legs</th>\n      <th>tail</th>\n      <th>domestic</th>\n      <th>catsize</th>\n      <th>class_type</th>\n    </tr>\n  </thead>\n  <tbody>\n    <tr>\n      <th>count</th>\n      <td>101.000000</td>\n      <td>101.000000</td>\n      <td>101.000000</td>\n      <td>101.000000</td>\n      <td>101.000000</td>\n      <td>101.000000</td>\n      <td>101.000000</td>\n      <td>101.000000</td>\n      <td>101.000000</td>\n      <td>101.000000</td>\n      <td>101.000000</td>\n      <td>101.000000</td>\n      <td>101.000000</td>\n      <td>101.000000</td>\n      <td>101.000000</td>\n      <td>101.000000</td>\n      <td>101.000000</td>\n    </tr>\n    <tr>\n      <th>mean</th>\n      <td>0.425743</td>\n      <td>0.198020</td>\n      <td>0.584158</td>\n      <td>0.405941</td>\n      <td>0.237624</td>\n      <td>0.356436</td>\n      <td>0.554455</td>\n      <td>0.603960</td>\n      <td>0.821782</td>\n      <td>0.792079</td>\n      <td>0.079208</td>\n      <td>0.168317</td>\n      <td>2.841584</td>\n      <td>0.742574</td>\n      <td>0.128713</td>\n      <td>0.435644</td>\n      <td>2.831683</td>\n    </tr>\n    <tr>\n      <th>std</th>\n      <td>0.496921</td>\n      <td>0.400495</td>\n      <td>0.495325</td>\n      <td>0.493522</td>\n      <td>0.427750</td>\n      <td>0.481335</td>\n      <td>0.499505</td>\n      <td>0.491512</td>\n      <td>0.384605</td>\n      <td>0.407844</td>\n      <td>0.271410</td>\n      <td>0.376013</td>\n      <td>2.033385</td>\n      <td>0.439397</td>\n      <td>0.336552</td>\n      <td>0.498314</td>\n      <td>2.102709</td>\n    </tr>\n    <tr>\n      <th>min</th>\n      <td>0.000000</td>\n      <td>0.000000</td>\n      <td>0.000000</td>\n      <td>0.000000</td>\n      <td>0.000000</td>\n      <td>0.000000</td>\n      <td>0.000000</td>\n      <td>0.000000</td>\n      <td>0.000000</td>\n      <td>0.000000</td>\n      <td>0.000000</td>\n      <td>0.000000</td>\n      <td>0.000000</td>\n      <td>0.000000</td>\n      <td>0.000000</td>\n      <td>0.000000</td>\n      <td>1.000000</td>\n    </tr>\n    <tr>\n      <th>25%</th>\n      <td>0.000000</td>\n      <td>0.000000</td>\n      <td>0.000000</td>\n      <td>0.000000</td>\n      <td>0.000000</td>\n      <td>0.000000</td>\n      <td>0.000000</td>\n      <td>0.000000</td>\n      <td>1.000000</td>\n      <td>1.000000</td>\n      <td>0.000000</td>\n      <td>0.000000</td>\n      <td>2.000000</td>\n      <td>0.000000</td>\n      <td>0.000000</td>\n      <td>0.000000</td>\n      <td>1.000000</td>\n    </tr>\n    <tr>\n      <th>50%</th>\n      <td>0.000000</td>\n      <td>0.000000</td>\n      <td>1.000000</td>\n      <td>0.000000</td>\n      <td>0.000000</td>\n      <td>0.000000</td>\n      <td>1.000000</td>\n      <td>1.000000</td>\n      <td>1.000000</td>\n      <td>1.000000</td>\n      <td>0.000000</td>\n      <td>0.000000</td>\n      <td>4.000000</td>\n      <td>1.000000</td>\n      <td>0.000000</td>\n      <td>0.000000</td>\n      <td>2.000000</td>\n    </tr>\n    <tr>\n      <th>75%</th>\n      <td>1.000000</td>\n      <td>0.000000</td>\n      <td>1.000000</td>\n      <td>1.000000</td>\n      <td>0.000000</td>\n      <td>1.000000</td>\n      <td>1.000000</td>\n      <td>1.000000</td>\n      <td>1.000000</td>\n      <td>1.000000</td>\n      <td>0.000000</td>\n      <td>0.000000</td>\n      <td>4.000000</td>\n      <td>1.000000</td>\n      <td>0.000000</td>\n      <td>1.000000</td>\n      <td>4.000000</td>\n    </tr>\n    <tr>\n      <th>max</th>\n      <td>1.000000</td>\n      <td>1.000000</td>\n      <td>1.000000</td>\n      <td>1.000000</td>\n      <td>1.000000</td>\n      <td>1.000000</td>\n      <td>1.000000</td>\n      <td>1.000000</td>\n      <td>1.000000</td>\n      <td>1.000000</td>\n      <td>1.000000</td>\n      <td>1.000000</td>\n      <td>8.000000</td>\n      <td>1.000000</td>\n      <td>1.000000</td>\n      <td>1.000000</td>\n      <td>7.000000</td>\n    </tr>\n  </tbody>\n</table>\n</div>"
          },
          "metadata": {}
        }
      ],
      "execution_count": 12
    },
    {
      "cell_type": "code",
      "source": "y = df_zoo.class_type\nX = df_zoo.drop(['class_type','animal_name'], axis=1)",
      "metadata": {
        "tags": [],
        "cell_id": "00011-79fe6aff-f6ef-4162-a6b2-a82bbb86d4ef",
        "deepnote_to_be_reexecuted": false,
        "source_hash": "958ad22a",
        "execution_start": 1619619906664,
        "execution_millis": 5,
        "deepnote_cell_type": "code"
      },
      "outputs": [],
      "execution_count": 13
    },
    {
      "cell_type": "code",
      "source": "df_zoo.head()",
      "metadata": {
        "tags": [],
        "cell_id": "00012-e072ec56-cfea-4715-baa4-0a2a9ff2a709",
        "deepnote_to_be_reexecuted": false,
        "source_hash": "20d628d8",
        "execution_start": 1619619909133,
        "execution_millis": 67,
        "deepnote_cell_type": "code"
      },
      "outputs": [
        {
          "output_type": "execute_result",
          "execution_count": 14,
          "data": {
            "application/vnd.deepnote.dataframe.v2+json": {
              "row_count": 5,
              "column_count": 18,
              "columns": [
                {
                  "name": "animal_name",
                  "dtype": "object",
                  "stats": {
                    "unique_count": 5,
                    "nan_count": 0,
                    "categories": [
                      {
                        "name": "aardvark",
                        "count": 1
                      },
                      {
                        "name": "antelope",
                        "count": 1
                      },
                      {
                        "name": "3 others",
                        "count": 3
                      }
                    ]
                  }
                },
                {
                  "name": "hair",
                  "dtype": "int64",
                  "stats": {
                    "unique_count": 2,
                    "nan_count": 0,
                    "min": "0",
                    "max": "1",
                    "histogram": [
                      {
                        "bin_start": 0,
                        "bin_end": 0.1,
                        "count": 1
                      },
                      {
                        "bin_start": 0.1,
                        "bin_end": 0.2,
                        "count": 0
                      },
                      {
                        "bin_start": 0.2,
                        "bin_end": 0.30000000000000004,
                        "count": 0
                      },
                      {
                        "bin_start": 0.30000000000000004,
                        "bin_end": 0.4,
                        "count": 0
                      },
                      {
                        "bin_start": 0.4,
                        "bin_end": 0.5,
                        "count": 0
                      },
                      {
                        "bin_start": 0.5,
                        "bin_end": 0.6000000000000001,
                        "count": 0
                      },
                      {
                        "bin_start": 0.6000000000000001,
                        "bin_end": 0.7000000000000001,
                        "count": 0
                      },
                      {
                        "bin_start": 0.7000000000000001,
                        "bin_end": 0.8,
                        "count": 0
                      },
                      {
                        "bin_start": 0.8,
                        "bin_end": 0.9,
                        "count": 0
                      },
                      {
                        "bin_start": 0.9,
                        "bin_end": 1,
                        "count": 4
                      }
                    ]
                  }
                },
                {
                  "name": "feathers",
                  "dtype": "int64",
                  "stats": {
                    "unique_count": 1,
                    "nan_count": 0,
                    "min": "0",
                    "max": "0",
                    "histogram": [
                      {
                        "bin_start": -0.5,
                        "bin_end": -0.4,
                        "count": 0
                      },
                      {
                        "bin_start": -0.4,
                        "bin_end": -0.3,
                        "count": 0
                      },
                      {
                        "bin_start": -0.3,
                        "bin_end": -0.19999999999999996,
                        "count": 0
                      },
                      {
                        "bin_start": -0.19999999999999996,
                        "bin_end": -0.09999999999999998,
                        "count": 0
                      },
                      {
                        "bin_start": -0.09999999999999998,
                        "bin_end": 0,
                        "count": 0
                      },
                      {
                        "bin_start": 0,
                        "bin_end": 0.10000000000000009,
                        "count": 5
                      },
                      {
                        "bin_start": 0.10000000000000009,
                        "bin_end": 0.20000000000000007,
                        "count": 0
                      },
                      {
                        "bin_start": 0.20000000000000007,
                        "bin_end": 0.30000000000000004,
                        "count": 0
                      },
                      {
                        "bin_start": 0.30000000000000004,
                        "bin_end": 0.4,
                        "count": 0
                      },
                      {
                        "bin_start": 0.4,
                        "bin_end": 0.5,
                        "count": 0
                      }
                    ]
                  }
                },
                {
                  "name": "eggs",
                  "dtype": "int64",
                  "stats": {
                    "unique_count": 2,
                    "nan_count": 0,
                    "min": "0",
                    "max": "1",
                    "histogram": [
                      {
                        "bin_start": 0,
                        "bin_end": 0.1,
                        "count": 4
                      },
                      {
                        "bin_start": 0.1,
                        "bin_end": 0.2,
                        "count": 0
                      },
                      {
                        "bin_start": 0.2,
                        "bin_end": 0.30000000000000004,
                        "count": 0
                      },
                      {
                        "bin_start": 0.30000000000000004,
                        "bin_end": 0.4,
                        "count": 0
                      },
                      {
                        "bin_start": 0.4,
                        "bin_end": 0.5,
                        "count": 0
                      },
                      {
                        "bin_start": 0.5,
                        "bin_end": 0.6000000000000001,
                        "count": 0
                      },
                      {
                        "bin_start": 0.6000000000000001,
                        "bin_end": 0.7000000000000001,
                        "count": 0
                      },
                      {
                        "bin_start": 0.7000000000000001,
                        "bin_end": 0.8,
                        "count": 0
                      },
                      {
                        "bin_start": 0.8,
                        "bin_end": 0.9,
                        "count": 0
                      },
                      {
                        "bin_start": 0.9,
                        "bin_end": 1,
                        "count": 1
                      }
                    ]
                  }
                },
                {
                  "name": "milk",
                  "dtype": "int64",
                  "stats": {
                    "unique_count": 2,
                    "nan_count": 0,
                    "min": "0",
                    "max": "1",
                    "histogram": [
                      {
                        "bin_start": 0,
                        "bin_end": 0.1,
                        "count": 1
                      },
                      {
                        "bin_start": 0.1,
                        "bin_end": 0.2,
                        "count": 0
                      },
                      {
                        "bin_start": 0.2,
                        "bin_end": 0.30000000000000004,
                        "count": 0
                      },
                      {
                        "bin_start": 0.30000000000000004,
                        "bin_end": 0.4,
                        "count": 0
                      },
                      {
                        "bin_start": 0.4,
                        "bin_end": 0.5,
                        "count": 0
                      },
                      {
                        "bin_start": 0.5,
                        "bin_end": 0.6000000000000001,
                        "count": 0
                      },
                      {
                        "bin_start": 0.6000000000000001,
                        "bin_end": 0.7000000000000001,
                        "count": 0
                      },
                      {
                        "bin_start": 0.7000000000000001,
                        "bin_end": 0.8,
                        "count": 0
                      },
                      {
                        "bin_start": 0.8,
                        "bin_end": 0.9,
                        "count": 0
                      },
                      {
                        "bin_start": 0.9,
                        "bin_end": 1,
                        "count": 4
                      }
                    ]
                  }
                },
                {
                  "name": "airborne",
                  "dtype": "int64",
                  "stats": {
                    "unique_count": 1,
                    "nan_count": 0,
                    "min": "0",
                    "max": "0",
                    "histogram": [
                      {
                        "bin_start": -0.5,
                        "bin_end": -0.4,
                        "count": 0
                      },
                      {
                        "bin_start": -0.4,
                        "bin_end": -0.3,
                        "count": 0
                      },
                      {
                        "bin_start": -0.3,
                        "bin_end": -0.19999999999999996,
                        "count": 0
                      },
                      {
                        "bin_start": -0.19999999999999996,
                        "bin_end": -0.09999999999999998,
                        "count": 0
                      },
                      {
                        "bin_start": -0.09999999999999998,
                        "bin_end": 0,
                        "count": 0
                      },
                      {
                        "bin_start": 0,
                        "bin_end": 0.10000000000000009,
                        "count": 5
                      },
                      {
                        "bin_start": 0.10000000000000009,
                        "bin_end": 0.20000000000000007,
                        "count": 0
                      },
                      {
                        "bin_start": 0.20000000000000007,
                        "bin_end": 0.30000000000000004,
                        "count": 0
                      },
                      {
                        "bin_start": 0.30000000000000004,
                        "bin_end": 0.4,
                        "count": 0
                      },
                      {
                        "bin_start": 0.4,
                        "bin_end": 0.5,
                        "count": 0
                      }
                    ]
                  }
                },
                {
                  "name": "aquatic",
                  "dtype": "int64",
                  "stats": {
                    "unique_count": 2,
                    "nan_count": 0,
                    "min": "0",
                    "max": "1",
                    "histogram": [
                      {
                        "bin_start": 0,
                        "bin_end": 0.1,
                        "count": 4
                      },
                      {
                        "bin_start": 0.1,
                        "bin_end": 0.2,
                        "count": 0
                      },
                      {
                        "bin_start": 0.2,
                        "bin_end": 0.30000000000000004,
                        "count": 0
                      },
                      {
                        "bin_start": 0.30000000000000004,
                        "bin_end": 0.4,
                        "count": 0
                      },
                      {
                        "bin_start": 0.4,
                        "bin_end": 0.5,
                        "count": 0
                      },
                      {
                        "bin_start": 0.5,
                        "bin_end": 0.6000000000000001,
                        "count": 0
                      },
                      {
                        "bin_start": 0.6000000000000001,
                        "bin_end": 0.7000000000000001,
                        "count": 0
                      },
                      {
                        "bin_start": 0.7000000000000001,
                        "bin_end": 0.8,
                        "count": 0
                      },
                      {
                        "bin_start": 0.8,
                        "bin_end": 0.9,
                        "count": 0
                      },
                      {
                        "bin_start": 0.9,
                        "bin_end": 1,
                        "count": 1
                      }
                    ]
                  }
                },
                {
                  "name": "predator",
                  "dtype": "int64",
                  "stats": {
                    "unique_count": 2,
                    "nan_count": 0,
                    "min": "0",
                    "max": "1",
                    "histogram": [
                      {
                        "bin_start": 0,
                        "bin_end": 0.1,
                        "count": 1
                      },
                      {
                        "bin_start": 0.1,
                        "bin_end": 0.2,
                        "count": 0
                      },
                      {
                        "bin_start": 0.2,
                        "bin_end": 0.30000000000000004,
                        "count": 0
                      },
                      {
                        "bin_start": 0.30000000000000004,
                        "bin_end": 0.4,
                        "count": 0
                      },
                      {
                        "bin_start": 0.4,
                        "bin_end": 0.5,
                        "count": 0
                      },
                      {
                        "bin_start": 0.5,
                        "bin_end": 0.6000000000000001,
                        "count": 0
                      },
                      {
                        "bin_start": 0.6000000000000001,
                        "bin_end": 0.7000000000000001,
                        "count": 0
                      },
                      {
                        "bin_start": 0.7000000000000001,
                        "bin_end": 0.8,
                        "count": 0
                      },
                      {
                        "bin_start": 0.8,
                        "bin_end": 0.9,
                        "count": 0
                      },
                      {
                        "bin_start": 0.9,
                        "bin_end": 1,
                        "count": 4
                      }
                    ]
                  }
                },
                {
                  "name": "toothed",
                  "dtype": "int64",
                  "stats": {
                    "unique_count": 1,
                    "nan_count": 0,
                    "min": "1",
                    "max": "1",
                    "histogram": [
                      {
                        "bin_start": 0.5,
                        "bin_end": 0.6,
                        "count": 0
                      },
                      {
                        "bin_start": 0.6,
                        "bin_end": 0.7,
                        "count": 0
                      },
                      {
                        "bin_start": 0.7,
                        "bin_end": 0.8,
                        "count": 0
                      },
                      {
                        "bin_start": 0.8,
                        "bin_end": 0.9,
                        "count": 0
                      },
                      {
                        "bin_start": 0.9,
                        "bin_end": 1,
                        "count": 0
                      },
                      {
                        "bin_start": 1,
                        "bin_end": 1.1,
                        "count": 5
                      },
                      {
                        "bin_start": 1.1,
                        "bin_end": 1.2000000000000002,
                        "count": 0
                      },
                      {
                        "bin_start": 1.2000000000000002,
                        "bin_end": 1.3,
                        "count": 0
                      },
                      {
                        "bin_start": 1.3,
                        "bin_end": 1.4,
                        "count": 0
                      },
                      {
                        "bin_start": 1.4,
                        "bin_end": 1.5,
                        "count": 0
                      }
                    ]
                  }
                },
                {
                  "name": "backbone",
                  "dtype": "int64",
                  "stats": {
                    "unique_count": 1,
                    "nan_count": 0,
                    "min": "1",
                    "max": "1",
                    "histogram": [
                      {
                        "bin_start": 0.5,
                        "bin_end": 0.6,
                        "count": 0
                      },
                      {
                        "bin_start": 0.6,
                        "bin_end": 0.7,
                        "count": 0
                      },
                      {
                        "bin_start": 0.7,
                        "bin_end": 0.8,
                        "count": 0
                      },
                      {
                        "bin_start": 0.8,
                        "bin_end": 0.9,
                        "count": 0
                      },
                      {
                        "bin_start": 0.9,
                        "bin_end": 1,
                        "count": 0
                      },
                      {
                        "bin_start": 1,
                        "bin_end": 1.1,
                        "count": 5
                      },
                      {
                        "bin_start": 1.1,
                        "bin_end": 1.2000000000000002,
                        "count": 0
                      },
                      {
                        "bin_start": 1.2000000000000002,
                        "bin_end": 1.3,
                        "count": 0
                      },
                      {
                        "bin_start": 1.3,
                        "bin_end": 1.4,
                        "count": 0
                      },
                      {
                        "bin_start": 1.4,
                        "bin_end": 1.5,
                        "count": 0
                      }
                    ]
                  }
                },
                {
                  "name": "breathes",
                  "dtype": "int64",
                  "stats": {
                    "unique_count": 2,
                    "nan_count": 0,
                    "min": "0",
                    "max": "1",
                    "histogram": [
                      {
                        "bin_start": 0,
                        "bin_end": 0.1,
                        "count": 1
                      },
                      {
                        "bin_start": 0.1,
                        "bin_end": 0.2,
                        "count": 0
                      },
                      {
                        "bin_start": 0.2,
                        "bin_end": 0.30000000000000004,
                        "count": 0
                      },
                      {
                        "bin_start": 0.30000000000000004,
                        "bin_end": 0.4,
                        "count": 0
                      },
                      {
                        "bin_start": 0.4,
                        "bin_end": 0.5,
                        "count": 0
                      },
                      {
                        "bin_start": 0.5,
                        "bin_end": 0.6000000000000001,
                        "count": 0
                      },
                      {
                        "bin_start": 0.6000000000000001,
                        "bin_end": 0.7000000000000001,
                        "count": 0
                      },
                      {
                        "bin_start": 0.7000000000000001,
                        "bin_end": 0.8,
                        "count": 0
                      },
                      {
                        "bin_start": 0.8,
                        "bin_end": 0.9,
                        "count": 0
                      },
                      {
                        "bin_start": 0.9,
                        "bin_end": 1,
                        "count": 4
                      }
                    ]
                  }
                },
                {
                  "name": "venomous",
                  "dtype": "int64",
                  "stats": {
                    "unique_count": 1,
                    "nan_count": 0,
                    "min": "0",
                    "max": "0",
                    "histogram": [
                      {
                        "bin_start": -0.5,
                        "bin_end": -0.4,
                        "count": 0
                      },
                      {
                        "bin_start": -0.4,
                        "bin_end": -0.3,
                        "count": 0
                      },
                      {
                        "bin_start": -0.3,
                        "bin_end": -0.19999999999999996,
                        "count": 0
                      },
                      {
                        "bin_start": -0.19999999999999996,
                        "bin_end": -0.09999999999999998,
                        "count": 0
                      },
                      {
                        "bin_start": -0.09999999999999998,
                        "bin_end": 0,
                        "count": 0
                      },
                      {
                        "bin_start": 0,
                        "bin_end": 0.10000000000000009,
                        "count": 5
                      },
                      {
                        "bin_start": 0.10000000000000009,
                        "bin_end": 0.20000000000000007,
                        "count": 0
                      },
                      {
                        "bin_start": 0.20000000000000007,
                        "bin_end": 0.30000000000000004,
                        "count": 0
                      },
                      {
                        "bin_start": 0.30000000000000004,
                        "bin_end": 0.4,
                        "count": 0
                      },
                      {
                        "bin_start": 0.4,
                        "bin_end": 0.5,
                        "count": 0
                      }
                    ]
                  }
                },
                {
                  "name": "fins",
                  "dtype": "int64",
                  "stats": {
                    "unique_count": 2,
                    "nan_count": 0,
                    "min": "0",
                    "max": "1",
                    "histogram": [
                      {
                        "bin_start": 0,
                        "bin_end": 0.1,
                        "count": 4
                      },
                      {
                        "bin_start": 0.1,
                        "bin_end": 0.2,
                        "count": 0
                      },
                      {
                        "bin_start": 0.2,
                        "bin_end": 0.30000000000000004,
                        "count": 0
                      },
                      {
                        "bin_start": 0.30000000000000004,
                        "bin_end": 0.4,
                        "count": 0
                      },
                      {
                        "bin_start": 0.4,
                        "bin_end": 0.5,
                        "count": 0
                      },
                      {
                        "bin_start": 0.5,
                        "bin_end": 0.6000000000000001,
                        "count": 0
                      },
                      {
                        "bin_start": 0.6000000000000001,
                        "bin_end": 0.7000000000000001,
                        "count": 0
                      },
                      {
                        "bin_start": 0.7000000000000001,
                        "bin_end": 0.8,
                        "count": 0
                      },
                      {
                        "bin_start": 0.8,
                        "bin_end": 0.9,
                        "count": 0
                      },
                      {
                        "bin_start": 0.9,
                        "bin_end": 1,
                        "count": 1
                      }
                    ]
                  }
                },
                {
                  "name": "legs",
                  "dtype": "int64",
                  "stats": {
                    "unique_count": 2,
                    "nan_count": 0,
                    "min": "0",
                    "max": "4",
                    "histogram": [
                      {
                        "bin_start": 0,
                        "bin_end": 0.4,
                        "count": 1
                      },
                      {
                        "bin_start": 0.4,
                        "bin_end": 0.8,
                        "count": 0
                      },
                      {
                        "bin_start": 0.8,
                        "bin_end": 1.2000000000000002,
                        "count": 0
                      },
                      {
                        "bin_start": 1.2000000000000002,
                        "bin_end": 1.6,
                        "count": 0
                      },
                      {
                        "bin_start": 1.6,
                        "bin_end": 2,
                        "count": 0
                      },
                      {
                        "bin_start": 2,
                        "bin_end": 2.4000000000000004,
                        "count": 0
                      },
                      {
                        "bin_start": 2.4000000000000004,
                        "bin_end": 2.8000000000000003,
                        "count": 0
                      },
                      {
                        "bin_start": 2.8000000000000003,
                        "bin_end": 3.2,
                        "count": 0
                      },
                      {
                        "bin_start": 3.2,
                        "bin_end": 3.6,
                        "count": 0
                      },
                      {
                        "bin_start": 3.6,
                        "bin_end": 4,
                        "count": 4
                      }
                    ]
                  }
                },
                {
                  "name": "tail",
                  "dtype": "int64",
                  "stats": {
                    "unique_count": 2,
                    "nan_count": 0,
                    "min": "0",
                    "max": "1",
                    "histogram": [
                      {
                        "bin_start": 0,
                        "bin_end": 0.1,
                        "count": 2
                      },
                      {
                        "bin_start": 0.1,
                        "bin_end": 0.2,
                        "count": 0
                      },
                      {
                        "bin_start": 0.2,
                        "bin_end": 0.30000000000000004,
                        "count": 0
                      },
                      {
                        "bin_start": 0.30000000000000004,
                        "bin_end": 0.4,
                        "count": 0
                      },
                      {
                        "bin_start": 0.4,
                        "bin_end": 0.5,
                        "count": 0
                      },
                      {
                        "bin_start": 0.5,
                        "bin_end": 0.6000000000000001,
                        "count": 0
                      },
                      {
                        "bin_start": 0.6000000000000001,
                        "bin_end": 0.7000000000000001,
                        "count": 0
                      },
                      {
                        "bin_start": 0.7000000000000001,
                        "bin_end": 0.8,
                        "count": 0
                      },
                      {
                        "bin_start": 0.8,
                        "bin_end": 0.9,
                        "count": 0
                      },
                      {
                        "bin_start": 0.9,
                        "bin_end": 1,
                        "count": 3
                      }
                    ]
                  }
                },
                {
                  "name": "domestic",
                  "dtype": "int64",
                  "stats": {
                    "unique_count": 1,
                    "nan_count": 0,
                    "min": "0",
                    "max": "0",
                    "histogram": [
                      {
                        "bin_start": -0.5,
                        "bin_end": -0.4,
                        "count": 0
                      },
                      {
                        "bin_start": -0.4,
                        "bin_end": -0.3,
                        "count": 0
                      },
                      {
                        "bin_start": -0.3,
                        "bin_end": -0.19999999999999996,
                        "count": 0
                      },
                      {
                        "bin_start": -0.19999999999999996,
                        "bin_end": -0.09999999999999998,
                        "count": 0
                      },
                      {
                        "bin_start": -0.09999999999999998,
                        "bin_end": 0,
                        "count": 0
                      },
                      {
                        "bin_start": 0,
                        "bin_end": 0.10000000000000009,
                        "count": 5
                      },
                      {
                        "bin_start": 0.10000000000000009,
                        "bin_end": 0.20000000000000007,
                        "count": 0
                      },
                      {
                        "bin_start": 0.20000000000000007,
                        "bin_end": 0.30000000000000004,
                        "count": 0
                      },
                      {
                        "bin_start": 0.30000000000000004,
                        "bin_end": 0.4,
                        "count": 0
                      },
                      {
                        "bin_start": 0.4,
                        "bin_end": 0.5,
                        "count": 0
                      }
                    ]
                  }
                },
                {
                  "name": "catsize",
                  "dtype": "int64",
                  "stats": {
                    "unique_count": 2,
                    "nan_count": 0,
                    "min": "0",
                    "max": "1",
                    "histogram": [
                      {
                        "bin_start": 0,
                        "bin_end": 0.1,
                        "count": 1
                      },
                      {
                        "bin_start": 0.1,
                        "bin_end": 0.2,
                        "count": 0
                      },
                      {
                        "bin_start": 0.2,
                        "bin_end": 0.30000000000000004,
                        "count": 0
                      },
                      {
                        "bin_start": 0.30000000000000004,
                        "bin_end": 0.4,
                        "count": 0
                      },
                      {
                        "bin_start": 0.4,
                        "bin_end": 0.5,
                        "count": 0
                      },
                      {
                        "bin_start": 0.5,
                        "bin_end": 0.6000000000000001,
                        "count": 0
                      },
                      {
                        "bin_start": 0.6000000000000001,
                        "bin_end": 0.7000000000000001,
                        "count": 0
                      },
                      {
                        "bin_start": 0.7000000000000001,
                        "bin_end": 0.8,
                        "count": 0
                      },
                      {
                        "bin_start": 0.8,
                        "bin_end": 0.9,
                        "count": 0
                      },
                      {
                        "bin_start": 0.9,
                        "bin_end": 1,
                        "count": 4
                      }
                    ]
                  }
                },
                {
                  "name": "class_type",
                  "dtype": "int64",
                  "stats": {
                    "unique_count": 2,
                    "nan_count": 0,
                    "min": "1",
                    "max": "4",
                    "histogram": [
                      {
                        "bin_start": 1,
                        "bin_end": 1.3,
                        "count": 4
                      },
                      {
                        "bin_start": 1.3,
                        "bin_end": 1.6,
                        "count": 0
                      },
                      {
                        "bin_start": 1.6,
                        "bin_end": 1.9,
                        "count": 0
                      },
                      {
                        "bin_start": 1.9,
                        "bin_end": 2.2,
                        "count": 0
                      },
                      {
                        "bin_start": 2.2,
                        "bin_end": 2.5,
                        "count": 0
                      },
                      {
                        "bin_start": 2.5,
                        "bin_end": 2.8,
                        "count": 0
                      },
                      {
                        "bin_start": 2.8,
                        "bin_end": 3.1,
                        "count": 0
                      },
                      {
                        "bin_start": 3.1,
                        "bin_end": 3.4,
                        "count": 0
                      },
                      {
                        "bin_start": 3.4,
                        "bin_end": 3.6999999999999997,
                        "count": 0
                      },
                      {
                        "bin_start": 3.6999999999999997,
                        "bin_end": 4,
                        "count": 1
                      }
                    ]
                  }
                },
                {
                  "name": "_deepnote_index_column",
                  "dtype": "int64"
                }
              ],
              "rows_top": [
                {
                  "animal_name": "aardvark",
                  "hair": 1,
                  "feathers": 0,
                  "eggs": 0,
                  "milk": 1,
                  "airborne": 0,
                  "aquatic": 0,
                  "predator": 1,
                  "toothed": 1,
                  "backbone": 1,
                  "breathes": 1,
                  "venomous": 0,
                  "fins": 0,
                  "legs": 4,
                  "tail": 0,
                  "domestic": 0,
                  "catsize": 1,
                  "class_type": 1,
                  "_deepnote_index_column": 0
                },
                {
                  "animal_name": "antelope",
                  "hair": 1,
                  "feathers": 0,
                  "eggs": 0,
                  "milk": 1,
                  "airborne": 0,
                  "aquatic": 0,
                  "predator": 0,
                  "toothed": 1,
                  "backbone": 1,
                  "breathes": 1,
                  "venomous": 0,
                  "fins": 0,
                  "legs": 4,
                  "tail": 1,
                  "domestic": 0,
                  "catsize": 1,
                  "class_type": 1,
                  "_deepnote_index_column": 1
                },
                {
                  "animal_name": "bass",
                  "hair": 0,
                  "feathers": 0,
                  "eggs": 1,
                  "milk": 0,
                  "airborne": 0,
                  "aquatic": 1,
                  "predator": 1,
                  "toothed": 1,
                  "backbone": 1,
                  "breathes": 0,
                  "venomous": 0,
                  "fins": 1,
                  "legs": 0,
                  "tail": 1,
                  "domestic": 0,
                  "catsize": 0,
                  "class_type": 4,
                  "_deepnote_index_column": 2
                },
                {
                  "animal_name": "bear",
                  "hair": 1,
                  "feathers": 0,
                  "eggs": 0,
                  "milk": 1,
                  "airborne": 0,
                  "aquatic": 0,
                  "predator": 1,
                  "toothed": 1,
                  "backbone": 1,
                  "breathes": 1,
                  "venomous": 0,
                  "fins": 0,
                  "legs": 4,
                  "tail": 0,
                  "domestic": 0,
                  "catsize": 1,
                  "class_type": 1,
                  "_deepnote_index_column": 3
                },
                {
                  "animal_name": "boar",
                  "hair": 1,
                  "feathers": 0,
                  "eggs": 0,
                  "milk": 1,
                  "airborne": 0,
                  "aquatic": 0,
                  "predator": 1,
                  "toothed": 1,
                  "backbone": 1,
                  "breathes": 1,
                  "venomous": 0,
                  "fins": 0,
                  "legs": 4,
                  "tail": 1,
                  "domestic": 0,
                  "catsize": 1,
                  "class_type": 1,
                  "_deepnote_index_column": 4
                }
              ],
              "rows_bottom": null
            },
            "text/plain": "  animal_name  hair  feathers  eggs  milk  airborne  aquatic  predator  \\\n0    aardvark     1         0     0     1         0        0         1   \n1    antelope     1         0     0     1         0        0         0   \n2        bass     0         0     1     0         0        1         1   \n3        bear     1         0     0     1         0        0         1   \n4        boar     1         0     0     1         0        0         1   \n\n   toothed  backbone  breathes  venomous  fins  legs  tail  domestic  catsize  \\\n0        1         1         1         0     0     4     0         0        1   \n1        1         1         1         0     0     4     1         0        1   \n2        1         1         0         0     1     0     1         0        0   \n3        1         1         1         0     0     4     0         0        1   \n4        1         1         1         0     0     4     1         0        1   \n\n   class_type  \n0           1  \n1           1  \n2           4  \n3           1  \n4           1  ",
            "text/html": "<div>\n<style scoped>\n    .dataframe tbody tr th:only-of-type {\n        vertical-align: middle;\n    }\n\n    .dataframe tbody tr th {\n        vertical-align: top;\n    }\n\n    .dataframe thead th {\n        text-align: right;\n    }\n</style>\n<table border=\"1\" class=\"dataframe\">\n  <thead>\n    <tr style=\"text-align: right;\">\n      <th></th>\n      <th>animal_name</th>\n      <th>hair</th>\n      <th>feathers</th>\n      <th>eggs</th>\n      <th>milk</th>\n      <th>airborne</th>\n      <th>aquatic</th>\n      <th>predator</th>\n      <th>toothed</th>\n      <th>backbone</th>\n      <th>breathes</th>\n      <th>venomous</th>\n      <th>fins</th>\n      <th>legs</th>\n      <th>tail</th>\n      <th>domestic</th>\n      <th>catsize</th>\n      <th>class_type</th>\n    </tr>\n  </thead>\n  <tbody>\n    <tr>\n      <th>0</th>\n      <td>aardvark</td>\n      <td>1</td>\n      <td>0</td>\n      <td>0</td>\n      <td>1</td>\n      <td>0</td>\n      <td>0</td>\n      <td>1</td>\n      <td>1</td>\n      <td>1</td>\n      <td>1</td>\n      <td>0</td>\n      <td>0</td>\n      <td>4</td>\n      <td>0</td>\n      <td>0</td>\n      <td>1</td>\n      <td>1</td>\n    </tr>\n    <tr>\n      <th>1</th>\n      <td>antelope</td>\n      <td>1</td>\n      <td>0</td>\n      <td>0</td>\n      <td>1</td>\n      <td>0</td>\n      <td>0</td>\n      <td>0</td>\n      <td>1</td>\n      <td>1</td>\n      <td>1</td>\n      <td>0</td>\n      <td>0</td>\n      <td>4</td>\n      <td>1</td>\n      <td>0</td>\n      <td>1</td>\n      <td>1</td>\n    </tr>\n    <tr>\n      <th>2</th>\n      <td>bass</td>\n      <td>0</td>\n      <td>0</td>\n      <td>1</td>\n      <td>0</td>\n      <td>0</td>\n      <td>1</td>\n      <td>1</td>\n      <td>1</td>\n      <td>1</td>\n      <td>0</td>\n      <td>0</td>\n      <td>1</td>\n      <td>0</td>\n      <td>1</td>\n      <td>0</td>\n      <td>0</td>\n      <td>4</td>\n    </tr>\n    <tr>\n      <th>3</th>\n      <td>bear</td>\n      <td>1</td>\n      <td>0</td>\n      <td>0</td>\n      <td>1</td>\n      <td>0</td>\n      <td>0</td>\n      <td>1</td>\n      <td>1</td>\n      <td>1</td>\n      <td>1</td>\n      <td>0</td>\n      <td>0</td>\n      <td>4</td>\n      <td>0</td>\n      <td>0</td>\n      <td>1</td>\n      <td>1</td>\n    </tr>\n    <tr>\n      <th>4</th>\n      <td>boar</td>\n      <td>1</td>\n      <td>0</td>\n      <td>0</td>\n      <td>1</td>\n      <td>0</td>\n      <td>0</td>\n      <td>1</td>\n      <td>1</td>\n      <td>1</td>\n      <td>1</td>\n      <td>0</td>\n      <td>0</td>\n      <td>4</td>\n      <td>1</td>\n      <td>0</td>\n      <td>1</td>\n      <td>1</td>\n    </tr>\n  </tbody>\n</table>\n</div>"
          },
          "metadata": {}
        }
      ],
      "execution_count": 14
    },
    {
      "cell_type": "code",
      "source": "X_train, X_test, y_train, y_test = train_test_split(X, y, random_state=1, test_size=0.2)",
      "metadata": {
        "tags": [],
        "cell_id": "00013-e74379b0-427c-4422-b156-01b65f20dc67",
        "deepnote_to_be_reexecuted": false,
        "source_hash": "1a0b27f7",
        "execution_start": 1619619913218,
        "execution_millis": 6,
        "deepnote_cell_type": "code"
      },
      "outputs": [],
      "execution_count": 15
    },
    {
      "cell_type": "code",
      "source": "for i in range(100,500,50):\n    clf_zoo = RandomForestClassifier(n_estimators=i, random_state=1)\n    clf_zoo = clf_zoo.fit(X_train, y_train)\n    pred_zoo = clf_zoo.predict(X_test)\n    acc_zoo = sum((y_test-pred_zoo) == 0) / len(pred_zoo)\n    print(f'For {i} estimators it has this accuracy {acc_zoo}')",
      "metadata": {
        "tags": [],
        "cell_id": "00014-094084fe-cde2-4987-a7d7-113c12783e41",
        "deepnote_to_be_reexecuted": false,
        "source_hash": "b220f9e2",
        "execution_start": 1619620018788,
        "execution_millis": 3367,
        "deepnote_cell_type": "code"
      },
      "outputs": [
        {
          "name": "stdout",
          "text": "For 100 estimators it has this accuracy 0.9523809523809523\nFor 150 estimators it has this accuracy 0.9523809523809523\nFor 200 estimators it has this accuracy 0.9523809523809523\nFor 250 estimators it has this accuracy 0.9523809523809523\nFor 300 estimators it has this accuracy 0.9523809523809523\nFor 350 estimators it has this accuracy 0.9523809523809523\nFor 400 estimators it has this accuracy 0.9523809523809523\nFor 450 estimators it has this accuracy 0.9523809523809523\n",
          "output_type": "stream"
        }
      ],
      "execution_count": 18
    },
    {
      "cell_type": "code",
      "source": "",
      "metadata": {
        "tags": [],
        "cell_id": "00021-ceed3313-83de-45be-b338-52a786facc00",
        "deepnote_cell_type": "code"
      },
      "outputs": [],
      "execution_count": null
    },
    {
      "cell_type": "markdown",
      "source": "<a style='text-decoration:none;line-height:16px;display:flex;color:#5B5B62;padding:10px;justify-content:end;' href='https://deepnote.com?utm_source=created-in-deepnote-cell&projectId=93b95208-6978-4cc9-bd04-78d290558c98' target=\"_blank\">\n<img alt='Created in deepnote.com' style='display:inline;max-height:16px;margin:0px;margin-right:7.5px;' src='data:image/svg+xml;base64,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' > </img>\nCreated in <span style='font-weight:600;margin-left:4px;'>Deepnote</span></a>",
      "metadata": {
        "tags": [],
        "created_in_deepnote_cell": true,
        "deepnote_cell_type": "markdown"
      }
    }
  ],
  "nbformat": 4,
  "nbformat_minor": 2,
  "metadata": {
    "orig_nbformat": 2,
    "deepnote": {
      "is_reactive": false
    },
    "deepnote_notebook_id": "a8c138f3-98a8-4f85-954d-a9c83fa10ce7",
    "deepnote_execution_queue": []
  }
}