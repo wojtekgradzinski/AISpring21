{
 "cells": [
  {
   "cell_type": "markdown",
   "metadata": {
    "deletable": false,
    "editable": false,
    "nbgrader": {
     "cell_type": "markdown",
     "checksum": "fbfaeccba7c78624daa81efaeac3384d",
     "grade": false,
     "grade_id": "cell-9bac3e2eaf76d09a",
     "locked": true,
     "schema_version": 3,
     "solution": false,
     "task": false
    }
   },
   "source": [
    "# Linear Regression From Scratch\n",
    "In this notebook you will implement linear regression using the least squares method.\n",
    "\n",
    "The notebook will guide you in the general steps. You may use only numpy, pandas, and matplotlib for this exercise.\n",
    "\n",
    "#### Math Background\n",
    "The task is to solve linear regression for the data set of ```x``` and ```y```. That is, fit a line y to the data such that ```y = a + bx + e```. Where a and b are coefficents and e is an error term.\n",
    "\n",
    "We know that ```b = SUM ( xi - x_mean) * (yi - y_mean) / SUM (xi - x_mean)^2``` where ```xi```, and ```yi``` are the indivdual observations and ```x_mean```, ```y_mean``` are means of all ```xi``` and ```yi```.\n",
    "\n",
    "So a reasonable solution then for a fit is ```a = y_mean - b * x_mean```.\n",
    "\n",
    "\n",
    "#### Implementation Steps\n",
    "1. Load the file ```reg_data.csv```\n",
    "2. Display the data with a scatter plot. Write a markdown cell and comment on the structure of the data and what kind of line you think will fit the data. \n",
    "3. Implement a function of the least squares method.\n",
    "4. Plot the predictions from your function.\n",
    "5. Comment on the output of your function. Does it make sense? Can it be made better? If yes, how?"
   ]
  },
  {
   "cell_type": "code",
   "execution_count": 1,
   "metadata": {},
   "outputs": [],
   "source": [
    "#import the minimum packages\n",
    "import numpy as np\n",
    "import pandas as pd\n",
    "import matplotlib.pyplot as plt\n",
    "from sklearn.model_selection import train_test_split"
   ]
  },
  {
   "cell_type": "code",
   "execution_count": 2,
   "metadata": {
    "deletable": false,
    "nbgrader": {
     "cell_type": "code",
     "checksum": "2c551326ada620ac865e47a09cfd6e88",
     "grade": false,
     "grade_id": "cell-4104816f50e4844b",
     "locked": false,
     "schema_version": 3,
     "solution": true,
     "task": false
    }
   },
   "outputs": [],
   "source": [
    "#load and inspect the data\n",
    "df = pd.read_csv('reg_data.csv')\n",
    "# raise NotImplementedError()\n"
   ]
  },
  {
   "cell_type": "code",
   "execution_count": 3,
   "metadata": {
    "deletable": false,
    "editable": false,
    "nbgrader": {
     "cell_type": "code",
     "checksum": "5a44bd6c555f034b17e8b48663c46fbf",
     "grade": true,
     "grade_id": "cell-3676b87d8fc79bbd",
     "locked": true,
     "points": 1,
     "schema_version": 3,
     "solution": false,
     "task": false
    }
   },
   "outputs": [],
   "source": [
    "assert df.shape == (100,2)"
   ]
  },
  {
   "cell_type": "code",
   "execution_count": 4,
   "metadata": {
    "deletable": false,
    "nbgrader": {
     "cell_type": "code",
     "checksum": "ec83d674d316f06d99e4a62881fe0d91",
     "grade": false,
     "grade_id": "cell-7f576e50392bc5e9",
     "locked": false,
     "schema_version": 3,
     "solution": true,
     "task": false
    }
   },
   "outputs": [
    {
     "output_type": "execute_result",
     "data": {
      "text/plain": [
       "<matplotlib.collections.PathCollection at 0x11f21b220>"
      ]
     },
     "metadata": {},
     "execution_count": 4
    },
    {
     "output_type": "display_data",
     "data": {
      "text/plain": "<Figure size 864x576 with 1 Axes>",
      "image/svg+xml": "<?xml version=\"1.0\" encoding=\"utf-8\" standalone=\"no\"?>\n<!DOCTYPE svg PUBLIC \"-//W3C//DTD SVG 1.1//EN\"\n  \"http://www.w3.org/Graphics/SVG/1.1/DTD/svg11.dtd\">\n<!-- Created with matplotlib (https://matplotlib.org/) -->\n<svg height=\"465.958125pt\" version=\"1.1\" viewBox=\"0 0 710.0875 465.958125\" width=\"710.0875pt\" xmlns=\"http://www.w3.org/2000/svg\" xmlns:xlink=\"http://www.w3.org/1999/xlink\">\n <metadata>\n  <rdf:RDF xmlns:cc=\"http://creativecommons.org/ns#\" xmlns:dc=\"http://purl.org/dc/elements/1.1/\" xmlns:rdf=\"http://www.w3.org/1999/02/22-rdf-syntax-ns#\">\n   <cc:Work>\n    <dc:type rdf:resource=\"http://purl.org/dc/dcmitype/StillImage\"/>\n    <dc:date>2021-04-20T15:33:44.180116</dc:date>\n    <dc:format>image/svg+xml</dc:format>\n    <dc:creator>\n     <cc:Agent>\n      <dc:title>Matplotlib v3.3.4, https://matplotlib.org/</dc:title>\n     </cc:Agent>\n    </dc:creator>\n   </cc:Work>\n  </rdf:RDF>\n </metadata>\n <defs>\n  <style type=\"text/css\">*{stroke-linecap:butt;stroke-linejoin:round;}</style>\n </defs>\n <g id=\"figure_1\">\n  <g id=\"patch_1\">\n   <path d=\"M 0 465.958125 \nL 710.0875 465.958125 \nL 710.0875 0 \nL 0 0 \nz\n\" style=\"fill:none;\"/>\n  </g>\n  <g id=\"axes_1\">\n   <g id=\"patch_2\">\n    <path d=\"M 33.2875 442.08 \nL 702.8875 442.08 \nL 702.8875 7.2 \nL 33.2875 7.2 \nz\n\" style=\"fill:#ffffff;\"/>\n   </g>\n   <g id=\"PathCollection_1\">\n    <defs>\n     <path d=\"M 0 3 \nC 0.795609 3 1.55874 2.683901 2.12132 2.12132 \nC 2.683901 1.55874 3 0.795609 3 0 \nC 3 -0.795609 2.683901 -1.55874 2.12132 -2.12132 \nC 1.55874 -2.683901 0.795609 -3 0 -3 \nC -0.795609 -3 -1.55874 -2.683901 -2.12132 -2.12132 \nC -2.683901 -1.55874 -3 -0.795609 -3 0 \nC -3 0.795609 -2.683901 1.55874 -2.12132 2.12132 \nC -1.55874 2.683901 -0.795609 3 0 3 \nz\n\" id=\"mdd15609004\" style=\"stroke:#1f77b4;\"/>\n    </defs>\n    <g clip-path=\"url(#p77a508473a)\">\n     <use style=\"fill:#1f77b4;stroke:#1f77b4;\" x=\"162.99209\" xlink:href=\"#mdd15609004\" y=\"422.312727\"/>\n     <use style=\"fill:#1f77b4;stroke:#1f77b4;\" x=\"444.680885\" xlink:href=\"#mdd15609004\" y=\"253.632031\"/>\n     <use style=\"fill:#1f77b4;stroke:#1f77b4;\" x=\"553.772374\" xlink:href=\"#mdd15609004\" y=\"281.912848\"/>\n     <use style=\"fill:#1f77b4;stroke:#1f77b4;\" x=\"364.565249\" xlink:href=\"#mdd15609004\" y=\"241.032205\"/>\n     <use style=\"fill:#1f77b4;stroke:#1f77b4;\" x=\"530.655793\" xlink:href=\"#mdd15609004\" y=\"169.664648\"/>\n     <use style=\"fill:#1f77b4;stroke:#1f77b4;\" x=\"467.773696\" xlink:href=\"#mdd15609004\" y=\"210.705264\"/>\n     <use style=\"fill:#1f77b4;stroke:#1f77b4;\" x=\"428.32424\" xlink:href=\"#mdd15609004\" y=\"204.196328\"/>\n     <use style=\"fill:#1f77b4;stroke:#1f77b4;\" x=\"254.497497\" xlink:href=\"#mdd15609004\" y=\"297.342281\"/>\n     <use style=\"fill:#1f77b4;stroke:#1f77b4;\" x=\"373.038372\" xlink:href=\"#mdd15609004\" y=\"223.811258\"/>\n     <use style=\"fill:#1f77b4;stroke:#1f77b4;\" x=\"432.877387\" xlink:href=\"#mdd15609004\" y=\"242.150442\"/>\n     <use style=\"fill:#1f77b4;stroke:#1f77b4;\" x=\"336.888229\" xlink:href=\"#mdd15609004\" y=\"315.569754\"/>\n     <use style=\"fill:#1f77b4;stroke:#1f77b4;\" x=\"457.131123\" xlink:href=\"#mdd15609004\" y=\"191.287824\"/>\n     <use style=\"fill:#1f77b4;stroke:#1f77b4;\" x=\"319.984032\" xlink:href=\"#mdd15609004\" y=\"284.431228\"/>\n     <use style=\"fill:#1f77b4;stroke:#1f77b4;\" x=\"508.514048\" xlink:href=\"#mdd15609004\" y=\"223.530835\"/>\n     <use style=\"fill:#1f77b4;stroke:#1f77b4;\" x=\"489.111513\" xlink:href=\"#mdd15609004\" y=\"196.03217\"/>\n     <use style=\"fill:#1f77b4;stroke:#1f77b4;\" x=\"384.492624\" xlink:href=\"#mdd15609004\" y=\"290.279768\"/>\n     <use style=\"fill:#1f77b4;stroke:#1f77b4;\" x=\"327.026727\" xlink:href=\"#mdd15609004\" y=\"189.405579\"/>\n     <use style=\"fill:#1f77b4;stroke:#1f77b4;\" x=\"537.173089\" xlink:href=\"#mdd15609004\" y=\"123.484223\"/>\n     <use style=\"fill:#1f77b4;stroke:#1f77b4;\" x=\"339.56604\" xlink:href=\"#mdd15609004\" y=\"344.320659\"/>\n     <use style=\"fill:#1f77b4;stroke:#1f77b4;\" x=\"247.998642\" xlink:href=\"#mdd15609004\" y=\"307.781826\"/>\n     <use style=\"fill:#1f77b4;stroke:#1f77b4;\" x=\"616.498836\" xlink:href=\"#mdd15609004\" y=\"184.918749\"/>\n     <use style=\"fill:#1f77b4;stroke:#1f77b4;\" x=\"606.082276\" xlink:href=\"#mdd15609004\" y=\"26.967273\"/>\n     <use style=\"fill:#1f77b4;stroke:#1f77b4;\" x=\"364.640219\" xlink:href=\"#mdd15609004\" y=\"306.077271\"/>\n     <use style=\"fill:#1f77b4;stroke:#1f77b4;\" x=\"285.138437\" xlink:href=\"#mdd15609004\" y=\"332.742118\"/>\n     <use style=\"fill:#1f77b4;stroke:#1f77b4;\" x=\"423.388874\" xlink:href=\"#mdd15609004\" y=\"223.586433\"/>\n     <use style=\"fill:#1f77b4;stroke:#1f77b4;\" x=\"524.700315\" xlink:href=\"#mdd15609004\" y=\"226.38524\"/>\n     <use style=\"fill:#1f77b4;stroke:#1f77b4;\" x=\"496.957208\" xlink:href=\"#mdd15609004\" y=\"132.242757\"/>\n     <use style=\"fill:#1f77b4;stroke:#1f77b4;\" x=\"581.843752\" xlink:href=\"#mdd15609004\" y=\"133.26969\"/>\n     <use style=\"fill:#1f77b4;stroke:#1f77b4;\" x=\"354.629889\" xlink:href=\"#mdd15609004\" y=\"206.879008\"/>\n     <use style=\"fill:#1f77b4;stroke:#1f77b4;\" x=\"406.043843\" xlink:href=\"#mdd15609004\" y=\"186.950407\"/>\n     <use style=\"fill:#1f77b4;stroke:#1f77b4;\" x=\"428.48847\" xlink:href=\"#mdd15609004\" y=\"278.288987\"/>\n     <use style=\"fill:#1f77b4;stroke:#1f77b4;\" x=\"204.260193\" xlink:href=\"#mdd15609004\" y=\"378.148485\"/>\n     <use style=\"fill:#1f77b4;stroke:#1f77b4;\" x=\"296.727142\" xlink:href=\"#mdd15609004\" y=\"217.959178\"/>\n     <use style=\"fill:#1f77b4;stroke:#1f77b4;\" x=\"508.461133\" xlink:href=\"#mdd15609004\" y=\"126.261383\"/>\n     <use style=\"fill:#1f77b4;stroke:#1f77b4;\" x=\"499.57485\" xlink:href=\"#mdd15609004\" y=\"229.485939\"/>\n     <use style=\"fill:#1f77b4;stroke:#1f77b4;\" x=\"337.16825\" xlink:href=\"#mdd15609004\" y=\"263.594597\"/>\n     <use style=\"fill:#1f77b4;stroke:#1f77b4;\" x=\"558.697709\" xlink:href=\"#mdd15609004\" y=\"212.721191\"/>\n     <use style=\"fill:#1f77b4;stroke:#1f77b4;\" x=\"170.954787\" xlink:href=\"#mdd15609004\" y=\"335.800596\"/>\n     <use style=\"fill:#1f77b4;stroke:#1f77b4;\" x=\"215.94778\" xlink:href=\"#mdd15609004\" y=\"283.905002\"/>\n     <use style=\"fill:#1f77b4;stroke:#1f77b4;\" x=\"232.636106\" xlink:href=\"#mdd15609004\" y=\"289.885514\"/>\n     <use style=\"fill:#1f77b4;stroke:#1f77b4;\" x=\"325.255268\" xlink:href=\"#mdd15609004\" y=\"326.866648\"/>\n     <use style=\"fill:#1f77b4;stroke:#1f77b4;\" x=\"308.598168\" xlink:href=\"#mdd15609004\" y=\"300.080009\"/>\n     <use style=\"fill:#1f77b4;stroke:#1f77b4;\" x=\"399.533338\" xlink:href=\"#mdd15609004\" y=\"189.344252\"/>\n     <use style=\"fill:#1f77b4;stroke:#1f77b4;\" x=\"316.033733\" xlink:href=\"#mdd15609004\" y=\"287.089549\"/>\n     <use style=\"fill:#1f77b4;stroke:#1f77b4;\" x=\"573.523042\" xlink:href=\"#mdd15609004\" y=\"42.197275\"/>\n     <use style=\"fill:#1f77b4;stroke:#1f77b4;\" x=\"165.236215\" xlink:href=\"#mdd15609004\" y=\"359.229868\"/>\n     <use style=\"fill:#1f77b4;stroke:#1f77b4;\" x=\"266.173679\" xlink:href=\"#mdd15609004\" y=\"320.491413\"/>\n     <use style=\"fill:#1f77b4;stroke:#1f77b4;\" x=\"446.67697\" xlink:href=\"#mdd15609004\" y=\"166.190402\"/>\n     <use style=\"fill:#1f77b4;stroke:#1f77b4;\" x=\"181.325823\" xlink:href=\"#mdd15609004\" y=\"326.673212\"/>\n     <use style=\"fill:#1f77b4;stroke:#1f77b4;\" x=\"596.538762\" xlink:href=\"#mdd15609004\" y=\"140.79239\"/>\n     <use style=\"fill:#1f77b4;stroke:#1f77b4;\" x=\"238.615591\" xlink:href=\"#mdd15609004\" y=\"201.810617\"/>\n     <use style=\"fill:#1f77b4;stroke:#1f77b4;\" x=\"324.540825\" xlink:href=\"#mdd15609004\" y=\"270.358248\"/>\n     <use style=\"fill:#1f77b4;stroke:#1f77b4;\" x=\"271.997948\" xlink:href=\"#mdd15609004\" y=\"268.262447\"/>\n     <use style=\"fill:#1f77b4;stroke:#1f77b4;\" x=\"287.090907\" xlink:href=\"#mdd15609004\" y=\"269.542954\"/>\n     <use style=\"fill:#1f77b4;stroke:#1f77b4;\" x=\"413.204033\" xlink:href=\"#mdd15609004\" y=\"232.441279\"/>\n     <use style=\"fill:#1f77b4;stroke:#1f77b4;\" x=\"466.910871\" xlink:href=\"#mdd15609004\" y=\"242.883725\"/>\n     <use style=\"fill:#1f77b4;stroke:#1f77b4;\" x=\"282.474055\" xlink:href=\"#mdd15609004\" y=\"206.649568\"/>\n     <use style=\"fill:#1f77b4;stroke:#1f77b4;\" x=\"566.754483\" xlink:href=\"#mdd15609004\" y=\"172.89709\"/>\n     <use style=\"fill:#1f77b4;stroke:#1f77b4;\" x=\"387.83123\" xlink:href=\"#mdd15609004\" y=\"180.986721\"/>\n     <use style=\"fill:#1f77b4;stroke:#1f77b4;\" x=\"278.7714\" xlink:href=\"#mdd15609004\" y=\"296.48974\"/>\n     <use style=\"fill:#1f77b4;stroke:#1f77b4;\" x=\"279.839367\" xlink:href=\"#mdd15609004\" y=\"285.909542\"/>\n     <use style=\"fill:#1f77b4;stroke:#1f77b4;\" x=\"401.057847\" xlink:href=\"#mdd15609004\" y=\"248.763219\"/>\n     <use style=\"fill:#1f77b4;stroke:#1f77b4;\" x=\"430.567705\" xlink:href=\"#mdd15609004\" y=\"174.818423\"/>\n     <use style=\"fill:#1f77b4;stroke:#1f77b4;\" x=\"400.372568\" xlink:href=\"#mdd15609004\" y=\"297.627355\"/>\n     <use style=\"fill:#1f77b4;stroke:#1f77b4;\" x=\"178.370754\" xlink:href=\"#mdd15609004\" y=\"248.526253\"/>\n     <use style=\"fill:#1f77b4;stroke:#1f77b4;\" x=\"257.975243\" xlink:href=\"#mdd15609004\" y=\"362.451896\"/>\n     <use style=\"fill:#1f77b4;stroke:#1f77b4;\" x=\"481.077026\" xlink:href=\"#mdd15609004\" y=\"177.549594\"/>\n     <use style=\"fill:#1f77b4;stroke:#1f77b4;\" x=\"497.657897\" xlink:href=\"#mdd15609004\" y=\"131.871302\"/>\n     <use style=\"fill:#1f77b4;stroke:#1f77b4;\" x=\"536.794634\" xlink:href=\"#mdd15609004\" y=\"246.923413\"/>\n     <use style=\"fill:#1f77b4;stroke:#1f77b4;\" x=\"205.744584\" xlink:href=\"#mdd15609004\" y=\"326.690318\"/>\n     <use style=\"fill:#1f77b4;stroke:#1f77b4;\" x=\"150.684586\" xlink:href=\"#mdd15609004\" y=\"337.28816\"/>\n     <use style=\"fill:#1f77b4;stroke:#1f77b4;\" x=\"447.832761\" xlink:href=\"#mdd15609004\" y=\"276.998496\"/>\n     <use style=\"fill:#1f77b4;stroke:#1f77b4;\" x=\"353.884209\" xlink:href=\"#mdd15609004\" y=\"237.84421\"/>\n     <use style=\"fill:#1f77b4;stroke:#1f77b4;\" x=\"305.764885\" xlink:href=\"#mdd15609004\" y=\"303.525972\"/>\n     <use style=\"fill:#1f77b4;stroke:#1f77b4;\" x=\"672.451136\" xlink:href=\"#mdd15609004\" y=\"92.191177\"/>\n     <use style=\"fill:#1f77b4;stroke:#1f77b4;\" x=\"324.410482\" xlink:href=\"#mdd15609004\" y=\"172.344316\"/>\n     <use style=\"fill:#1f77b4;stroke:#1f77b4;\" x=\"499.576004\" xlink:href=\"#mdd15609004\" y=\"150.299426\"/>\n     <use style=\"fill:#1f77b4;stroke:#1f77b4;\" x=\"222.598999\" xlink:href=\"#mdd15609004\" y=\"315.269511\"/>\n     <use style=\"fill:#1f77b4;stroke:#1f77b4;\" x=\"476.706456\" xlink:href=\"#mdd15609004\" y=\"204.612842\"/>\n     <use style=\"fill:#1f77b4;stroke:#1f77b4;\" x=\"249.85577\" xlink:href=\"#mdd15609004\" y=\"362.521817\"/>\n     <use style=\"fill:#1f77b4;stroke:#1f77b4;\" x=\"491.454021\" xlink:href=\"#mdd15609004\" y=\"201.62293\"/>\n     <use style=\"fill:#1f77b4;stroke:#1f77b4;\" x=\"491.019004\" xlink:href=\"#mdd15609004\" y=\"188.266895\"/>\n     <use style=\"fill:#1f77b4;stroke:#1f77b4;\" x=\"187.638369\" xlink:href=\"#mdd15609004\" y=\"313.031566\"/>\n     <use style=\"fill:#1f77b4;stroke:#1f77b4;\" x=\"520.377868\" xlink:href=\"#mdd15609004\" y=\"213.33229\"/>\n     <use style=\"fill:#1f77b4;stroke:#1f77b4;\" x=\"503.395099\" xlink:href=\"#mdd15609004\" y=\"115.878387\"/>\n     <use style=\"fill:#1f77b4;stroke:#1f77b4;\" x=\"456.198111\" xlink:href=\"#mdd15609004\" y=\"206.568498\"/>\n     <use style=\"fill:#1f77b4;stroke:#1f77b4;\" x=\"413.20518\" xlink:href=\"#mdd15609004\" y=\"249.940399\"/>\n     <use style=\"fill:#1f77b4;stroke:#1f77b4;\" x=\"402.356232\" xlink:href=\"#mdd15609004\" y=\"250.297114\"/>\n     <use style=\"fill:#1f77b4;stroke:#1f77b4;\" x=\"320.626074\" xlink:href=\"#mdd15609004\" y=\"231.290415\"/>\n     <use style=\"fill:#1f77b4;stroke:#1f77b4;\" x=\"237.076379\" xlink:href=\"#mdd15609004\" y=\"287.352578\"/>\n     <use style=\"fill:#1f77b4;stroke:#1f77b4;\" x=\"168.890337\" xlink:href=\"#mdd15609004\" y=\"260.944021\"/>\n     <use style=\"fill:#1f77b4;stroke:#1f77b4;\" x=\"448.246149\" xlink:href=\"#mdd15609004\" y=\"176.775434\"/>\n     <use style=\"fill:#1f77b4;stroke:#1f77b4;\" x=\"651.176299\" xlink:href=\"#mdd15609004\" y=\"43.973156\"/>\n     <use style=\"fill:#1f77b4;stroke:#1f77b4;\" x=\"347.809237\" xlink:href=\"#mdd15609004\" y=\"156.502363\"/>\n     <use style=\"fill:#1f77b4;stroke:#1f77b4;\" x=\"645.16714\" xlink:href=\"#mdd15609004\" y=\"121.02743\"/>\n     <use style=\"fill:#1f77b4;stroke:#1f77b4;\" x=\"398.954851\" xlink:href=\"#mdd15609004\" y=\"195.573511\"/>\n     <use style=\"fill:#1f77b4;stroke:#1f77b4;\" x=\"388.314224\" xlink:href=\"#mdd15609004\" y=\"238.460399\"/>\n     <use style=\"fill:#1f77b4;stroke:#1f77b4;\" x=\"399.081417\" xlink:href=\"#mdd15609004\" y=\"178.760237\"/>\n     <use style=\"fill:#1f77b4;stroke:#1f77b4;\" x=\"373.641709\" xlink:href=\"#mdd15609004\" y=\"265.247189\"/>\n     <use style=\"fill:#1f77b4;stroke:#1f77b4;\" x=\"63.723864\" xlink:href=\"#mdd15609004\" y=\"323.35653\"/>\n    </g>\n   </g>\n   <g id=\"matplotlib.axis_1\">\n    <g id=\"xtick_1\">\n     <g id=\"line2d_1\">\n      <defs>\n       <path d=\"M 0 0 \nL 0 3.5 \n\" id=\"m3fcd8e782e\" style=\"stroke:#000000;stroke-width:0.8;\"/>\n      </defs>\n      <g>\n       <use style=\"stroke:#000000;stroke-width:0.8;\" x=\"129.305072\" xlink:href=\"#m3fcd8e782e\" y=\"442.08\"/>\n      </g>\n     </g>\n     <g id=\"text_1\">\n      <!-- 30 -->\n      <g transform=\"translate(122.942572 456.678437)scale(0.1 -0.1)\">\n       <defs>\n        <path d=\"M 40.578125 39.3125 \nQ 47.65625 37.796875 51.625 33 \nQ 55.609375 28.21875 55.609375 21.1875 \nQ 55.609375 10.40625 48.1875 4.484375 \nQ 40.765625 -1.421875 27.09375 -1.421875 \nQ 22.515625 -1.421875 17.65625 -0.515625 \nQ 12.796875 0.390625 7.625 2.203125 \nL 7.625 11.71875 \nQ 11.71875 9.328125 16.59375 8.109375 \nQ 21.484375 6.890625 26.8125 6.890625 \nQ 36.078125 6.890625 40.9375 10.546875 \nQ 45.796875 14.203125 45.796875 21.1875 \nQ 45.796875 27.640625 41.28125 31.265625 \nQ 36.765625 34.90625 28.71875 34.90625 \nL 20.21875 34.90625 \nL 20.21875 43.015625 \nL 29.109375 43.015625 \nQ 36.375 43.015625 40.234375 45.921875 \nQ 44.09375 48.828125 44.09375 54.296875 \nQ 44.09375 59.90625 40.109375 62.90625 \nQ 36.140625 65.921875 28.71875 65.921875 \nQ 24.65625 65.921875 20.015625 65.03125 \nQ 15.375 64.15625 9.8125 62.3125 \nL 9.8125 71.09375 \nQ 15.4375 72.65625 20.34375 73.4375 \nQ 25.25 74.21875 29.59375 74.21875 \nQ 40.828125 74.21875 47.359375 69.109375 \nQ 53.90625 64.015625 53.90625 55.328125 \nQ 53.90625 49.265625 50.4375 45.09375 \nQ 46.96875 40.921875 40.578125 39.3125 \nz\n\" id=\"DejaVuSans-51\"/>\n        <path d=\"M 31.78125 66.40625 \nQ 24.171875 66.40625 20.328125 58.90625 \nQ 16.5 51.421875 16.5 36.375 \nQ 16.5 21.390625 20.328125 13.890625 \nQ 24.171875 6.390625 31.78125 6.390625 \nQ 39.453125 6.390625 43.28125 13.890625 \nQ 47.125 21.390625 47.125 36.375 \nQ 47.125 51.421875 43.28125 58.90625 \nQ 39.453125 66.40625 31.78125 66.40625 \nz\nM 31.78125 74.21875 \nQ 44.046875 74.21875 50.515625 64.515625 \nQ 56.984375 54.828125 56.984375 36.375 \nQ 56.984375 17.96875 50.515625 8.265625 \nQ 44.046875 -1.421875 31.78125 -1.421875 \nQ 19.53125 -1.421875 13.0625 8.265625 \nQ 6.59375 17.96875 6.59375 36.375 \nQ 6.59375 54.828125 13.0625 64.515625 \nQ 19.53125 74.21875 31.78125 74.21875 \nz\n\" id=\"DejaVuSans-48\"/>\n       </defs>\n       <use xlink:href=\"#DejaVuSans-51\"/>\n       <use x=\"63.623047\" xlink:href=\"#DejaVuSans-48\"/>\n      </g>\n     </g>\n    </g>\n    <g id=\"xtick_2\">\n     <g id=\"line2d_2\">\n      <g>\n       <use style=\"stroke:#000000;stroke-width:0.8;\" x=\"263.926855\" xlink:href=\"#m3fcd8e782e\" y=\"442.08\"/>\n      </g>\n     </g>\n     <g id=\"text_2\">\n      <!-- 40 -->\n      <g transform=\"translate(257.564355 456.678437)scale(0.1 -0.1)\">\n       <defs>\n        <path d=\"M 37.796875 64.3125 \nL 12.890625 25.390625 \nL 37.796875 25.390625 \nz\nM 35.203125 72.90625 \nL 47.609375 72.90625 \nL 47.609375 25.390625 \nL 58.015625 25.390625 \nL 58.015625 17.1875 \nL 47.609375 17.1875 \nL 47.609375 0 \nL 37.796875 0 \nL 37.796875 17.1875 \nL 4.890625 17.1875 \nL 4.890625 26.703125 \nz\n\" id=\"DejaVuSans-52\"/>\n       </defs>\n       <use xlink:href=\"#DejaVuSans-52\"/>\n       <use x=\"63.623047\" xlink:href=\"#DejaVuSans-48\"/>\n      </g>\n     </g>\n    </g>\n    <g id=\"xtick_3\">\n     <g id=\"line2d_3\">\n      <g>\n       <use style=\"stroke:#000000;stroke-width:0.8;\" x=\"398.548638\" xlink:href=\"#m3fcd8e782e\" y=\"442.08\"/>\n      </g>\n     </g>\n     <g id=\"text_3\">\n      <!-- 50 -->\n      <g transform=\"translate(392.186138 456.678437)scale(0.1 -0.1)\">\n       <defs>\n        <path d=\"M 10.796875 72.90625 \nL 49.515625 72.90625 \nL 49.515625 64.59375 \nL 19.828125 64.59375 \nL 19.828125 46.734375 \nQ 21.96875 47.46875 24.109375 47.828125 \nQ 26.265625 48.1875 28.421875 48.1875 \nQ 40.625 48.1875 47.75 41.5 \nQ 54.890625 34.8125 54.890625 23.390625 \nQ 54.890625 11.625 47.5625 5.09375 \nQ 40.234375 -1.421875 26.90625 -1.421875 \nQ 22.3125 -1.421875 17.546875 -0.640625 \nQ 12.796875 0.140625 7.71875 1.703125 \nL 7.71875 11.625 \nQ 12.109375 9.234375 16.796875 8.0625 \nQ 21.484375 6.890625 26.703125 6.890625 \nQ 35.15625 6.890625 40.078125 11.328125 \nQ 45.015625 15.765625 45.015625 23.390625 \nQ 45.015625 31 40.078125 35.4375 \nQ 35.15625 39.890625 26.703125 39.890625 \nQ 22.75 39.890625 18.8125 39.015625 \nQ 14.890625 38.140625 10.796875 36.28125 \nz\n\" id=\"DejaVuSans-53\"/>\n       </defs>\n       <use xlink:href=\"#DejaVuSans-53\"/>\n       <use x=\"63.623047\" xlink:href=\"#DejaVuSans-48\"/>\n      </g>\n     </g>\n    </g>\n    <g id=\"xtick_4\">\n     <g id=\"line2d_4\">\n      <g>\n       <use style=\"stroke:#000000;stroke-width:0.8;\" x=\"533.170422\" xlink:href=\"#m3fcd8e782e\" y=\"442.08\"/>\n      </g>\n     </g>\n     <g id=\"text_4\">\n      <!-- 60 -->\n      <g transform=\"translate(526.807922 456.678437)scale(0.1 -0.1)\">\n       <defs>\n        <path d=\"M 33.015625 40.375 \nQ 26.375 40.375 22.484375 35.828125 \nQ 18.609375 31.296875 18.609375 23.390625 \nQ 18.609375 15.53125 22.484375 10.953125 \nQ 26.375 6.390625 33.015625 6.390625 \nQ 39.65625 6.390625 43.53125 10.953125 \nQ 47.40625 15.53125 47.40625 23.390625 \nQ 47.40625 31.296875 43.53125 35.828125 \nQ 39.65625 40.375 33.015625 40.375 \nz\nM 52.59375 71.296875 \nL 52.59375 62.3125 \nQ 48.875 64.0625 45.09375 64.984375 \nQ 41.3125 65.921875 37.59375 65.921875 \nQ 27.828125 65.921875 22.671875 59.328125 \nQ 17.53125 52.734375 16.796875 39.40625 \nQ 19.671875 43.65625 24.015625 45.921875 \nQ 28.375 48.1875 33.59375 48.1875 \nQ 44.578125 48.1875 50.953125 41.515625 \nQ 57.328125 34.859375 57.328125 23.390625 \nQ 57.328125 12.15625 50.6875 5.359375 \nQ 44.046875 -1.421875 33.015625 -1.421875 \nQ 20.359375 -1.421875 13.671875 8.265625 \nQ 6.984375 17.96875 6.984375 36.375 \nQ 6.984375 53.65625 15.1875 63.9375 \nQ 23.390625 74.21875 37.203125 74.21875 \nQ 40.921875 74.21875 44.703125 73.484375 \nQ 48.484375 72.75 52.59375 71.296875 \nz\n\" id=\"DejaVuSans-54\"/>\n       </defs>\n       <use xlink:href=\"#DejaVuSans-54\"/>\n       <use x=\"63.623047\" xlink:href=\"#DejaVuSans-48\"/>\n      </g>\n     </g>\n    </g>\n    <g id=\"xtick_5\">\n     <g id=\"line2d_5\">\n      <g>\n       <use style=\"stroke:#000000;stroke-width:0.8;\" x=\"667.792205\" xlink:href=\"#m3fcd8e782e\" y=\"442.08\"/>\n      </g>\n     </g>\n     <g id=\"text_5\">\n      <!-- 70 -->\n      <g transform=\"translate(661.429705 456.678437)scale(0.1 -0.1)\">\n       <defs>\n        <path d=\"M 8.203125 72.90625 \nL 55.078125 72.90625 \nL 55.078125 68.703125 \nL 28.609375 0 \nL 18.3125 0 \nL 43.21875 64.59375 \nL 8.203125 64.59375 \nz\n\" id=\"DejaVuSans-55\"/>\n       </defs>\n       <use xlink:href=\"#DejaVuSans-55\"/>\n       <use x=\"63.623047\" xlink:href=\"#DejaVuSans-48\"/>\n      </g>\n     </g>\n    </g>\n   </g>\n   <g id=\"matplotlib.axis_2\">\n    <g id=\"ytick_1\">\n     <g id=\"line2d_6\">\n      <defs>\n       <path d=\"M 0 0 \nL -3.5 0 \n\" id=\"mebdffcab3b\" style=\"stroke:#000000;stroke-width:0.8;\"/>\n      </defs>\n      <g>\n       <use style=\"stroke:#000000;stroke-width:0.8;\" x=\"33.2875\" xlink:href=\"#mebdffcab3b\" y=\"384.577476\"/>\n      </g>\n     </g>\n     <g id=\"text_6\">\n      <!-- 40 -->\n      <g transform=\"translate(13.5625 388.376695)scale(0.1 -0.1)\">\n       <use xlink:href=\"#DejaVuSans-52\"/>\n       <use x=\"63.623047\" xlink:href=\"#DejaVuSans-48\"/>\n      </g>\n     </g>\n    </g>\n    <g id=\"ytick_2\">\n     <g id=\"line2d_7\">\n      <g>\n       <use style=\"stroke:#000000;stroke-width:0.8;\" x=\"33.2875\" xlink:href=\"#mebdffcab3b\" y=\"293.572345\"/>\n      </g>\n     </g>\n     <g id=\"text_7\">\n      <!-- 60 -->\n      <g transform=\"translate(13.5625 297.371563)scale(0.1 -0.1)\">\n       <use xlink:href=\"#DejaVuSans-54\"/>\n       <use x=\"63.623047\" xlink:href=\"#DejaVuSans-48\"/>\n      </g>\n     </g>\n    </g>\n    <g id=\"ytick_3\">\n     <g id=\"line2d_8\">\n      <g>\n       <use style=\"stroke:#000000;stroke-width:0.8;\" x=\"33.2875\" xlink:href=\"#mebdffcab3b\" y=\"202.567213\"/>\n      </g>\n     </g>\n     <g id=\"text_8\">\n      <!-- 80 -->\n      <g transform=\"translate(13.5625 206.366432)scale(0.1 -0.1)\">\n       <defs>\n        <path d=\"M 31.78125 34.625 \nQ 24.75 34.625 20.71875 30.859375 \nQ 16.703125 27.09375 16.703125 20.515625 \nQ 16.703125 13.921875 20.71875 10.15625 \nQ 24.75 6.390625 31.78125 6.390625 \nQ 38.8125 6.390625 42.859375 10.171875 \nQ 46.921875 13.96875 46.921875 20.515625 \nQ 46.921875 27.09375 42.890625 30.859375 \nQ 38.875 34.625 31.78125 34.625 \nz\nM 21.921875 38.8125 \nQ 15.578125 40.375 12.03125 44.71875 \nQ 8.5 49.078125 8.5 55.328125 \nQ 8.5 64.0625 14.71875 69.140625 \nQ 20.953125 74.21875 31.78125 74.21875 \nQ 42.671875 74.21875 48.875 69.140625 \nQ 55.078125 64.0625 55.078125 55.328125 \nQ 55.078125 49.078125 51.53125 44.71875 \nQ 48 40.375 41.703125 38.8125 \nQ 48.828125 37.15625 52.796875 32.3125 \nQ 56.78125 27.484375 56.78125 20.515625 \nQ 56.78125 9.90625 50.3125 4.234375 \nQ 43.84375 -1.421875 31.78125 -1.421875 \nQ 19.734375 -1.421875 13.25 4.234375 \nQ 6.78125 9.90625 6.78125 20.515625 \nQ 6.78125 27.484375 10.78125 32.3125 \nQ 14.796875 37.15625 21.921875 38.8125 \nz\nM 18.3125 54.390625 \nQ 18.3125 48.734375 21.84375 45.5625 \nQ 25.390625 42.390625 31.78125 42.390625 \nQ 38.140625 42.390625 41.71875 45.5625 \nQ 45.3125 48.734375 45.3125 54.390625 \nQ 45.3125 60.0625 41.71875 63.234375 \nQ 38.140625 66.40625 31.78125 66.40625 \nQ 25.390625 66.40625 21.84375 63.234375 \nQ 18.3125 60.0625 18.3125 54.390625 \nz\n\" id=\"DejaVuSans-56\"/>\n       </defs>\n       <use xlink:href=\"#DejaVuSans-56\"/>\n       <use x=\"63.623047\" xlink:href=\"#DejaVuSans-48\"/>\n      </g>\n     </g>\n    </g>\n    <g id=\"ytick_4\">\n     <g id=\"line2d_9\">\n      <g>\n       <use style=\"stroke:#000000;stroke-width:0.8;\" x=\"33.2875\" xlink:href=\"#mebdffcab3b\" y=\"111.562082\"/>\n      </g>\n     </g>\n     <g id=\"text_9\">\n      <!-- 100 -->\n      <g transform=\"translate(7.2 115.3613)scale(0.1 -0.1)\">\n       <defs>\n        <path d=\"M 12.40625 8.296875 \nL 28.515625 8.296875 \nL 28.515625 63.921875 \nL 10.984375 60.40625 \nL 10.984375 69.390625 \nL 28.421875 72.90625 \nL 38.28125 72.90625 \nL 38.28125 8.296875 \nL 54.390625 8.296875 \nL 54.390625 0 \nL 12.40625 0 \nz\n\" id=\"DejaVuSans-49\"/>\n       </defs>\n       <use xlink:href=\"#DejaVuSans-49\"/>\n       <use x=\"63.623047\" xlink:href=\"#DejaVuSans-48\"/>\n       <use x=\"127.246094\" xlink:href=\"#DejaVuSans-48\"/>\n      </g>\n     </g>\n    </g>\n    <g id=\"ytick_5\">\n     <g id=\"line2d_10\">\n      <g>\n       <use style=\"stroke:#000000;stroke-width:0.8;\" x=\"33.2875\" xlink:href=\"#mebdffcab3b\" y=\"20.55695\"/>\n      </g>\n     </g>\n     <g id=\"text_10\">\n      <!-- 120 -->\n      <g transform=\"translate(7.2 24.356169)scale(0.1 -0.1)\">\n       <defs>\n        <path d=\"M 19.1875 8.296875 \nL 53.609375 8.296875 \nL 53.609375 0 \nL 7.328125 0 \nL 7.328125 8.296875 \nQ 12.9375 14.109375 22.625 23.890625 \nQ 32.328125 33.6875 34.8125 36.53125 \nQ 39.546875 41.84375 41.421875 45.53125 \nQ 43.3125 49.21875 43.3125 52.78125 \nQ 43.3125 58.59375 39.234375 62.25 \nQ 35.15625 65.921875 28.609375 65.921875 \nQ 23.96875 65.921875 18.8125 64.3125 \nQ 13.671875 62.703125 7.8125 59.421875 \nL 7.8125 69.390625 \nQ 13.765625 71.78125 18.9375 73 \nQ 24.125 74.21875 28.421875 74.21875 \nQ 39.75 74.21875 46.484375 68.546875 \nQ 53.21875 62.890625 53.21875 53.421875 \nQ 53.21875 48.921875 51.53125 44.890625 \nQ 49.859375 40.875 45.40625 35.40625 \nQ 44.1875 33.984375 37.640625 27.21875 \nQ 31.109375 20.453125 19.1875 8.296875 \nz\n\" id=\"DejaVuSans-50\"/>\n       </defs>\n       <use xlink:href=\"#DejaVuSans-49\"/>\n       <use x=\"63.623047\" xlink:href=\"#DejaVuSans-50\"/>\n       <use x=\"127.246094\" xlink:href=\"#DejaVuSans-48\"/>\n      </g>\n     </g>\n    </g>\n   </g>\n   <g id=\"patch_3\">\n    <path d=\"M 33.2875 442.08 \nL 33.2875 7.2 \n\" style=\"fill:none;stroke:#000000;stroke-linecap:square;stroke-linejoin:miter;stroke-width:0.8;\"/>\n   </g>\n   <g id=\"patch_4\">\n    <path d=\"M 702.8875 442.08 \nL 702.8875 7.2 \n\" style=\"fill:none;stroke:#000000;stroke-linecap:square;stroke-linejoin:miter;stroke-width:0.8;\"/>\n   </g>\n   <g id=\"patch_5\">\n    <path d=\"M 33.2875 442.08 \nL 702.8875 442.08 \n\" style=\"fill:none;stroke:#000000;stroke-linecap:square;stroke-linejoin:miter;stroke-width:0.8;\"/>\n   </g>\n   <g id=\"patch_6\">\n    <path d=\"M 33.2875 7.2 \nL 702.8875 7.2 \n\" style=\"fill:none;stroke:#000000;stroke-linecap:square;stroke-linejoin:miter;stroke-width:0.8;\"/>\n   </g>\n  </g>\n </g>\n <defs>\n  <clipPath id=\"p77a508473a\">\n   <rect height=\"434.88\" width=\"669.6\" x=\"33.2875\" y=\"7.2\"/>\n  </clipPath>\n </defs>\n</svg>\n",
      "image/png": "[encoded data removed]"
     },
     "metadata": {
      "needs_background": "light"
     }
    }
   ],
   "source": [
    "#plot the data (scatter)\n",
    "plt.figure(figsize=(12,8))\n",
    "plt.scatter(df.X,df.Y)"
   ]
  },
  {
   "cell_type": "code",
   "execution_count": null,
   "metadata": {
    "deletable": false,
    "nbgrader": {
     "cell_type": "code",
     "checksum": "d16bf3084328cb8a753640746109deb6",
     "grade": false,
     "grade_id": "cell-54891567ed3179cb",
     "locked": false,
     "schema_version": 3,
     "solution": true,
     "task": false
    }
   },
   "outputs": [],
   "source": [
    "# YOUR CODE HERE\n",
    "raise NotImplementedError()"
   ]
  },
  {
   "cell_type": "code",
   "execution_count": null,
   "metadata": {
    "deletable": false,
    "editable": false,
    "nbgrader": {
     "cell_type": "code",
     "checksum": "913a83d14800f18572c1736c6c376038",
     "grade": true,
     "grade_id": "cell-161d857ab77810d3",
     "locked": true,
     "points": 1,
     "schema_version": 3,
     "solution": false,
     "task": false
    }
   },
   "outputs": [],
   "source": [
    "assert x_train.shape == (80,)\n",
    "assert x_test.shape == (20,)\n",
    "assert y_train.shape == (80,)\n",
    "assert y_test.shape == (20,)"
   ]
  },
  {
   "cell_type": "code",
   "execution_count": null,
   "metadata": {
    "deletable": false,
    "nbgrader": {
     "cell_type": "code",
     "checksum": "7f783828630939c2e095a32479fa8a95",
     "grade": false,
     "grade_id": "cell-d5e750d407949b20",
     "locked": false,
     "schema_version": 3,
     "solution": true,
     "task": false
    }
   },
   "outputs": [],
   "source": [
    "#implement a least squares function to find a, b\n",
    "\n",
    "x_mean = 0\n",
    "y_mean = 0\n",
    "b_upper = 0\n",
    "b_lower = 0\n",
    "b = 0\n",
    "a = 0\n",
    "\n",
    "# YOUR CODE HERE\n",
    "raise NotImplementedError()\n",
    "print(b)\n",
    "print(a)"
   ]
  },
  {
   "cell_type": "code",
   "execution_count": null,
   "metadata": {
    "deletable": false,
    "editable": false,
    "nbgrader": {
     "cell_type": "code",
     "checksum": "f99a446fb5ac3e0d1da4cbb9b795eacb",
     "grade": true,
     "grade_id": "cell-c7fea6e45dc92701",
     "locked": true,
     "points": 5,
     "schema_version": 3,
     "solution": false,
     "task": false
    }
   },
   "outputs": [],
   "source": [
    "assert abs(a - 7.72) <=0.03\n",
    "assert abs(b - 1.32) <=0.03"
   ]
  },
  {
   "cell_type": "code",
   "execution_count": null,
   "metadata": {
    "deletable": false,
    "nbgrader": {
     "cell_type": "code",
     "checksum": "3dfec453f61e443318a83756c5d376ed",
     "grade": false,
     "grade_id": "cell-721384e1a2152077",
     "locked": false,
     "schema_version": 3,
     "solution": true,
     "task": false
    }
   },
   "outputs": [],
   "source": [
    "line = 0\n",
    "x = np.array([])\n",
    "# YOUR CODE HERE\n",
    "raise NotImplementedError()"
   ]
  },
  {
   "cell_type": "code",
   "execution_count": null,
   "metadata": {
    "deletable": false,
    "editable": false,
    "nbgrader": {
     "cell_type": "code",
     "checksum": "08b1f875272b06a1c8562f53f455ad9a",
     "grade": true,
     "grade_id": "cell-71f1201b79ff7e44",
     "locked": true,
     "points": 5,
     "schema_version": 3,
     "solution": false,
     "task": false
    }
   },
   "outputs": [],
   "source": [
    "assert abs(a +3*b - 11.69) <= 0.05\n",
    "assert abs(a +100*b - 140) <= 1"
   ]
  },
  {
   "cell_type": "code",
   "execution_count": null,
   "metadata": {
    "deletable": false,
    "nbgrader": {
     "cell_type": "code",
     "checksum": "190229c08d10f48c9a807e51e6ba8eed",
     "grade": false,
     "grade_id": "cell-e8d9edf92254aa00",
     "locked": false,
     "schema_version": 3,
     "solution": true,
     "task": false
    }
   },
   "outputs": [],
   "source": [
    "# YOUR CODE HERE\n",
    "raise NotImplementedError()"
   ]
  },
  {
   "cell_type": "code",
   "execution_count": null,
   "metadata": {
    "deletable": false,
    "nbgrader": {
     "cell_type": "code",
     "checksum": "de2e61e7563de9bf967c643b32565f9a",
     "grade": false,
     "grade_id": "cell-8b80d3f35ea3b407",
     "locked": false,
     "schema_version": 3,
     "solution": true,
     "task": false
    }
   },
   "outputs": [],
   "source": [
    "#Classify your test data in to classes\n",
    "#if the Y value for a certain X is lower than the line then the class is 0\n",
    "class_0 = []\n",
    "class_1 = []\n",
    "\n",
    "# YOUR CODE HERE\n",
    "raise NotImplementedError()\n",
    "        \n",
    "class_0 = np.array(class_0)\n",
    "class_1 = np.array(class_1)\n",
    "print(class_0.shape)\n",
    "print(class_1.shape)"
   ]
  },
  {
   "cell_type": "code",
   "execution_count": null,
   "metadata": {
    "deletable": false,
    "editable": false,
    "nbgrader": {
     "cell_type": "code",
     "checksum": "1486f3e73b7a9925bfc840c4f84432e7",
     "grade": true,
     "grade_id": "cell-73e31e3494663d82",
     "locked": true,
     "points": 5,
     "schema_version": 3,
     "solution": false,
     "task": false
    }
   },
   "outputs": [],
   "source": [
    "assert 9 < class_0.shape[0] < 13\n",
    "assert 7 < class_1.shape[0] < 11"
   ]
  },
  {
   "cell_type": "code",
   "execution_count": null,
   "metadata": {
    "deletable": false,
    "nbgrader": {
     "cell_type": "code",
     "checksum": "e91f4d245601ab07416f3122d23f9f89",
     "grade": false,
     "grade_id": "cell-db81fd9fa3a21bdf",
     "locked": false,
     "schema_version": 3,
     "solution": true,
     "task": false
    }
   },
   "outputs": [],
   "source": [
    "# YOUR CODE HERE\n",
    "raise NotImplementedError()"
   ]
  },
  {
   "cell_type": "code",
   "execution_count": null,
   "metadata": {
    "deletable": false,
    "nbgrader": {
     "cell_type": "code",
     "checksum": "82e87b2d597a41e300a05cd1ed82557b",
     "grade": false,
     "grade_id": "cell-ee8df562ed62329a",
     "locked": false,
     "schema_version": 3,
     "solution": true,
     "task": false
    }
   },
   "outputs": [],
   "source": [
    "# get the total error for the classes\n",
    "\n",
    "err = 0\n",
    "# YOUR CODE HERE\n",
    "raise NotImplementedError()\n"
   ]
  },
  {
   "cell_type": "code",
   "execution_count": null,
   "metadata": {
    "deletable": false,
    "editable": false,
    "nbgrader": {
     "cell_type": "code",
     "checksum": "feb3a49adcd3bb6769f5dc468b838fc8",
     "grade": true,
     "grade_id": "cell-bbe692ec61946f5c",
     "locked": true,
     "points": 5,
     "schema_version": 3,
     "solution": false,
     "task": false
    }
   },
   "outputs": [],
   "source": [
    "assert err - 201 < 20"
   ]
  }
 ],
 "metadata": {
  "kernelspec": {
   "name": "python388jvsc74a57bd02d78e359ff02d0c79ca305c8815f63c63e3b9beac7f2ccf04f89f33a94ce9080",
   "display_name": "Python 3.8.8 64-bit ('machine_learning': conda)"
  },
  "language_info": {
   "codemirror_mode": {
    "name": "ipython",
    "version": 3
   },
   "file_extension": ".py",
   "mimetype": "text/x-python",
   "name": "python",
   "nbconvert_exporter": "python",
   "pygments_lexer": "ipython3",
   "version": "3.8.8-final"
  }
 },
 "nbformat": 4,
 "nbformat_minor": 2
}