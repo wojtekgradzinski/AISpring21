{
  "cells": [
    {
      "cell_type": "code",
      "metadata": {
        "tags": [],
        "cell_id": "00000-baedfc57-f22d-42ad-98a0-2b28d0f737df",
        "deepnote_to_be_reexecuted": false,
        "source_hash": "d73a1eb3",
        "execution_start": 1619770680315,
        "execution_millis": 1093,
        "deepnote_cell_type": "code"
      },
      "source": "import numpy as np\nimport pandas as pd\nimport matplotlib.pyplot as plt\nimport seaborn as sns\n%matplotlib inline \n",
      "execution_count": 2,
      "outputs": []
    },
    {
      "cell_type": "code",
      "metadata": {
        "tags": [],
        "cell_id": "00001-040fd47c-d351-485a-94bd-ea3a9e38db2d",
        "deepnote_to_be_reexecuted": false,
        "source_hash": "ca8d1dfd",
        "execution_start": 1619770697673,
        "execution_millis": 1,
        "deepnote_cell_type": "code"
      },
      "source": "train = pd.read_csv('train.csv')\ntest = pd.read_csv('test.csv')",
      "execution_count": 4,
      "outputs": []
    },
    {
      "cell_type": "code",
      "metadata": {
        "tags": [],
        "cell_id": "00002-ed51edec-7d88-47b6-93e0-508a2fa8ec38",
        "deepnote_to_be_reexecuted": false,
        "source_hash": "1febcce2",
        "execution_start": 1619770699703,
        "execution_millis": 21,
        "deepnote_cell_type": "code"
      },
      "source": "train.head()\n",
      "execution_count": 5,
      "outputs": [
        {
          "output_type": "execute_result",
          "execution_count": 5,
          "data": {
            "application/vnd.deepnote.dataframe.v2+json": {
              "row_count": 5,
              "column_count": 12,
              "columns": [
                {
                  "name": "PassengerId",
                  "dtype": "int64",
                  "stats": {
                    "unique_count": 5,
                    "nan_count": 0,
                    "min": "1",
                    "max": "5",
                    "histogram": [
                      {
                        "bin_start": 1,
                        "bin_end": 1.4,
                        "count": 1
                      },
                      {
                        "bin_start": 1.4,
                        "bin_end": 1.8,
                        "count": 0
                      },
                      {
                        "bin_start": 1.8,
                        "bin_end": 2.2,
                        "count": 1
                      },
                      {
                        "bin_start": 2.2,
                        "bin_end": 2.6,
                        "count": 0
                      },
                      {
                        "bin_start": 2.6,
                        "bin_end": 3,
                        "count": 0
                      },
                      {
                        "bin_start": 3,
                        "bin_end": 3.4000000000000004,
                        "count": 1
                      },
                      {
                        "bin_start": 3.4000000000000004,
                        "bin_end": 3.8000000000000003,
                        "count": 0
                      },
                      {
                        "bin_start": 3.8000000000000003,
                        "bin_end": 4.2,
                        "count": 1
                      },
                      {
                        "bin_start": 4.2,
                        "bin_end": 4.6,
                        "count": 0
                      },
                      {
                        "bin_start": 4.6,
                        "bin_end": 5,
                        "count": 1
                      }
                    ]
                  }
                },
                {
                  "name": "Survived",
                  "dtype": "int64",
                  "stats": {
                    "unique_count": 2,
                    "nan_count": 0,
                    "min": "0",
                    "max": "1",
                    "histogram": [
                      {
                        "bin_start": 0,
                        "bin_end": 0.1,
                        "count": 2
                      },
                      {
                        "bin_start": 0.1,
                        "bin_end": 0.2,
                        "count": 0
                      },
                      {
                        "bin_start": 0.2,
                        "bin_end": 0.30000000000000004,
                        "count": 0
                      },
                      {
                        "bin_start": 0.30000000000000004,
                        "bin_end": 0.4,
                        "count": 0
                      },
                      {
                        "bin_start": 0.4,
                        "bin_end": 0.5,
                        "count": 0
                      },
                      {
                        "bin_start": 0.5,
                        "bin_end": 0.6000000000000001,
                        "count": 0
                      },
                      {
                        "bin_start": 0.6000000000000001,
                        "bin_end": 0.7000000000000001,
                        "count": 0
                      },
                      {
                        "bin_start": 0.7000000000000001,
                        "bin_end": 0.8,
                        "count": 0
                      },
                      {
                        "bin_start": 0.8,
                        "bin_end": 0.9,
                        "count": 0
                      },
                      {
                        "bin_start": 0.9,
                        "bin_end": 1,
                        "count": 3
                      }
                    ]
                  }
                },
                {
                  "name": "Pclass",
                  "dtype": "int64",
                  "stats": {
                    "unique_count": 2,
                    "nan_count": 0,
                    "min": "1",
                    "max": "3",
                    "histogram": [
                      {
                        "bin_start": 1,
                        "bin_end": 1.2,
                        "count": 2
                      },
                      {
                        "bin_start": 1.2,
                        "bin_end": 1.4,
                        "count": 0
                      },
                      {
                        "bin_start": 1.4,
                        "bin_end": 1.6,
                        "count": 0
                      },
                      {
                        "bin_start": 1.6,
                        "bin_end": 1.8,
                        "count": 0
                      },
                      {
                        "bin_start": 1.8,
                        "bin_end": 2,
                        "count": 0
                      },
                      {
                        "bin_start": 2,
                        "bin_end": 2.2,
                        "count": 0
                      },
                      {
                        "bin_start": 2.2,
                        "bin_end": 2.4000000000000004,
                        "count": 0
                      },
                      {
                        "bin_start": 2.4000000000000004,
                        "bin_end": 2.6,
                        "count": 0
                      },
                      {
                        "bin_start": 2.6,
                        "bin_end": 2.8,
                        "count": 0
                      },
                      {
                        "bin_start": 2.8,
                        "bin_end": 3,
                        "count": 3
                      }
                    ]
                  }
                },
                {
                  "name": "Name",
                  "dtype": "object",
                  "stats": {
                    "unique_count": 5,
                    "nan_count": 0,
                    "categories": [
                      {
                        "name": "Braund, Mr. Owen Harris",
                        "count": 1
                      },
                      {
                        "name": "Cumings, Mrs. John Bradley (Florence Briggs Thayer)",
                        "count": 1
                      },
                      {
                        "name": "3 others",
                        "count": 3
                      }
                    ]
                  }
                },
                {
                  "name": "Sex",
                  "dtype": "object",
                  "stats": {
                    "unique_count": 2,
                    "nan_count": 0,
                    "categories": [
                      {
                        "name": "female",
                        "count": 3
                      },
                      {
                        "name": "male",
                        "count": 2
                      }
                    ]
                  }
                },
                {
                  "name": "Age",
                  "dtype": "float64",
                  "stats": {
                    "unique_count": 4,
                    "nan_count": 0,
                    "min": "22.0",
                    "max": "38.0",
                    "histogram": [
                      {
                        "bin_start": 22,
                        "bin_end": 23.6,
                        "count": 1
                      },
                      {
                        "bin_start": 23.6,
                        "bin_end": 25.2,
                        "count": 0
                      },
                      {
                        "bin_start": 25.2,
                        "bin_end": 26.8,
                        "count": 1
                      },
                      {
                        "bin_start": 26.8,
                        "bin_end": 28.4,
                        "count": 0
                      },
                      {
                        "bin_start": 28.4,
                        "bin_end": 30,
                        "count": 0
                      },
                      {
                        "bin_start": 30,
                        "bin_end": 31.6,
                        "count": 0
                      },
                      {
                        "bin_start": 31.6,
                        "bin_end": 33.2,
                        "count": 0
                      },
                      {
                        "bin_start": 33.2,
                        "bin_end": 34.8,
                        "count": 0
                      },
                      {
                        "bin_start": 34.8,
                        "bin_end": 36.4,
                        "count": 2
                      },
                      {
                        "bin_start": 36.4,
                        "bin_end": 38,
                        "count": 1
                      }
                    ]
                  }
                },
                {
                  "name": "SibSp",
                  "dtype": "int64",
                  "stats": {
                    "unique_count": 2,
                    "nan_count": 0,
                    "min": "0",
                    "max": "1",
                    "histogram": [
                      {
                        "bin_start": 0,
                        "bin_end": 0.1,
                        "count": 2
                      },
                      {
                        "bin_start": 0.1,
                        "bin_end": 0.2,
                        "count": 0
                      },
                      {
                        "bin_start": 0.2,
                        "bin_end": 0.30000000000000004,
                        "count": 0
                      },
                      {
                        "bin_start": 0.30000000000000004,
                        "bin_end": 0.4,
                        "count": 0
                      },
                      {
                        "bin_start": 0.4,
                        "bin_end": 0.5,
                        "count": 0
                      },
                      {
                        "bin_start": 0.5,
                        "bin_end": 0.6000000000000001,
                        "count": 0
                      },
                      {
                        "bin_start": 0.6000000000000001,
                        "bin_end": 0.7000000000000001,
                        "count": 0
                      },
                      {
                        "bin_start": 0.7000000000000001,
                        "bin_end": 0.8,
                        "count": 0
                      },
                      {
                        "bin_start": 0.8,
                        "bin_end": 0.9,
                        "count": 0
                      },
                      {
                        "bin_start": 0.9,
                        "bin_end": 1,
                        "count": 3
                      }
                    ]
                  }
                },
                {
                  "name": "Parch",
                  "dtype": "int64",
                  "stats": {
                    "unique_count": 1,
                    "nan_count": 0,
                    "min": "0",
                    "max": "0",
                    "histogram": [
                      {
                        "bin_start": -0.5,
                        "bin_end": -0.4,
                        "count": 0
                      },
                      {
                        "bin_start": -0.4,
                        "bin_end": -0.3,
                        "count": 0
                      },
                      {
                        "bin_start": -0.3,
                        "bin_end": -0.19999999999999996,
                        "count": 0
                      },
                      {
                        "bin_start": -0.19999999999999996,
                        "bin_end": -0.09999999999999998,
                        "count": 0
                      },
                      {
                        "bin_start": -0.09999999999999998,
                        "bin_end": 0,
                        "count": 0
                      },
                      {
                        "bin_start": 0,
                        "bin_end": 0.10000000000000009,
                        "count": 5
                      },
                      {
                        "bin_start": 0.10000000000000009,
                        "bin_end": 0.20000000000000007,
                        "count": 0
                      },
                      {
                        "bin_start": 0.20000000000000007,
                        "bin_end": 0.30000000000000004,
                        "count": 0
                      },
                      {
                        "bin_start": 0.30000000000000004,
                        "bin_end": 0.4,
                        "count": 0
                      },
                      {
                        "bin_start": 0.4,
                        "bin_end": 0.5,
                        "count": 0
                      }
                    ]
                  }
                },
                {
                  "name": "Ticket",
                  "dtype": "object",
                  "stats": {
                    "unique_count": 5,
                    "nan_count": 0,
                    "categories": [
                      {
                        "name": "A/5 21171",
                        "count": 1
                      },
                      {
                        "name": "PC 17599",
                        "count": 1
                      },
                      {
                        "name": "3 others",
                        "count": 3
                      }
                    ]
                  }
                },
                {
                  "name": "Fare",
                  "dtype": "float64",
                  "stats": {
                    "unique_count": 5,
                    "nan_count": 0,
                    "min": "7.25",
                    "max": "71.2833",
                    "histogram": [
                      {
                        "bin_start": 7.25,
                        "bin_end": 13.65333,
                        "count": 3
                      },
                      {
                        "bin_start": 13.65333,
                        "bin_end": 20.05666,
                        "count": 0
                      },
                      {
                        "bin_start": 20.05666,
                        "bin_end": 26.459989999999998,
                        "count": 0
                      },
                      {
                        "bin_start": 26.459989999999998,
                        "bin_end": 32.86332,
                        "count": 0
                      },
                      {
                        "bin_start": 32.86332,
                        "bin_end": 39.26665,
                        "count": 0
                      },
                      {
                        "bin_start": 39.26665,
                        "bin_end": 45.669979999999995,
                        "count": 0
                      },
                      {
                        "bin_start": 45.669979999999995,
                        "bin_end": 52.07331,
                        "count": 0
                      },
                      {
                        "bin_start": 52.07331,
                        "bin_end": 58.476639999999996,
                        "count": 1
                      },
                      {
                        "bin_start": 58.476639999999996,
                        "bin_end": 64.87996999999999,
                        "count": 0
                      },
                      {
                        "bin_start": 64.87996999999999,
                        "bin_end": 71.2833,
                        "count": 1
                      }
                    ]
                  }
                },
                {
                  "name": "Cabin",
                  "dtype": "object",
                  "stats": {
                    "unique_count": 2,
                    "nan_count": 3,
                    "categories": [
                      {
                        "name": "C85",
                        "count": 1
                      },
                      {
                        "name": "C123",
                        "count": 1
                      },
                      {
                        "name": "Missing",
                        "count": 3
                      }
                    ]
                  }
                },
                {
                  "name": "Embarked",
                  "dtype": "object",
                  "stats": {
                    "unique_count": 2,
                    "nan_count": 0,
                    "categories": [
                      {
                        "name": "S",
                        "count": 4
                      },
                      {
                        "name": "C",
                        "count": 1
                      }
                    ]
                  }
                },
                {
                  "name": "_deepnote_index_column",
                  "dtype": "int64"
                }
              ],
              "rows_top": [
                {
                  "PassengerId": 1,
                  "Survived": 0,
                  "Pclass": 3,
                  "Name": "Braund, Mr. Owen Harris",
                  "Sex": "male",
                  "Age": 22,
                  "SibSp": 1,
                  "Parch": 0,
                  "Ticket": "A/5 21171",
                  "Fare": 7.25,
                  "Cabin": "nan",
                  "Embarked": "S",
                  "_deepnote_index_column": 0
                },
                {
                  "PassengerId": 2,
                  "Survived": 1,
                  "Pclass": 1,
                  "Name": "Cumings, Mrs. John Bradley (Florence Briggs Thayer)",
                  "Sex": "female",
                  "Age": 38,
                  "SibSp": 1,
                  "Parch": 0,
                  "Ticket": "PC 17599",
                  "Fare": 71.2833,
                  "Cabin": "C85",
                  "Embarked": "C",
                  "_deepnote_index_column": 1
                },
                {
                  "PassengerId": 3,
                  "Survived": 1,
                  "Pclass": 3,
                  "Name": "Heikkinen, Miss. Laina",
                  "Sex": "female",
                  "Age": 26,
                  "SibSp": 0,
                  "Parch": 0,
                  "Ticket": "STON/O2. 3101282",
                  "Fare": 7.925,
                  "Cabin": "nan",
                  "Embarked": "S",
                  "_deepnote_index_column": 2
                },
                {
                  "PassengerId": 4,
                  "Survived": 1,
                  "Pclass": 1,
                  "Name": "Futrelle, Mrs. Jacques Heath (Lily May Peel)",
                  "Sex": "female",
                  "Age": 35,
                  "SibSp": 1,
                  "Parch": 0,
                  "Ticket": "113803",
                  "Fare": 53.1,
                  "Cabin": "C123",
                  "Embarked": "S",
                  "_deepnote_index_column": 3
                },
                {
                  "PassengerId": 5,
                  "Survived": 0,
                  "Pclass": 3,
                  "Name": "Allen, Mr. William Henry",
                  "Sex": "male",
                  "Age": 35,
                  "SibSp": 0,
                  "Parch": 0,
                  "Ticket": "373450",
                  "Fare": 8.05,
                  "Cabin": "nan",
                  "Embarked": "S",
                  "_deepnote_index_column": 4
                }
              ],
              "rows_bottom": null
            },
            "text/plain": "   PassengerId  Survived  Pclass  \\\n0            1         0       3   \n1            2         1       1   \n2            3         1       3   \n3            4         1       1   \n4            5         0       3   \n\n                                                Name     Sex   Age  SibSp  \\\n0                            Braund, Mr. Owen Harris    male  22.0      1   \n1  Cumings, Mrs. John Bradley (Florence Briggs Th...  female  38.0      1   \n2                             Heikkinen, Miss. Laina  female  26.0      0   \n3       Futrelle, Mrs. Jacques Heath (Lily May Peel)  female  35.0      1   \n4                           Allen, Mr. William Henry    male  35.0      0   \n\n   Parch            Ticket     Fare Cabin Embarked  \n0      0         A/5 21171   7.2500   NaN        S  \n1      0          PC 17599  71.2833   C85        C  \n2      0  STON/O2. 3101282   7.9250   NaN        S  \n3      0            113803  53.1000  C123        S  \n4      0            373450   8.0500   NaN        S  ",
            "text/html": "<div>\n<style scoped>\n    .dataframe tbody tr th:only-of-type {\n        vertical-align: middle;\n    }\n\n    .dataframe tbody tr th {\n        vertical-align: top;\n    }\n\n    .dataframe thead th {\n        text-align: right;\n    }\n</style>\n<table border=\"1\" class=\"dataframe\">\n  <thead>\n    <tr style=\"text-align: right;\">\n      <th></th>\n      <th>PassengerId</th>\n      <th>Survived</th>\n      <th>Pclass</th>\n      <th>Name</th>\n      <th>Sex</th>\n      <th>Age</th>\n      <th>SibSp</th>\n      <th>Parch</th>\n      <th>Ticket</th>\n      <th>Fare</th>\n      <th>Cabin</th>\n      <th>Embarked</th>\n    </tr>\n  </thead>\n  <tbody>\n    <tr>\n      <th>0</th>\n      <td>1</td>\n      <td>0</td>\n      <td>3</td>\n      <td>Braund, Mr. Owen Harris</td>\n      <td>male</td>\n      <td>22.0</td>\n      <td>1</td>\n      <td>0</td>\n      <td>A/5 21171</td>\n      <td>7.2500</td>\n      <td>NaN</td>\n      <td>S</td>\n    </tr>\n    <tr>\n      <th>1</th>\n      <td>2</td>\n      <td>1</td>\n      <td>1</td>\n      <td>Cumings, Mrs. John Bradley (Florence Briggs Th...</td>\n      <td>female</td>\n      <td>38.0</td>\n      <td>1</td>\n      <td>0</td>\n      <td>PC 17599</td>\n      <td>71.2833</td>\n      <td>C85</td>\n      <td>C</td>\n    </tr>\n    <tr>\n      <th>2</th>\n      <td>3</td>\n      <td>1</td>\n      <td>3</td>\n      <td>Heikkinen, Miss. Laina</td>\n      <td>female</td>\n      <td>26.0</td>\n      <td>0</td>\n      <td>0</td>\n      <td>STON/O2. 3101282</td>\n      <td>7.9250</td>\n      <td>NaN</td>\n      <td>S</td>\n    </tr>\n    <tr>\n      <th>3</th>\n      <td>4</td>\n      <td>1</td>\n      <td>1</td>\n      <td>Futrelle, Mrs. Jacques Heath (Lily May Peel)</td>\n      <td>female</td>\n      <td>35.0</td>\n      <td>1</td>\n      <td>0</td>\n      <td>113803</td>\n      <td>53.1000</td>\n      <td>C123</td>\n      <td>S</td>\n    </tr>\n    <tr>\n      <th>4</th>\n      <td>5</td>\n      <td>0</td>\n      <td>3</td>\n      <td>Allen, Mr. William Henry</td>\n      <td>male</td>\n      <td>35.0</td>\n      <td>0</td>\n      <td>0</td>\n      <td>373450</td>\n      <td>8.0500</td>\n      <td>NaN</td>\n      <td>S</td>\n    </tr>\n  </tbody>\n</table>\n</div>"
          },
          "metadata": {}
        }
      ]
    },
    {
      "cell_type": "code",
      "metadata": {
        "tags": [],
        "cell_id": "00003-dd062b0d-fed9-4819-a665-ffb0c1dc7aa3",
        "deepnote_to_be_reexecuted": false,
        "source_hash": "840e265d",
        "execution_start": 1619770703393,
        "execution_millis": 4,
        "deepnote_cell_type": "code"
      },
      "source": "print(train.shape)\nprint(test.shape)",
      "execution_count": 6,
      "outputs": [
        {
          "name": "stdout",
          "text": "(891, 12)\n(418, 11)\n",
          "output_type": "stream"
        }
      ]
    },
    {
      "cell_type": "code",
      "metadata": {
        "tags": [],
        "cell_id": "00004-b780d38f-1906-4f6a-b980-d0c0585d27e5",
        "deepnote_to_be_reexecuted": false,
        "source_hash": "3dc5e06b",
        "execution_start": 1619770706047,
        "execution_millis": 43,
        "deepnote_cell_type": "code"
      },
      "source": "train.describe()",
      "execution_count": 7,
      "outputs": [
        {
          "output_type": "execute_result",
          "execution_count": 7,
          "data": {
            "application/vnd.deepnote.dataframe.v2+json": {
              "row_count": 8,
              "column_count": 7,
              "columns": [
                {
                  "name": "PassengerId",
                  "dtype": "float64",
                  "stats": {
                    "unique_count": 6,
                    "nan_count": 0,
                    "min": "1.0",
                    "max": "891.0",
                    "histogram": [
                      {
                        "bin_start": 1,
                        "bin_end": 90,
                        "count": 1
                      },
                      {
                        "bin_start": 90,
                        "bin_end": 179,
                        "count": 0
                      },
                      {
                        "bin_start": 179,
                        "bin_end": 268,
                        "count": 2
                      },
                      {
                        "bin_start": 268,
                        "bin_end": 357,
                        "count": 0
                      },
                      {
                        "bin_start": 357,
                        "bin_end": 446,
                        "count": 0
                      },
                      {
                        "bin_start": 446,
                        "bin_end": 535,
                        "count": 2
                      },
                      {
                        "bin_start": 535,
                        "bin_end": 624,
                        "count": 0
                      },
                      {
                        "bin_start": 624,
                        "bin_end": 713,
                        "count": 1
                      },
                      {
                        "bin_start": 713,
                        "bin_end": 802,
                        "count": 0
                      },
                      {
                        "bin_start": 802,
                        "bin_end": 891,
                        "count": 2
                      }
                    ]
                  }
                },
                {
                  "name": "Survived",
                  "dtype": "float64",
                  "stats": {
                    "unique_count": 5,
                    "nan_count": 0,
                    "min": "0.0",
                    "max": "891.0",
                    "histogram": [
                      {
                        "bin_start": 0,
                        "bin_end": 89.1,
                        "count": 7
                      },
                      {
                        "bin_start": 89.1,
                        "bin_end": 178.2,
                        "count": 0
                      },
                      {
                        "bin_start": 178.2,
                        "bin_end": 267.29999999999995,
                        "count": 0
                      },
                      {
                        "bin_start": 267.29999999999995,
                        "bin_end": 356.4,
                        "count": 0
                      },
                      {
                        "bin_start": 356.4,
                        "bin_end": 445.5,
                        "count": 0
                      },
                      {
                        "bin_start": 445.5,
                        "bin_end": 534.5999999999999,
                        "count": 0
                      },
                      {
                        "bin_start": 534.5999999999999,
                        "bin_end": 623.6999999999999,
                        "count": 0
                      },
                      {
                        "bin_start": 623.6999999999999,
                        "bin_end": 712.8,
                        "count": 0
                      },
                      {
                        "bin_start": 712.8,
                        "bin_end": 801.9,
                        "count": 0
                      },
                      {
                        "bin_start": 801.9,
                        "bin_end": 891,
                        "count": 1
                      }
                    ]
                  }
                },
                {
                  "name": "Pclass",
                  "dtype": "float64",
                  "stats": {
                    "unique_count": 6,
                    "nan_count": 0,
                    "min": "0.836071240977049",
                    "max": "891.0",
                    "histogram": [
                      {
                        "bin_start": 0.836071240977049,
                        "bin_end": 89.85246411687935,
                        "count": 7
                      },
                      {
                        "bin_start": 89.85246411687935,
                        "bin_end": 178.86885699278164,
                        "count": 0
                      },
                      {
                        "bin_start": 178.86885699278164,
                        "bin_end": 267.88524986868396,
                        "count": 0
                      },
                      {
                        "bin_start": 267.88524986868396,
                        "bin_end": 356.90164274458624,
                        "count": 0
                      },
                      {
                        "bin_start": 356.90164274458624,
                        "bin_end": 445.9180356204885,
                        "count": 0
                      },
                      {
                        "bin_start": 445.9180356204885,
                        "bin_end": 534.9344284963909,
                        "count": 0
                      },
                      {
                        "bin_start": 534.9344284963909,
                        "bin_end": 623.9508213722931,
                        "count": 0
                      },
                      {
                        "bin_start": 623.9508213722931,
                        "bin_end": 712.9672142481954,
                        "count": 0
                      },
                      {
                        "bin_start": 712.9672142481954,
                        "bin_end": 801.9836071240977,
                        "count": 0
                      },
                      {
                        "bin_start": 801.9836071240977,
                        "bin_end": 891,
                        "count": 1
                      }
                    ]
                  }
                },
                {
                  "name": "Age",
                  "dtype": "float64",
                  "stats": {
                    "unique_count": 8,
                    "nan_count": 0,
                    "min": "0.42",
                    "max": "714.0",
                    "histogram": [
                      {
                        "bin_start": 0.42,
                        "bin_end": 71.778,
                        "count": 6
                      },
                      {
                        "bin_start": 71.778,
                        "bin_end": 143.136,
                        "count": 1
                      },
                      {
                        "bin_start": 143.136,
                        "bin_end": 214.494,
                        "count": 0
                      },
                      {
                        "bin_start": 214.494,
                        "bin_end": 285.85200000000003,
                        "count": 0
                      },
                      {
                        "bin_start": 285.85200000000003,
                        "bin_end": 357.21000000000004,
                        "count": 0
                      },
                      {
                        "bin_start": 357.21000000000004,
                        "bin_end": 428.56800000000004,
                        "count": 0
                      },
                      {
                        "bin_start": 428.56800000000004,
                        "bin_end": 499.92600000000004,
                        "count": 0
                      },
                      {
                        "bin_start": 499.92600000000004,
                        "bin_end": 571.284,
                        "count": 0
                      },
                      {
                        "bin_start": 571.284,
                        "bin_end": 642.6419999999999,
                        "count": 0
                      },
                      {
                        "bin_start": 642.6419999999999,
                        "bin_end": 714,
                        "count": 1
                      }
                    ]
                  }
                },
                {
                  "name": "SibSp",
                  "dtype": "float64",
                  "stats": {
                    "unique_count": 6,
                    "nan_count": 0,
                    "min": "0.0",
                    "max": "891.0",
                    "histogram": [
                      {
                        "bin_start": 0,
                        "bin_end": 89.1,
                        "count": 7
                      },
                      {
                        "bin_start": 89.1,
                        "bin_end": 178.2,
                        "count": 0
                      },
                      {
                        "bin_start": 178.2,
                        "bin_end": 267.29999999999995,
                        "count": 0
                      },
                      {
                        "bin_start": 267.29999999999995,
                        "bin_end": 356.4,
                        "count": 0
                      },
                      {
                        "bin_start": 356.4,
                        "bin_end": 445.5,
                        "count": 0
                      },
                      {
                        "bin_start": 445.5,
                        "bin_end": 534.5999999999999,
                        "count": 0
                      },
                      {
                        "bin_start": 534.5999999999999,
                        "bin_end": 623.6999999999999,
                        "count": 0
                      },
                      {
                        "bin_start": 623.6999999999999,
                        "bin_end": 712.8,
                        "count": 0
                      },
                      {
                        "bin_start": 712.8,
                        "bin_end": 801.9,
                        "count": 0
                      },
                      {
                        "bin_start": 801.9,
                        "bin_end": 891,
                        "count": 1
                      }
                    ]
                  }
                },
                {
                  "name": "Parch",
                  "dtype": "float64",
                  "stats": {
                    "unique_count": 5,
                    "nan_count": 0,
                    "min": "0.0",
                    "max": "891.0",
                    "histogram": [
                      {
                        "bin_start": 0,
                        "bin_end": 89.1,
                        "count": 7
                      },
                      {
                        "bin_start": 89.1,
                        "bin_end": 178.2,
                        "count": 0
                      },
                      {
                        "bin_start": 178.2,
                        "bin_end": 267.29999999999995,
                        "count": 0
                      },
                      {
                        "bin_start": 267.29999999999995,
                        "bin_end": 356.4,
                        "count": 0
                      },
                      {
                        "bin_start": 356.4,
                        "bin_end": 445.5,
                        "count": 0
                      },
                      {
                        "bin_start": 445.5,
                        "bin_end": 534.5999999999999,
                        "count": 0
                      },
                      {
                        "bin_start": 534.5999999999999,
                        "bin_end": 623.6999999999999,
                        "count": 0
                      },
                      {
                        "bin_start": 623.6999999999999,
                        "bin_end": 712.8,
                        "count": 0
                      },
                      {
                        "bin_start": 712.8,
                        "bin_end": 801.9,
                        "count": 0
                      },
                      {
                        "bin_start": 801.9,
                        "bin_end": 891,
                        "count": 1
                      }
                    ]
                  }
                },
                {
                  "name": "Fare",
                  "dtype": "float64",
                  "stats": {
                    "unique_count": 8,
                    "nan_count": 0,
                    "min": "0.0",
                    "max": "891.0",
                    "histogram": [
                      {
                        "bin_start": 0,
                        "bin_end": 89.1,
                        "count": 6
                      },
                      {
                        "bin_start": 89.1,
                        "bin_end": 178.2,
                        "count": 0
                      },
                      {
                        "bin_start": 178.2,
                        "bin_end": 267.29999999999995,
                        "count": 0
                      },
                      {
                        "bin_start": 267.29999999999995,
                        "bin_end": 356.4,
                        "count": 0
                      },
                      {
                        "bin_start": 356.4,
                        "bin_end": 445.5,
                        "count": 0
                      },
                      {
                        "bin_start": 445.5,
                        "bin_end": 534.5999999999999,
                        "count": 1
                      },
                      {
                        "bin_start": 534.5999999999999,
                        "bin_end": 623.6999999999999,
                        "count": 0
                      },
                      {
                        "bin_start": 623.6999999999999,
                        "bin_end": 712.8,
                        "count": 0
                      },
                      {
                        "bin_start": 712.8,
                        "bin_end": 801.9,
                        "count": 0
                      },
                      {
                        "bin_start": 801.9,
                        "bin_end": 891,
                        "count": 1
                      }
                    ]
                  }
                },
                {
                  "name": "_deepnote_index_column",
                  "dtype": "object"
                }
              ],
              "rows_top": [
                {
                  "PassengerId": 891,
                  "Survived": 891,
                  "Pclass": 891,
                  "Age": 714,
                  "SibSp": 891,
                  "Parch": 891,
                  "Fare": 891,
                  "_deepnote_index_column": "count"
                },
                {
                  "PassengerId": 446,
                  "Survived": 0.3838383838383838,
                  "Pclass": 2.308641975308642,
                  "Age": 29.69911764705882,
                  "SibSp": 0.5230078563411896,
                  "Parch": 0.38159371492704824,
                  "Fare": 32.204207968574636,
                  "_deepnote_index_column": "mean"
                },
                {
                  "PassengerId": 257.3538420152301,
                  "Survived": 0.4865924542648575,
                  "Pclass": 0.836071240977049,
                  "Age": 14.526497332334042,
                  "SibSp": 1.1027434322934317,
                  "Parch": 0.8060572211299483,
                  "Fare": 49.6934285971809,
                  "_deepnote_index_column": "std"
                },
                {
                  "PassengerId": 1,
                  "Survived": 0,
                  "Pclass": 1,
                  "Age": 0.42,
                  "SibSp": 0,
                  "Parch": 0,
                  "Fare": 0,
                  "_deepnote_index_column": "min"
                },
                {
                  "PassengerId": 223.5,
                  "Survived": 0,
                  "Pclass": 2,
                  "Age": 20.125,
                  "SibSp": 0,
                  "Parch": 0,
                  "Fare": 7.9104,
                  "_deepnote_index_column": "25%"
                },
                {
                  "PassengerId": 446,
                  "Survived": 0,
                  "Pclass": 3,
                  "Age": 28,
                  "SibSp": 0,
                  "Parch": 0,
                  "Fare": 14.4542,
                  "_deepnote_index_column": "50%"
                },
                {
                  "PassengerId": 668.5,
                  "Survived": 1,
                  "Pclass": 3,
                  "Age": 38,
                  "SibSp": 1,
                  "Parch": 0,
                  "Fare": 31,
                  "_deepnote_index_column": "75%"
                },
                {
                  "PassengerId": 891,
                  "Survived": 1,
                  "Pclass": 3,
                  "Age": 80,
                  "SibSp": 8,
                  "Parch": 6,
                  "Fare": 512.3292,
                  "_deepnote_index_column": "max"
                }
              ],
              "rows_bottom": null
            },
            "text/plain": "       PassengerId    Survived      Pclass         Age       SibSp  \\\ncount   891.000000  891.000000  891.000000  714.000000  891.000000   \nmean    446.000000    0.383838    2.308642   29.699118    0.523008   \nstd     257.353842    0.486592    0.836071   14.526497    1.102743   \nmin       1.000000    0.000000    1.000000    0.420000    0.000000   \n25%     223.500000    0.000000    2.000000   20.125000    0.000000   \n50%     446.000000    0.000000    3.000000   28.000000    0.000000   \n75%     668.500000    1.000000    3.000000   38.000000    1.000000   \nmax     891.000000    1.000000    3.000000   80.000000    8.000000   \n\n            Parch        Fare  \ncount  891.000000  891.000000  \nmean     0.381594   32.204208  \nstd      0.806057   49.693429  \nmin      0.000000    0.000000  \n25%      0.000000    7.910400  \n50%      0.000000   14.454200  \n75%      0.000000   31.000000  \nmax      6.000000  512.329200  ",
            "text/html": "<div>\n<style scoped>\n    .dataframe tbody tr th:only-of-type {\n        vertical-align: middle;\n    }\n\n    .dataframe tbody tr th {\n        vertical-align: top;\n    }\n\n    .dataframe thead th {\n        text-align: right;\n    }\n</style>\n<table border=\"1\" class=\"dataframe\">\n  <thead>\n    <tr style=\"text-align: right;\">\n      <th></th>\n      <th>PassengerId</th>\n      <th>Survived</th>\n      <th>Pclass</th>\n      <th>Age</th>\n      <th>SibSp</th>\n      <th>Parch</th>\n      <th>Fare</th>\n    </tr>\n  </thead>\n  <tbody>\n    <tr>\n      <th>count</th>\n      <td>891.000000</td>\n      <td>891.000000</td>\n      <td>891.000000</td>\n      <td>714.000000</td>\n      <td>891.000000</td>\n      <td>891.000000</td>\n      <td>891.000000</td>\n    </tr>\n    <tr>\n      <th>mean</th>\n      <td>446.000000</td>\n      <td>0.383838</td>\n      <td>2.308642</td>\n      <td>29.699118</td>\n      <td>0.523008</td>\n      <td>0.381594</td>\n      <td>32.204208</td>\n    </tr>\n    <tr>\n      <th>std</th>\n      <td>257.353842</td>\n      <td>0.486592</td>\n      <td>0.836071</td>\n      <td>14.526497</td>\n      <td>1.102743</td>\n      <td>0.806057</td>\n      <td>49.693429</td>\n    </tr>\n    <tr>\n      <th>min</th>\n      <td>1.000000</td>\n      <td>0.000000</td>\n      <td>1.000000</td>\n      <td>0.420000</td>\n      <td>0.000000</td>\n      <td>0.000000</td>\n      <td>0.000000</td>\n    </tr>\n    <tr>\n      <th>25%</th>\n      <td>223.500000</td>\n      <td>0.000000</td>\n      <td>2.000000</td>\n      <td>20.125000</td>\n      <td>0.000000</td>\n      <td>0.000000</td>\n      <td>7.910400</td>\n    </tr>\n    <tr>\n      <th>50%</th>\n      <td>446.000000</td>\n      <td>0.000000</td>\n      <td>3.000000</td>\n      <td>28.000000</td>\n      <td>0.000000</td>\n      <td>0.000000</td>\n      <td>14.454200</td>\n    </tr>\n    <tr>\n      <th>75%</th>\n      <td>668.500000</td>\n      <td>1.000000</td>\n      <td>3.000000</td>\n      <td>38.000000</td>\n      <td>1.000000</td>\n      <td>0.000000</td>\n      <td>31.000000</td>\n    </tr>\n    <tr>\n      <th>max</th>\n      <td>891.000000</td>\n      <td>1.000000</td>\n      <td>3.000000</td>\n      <td>80.000000</td>\n      <td>8.000000</td>\n      <td>6.000000</td>\n      <td>512.329200</td>\n    </tr>\n  </tbody>\n</table>\n</div>"
          },
          "metadata": {}
        }
      ]
    },
    {
      "cell_type": "code",
      "metadata": {
        "tags": [],
        "cell_id": "00003-4a89c5d3-c9e7-48de-bc41-9f7709e0790d",
        "deepnote_to_be_reexecuted": false,
        "source_hash": "bdb57ca5",
        "execution_start": 1619770712780,
        "execution_millis": 29,
        "deepnote_cell_type": "code"
      },
      "source": "train['Sex'] = train['Sex'].replace({'male': 1, 'female': 0})\ntrain.head()",
      "execution_count": 8,
      "outputs": [
        {
          "output_type": "execute_result",
          "execution_count": 8,
          "data": {
            "application/vnd.deepnote.dataframe.v2+json": {
              "row_count": 5,
              "column_count": 12,
              "columns": [
                {
                  "name": "PassengerId",
                  "dtype": "int64",
                  "stats": {
                    "unique_count": 5,
                    "nan_count": 0,
                    "min": "1",
                    "max": "5",
                    "histogram": [
                      {
                        "bin_start": 1,
                        "bin_end": 1.4,
                        "count": 1
                      },
                      {
                        "bin_start": 1.4,
                        "bin_end": 1.8,
                        "count": 0
                      },
                      {
                        "bin_start": 1.8,
                        "bin_end": 2.2,
                        "count": 1
                      },
                      {
                        "bin_start": 2.2,
                        "bin_end": 2.6,
                        "count": 0
                      },
                      {
                        "bin_start": 2.6,
                        "bin_end": 3,
                        "count": 0
                      },
                      {
                        "bin_start": 3,
                        "bin_end": 3.4000000000000004,
                        "count": 1
                      },
                      {
                        "bin_start": 3.4000000000000004,
                        "bin_end": 3.8000000000000003,
                        "count": 0
                      },
                      {
                        "bin_start": 3.8000000000000003,
                        "bin_end": 4.2,
                        "count": 1
                      },
                      {
                        "bin_start": 4.2,
                        "bin_end": 4.6,
                        "count": 0
                      },
                      {
                        "bin_start": 4.6,
                        "bin_end": 5,
                        "count": 1
                      }
                    ]
                  }
                },
                {
                  "name": "Survived",
                  "dtype": "int64",
                  "stats": {
                    "unique_count": 2,
                    "nan_count": 0,
                    "min": "0",
                    "max": "1",
                    "histogram": [
                      {
                        "bin_start": 0,
                        "bin_end": 0.1,
                        "count": 2
                      },
                      {
                        "bin_start": 0.1,
                        "bin_end": 0.2,
                        "count": 0
                      },
                      {
                        "bin_start": 0.2,
                        "bin_end": 0.30000000000000004,
                        "count": 0
                      },
                      {
                        "bin_start": 0.30000000000000004,
                        "bin_end": 0.4,
                        "count": 0
                      },
                      {
                        "bin_start": 0.4,
                        "bin_end": 0.5,
                        "count": 0
                      },
                      {
                        "bin_start": 0.5,
                        "bin_end": 0.6000000000000001,
                        "count": 0
                      },
                      {
                        "bin_start": 0.6000000000000001,
                        "bin_end": 0.7000000000000001,
                        "count": 0
                      },
                      {
                        "bin_start": 0.7000000000000001,
                        "bin_end": 0.8,
                        "count": 0
                      },
                      {
                        "bin_start": 0.8,
                        "bin_end": 0.9,
                        "count": 0
                      },
                      {
                        "bin_start": 0.9,
                        "bin_end": 1,
                        "count": 3
                      }
                    ]
                  }
                },
                {
                  "name": "Pclass",
                  "dtype": "int64",
                  "stats": {
                    "unique_count": 2,
                    "nan_count": 0,
                    "min": "1",
                    "max": "3",
                    "histogram": [
                      {
                        "bin_start": 1,
                        "bin_end": 1.2,
                        "count": 2
                      },
                      {
                        "bin_start": 1.2,
                        "bin_end": 1.4,
                        "count": 0
                      },
                      {
                        "bin_start": 1.4,
                        "bin_end": 1.6,
                        "count": 0
                      },
                      {
                        "bin_start": 1.6,
                        "bin_end": 1.8,
                        "count": 0
                      },
                      {
                        "bin_start": 1.8,
                        "bin_end": 2,
                        "count": 0
                      },
                      {
                        "bin_start": 2,
                        "bin_end": 2.2,
                        "count": 0
                      },
                      {
                        "bin_start": 2.2,
                        "bin_end": 2.4000000000000004,
                        "count": 0
                      },
                      {
                        "bin_start": 2.4000000000000004,
                        "bin_end": 2.6,
                        "count": 0
                      },
                      {
                        "bin_start": 2.6,
                        "bin_end": 2.8,
                        "count": 0
                      },
                      {
                        "bin_start": 2.8,
                        "bin_end": 3,
                        "count": 3
                      }
                    ]
                  }
                },
                {
                  "name": "Name",
                  "dtype": "object",
                  "stats": {
                    "unique_count": 5,
                    "nan_count": 0,
                    "categories": [
                      {
                        "name": "Braund, Mr. Owen Harris",
                        "count": 1
                      },
                      {
                        "name": "Cumings, Mrs. John Bradley (Florence Briggs Thayer)",
                        "count": 1
                      },
                      {
                        "name": "3 others",
                        "count": 3
                      }
                    ]
                  }
                },
                {
                  "name": "Sex",
                  "dtype": "int64",
                  "stats": {
                    "unique_count": 2,
                    "nan_count": 0,
                    "min": "0",
                    "max": "1",
                    "histogram": [
                      {
                        "bin_start": 0,
                        "bin_end": 0.1,
                        "count": 3
                      },
                      {
                        "bin_start": 0.1,
                        "bin_end": 0.2,
                        "count": 0
                      },
                      {
                        "bin_start": 0.2,
                        "bin_end": 0.30000000000000004,
                        "count": 0
                      },
                      {
                        "bin_start": 0.30000000000000004,
                        "bin_end": 0.4,
                        "count": 0
                      },
                      {
                        "bin_start": 0.4,
                        "bin_end": 0.5,
                        "count": 0
                      },
                      {
                        "bin_start": 0.5,
                        "bin_end": 0.6000000000000001,
                        "count": 0
                      },
                      {
                        "bin_start": 0.6000000000000001,
                        "bin_end": 0.7000000000000001,
                        "count": 0
                      },
                      {
                        "bin_start": 0.7000000000000001,
                        "bin_end": 0.8,
                        "count": 0
                      },
                      {
                        "bin_start": 0.8,
                        "bin_end": 0.9,
                        "count": 0
                      },
                      {
                        "bin_start": 0.9,
                        "bin_end": 1,
                        "count": 2
                      }
                    ]
                  }
                },
                {
                  "name": "Age",
                  "dtype": "float64",
                  "stats": {
                    "unique_count": 4,
                    "nan_count": 0,
                    "min": "22.0",
                    "max": "38.0",
                    "histogram": [
                      {
                        "bin_start": 22,
                        "bin_end": 23.6,
                        "count": 1
                      },
                      {
                        "bin_start": 23.6,
                        "bin_end": 25.2,
                        "count": 0
                      },
                      {
                        "bin_start": 25.2,
                        "bin_end": 26.8,
                        "count": 1
                      },
                      {
                        "bin_start": 26.8,
                        "bin_end": 28.4,
                        "count": 0
                      },
                      {
                        "bin_start": 28.4,
                        "bin_end": 30,
                        "count": 0
                      },
                      {
                        "bin_start": 30,
                        "bin_end": 31.6,
                        "count": 0
                      },
                      {
                        "bin_start": 31.6,
                        "bin_end": 33.2,
                        "count": 0
                      },
                      {
                        "bin_start": 33.2,
                        "bin_end": 34.8,
                        "count": 0
                      },
                      {
                        "bin_start": 34.8,
                        "bin_end": 36.4,
                        "count": 2
                      },
                      {
                        "bin_start": 36.4,
                        "bin_end": 38,
                        "count": 1
                      }
                    ]
                  }
                },
                {
                  "name": "SibSp",
                  "dtype": "int64",
                  "stats": {
                    "unique_count": 2,
                    "nan_count": 0,
                    "min": "0",
                    "max": "1",
                    "histogram": [
                      {
                        "bin_start": 0,
                        "bin_end": 0.1,
                        "count": 2
                      },
                      {
                        "bin_start": 0.1,
                        "bin_end": 0.2,
                        "count": 0
                      },
                      {
                        "bin_start": 0.2,
                        "bin_end": 0.30000000000000004,
                        "count": 0
                      },
                      {
                        "bin_start": 0.30000000000000004,
                        "bin_end": 0.4,
                        "count": 0
                      },
                      {
                        "bin_start": 0.4,
                        "bin_end": 0.5,
                        "count": 0
                      },
                      {
                        "bin_start": 0.5,
                        "bin_end": 0.6000000000000001,
                        "count": 0
                      },
                      {
                        "bin_start": 0.6000000000000001,
                        "bin_end": 0.7000000000000001,
                        "count": 0
                      },
                      {
                        "bin_start": 0.7000000000000001,
                        "bin_end": 0.8,
                        "count": 0
                      },
                      {
                        "bin_start": 0.8,
                        "bin_end": 0.9,
                        "count": 0
                      },
                      {
                        "bin_start": 0.9,
                        "bin_end": 1,
                        "count": 3
                      }
                    ]
                  }
                },
                {
                  "name": "Parch",
                  "dtype": "int64",
                  "stats": {
                    "unique_count": 1,
                    "nan_count": 0,
                    "min": "0",
                    "max": "0",
                    "histogram": [
                      {
                        "bin_start": -0.5,
                        "bin_end": -0.4,
                        "count": 0
                      },
                      {
                        "bin_start": -0.4,
                        "bin_end": -0.3,
                        "count": 0
                      },
                      {
                        "bin_start": -0.3,
                        "bin_end": -0.19999999999999996,
                        "count": 0
                      },
                      {
                        "bin_start": -0.19999999999999996,
                        "bin_end": -0.09999999999999998,
                        "count": 0
                      },
                      {
                        "bin_start": -0.09999999999999998,
                        "bin_end": 0,
                        "count": 0
                      },
                      {
                        "bin_start": 0,
                        "bin_end": 0.10000000000000009,
                        "count": 5
                      },
                      {
                        "bin_start": 0.10000000000000009,
                        "bin_end": 0.20000000000000007,
                        "count": 0
                      },
                      {
                        "bin_start": 0.20000000000000007,
                        "bin_end": 0.30000000000000004,
                        "count": 0
                      },
                      {
                        "bin_start": 0.30000000000000004,
                        "bin_end": 0.4,
                        "count": 0
                      },
                      {
                        "bin_start": 0.4,
                        "bin_end": 0.5,
                        "count": 0
                      }
                    ]
                  }
                },
                {
                  "name": "Ticket",
                  "dtype": "object",
                  "stats": {
                    "unique_count": 5,
                    "nan_count": 0,
                    "categories": [
                      {
                        "name": "A/5 21171",
                        "count": 1
                      },
                      {
                        "name": "PC 17599",
                        "count": 1
                      },
                      {
                        "name": "3 others",
                        "count": 3
                      }
                    ]
                  }
                },
                {
                  "name": "Fare",
                  "dtype": "float64",
                  "stats": {
                    "unique_count": 5,
                    "nan_count": 0,
                    "min": "7.25",
                    "max": "71.2833",
                    "histogram": [
                      {
                        "bin_start": 7.25,
                        "bin_end": 13.65333,
                        "count": 3
                      },
                      {
                        "bin_start": 13.65333,
                        "bin_end": 20.05666,
                        "count": 0
                      },
                      {
                        "bin_start": 20.05666,
                        "bin_end": 26.459989999999998,
                        "count": 0
                      },
                      {
                        "bin_start": 26.459989999999998,
                        "bin_end": 32.86332,
                        "count": 0
                      },
                      {
                        "bin_start": 32.86332,
                        "bin_end": 39.26665,
                        "count": 0
                      },
                      {
                        "bin_start": 39.26665,
                        "bin_end": 45.669979999999995,
                        "count": 0
                      },
                      {
                        "bin_start": 45.669979999999995,
                        "bin_end": 52.07331,
                        "count": 0
                      },
                      {
                        "bin_start": 52.07331,
                        "bin_end": 58.476639999999996,
                        "count": 1
                      },
                      {
                        "bin_start": 58.476639999999996,
                        "bin_end": 64.87996999999999,
                        "count": 0
                      },
                      {
                        "bin_start": 64.87996999999999,
                        "bin_end": 71.2833,
                        "count": 1
                      }
                    ]
                  }
                },
                {
                  "name": "Cabin",
                  "dtype": "object",
                  "stats": {
                    "unique_count": 2,
                    "nan_count": 3,
                    "categories": [
                      {
                        "name": "C85",
                        "count": 1
                      },
                      {
                        "name": "C123",
                        "count": 1
                      },
                      {
                        "name": "Missing",
                        "count": 3
                      }
                    ]
                  }
                },
                {
                  "name": "Embarked",
                  "dtype": "object",
                  "stats": {
                    "unique_count": 2,
                    "nan_count": 0,
                    "categories": [
                      {
                        "name": "S",
                        "count": 4
                      },
                      {
                        "name": "C",
                        "count": 1
                      }
                    ]
                  }
                },
                {
                  "name": "_deepnote_index_column",
                  "dtype": "int64"
                }
              ],
              "rows_top": [
                {
                  "PassengerId": 1,
                  "Survived": 0,
                  "Pclass": 3,
                  "Name": "Braund, Mr. Owen Harris",
                  "Sex": 1,
                  "Age": 22,
                  "SibSp": 1,
                  "Parch": 0,
                  "Ticket": "A/5 21171",
                  "Fare": 7.25,
                  "Cabin": "nan",
                  "Embarked": "S",
                  "_deepnote_index_column": 0
                },
                {
                  "PassengerId": 2,
                  "Survived": 1,
                  "Pclass": 1,
                  "Name": "Cumings, Mrs. John Bradley (Florence Briggs Thayer)",
                  "Sex": 0,
                  "Age": 38,
                  "SibSp": 1,
                  "Parch": 0,
                  "Ticket": "PC 17599",
                  "Fare": 71.2833,
                  "Cabin": "C85",
                  "Embarked": "C",
                  "_deepnote_index_column": 1
                },
                {
                  "PassengerId": 3,
                  "Survived": 1,
                  "Pclass": 3,
                  "Name": "Heikkinen, Miss. Laina",
                  "Sex": 0,
                  "Age": 26,
                  "SibSp": 0,
                  "Parch": 0,
                  "Ticket": "STON/O2. 3101282",
                  "Fare": 7.925,
                  "Cabin": "nan",
                  "Embarked": "S",
                  "_deepnote_index_column": 2
                },
                {
                  "PassengerId": 4,
                  "Survived": 1,
                  "Pclass": 1,
                  "Name": "Futrelle, Mrs. Jacques Heath (Lily May Peel)",
                  "Sex": 0,
                  "Age": 35,
                  "SibSp": 1,
                  "Parch": 0,
                  "Ticket": "113803",
                  "Fare": 53.1,
                  "Cabin": "C123",
                  "Embarked": "S",
                  "_deepnote_index_column": 3
                },
                {
                  "PassengerId": 5,
                  "Survived": 0,
                  "Pclass": 3,
                  "Name": "Allen, Mr. William Henry",
                  "Sex": 1,
                  "Age": 35,
                  "SibSp": 0,
                  "Parch": 0,
                  "Ticket": "373450",
                  "Fare": 8.05,
                  "Cabin": "nan",
                  "Embarked": "S",
                  "_deepnote_index_column": 4
                }
              ],
              "rows_bottom": null
            },
            "text/plain": "   PassengerId  Survived  Pclass  \\\n0            1         0       3   \n1            2         1       1   \n2            3         1       3   \n3            4         1       1   \n4            5         0       3   \n\n                                                Name  Sex   Age  SibSp  Parch  \\\n0                            Braund, Mr. Owen Harris    1  22.0      1      0   \n1  Cumings, Mrs. John Bradley (Florence Briggs Th...    0  38.0      1      0   \n2                             Heikkinen, Miss. Laina    0  26.0      0      0   \n3       Futrelle, Mrs. Jacques Heath (Lily May Peel)    0  35.0      1      0   \n4                           Allen, Mr. William Henry    1  35.0      0      0   \n\n             Ticket     Fare Cabin Embarked  \n0         A/5 21171   7.2500   NaN        S  \n1          PC 17599  71.2833   C85        C  \n2  STON/O2. 3101282   7.9250   NaN        S  \n3            113803  53.1000  C123        S  \n4            373450   8.0500   NaN        S  ",
            "text/html": "<div>\n<style scoped>\n    .dataframe tbody tr th:only-of-type {\n        vertical-align: middle;\n    }\n\n    .dataframe tbody tr th {\n        vertical-align: top;\n    }\n\n    .dataframe thead th {\n        text-align: right;\n    }\n</style>\n<table border=\"1\" class=\"dataframe\">\n  <thead>\n    <tr style=\"text-align: right;\">\n      <th></th>\n      <th>PassengerId</th>\n      <th>Survived</th>\n      <th>Pclass</th>\n      <th>Name</th>\n      <th>Sex</th>\n      <th>Age</th>\n      <th>SibSp</th>\n      <th>Parch</th>\n      <th>Ticket</th>\n      <th>Fare</th>\n      <th>Cabin</th>\n      <th>Embarked</th>\n    </tr>\n  </thead>\n  <tbody>\n    <tr>\n      <th>0</th>\n      <td>1</td>\n      <td>0</td>\n      <td>3</td>\n      <td>Braund, Mr. Owen Harris</td>\n      <td>1</td>\n      <td>22.0</td>\n      <td>1</td>\n      <td>0</td>\n      <td>A/5 21171</td>\n      <td>7.2500</td>\n      <td>NaN</td>\n      <td>S</td>\n    </tr>\n    <tr>\n      <th>1</th>\n      <td>2</td>\n      <td>1</td>\n      <td>1</td>\n      <td>Cumings, Mrs. John Bradley (Florence Briggs Th...</td>\n      <td>0</td>\n      <td>38.0</td>\n      <td>1</td>\n      <td>0</td>\n      <td>PC 17599</td>\n      <td>71.2833</td>\n      <td>C85</td>\n      <td>C</td>\n    </tr>\n    <tr>\n      <th>2</th>\n      <td>3</td>\n      <td>1</td>\n      <td>3</td>\n      <td>Heikkinen, Miss. Laina</td>\n      <td>0</td>\n      <td>26.0</td>\n      <td>0</td>\n      <td>0</td>\n      <td>STON/O2. 3101282</td>\n      <td>7.9250</td>\n      <td>NaN</td>\n      <td>S</td>\n    </tr>\n    <tr>\n      <th>3</th>\n      <td>4</td>\n      <td>1</td>\n      <td>1</td>\n      <td>Futrelle, Mrs. Jacques Heath (Lily May Peel)</td>\n      <td>0</td>\n      <td>35.0</td>\n      <td>1</td>\n      <td>0</td>\n      <td>113803</td>\n      <td>53.1000</td>\n      <td>C123</td>\n      <td>S</td>\n    </tr>\n    <tr>\n      <th>4</th>\n      <td>5</td>\n      <td>0</td>\n      <td>3</td>\n      <td>Allen, Mr. William Henry</td>\n      <td>1</td>\n      <td>35.0</td>\n      <td>0</td>\n      <td>0</td>\n      <td>373450</td>\n      <td>8.0500</td>\n      <td>NaN</td>\n      <td>S</td>\n    </tr>\n  </tbody>\n</table>\n</div>"
          },
          "metadata": {}
        }
      ]
    },
    {
      "cell_type": "code",
      "metadata": {
        "tags": [],
        "cell_id": "00007-2565eb66-2880-4070-a032-71264e0d9628",
        "deepnote_to_be_reexecuted": false,
        "source_hash": "f8683763",
        "execution_start": 1619770770533,
        "execution_millis": 12,
        "deepnote_cell_type": "code"
      },
      "source": "train.isnull().sum()",
      "execution_count": 9,
      "outputs": [
        {
          "output_type": "execute_result",
          "execution_count": 9,
          "data": {
            "text/plain": "PassengerId      0\nSurvived         0\nPclass           0\nName             0\nSex              0\nAge            177\nSibSp            0\nParch            0\nTicket           0\nFare             0\nCabin          687\nEmbarked         2\ndtype: int64"
          },
          "metadata": {}
        }
      ]
    },
    {
      "cell_type": "code",
      "metadata": {
        "tags": [],
        "cell_id": "00008-929db97c-3842-4a80-96de-88a56431709a",
        "deepnote_to_be_reexecuted": false,
        "source_hash": "bcb86531",
        "execution_start": 1619770774959,
        "execution_millis": 65,
        "deepnote_cell_type": "code"
      },
      "source": "train.drop(columns = ['Ticket', 'Cabin'])",
      "execution_count": 10,
      "outputs": [
        {
          "output_type": "execute_result",
          "execution_count": 10,
          "data": {
            "application/vnd.deepnote.dataframe.v2+json": {
              "row_count": 891,
              "column_count": 10,
              "columns": [
                {
                  "name": "PassengerId",
                  "dtype": "int64",
                  "stats": {
                    "unique_count": 891,
                    "nan_count": 0,
                    "min": "1",
                    "max": "891",
                    "histogram": [
                      {
                        "bin_start": 1,
                        "bin_end": 90,
                        "count": 89
                      },
                      {
                        "bin_start": 90,
                        "bin_end": 179,
                        "count": 89
                      },
                      {
                        "bin_start": 179,
                        "bin_end": 268,
                        "count": 89
                      },
                      {
                        "bin_start": 268,
                        "bin_end": 357,
                        "count": 89
                      },
                      {
                        "bin_start": 357,
                        "bin_end": 446,
                        "count": 89
                      },
                      {
                        "bin_start": 446,
                        "bin_end": 535,
                        "count": 89
                      },
                      {
                        "bin_start": 535,
                        "bin_end": 624,
                        "count": 89
                      },
                      {
                        "bin_start": 624,
                        "bin_end": 713,
                        "count": 89
                      },
                      {
                        "bin_start": 713,
                        "bin_end": 802,
                        "count": 89
                      },
                      {
                        "bin_start": 802,
                        "bin_end": 891,
                        "count": 90
                      }
                    ]
                  }
                },
                {
                  "name": "Survived",
                  "dtype": "int64",
                  "stats": {
                    "unique_count": 2,
                    "nan_count": 0,
                    "min": "0",
                    "max": "1",
                    "histogram": [
                      {
                        "bin_start": 0,
                        "bin_end": 0.1,
                        "count": 549
                      },
                      {
                        "bin_start": 0.1,
                        "bin_end": 0.2,
                        "count": 0
                      },
                      {
                        "bin_start": 0.2,
                        "bin_end": 0.30000000000000004,
                        "count": 0
                      },
                      {
                        "bin_start": 0.30000000000000004,
                        "bin_end": 0.4,
                        "count": 0
                      },
                      {
                        "bin_start": 0.4,
                        "bin_end": 0.5,
                        "count": 0
                      },
                      {
                        "bin_start": 0.5,
                        "bin_end": 0.6000000000000001,
                        "count": 0
                      },
                      {
                        "bin_start": 0.6000000000000001,
                        "bin_end": 0.7000000000000001,
                        "count": 0
                      },
                      {
                        "bin_start": 0.7000000000000001,
                        "bin_end": 0.8,
                        "count": 0
                      },
                      {
                        "bin_start": 0.8,
                        "bin_end": 0.9,
                        "count": 0
                      },
                      {
                        "bin_start": 0.9,
                        "bin_end": 1,
                        "count": 342
                      }
                    ]
                  }
                },
                {
                  "name": "Pclass",
                  "dtype": "int64",
                  "stats": {
                    "unique_count": 3,
                    "nan_count": 0,
                    "min": "1",
                    "max": "3",
                    "histogram": [
                      {
                        "bin_start": 1,
                        "bin_end": 1.2,
                        "count": 216
                      },
                      {
                        "bin_start": 1.2,
                        "bin_end": 1.4,
                        "count": 0
                      },
                      {
                        "bin_start": 1.4,
                        "bin_end": 1.6,
                        "count": 0
                      },
                      {
                        "bin_start": 1.6,
                        "bin_end": 1.8,
                        "count": 0
                      },
                      {
                        "bin_start": 1.8,
                        "bin_end": 2,
                        "count": 0
                      },
                      {
                        "bin_start": 2,
                        "bin_end": 2.2,
                        "count": 184
                      },
                      {
                        "bin_start": 2.2,
                        "bin_end": 2.4000000000000004,
                        "count": 0
                      },
                      {
                        "bin_start": 2.4000000000000004,
                        "bin_end": 2.6,
                        "count": 0
                      },
                      {
                        "bin_start": 2.6,
                        "bin_end": 2.8,
                        "count": 0
                      },
                      {
                        "bin_start": 2.8,
                        "bin_end": 3,
                        "count": 491
                      }
                    ]
                  }
                },
                {
                  "name": "Name",
                  "dtype": "object",
                  "stats": {
                    "unique_count": 891,
                    "nan_count": 0,
                    "categories": [
                      {
                        "name": "Braund, Mr. Owen Harris",
                        "count": 1
                      },
                      {
                        "name": "Cumings, Mrs. John Bradley (Florence Briggs Thayer)",
                        "count": 1
                      },
                      {
                        "name": "889 others",
                        "count": 889
                      }
                    ]
                  }
                },
                {
                  "name": "Sex",
                  "dtype": "int64",
                  "stats": {
                    "unique_count": 2,
                    "nan_count": 0,
                    "min": "0",
                    "max": "1",
                    "histogram": [
                      {
                        "bin_start": 0,
                        "bin_end": 0.1,
                        "count": 314
                      },
                      {
                        "bin_start": 0.1,
                        "bin_end": 0.2,
                        "count": 0
                      },
                      {
                        "bin_start": 0.2,
                        "bin_end": 0.30000000000000004,
                        "count": 0
                      },
                      {
                        "bin_start": 0.30000000000000004,
                        "bin_end": 0.4,
                        "count": 0
                      },
                      {
                        "bin_start": 0.4,
                        "bin_end": 0.5,
                        "count": 0
                      },
                      {
                        "bin_start": 0.5,
                        "bin_end": 0.6000000000000001,
                        "count": 0
                      },
                      {
                        "bin_start": 0.6000000000000001,
                        "bin_end": 0.7000000000000001,
                        "count": 0
                      },
                      {
                        "bin_start": 0.7000000000000001,
                        "bin_end": 0.8,
                        "count": 0
                      },
                      {
                        "bin_start": 0.8,
                        "bin_end": 0.9,
                        "count": 0
                      },
                      {
                        "bin_start": 0.9,
                        "bin_end": 1,
                        "count": 577
                      }
                    ]
                  }
                },
                {
                  "name": "Age",
                  "dtype": "float64",
                  "stats": {
                    "unique_count": 88,
                    "nan_count": 177,
                    "min": "0.42",
                    "max": "80.0",
                    "histogram": [
                      {
                        "bin_start": 0.42,
                        "bin_end": 8.378,
                        "count": 54
                      },
                      {
                        "bin_start": 8.378,
                        "bin_end": 16.336000000000002,
                        "count": 46
                      },
                      {
                        "bin_start": 16.336000000000002,
                        "bin_end": 24.294000000000004,
                        "count": 177
                      },
                      {
                        "bin_start": 24.294000000000004,
                        "bin_end": 32.252,
                        "count": 169
                      },
                      {
                        "bin_start": 32.252,
                        "bin_end": 40.21,
                        "count": 118
                      },
                      {
                        "bin_start": 40.21,
                        "bin_end": 48.168000000000006,
                        "count": 70
                      },
                      {
                        "bin_start": 48.168000000000006,
                        "bin_end": 56.126000000000005,
                        "count": 45
                      },
                      {
                        "bin_start": 56.126000000000005,
                        "bin_end": 64.084,
                        "count": 24
                      },
                      {
                        "bin_start": 64.084,
                        "bin_end": 72.042,
                        "count": 9
                      },
                      {
                        "bin_start": 72.042,
                        "bin_end": 80,
                        "count": 2
                      }
                    ]
                  }
                },
                {
                  "name": "SibSp",
                  "dtype": "int64",
                  "stats": {
                    "unique_count": 7,
                    "nan_count": 0,
                    "min": "0",
                    "max": "8",
                    "histogram": [
                      {
                        "bin_start": 0,
                        "bin_end": 0.8,
                        "count": 608
                      },
                      {
                        "bin_start": 0.8,
                        "bin_end": 1.6,
                        "count": 209
                      },
                      {
                        "bin_start": 1.6,
                        "bin_end": 2.4000000000000004,
                        "count": 28
                      },
                      {
                        "bin_start": 2.4000000000000004,
                        "bin_end": 3.2,
                        "count": 16
                      },
                      {
                        "bin_start": 3.2,
                        "bin_end": 4,
                        "count": 0
                      },
                      {
                        "bin_start": 4,
                        "bin_end": 4.800000000000001,
                        "count": 18
                      },
                      {
                        "bin_start": 4.800000000000001,
                        "bin_end": 5.6000000000000005,
                        "count": 5
                      },
                      {
                        "bin_start": 5.6000000000000005,
                        "bin_end": 6.4,
                        "count": 0
                      },
                      {
                        "bin_start": 6.4,
                        "bin_end": 7.2,
                        "count": 0
                      },
                      {
                        "bin_start": 7.2,
                        "bin_end": 8,
                        "count": 7
                      }
                    ]
                  }
                },
                {
                  "name": "Parch",
                  "dtype": "int64",
                  "stats": {
                    "unique_count": 7,
                    "nan_count": 0,
                    "min": "0",
                    "max": "6",
                    "histogram": [
                      {
                        "bin_start": 0,
                        "bin_end": 0.6,
                        "count": 678
                      },
                      {
                        "bin_start": 0.6,
                        "bin_end": 1.2,
                        "count": 118
                      },
                      {
                        "bin_start": 1.2,
                        "bin_end": 1.7999999999999998,
                        "count": 0
                      },
                      {
                        "bin_start": 1.7999999999999998,
                        "bin_end": 2.4,
                        "count": 80
                      },
                      {
                        "bin_start": 2.4,
                        "bin_end": 3,
                        "count": 0
                      },
                      {
                        "bin_start": 3,
                        "bin_end": 3.5999999999999996,
                        "count": 5
                      },
                      {
                        "bin_start": 3.5999999999999996,
                        "bin_end": 4.2,
                        "count": 4
                      },
                      {
                        "bin_start": 4.2,
                        "bin_end": 4.8,
                        "count": 0
                      },
                      {
                        "bin_start": 4.8,
                        "bin_end": 5.3999999999999995,
                        "count": 5
                      },
                      {
                        "bin_start": 5.3999999999999995,
                        "bin_end": 6,
                        "count": 1
                      }
                    ]
                  }
                },
                {
                  "name": "Fare",
                  "dtype": "float64",
                  "stats": {
                    "unique_count": 248,
                    "nan_count": 0,
                    "min": "0.0",
                    "max": "512.3292",
                    "histogram": [
                      {
                        "bin_start": 0,
                        "bin_end": 51.23292,
                        "count": 732
                      },
                      {
                        "bin_start": 51.23292,
                        "bin_end": 102.46584,
                        "count": 106
                      },
                      {
                        "bin_start": 102.46584,
                        "bin_end": 153.69876,
                        "count": 31
                      },
                      {
                        "bin_start": 153.69876,
                        "bin_end": 204.93168,
                        "count": 2
                      },
                      {
                        "bin_start": 204.93168,
                        "bin_end": 256.1646,
                        "count": 11
                      },
                      {
                        "bin_start": 256.1646,
                        "bin_end": 307.39752,
                        "count": 6
                      },
                      {
                        "bin_start": 307.39752,
                        "bin_end": 358.63044,
                        "count": 0
                      },
                      {
                        "bin_start": 358.63044,
                        "bin_end": 409.86336,
                        "count": 0
                      },
                      {
                        "bin_start": 409.86336,
                        "bin_end": 461.09628,
                        "count": 0
                      },
                      {
                        "bin_start": 461.09628,
                        "bin_end": 512.3292,
                        "count": 3
                      }
                    ]
                  }
                },
                {
                  "name": "Embarked",
                  "dtype": "object",
                  "stats": {
                    "unique_count": 3,
                    "nan_count": 2,
                    "categories": [
                      {
                        "name": "S",
                        "count": 644
                      },
                      {
                        "name": "2 others",
                        "count": 245
                      },
                      {
                        "name": "Missing",
                        "count": 2
                      }
                    ]
                  }
                },
                {
                  "name": "_deepnote_index_column",
                  "dtype": "int64"
                }
              ],
              "rows_top": [
                {
                  "PassengerId": 1,
                  "Survived": 0,
                  "Pclass": 3,
                  "Name": "Braund, Mr. Owen Harris",
                  "Sex": 1,
                  "Age": "22.0",
                  "SibSp": 1,
                  "Parch": 0,
                  "Fare": 7.25,
                  "Embarked": "S",
                  "_deepnote_index_column": 0
                },
                {
                  "PassengerId": 2,
                  "Survived": 1,
                  "Pclass": 1,
                  "Name": "Cumings, Mrs. John Bradley (Florence Briggs Thayer)",
                  "Sex": 0,
                  "Age": "38.0",
                  "SibSp": 1,
                  "Parch": 0,
                  "Fare": 71.2833,
                  "Embarked": "C",
                  "_deepnote_index_column": 1
                },
                {
                  "PassengerId": 3,
                  "Survived": 1,
                  "Pclass": 3,
                  "Name": "Heikkinen, Miss. Laina",
                  "Sex": 0,
                  "Age": "26.0",
                  "SibSp": 0,
                  "Parch": 0,
                  "Fare": 7.925,
                  "Embarked": "S",
                  "_deepnote_index_column": 2
                },
                {
                  "PassengerId": 4,
                  "Survived": 1,
                  "Pclass": 1,
                  "Name": "Futrelle, Mrs. Jacques Heath (Lily May Peel)",
                  "Sex": 0,
                  "Age": "35.0",
                  "SibSp": 1,
                  "Parch": 0,
                  "Fare": 53.1,
                  "Embarked": "S",
                  "_deepnote_index_column": 3
                },
                {
                  "PassengerId": 5,
                  "Survived": 0,
                  "Pclass": 3,
                  "Name": "Allen, Mr. William Henry",
                  "Sex": 1,
                  "Age": "35.0",
                  "SibSp": 0,
                  "Parch": 0,
                  "Fare": 8.05,
                  "Embarked": "S",
                  "_deepnote_index_column": 4
                },
                {
                  "PassengerId": 6,
                  "Survived": 0,
                  "Pclass": 3,
                  "Name": "Moran, Mr. James",
                  "Sex": 1,
                  "Age": "nan",
                  "SibSp": 0,
                  "Parch": 0,
                  "Fare": 8.4583,
                  "Embarked": "Q",
                  "_deepnote_index_column": 5
                },
                {
                  "PassengerId": 7,
                  "Survived": 0,
                  "Pclass": 1,
                  "Name": "McCarthy, Mr. Timothy J",
                  "Sex": 1,
                  "Age": "54.0",
                  "SibSp": 0,
                  "Parch": 0,
                  "Fare": 51.8625,
                  "Embarked": "S",
                  "_deepnote_index_column": 6
                },
                {
                  "PassengerId": 8,
                  "Survived": 0,
                  "Pclass": 3,
                  "Name": "Palsson, Master. Gosta Leonard",
                  "Sex": 1,
                  "Age": "2.0",
                  "SibSp": 3,
                  "Parch": 1,
                  "Fare": 21.075,
                  "Embarked": "S",
                  "_deepnote_index_column": 7
                },
                {
                  "PassengerId": 9,
                  "Survived": 1,
                  "Pclass": 3,
                  "Name": "Johnson, Mrs. Oscar W (Elisabeth Vilhelmina Berg)",
                  "Sex": 0,
                  "Age": "27.0",
                  "SibSp": 0,
                  "Parch": 2,
                  "Fare": 11.1333,
                  "Embarked": "S",
                  "_deepnote_index_column": 8
                },
                {
                  "PassengerId": 10,
                  "Survived": 1,
                  "Pclass": 2,
                  "Name": "Nasser, Mrs. Nicholas (Adele Achem)",
                  "Sex": 0,
                  "Age": "14.0",
                  "SibSp": 1,
                  "Parch": 0,
                  "Fare": 30.0708,
                  "Embarked": "C",
                  "_deepnote_index_column": 9
                },
                {
                  "PassengerId": 11,
                  "Survived": 1,
                  "Pclass": 3,
                  "Name": "Sandstrom, Miss. Marguerite Rut",
                  "Sex": 0,
                  "Age": "4.0",
                  "SibSp": 1,
                  "Parch": 1,
                  "Fare": 16.7,
                  "Embarked": "S",
                  "_deepnote_index_column": 10
                },
                {
                  "PassengerId": 12,
                  "Survived": 1,
                  "Pclass": 1,
                  "Name": "Bonnell, Miss. Elizabeth",
                  "Sex": 0,
                  "Age": "58.0",
                  "SibSp": 0,
                  "Parch": 0,
                  "Fare": 26.55,
                  "Embarked": "S",
                  "_deepnote_index_column": 11
                },
                {
                  "PassengerId": 13,
                  "Survived": 0,
                  "Pclass": 3,
                  "Name": "Saundercock, Mr. William Henry",
                  "Sex": 1,
                  "Age": "20.0",
                  "SibSp": 0,
                  "Parch": 0,
                  "Fare": 8.05,
                  "Embarked": "S",
                  "_deepnote_index_column": 12
                },
                {
                  "PassengerId": 14,
                  "Survived": 0,
                  "Pclass": 3,
                  "Name": "Andersson, Mr. Anders Johan",
                  "Sex": 1,
                  "Age": "39.0",
                  "SibSp": 1,
                  "Parch": 5,
                  "Fare": 31.275,
                  "Embarked": "S",
                  "_deepnote_index_column": 13
                },
                {
                  "PassengerId": 15,
                  "Survived": 0,
                  "Pclass": 3,
                  "Name": "Vestrom, Miss. Hulda Amanda Adolfina",
                  "Sex": 0,
                  "Age": "14.0",
                  "SibSp": 0,
                  "Parch": 0,
                  "Fare": 7.8542,
                  "Embarked": "S",
                  "_deepnote_index_column": 14
                },
                {
                  "PassengerId": 16,
                  "Survived": 1,
                  "Pclass": 2,
                  "Name": "Hewlett, Mrs. (Mary D Kingcome) ",
                  "Sex": 0,
                  "Age": "55.0",
                  "SibSp": 0,
                  "Parch": 0,
                  "Fare": 16,
                  "Embarked": "S",
                  "_deepnote_index_column": 15
                },
                {
                  "PassengerId": 17,
                  "Survived": 0,
                  "Pclass": 3,
                  "Name": "Rice, Master. Eugene",
                  "Sex": 1,
                  "Age": "2.0",
                  "SibSp": 4,
                  "Parch": 1,
                  "Fare": 29.125,
                  "Embarked": "Q",
                  "_deepnote_index_column": 16
                },
                {
                  "PassengerId": 18,
                  "Survived": 1,
                  "Pclass": 2,
                  "Name": "Williams, Mr. Charles Eugene",
                  "Sex": 1,
                  "Age": "nan",
                  "SibSp": 0,
                  "Parch": 0,
                  "Fare": 13,
                  "Embarked": "S",
                  "_deepnote_index_column": 17
                },
                {
                  "PassengerId": 19,
                  "Survived": 0,
                  "Pclass": 3,
                  "Name": "Vander Planke, Mrs. Julius (Emelia Maria Vandemoortele)",
                  "Sex": 0,
                  "Age": "31.0",
                  "SibSp": 1,
                  "Parch": 0,
                  "Fare": 18,
                  "Embarked": "S",
                  "_deepnote_index_column": 18
                },
                {
                  "PassengerId": 20,
                  "Survived": 1,
                  "Pclass": 3,
                  "Name": "Masselmani, Mrs. Fatima",
                  "Sex": 0,
                  "Age": "nan",
                  "SibSp": 0,
                  "Parch": 0,
                  "Fare": 7.225,
                  "Embarked": "C",
                  "_deepnote_index_column": 19
                },
                {
                  "PassengerId": 21,
                  "Survived": 0,
                  "Pclass": 2,
                  "Name": "Fynney, Mr. Joseph J",
                  "Sex": 1,
                  "Age": "35.0",
                  "SibSp": 0,
                  "Parch": 0,
                  "Fare": 26,
                  "Embarked": "S",
                  "_deepnote_index_column": 20
                },
                {
                  "PassengerId": 22,
                  "Survived": 1,
                  "Pclass": 2,
                  "Name": "Beesley, Mr. Lawrence",
                  "Sex": 1,
                  "Age": "34.0",
                  "SibSp": 0,
                  "Parch": 0,
                  "Fare": 13,
                  "Embarked": "S",
                  "_deepnote_index_column": 21
                },
                {
                  "PassengerId": 23,
                  "Survived": 1,
                  "Pclass": 3,
                  "Name": "McGowan, Miss. Anna \"Annie\"",
                  "Sex": 0,
                  "Age": "15.0",
                  "SibSp": 0,
                  "Parch": 0,
                  "Fare": 8.0292,
                  "Embarked": "Q",
                  "_deepnote_index_column": 22
                },
                {
                  "PassengerId": 24,
                  "Survived": 1,
                  "Pclass": 1,
                  "Name": "Sloper, Mr. William Thompson",
                  "Sex": 1,
                  "Age": "28.0",
                  "SibSp": 0,
                  "Parch": 0,
                  "Fare": 35.5,
                  "Embarked": "S",
                  "_deepnote_index_column": 23
                },
                {
                  "PassengerId": 25,
                  "Survived": 0,
                  "Pclass": 3,
                  "Name": "Palsson, Miss. Torborg Danira",
                  "Sex": 0,
                  "Age": "8.0",
                  "SibSp": 3,
                  "Parch": 1,
                  "Fare": 21.075,
                  "Embarked": "S",
                  "_deepnote_index_column": 24
                },
                {
                  "PassengerId": 26,
                  "Survived": 1,
                  "Pclass": 3,
                  "Name": "Asplund, Mrs. Carl Oscar (Selma Augusta Emilia Johansson)",
                  "Sex": 0,
                  "Age": "38.0",
                  "SibSp": 1,
                  "Parch": 5,
                  "Fare": 31.3875,
                  "Embarked": "S",
                  "_deepnote_index_column": 25
                },
                {
                  "PassengerId": 27,
                  "Survived": 0,
                  "Pclass": 3,
                  "Name": "Emir, Mr. Farred Chehab",
                  "Sex": 1,
                  "Age": "nan",
                  "SibSp": 0,
                  "Parch": 0,
                  "Fare": 7.225,
                  "Embarked": "C",
                  "_deepnote_index_column": 26
                },
                {
                  "PassengerId": 28,
                  "Survived": 0,
                  "Pclass": 1,
                  "Name": "Fortune, Mr. Charles Alexander",
                  "Sex": 1,
                  "Age": "19.0",
                  "SibSp": 3,
                  "Parch": 2,
                  "Fare": 263,
                  "Embarked": "S",
                  "_deepnote_index_column": 27
                },
                {
                  "PassengerId": 29,
                  "Survived": 1,
                  "Pclass": 3,
                  "Name": "O'Dwyer, Miss. Ellen \"Nellie\"",
                  "Sex": 0,
                  "Age": "nan",
                  "SibSp": 0,
                  "Parch": 0,
                  "Fare": 7.8792,
                  "Embarked": "Q",
                  "_deepnote_index_column": 28
                },
                {
                  "PassengerId": 30,
                  "Survived": 0,
                  "Pclass": 3,
                  "Name": "Todoroff, Mr. Lalio",
                  "Sex": 1,
                  "Age": "nan",
                  "SibSp": 0,
                  "Parch": 0,
                  "Fare": 7.8958,
                  "Embarked": "S",
                  "_deepnote_index_column": 29
                },
                {
                  "PassengerId": 31,
                  "Survived": 0,
                  "Pclass": 1,
                  "Name": "Uruchurtu, Don. Manuel E",
                  "Sex": 1,
                  "Age": "40.0",
                  "SibSp": 0,
                  "Parch": 0,
                  "Fare": 27.7208,
                  "Embarked": "C",
                  "_deepnote_index_column": 30
                },
                {
                  "PassengerId": 32,
                  "Survived": 1,
                  "Pclass": 1,
                  "Name": "Spencer, Mrs. William Augustus (Marie Eugenie)",
                  "Sex": 0,
                  "Age": "nan",
                  "SibSp": 1,
                  "Parch": 0,
                  "Fare": 146.5208,
                  "Embarked": "C",
                  "_deepnote_index_column": 31
                },
                {
                  "PassengerId": 33,
                  "Survived": 1,
                  "Pclass": 3,
                  "Name": "Glynn, Miss. Mary Agatha",
                  "Sex": 0,
                  "Age": "nan",
                  "SibSp": 0,
                  "Parch": 0,
                  "Fare": 7.75,
                  "Embarked": "Q",
                  "_deepnote_index_column": 32
                },
                {
                  "PassengerId": 34,
                  "Survived": 0,
                  "Pclass": 2,
                  "Name": "Wheadon, Mr. Edward H",
                  "Sex": 1,
                  "Age": "66.0",
                  "SibSp": 0,
                  "Parch": 0,
                  "Fare": 10.5,
                  "Embarked": "S",
                  "_deepnote_index_column": 33
                },
                {
                  "PassengerId": 35,
                  "Survived": 0,
                  "Pclass": 1,
                  "Name": "Meyer, Mr. Edgar Joseph",
                  "Sex": 1,
                  "Age": "28.0",
                  "SibSp": 1,
                  "Parch": 0,
                  "Fare": 82.1708,
                  "Embarked": "C",
                  "_deepnote_index_column": 34
                },
                {
                  "PassengerId": 36,
                  "Survived": 0,
                  "Pclass": 1,
                  "Name": "Holverson, Mr. Alexander Oskar",
                  "Sex": 1,
                  "Age": "42.0",
                  "SibSp": 1,
                  "Parch": 0,
                  "Fare": 52,
                  "Embarked": "S",
                  "_deepnote_index_column": 35
                },
                {
                  "PassengerId": 37,
                  "Survived": 1,
                  "Pclass": 3,
                  "Name": "Mamee, Mr. Hanna",
                  "Sex": 1,
                  "Age": "nan",
                  "SibSp": 0,
                  "Parch": 0,
                  "Fare": 7.2292,
                  "Embarked": "C",
                  "_deepnote_index_column": 36
                },
                {
                  "PassengerId": 38,
                  "Survived": 0,
                  "Pclass": 3,
                  "Name": "Cann, Mr. Ernest Charles",
                  "Sex": 1,
                  "Age": "21.0",
                  "SibSp": 0,
                  "Parch": 0,
                  "Fare": 8.05,
                  "Embarked": "S",
                  "_deepnote_index_column": 37
                },
                {
                  "PassengerId": 39,
                  "Survived": 0,
                  "Pclass": 3,
                  "Name": "Vander Planke, Miss. Augusta Maria",
                  "Sex": 0,
                  "Age": "18.0",
                  "SibSp": 2,
                  "Parch": 0,
                  "Fare": 18,
                  "Embarked": "S",
                  "_deepnote_index_column": 38
                },
                {
                  "PassengerId": 40,
                  "Survived": 1,
                  "Pclass": 3,
                  "Name": "Nicola-Yarred, Miss. Jamila",
                  "Sex": 0,
                  "Age": "14.0",
                  "SibSp": 1,
                  "Parch": 0,
                  "Fare": 11.2417,
                  "Embarked": "C",
                  "_deepnote_index_column": 39
                },
                {
                  "PassengerId": 41,
                  "Survived": 0,
                  "Pclass": 3,
                  "Name": "Ahlin, Mrs. Johan (Johanna Persdotter Larsson)",
                  "Sex": 0,
                  "Age": "40.0",
                  "SibSp": 1,
                  "Parch": 0,
                  "Fare": 9.475,
                  "Embarked": "S",
                  "_deepnote_index_column": 40
                },
                {
                  "PassengerId": 42,
                  "Survived": 0,
                  "Pclass": 2,
                  "Name": "Turpin, Mrs. William John Robert (Dorothy Ann Wonnacott)",
                  "Sex": 0,
                  "Age": "27.0",
                  "SibSp": 1,
                  "Parch": 0,
                  "Fare": 21,
                  "Embarked": "S",
                  "_deepnote_index_column": 41
                },
                {
                  "PassengerId": 43,
                  "Survived": 0,
                  "Pclass": 3,
                  "Name": "Kraeff, Mr. Theodor",
                  "Sex": 1,
                  "Age": "nan",
                  "SibSp": 0,
                  "Parch": 0,
                  "Fare": 7.8958,
                  "Embarked": "C",
                  "_deepnote_index_column": 42
                },
                {
                  "PassengerId": 44,
                  "Survived": 1,
                  "Pclass": 2,
                  "Name": "Laroche, Miss. Simonne Marie Anne Andree",
                  "Sex": 0,
                  "Age": "3.0",
                  "SibSp": 1,
                  "Parch": 2,
                  "Fare": 41.5792,
                  "Embarked": "C",
                  "_deepnote_index_column": 43
                },
                {
                  "PassengerId": 45,
                  "Survived": 1,
                  "Pclass": 3,
                  "Name": "Devaney, Miss. Margaret Delia",
                  "Sex": 0,
                  "Age": "19.0",
                  "SibSp": 0,
                  "Parch": 0,
                  "Fare": 7.8792,
                  "Embarked": "Q",
                  "_deepnote_index_column": 44
                },
                {
                  "PassengerId": 46,
                  "Survived": 0,
                  "Pclass": 3,
                  "Name": "Rogers, Mr. William John",
                  "Sex": 1,
                  "Age": "nan",
                  "SibSp": 0,
                  "Parch": 0,
                  "Fare": 8.05,
                  "Embarked": "S",
                  "_deepnote_index_column": 45
                },
                {
                  "PassengerId": 47,
                  "Survived": 0,
                  "Pclass": 3,
                  "Name": "Lennon, Mr. Denis",
                  "Sex": 1,
                  "Age": "nan",
                  "SibSp": 1,
                  "Parch": 0,
                  "Fare": 15.5,
                  "Embarked": "Q",
                  "_deepnote_index_column": 46
                },
                {
                  "PassengerId": 48,
                  "Survived": 1,
                  "Pclass": 3,
                  "Name": "O'Driscoll, Miss. Bridget",
                  "Sex": 0,
                  "Age": "nan",
                  "SibSp": 0,
                  "Parch": 0,
                  "Fare": 7.75,
                  "Embarked": "Q",
                  "_deepnote_index_column": 47
                },
                {
                  "PassengerId": 49,
                  "Survived": 0,
                  "Pclass": 3,
                  "Name": "Samaan, Mr. Youssef",
                  "Sex": 1,
                  "Age": "nan",
                  "SibSp": 2,
                  "Parch": 0,
                  "Fare": 21.6792,
                  "Embarked": "C",
                  "_deepnote_index_column": 48
                },
                {
                  "PassengerId": 50,
                  "Survived": 0,
                  "Pclass": 3,
                  "Name": "Arnold-Franchi, Mrs. Josef (Josefine Franchi)",
                  "Sex": 0,
                  "Age": "18.0",
                  "SibSp": 1,
                  "Parch": 0,
                  "Fare": 17.8,
                  "Embarked": "S",
                  "_deepnote_index_column": 49
                }
              ],
              "rows_bottom": [
                {
                  "PassengerId": 842,
                  "Survived": 0,
                  "Pclass": 2,
                  "Name": "Mudd, Mr. Thomas Charles",
                  "Sex": 1,
                  "Age": "16.0",
                  "SibSp": 0,
                  "Parch": 0,
                  "Fare": 10.5,
                  "Embarked": "S",
                  "_deepnote_index_column": 841
                },
                {
                  "PassengerId": 843,
                  "Survived": 1,
                  "Pclass": 1,
                  "Name": "Serepeca, Miss. Augusta",
                  "Sex": 0,
                  "Age": "30.0",
                  "SibSp": 0,
                  "Parch": 0,
                  "Fare": 31,
                  "Embarked": "C",
                  "_deepnote_index_column": 842
                },
                {
                  "PassengerId": 844,
                  "Survived": 0,
                  "Pclass": 3,
                  "Name": "Lemberopolous, Mr. Peter L",
                  "Sex": 1,
                  "Age": "34.5",
                  "SibSp": 0,
                  "Parch": 0,
                  "Fare": 6.4375,
                  "Embarked": "C",
                  "_deepnote_index_column": 843
                },
                {
                  "PassengerId": 845,
                  "Survived": 0,
                  "Pclass": 3,
                  "Name": "Culumovic, Mr. Jeso",
                  "Sex": 1,
                  "Age": "17.0",
                  "SibSp": 0,
                  "Parch": 0,
                  "Fare": 8.6625,
                  "Embarked": "S",
                  "_deepnote_index_column": 844
                },
                {
                  "PassengerId": 846,
                  "Survived": 0,
                  "Pclass": 3,
                  "Name": "Abbing, Mr. Anthony",
                  "Sex": 1,
                  "Age": "42.0",
                  "SibSp": 0,
                  "Parch": 0,
                  "Fare": 7.55,
                  "Embarked": "S",
                  "_deepnote_index_column": 845
                },
                {
                  "PassengerId": 847,
                  "Survived": 0,
                  "Pclass": 3,
                  "Name": "Sage, Mr. Douglas Bullen",
                  "Sex": 1,
                  "Age": "nan",
                  "SibSp": 8,
                  "Parch": 2,
                  "Fare": 69.55,
                  "Embarked": "S",
                  "_deepnote_index_column": 846
                },
                {
                  "PassengerId": 848,
                  "Survived": 0,
                  "Pclass": 3,
                  "Name": "Markoff, Mr. Marin",
                  "Sex": 1,
                  "Age": "35.0",
                  "SibSp": 0,
                  "Parch": 0,
                  "Fare": 7.8958,
                  "Embarked": "C",
                  "_deepnote_index_column": 847
                },
                {
                  "PassengerId": 849,
                  "Survived": 0,
                  "Pclass": 2,
                  "Name": "Harper, Rev. John",
                  "Sex": 1,
                  "Age": "28.0",
                  "SibSp": 0,
                  "Parch": 1,
                  "Fare": 33,
                  "Embarked": "S",
                  "_deepnote_index_column": 848
                },
                {
                  "PassengerId": 850,
                  "Survived": 1,
                  "Pclass": 1,
                  "Name": "Goldenberg, Mrs. Samuel L (Edwiga Grabowska)",
                  "Sex": 0,
                  "Age": "nan",
                  "SibSp": 1,
                  "Parch": 0,
                  "Fare": 89.1042,
                  "Embarked": "C",
                  "_deepnote_index_column": 849
                },
                {
                  "PassengerId": 851,
                  "Survived": 0,
                  "Pclass": 3,
                  "Name": "Andersson, Master. Sigvard Harald Elias",
                  "Sex": 1,
                  "Age": "4.0",
                  "SibSp": 4,
                  "Parch": 2,
                  "Fare": 31.275,
                  "Embarked": "S",
                  "_deepnote_index_column": 850
                },
                {
                  "PassengerId": 852,
                  "Survived": 0,
                  "Pclass": 3,
                  "Name": "Svensson, Mr. Johan",
                  "Sex": 1,
                  "Age": "74.0",
                  "SibSp": 0,
                  "Parch": 0,
                  "Fare": 7.775,
                  "Embarked": "S",
                  "_deepnote_index_column": 851
                },
                {
                  "PassengerId": 853,
                  "Survived": 0,
                  "Pclass": 3,
                  "Name": "Boulos, Miss. Nourelain",
                  "Sex": 0,
                  "Age": "9.0",
                  "SibSp": 1,
                  "Parch": 1,
                  "Fare": 15.2458,
                  "Embarked": "C",
                  "_deepnote_index_column": 852
                },
                {
                  "PassengerId": 854,
                  "Survived": 1,
                  "Pclass": 1,
                  "Name": "Lines, Miss. Mary Conover",
                  "Sex": 0,
                  "Age": "16.0",
                  "SibSp": 0,
                  "Parch": 1,
                  "Fare": 39.4,
                  "Embarked": "S",
                  "_deepnote_index_column": 853
                },
                {
                  "PassengerId": 855,
                  "Survived": 0,
                  "Pclass": 2,
                  "Name": "Carter, Mrs. Ernest Courtenay (Lilian Hughes)",
                  "Sex": 0,
                  "Age": "44.0",
                  "SibSp": 1,
                  "Parch": 0,
                  "Fare": 26,
                  "Embarked": "S",
                  "_deepnote_index_column": 854
                },
                {
                  "PassengerId": 856,
                  "Survived": 1,
                  "Pclass": 3,
                  "Name": "Aks, Mrs. Sam (Leah Rosen)",
                  "Sex": 0,
                  "Age": "18.0",
                  "SibSp": 0,
                  "Parch": 1,
                  "Fare": 9.35,
                  "Embarked": "S",
                  "_deepnote_index_column": 855
                },
                {
                  "PassengerId": 857,
                  "Survived": 1,
                  "Pclass": 1,
                  "Name": "Wick, Mrs. George Dennick (Mary Hitchcock)",
                  "Sex": 0,
                  "Age": "45.0",
                  "SibSp": 1,
                  "Parch": 1,
                  "Fare": 164.8667,
                  "Embarked": "S",
                  "_deepnote_index_column": 856
                },
                {
                  "PassengerId": 858,
                  "Survived": 1,
                  "Pclass": 1,
                  "Name": "Daly, Mr. Peter Denis ",
                  "Sex": 1,
                  "Age": "51.0",
                  "SibSp": 0,
                  "Parch": 0,
                  "Fare": 26.55,
                  "Embarked": "S",
                  "_deepnote_index_column": 857
                },
                {
                  "PassengerId": 859,
                  "Survived": 1,
                  "Pclass": 3,
                  "Name": "Baclini, Mrs. Solomon (Latifa Qurban)",
                  "Sex": 0,
                  "Age": "24.0",
                  "SibSp": 0,
                  "Parch": 3,
                  "Fare": 19.2583,
                  "Embarked": "C",
                  "_deepnote_index_column": 858
                },
                {
                  "PassengerId": 860,
                  "Survived": 0,
                  "Pclass": 3,
                  "Name": "Razi, Mr. Raihed",
                  "Sex": 1,
                  "Age": "nan",
                  "SibSp": 0,
                  "Parch": 0,
                  "Fare": 7.2292,
                  "Embarked": "C",
                  "_deepnote_index_column": 859
                },
                {
                  "PassengerId": 861,
                  "Survived": 0,
                  "Pclass": 3,
                  "Name": "Hansen, Mr. Claus Peter",
                  "Sex": 1,
                  "Age": "41.0",
                  "SibSp": 2,
                  "Parch": 0,
                  "Fare": 14.1083,
                  "Embarked": "S",
                  "_deepnote_index_column": 860
                },
                {
                  "PassengerId": 862,
                  "Survived": 0,
                  "Pclass": 2,
                  "Name": "Giles, Mr. Frederick Edward",
                  "Sex": 1,
                  "Age": "21.0",
                  "SibSp": 1,
                  "Parch": 0,
                  "Fare": 11.5,
                  "Embarked": "S",
                  "_deepnote_index_column": 861
                },
                {
                  "PassengerId": 863,
                  "Survived": 1,
                  "Pclass": 1,
                  "Name": "Swift, Mrs. Frederick Joel (Margaret Welles Barron)",
                  "Sex": 0,
                  "Age": "48.0",
                  "SibSp": 0,
                  "Parch": 0,
                  "Fare": 25.9292,
                  "Embarked": "S",
                  "_deepnote_index_column": 862
                },
                {
                  "PassengerId": 864,
                  "Survived": 0,
                  "Pclass": 3,
                  "Name": "Sage, Miss. Dorothy Edith \"Dolly\"",
                  "Sex": 0,
                  "Age": "nan",
                  "SibSp": 8,
                  "Parch": 2,
                  "Fare": 69.55,
                  "Embarked": "S",
                  "_deepnote_index_column": 863
                },
                {
                  "PassengerId": 865,
                  "Survived": 0,
                  "Pclass": 2,
                  "Name": "Gill, Mr. John William",
                  "Sex": 1,
                  "Age": "24.0",
                  "SibSp": 0,
                  "Parch": 0,
                  "Fare": 13,
                  "Embarked": "S",
                  "_deepnote_index_column": 864
                },
                {
                  "PassengerId": 866,
                  "Survived": 1,
                  "Pclass": 2,
                  "Name": "Bystrom, Mrs. (Karolina)",
                  "Sex": 0,
                  "Age": "42.0",
                  "SibSp": 0,
                  "Parch": 0,
                  "Fare": 13,
                  "Embarked": "S",
                  "_deepnote_index_column": 865
                },
                {
                  "PassengerId": 867,
                  "Survived": 1,
                  "Pclass": 2,
                  "Name": "Duran y More, Miss. Asuncion",
                  "Sex": 0,
                  "Age": "27.0",
                  "SibSp": 1,
                  "Parch": 0,
                  "Fare": 13.8583,
                  "Embarked": "C",
                  "_deepnote_index_column": 866
                },
                {
                  "PassengerId": 868,
                  "Survived": 0,
                  "Pclass": 1,
                  "Name": "Roebling, Mr. Washington Augustus II",
                  "Sex": 1,
                  "Age": "31.0",
                  "SibSp": 0,
                  "Parch": 0,
                  "Fare": 50.4958,
                  "Embarked": "S",
                  "_deepnote_index_column": 867
                },
                {
                  "PassengerId": 869,
                  "Survived": 0,
                  "Pclass": 3,
                  "Name": "van Melkebeke, Mr. Philemon",
                  "Sex": 1,
                  "Age": "nan",
                  "SibSp": 0,
                  "Parch": 0,
                  "Fare": 9.5,
                  "Embarked": "S",
                  "_deepnote_index_column": 868
                },
                {
                  "PassengerId": 870,
                  "Survived": 1,
                  "Pclass": 3,
                  "Name": "Johnson, Master. Harold Theodor",
                  "Sex": 1,
                  "Age": "4.0",
                  "SibSp": 1,
                  "Parch": 1,
                  "Fare": 11.1333,
                  "Embarked": "S",
                  "_deepnote_index_column": 869
                },
                {
                  "PassengerId": 871,
                  "Survived": 0,
                  "Pclass": 3,
                  "Name": "Balkic, Mr. Cerin",
                  "Sex": 1,
                  "Age": "26.0",
                  "SibSp": 0,
                  "Parch": 0,
                  "Fare": 7.8958,
                  "Embarked": "S",
                  "_deepnote_index_column": 870
                },
                {
                  "PassengerId": 872,
                  "Survived": 1,
                  "Pclass": 1,
                  "Name": "Beckwith, Mrs. Richard Leonard (Sallie Monypeny)",
                  "Sex": 0,
                  "Age": "47.0",
                  "SibSp": 1,
                  "Parch": 1,
                  "Fare": 52.5542,
                  "Embarked": "S",
                  "_deepnote_index_column": 871
                },
                {
                  "PassengerId": 873,
                  "Survived": 0,
                  "Pclass": 1,
                  "Name": "Carlsson, Mr. Frans Olof",
                  "Sex": 1,
                  "Age": "33.0",
                  "SibSp": 0,
                  "Parch": 0,
                  "Fare": 5,
                  "Embarked": "S",
                  "_deepnote_index_column": 872
                },
                {
                  "PassengerId": 874,
                  "Survived": 0,
                  "Pclass": 3,
                  "Name": "Vander Cruyssen, Mr. Victor",
                  "Sex": 1,
                  "Age": "47.0",
                  "SibSp": 0,
                  "Parch": 0,
                  "Fare": 9,
                  "Embarked": "S",
                  "_deepnote_index_column": 873
                },
                {
                  "PassengerId": 875,
                  "Survived": 1,
                  "Pclass": 2,
                  "Name": "Abelson, Mrs. Samuel (Hannah Wizosky)",
                  "Sex": 0,
                  "Age": "28.0",
                  "SibSp": 1,
                  "Parch": 0,
                  "Fare": 24,
                  "Embarked": "C",
                  "_deepnote_index_column": 874
                },
                {
                  "PassengerId": 876,
                  "Survived": 1,
                  "Pclass": 3,
                  "Name": "Najib, Miss. Adele Kiamie \"Jane\"",
                  "Sex": 0,
                  "Age": "15.0",
                  "SibSp": 0,
                  "Parch": 0,
                  "Fare": 7.225,
                  "Embarked": "C",
                  "_deepnote_index_column": 875
                },
                {
                  "PassengerId": 877,
                  "Survived": 0,
                  "Pclass": 3,
                  "Name": "Gustafsson, Mr. Alfred Ossian",
                  "Sex": 1,
                  "Age": "20.0",
                  "SibSp": 0,
                  "Parch": 0,
                  "Fare": 9.8458,
                  "Embarked": "S",
                  "_deepnote_index_column": 876
                },
                {
                  "PassengerId": 878,
                  "Survived": 0,
                  "Pclass": 3,
                  "Name": "Petroff, Mr. Nedelio",
                  "Sex": 1,
                  "Age": "19.0",
                  "SibSp": 0,
                  "Parch": 0,
                  "Fare": 7.8958,
                  "Embarked": "S",
                  "_deepnote_index_column": 877
                },
                {
                  "PassengerId": 879,
                  "Survived": 0,
                  "Pclass": 3,
                  "Name": "Laleff, Mr. Kristo",
                  "Sex": 1,
                  "Age": "nan",
                  "SibSp": 0,
                  "Parch": 0,
                  "Fare": 7.8958,
                  "Embarked": "S",
                  "_deepnote_index_column": 878
                },
                {
                  "PassengerId": 880,
                  "Survived": 1,
                  "Pclass": 1,
                  "Name": "Potter, Mrs. Thomas Jr (Lily Alexenia Wilson)",
                  "Sex": 0,
                  "Age": "56.0",
                  "SibSp": 0,
                  "Parch": 1,
                  "Fare": 83.1583,
                  "Embarked": "C",
                  "_deepnote_index_column": 879
                },
                {
                  "PassengerId": 881,
                  "Survived": 1,
                  "Pclass": 2,
                  "Name": "Shelley, Mrs. William (Imanita Parrish Hall)",
                  "Sex": 0,
                  "Age": "25.0",
                  "SibSp": 0,
                  "Parch": 1,
                  "Fare": 26,
                  "Embarked": "S",
                  "_deepnote_index_column": 880
                },
                {
                  "PassengerId": 882,
                  "Survived": 0,
                  "Pclass": 3,
                  "Name": "Markun, Mr. Johann",
                  "Sex": 1,
                  "Age": "33.0",
                  "SibSp": 0,
                  "Parch": 0,
                  "Fare": 7.8958,
                  "Embarked": "S",
                  "_deepnote_index_column": 881
                },
                {
                  "PassengerId": 883,
                  "Survived": 0,
                  "Pclass": 3,
                  "Name": "Dahlberg, Miss. Gerda Ulrika",
                  "Sex": 0,
                  "Age": "22.0",
                  "SibSp": 0,
                  "Parch": 0,
                  "Fare": 10.5167,
                  "Embarked": "S",
                  "_deepnote_index_column": 882
                },
                {
                  "PassengerId": 884,
                  "Survived": 0,
                  "Pclass": 2,
                  "Name": "Banfield, Mr. Frederick James",
                  "Sex": 1,
                  "Age": "28.0",
                  "SibSp": 0,
                  "Parch": 0,
                  "Fare": 10.5,
                  "Embarked": "S",
                  "_deepnote_index_column": 883
                },
                {
                  "PassengerId": 885,
                  "Survived": 0,
                  "Pclass": 3,
                  "Name": "Sutehall, Mr. Henry Jr",
                  "Sex": 1,
                  "Age": "25.0",
                  "SibSp": 0,
                  "Parch": 0,
                  "Fare": 7.05,
                  "Embarked": "S",
                  "_deepnote_index_column": 884
                },
                {
                  "PassengerId": 886,
                  "Survived": 0,
                  "Pclass": 3,
                  "Name": "Rice, Mrs. William (Margaret Norton)",
                  "Sex": 0,
                  "Age": "39.0",
                  "SibSp": 0,
                  "Parch": 5,
                  "Fare": 29.125,
                  "Embarked": "Q",
                  "_deepnote_index_column": 885
                },
                {
                  "PassengerId": 887,
                  "Survived": 0,
                  "Pclass": 2,
                  "Name": "Montvila, Rev. Juozas",
                  "Sex": 1,
                  "Age": "27.0",
                  "SibSp": 0,
                  "Parch": 0,
                  "Fare": 13,
                  "Embarked": "S",
                  "_deepnote_index_column": 886
                },
                {
                  "PassengerId": 888,
                  "Survived": 1,
                  "Pclass": 1,
                  "Name": "Graham, Miss. Margaret Edith",
                  "Sex": 0,
                  "Age": "19.0",
                  "SibSp": 0,
                  "Parch": 0,
                  "Fare": 30,
                  "Embarked": "S",
                  "_deepnote_index_column": 887
                },
                {
                  "PassengerId": 889,
                  "Survived": 0,
                  "Pclass": 3,
                  "Name": "Johnston, Miss. Catherine Helen \"Carrie\"",
                  "Sex": 0,
                  "Age": "nan",
                  "SibSp": 1,
                  "Parch": 2,
                  "Fare": 23.45,
                  "Embarked": "S",
                  "_deepnote_index_column": 888
                },
                {
                  "PassengerId": 890,
                  "Survived": 1,
                  "Pclass": 1,
                  "Name": "Behr, Mr. Karl Howell",
                  "Sex": 1,
                  "Age": "26.0",
                  "SibSp": 0,
                  "Parch": 0,
                  "Fare": 30,
                  "Embarked": "C",
                  "_deepnote_index_column": 889
                },
                {
                  "PassengerId": 891,
                  "Survived": 0,
                  "Pclass": 3,
                  "Name": "Dooley, Mr. Patrick",
                  "Sex": 1,
                  "Age": "32.0",
                  "SibSp": 0,
                  "Parch": 0,
                  "Fare": 7.75,
                  "Embarked": "Q",
                  "_deepnote_index_column": 890
                }
              ]
            },
            "text/plain": "     PassengerId  Survived  Pclass  \\\n0              1         0       3   \n1              2         1       1   \n2              3         1       3   \n3              4         1       1   \n4              5         0       3   \n..           ...       ...     ...   \n886          887         0       2   \n887          888         1       1   \n888          889         0       3   \n889          890         1       1   \n890          891         0       3   \n\n                                                  Name  Sex   Age  SibSp  \\\n0                              Braund, Mr. Owen Harris    1  22.0      1   \n1    Cumings, Mrs. John Bradley (Florence Briggs Th...    0  38.0      1   \n2                               Heikkinen, Miss. Laina    0  26.0      0   \n3         Futrelle, Mrs. Jacques Heath (Lily May Peel)    0  35.0      1   \n4                             Allen, Mr. William Henry    1  35.0      0   \n..                                                 ...  ...   ...    ...   \n886                              Montvila, Rev. Juozas    1  27.0      0   \n887                       Graham, Miss. Margaret Edith    0  19.0      0   \n888           Johnston, Miss. Catherine Helen \"Carrie\"    0   NaN      1   \n889                              Behr, Mr. Karl Howell    1  26.0      0   \n890                                Dooley, Mr. Patrick    1  32.0      0   \n\n     Parch     Fare Embarked  \n0        0   7.2500        S  \n1        0  71.2833        C  \n2        0   7.9250        S  \n3        0  53.1000        S  \n4        0   8.0500        S  \n..     ...      ...      ...  \n886      0  13.0000        S  \n887      0  30.0000        S  \n888      2  23.4500        S  \n889      0  30.0000        C  \n890      0   7.7500        Q  \n\n[891 rows x 10 columns]",
            "text/html": "<div>\n<style scoped>\n    .dataframe tbody tr th:only-of-type {\n        vertical-align: middle;\n    }\n\n    .dataframe tbody tr th {\n        vertical-align: top;\n    }\n\n    .dataframe thead th {\n        text-align: right;\n    }\n</style>\n<table border=\"1\" class=\"dataframe\">\n  <thead>\n    <tr style=\"text-align: right;\">\n      <th></th>\n      <th>PassengerId</th>\n      <th>Survived</th>\n      <th>Pclass</th>\n      <th>Name</th>\n      <th>Sex</th>\n      <th>Age</th>\n      <th>SibSp</th>\n      <th>Parch</th>\n      <th>Fare</th>\n      <th>Embarked</th>\n    </tr>\n  </thead>\n  <tbody>\n    <tr>\n      <th>0</th>\n      <td>1</td>\n      <td>0</td>\n      <td>3</td>\n      <td>Braund, Mr. Owen Harris</td>\n      <td>1</td>\n      <td>22.0</td>\n      <td>1</td>\n      <td>0</td>\n      <td>7.2500</td>\n      <td>S</td>\n    </tr>\n    <tr>\n      <th>1</th>\n      <td>2</td>\n      <td>1</td>\n      <td>1</td>\n      <td>Cumings, Mrs. John Bradley (Florence Briggs Th...</td>\n      <td>0</td>\n      <td>38.0</td>\n      <td>1</td>\n      <td>0</td>\n      <td>71.2833</td>\n      <td>C</td>\n    </tr>\n    <tr>\n      <th>2</th>\n      <td>3</td>\n      <td>1</td>\n      <td>3</td>\n      <td>Heikkinen, Miss. Laina</td>\n      <td>0</td>\n      <td>26.0</td>\n      <td>0</td>\n      <td>0</td>\n      <td>7.9250</td>\n      <td>S</td>\n    </tr>\n    <tr>\n      <th>3</th>\n      <td>4</td>\n      <td>1</td>\n      <td>1</td>\n      <td>Futrelle, Mrs. Jacques Heath (Lily May Peel)</td>\n      <td>0</td>\n      <td>35.0</td>\n      <td>1</td>\n      <td>0</td>\n      <td>53.1000</td>\n      <td>S</td>\n    </tr>\n    <tr>\n      <th>4</th>\n      <td>5</td>\n      <td>0</td>\n      <td>3</td>\n      <td>Allen, Mr. William Henry</td>\n      <td>1</td>\n      <td>35.0</td>\n      <td>0</td>\n      <td>0</td>\n      <td>8.0500</td>\n      <td>S</td>\n    </tr>\n    <tr>\n      <th>...</th>\n      <td>...</td>\n      <td>...</td>\n      <td>...</td>\n      <td>...</td>\n      <td>...</td>\n      <td>...</td>\n      <td>...</td>\n      <td>...</td>\n      <td>...</td>\n      <td>...</td>\n    </tr>\n    <tr>\n      <th>886</th>\n      <td>887</td>\n      <td>0</td>\n      <td>2</td>\n      <td>Montvila, Rev. Juozas</td>\n      <td>1</td>\n      <td>27.0</td>\n      <td>0</td>\n      <td>0</td>\n      <td>13.0000</td>\n      <td>S</td>\n    </tr>\n    <tr>\n      <th>887</th>\n      <td>888</td>\n      <td>1</td>\n      <td>1</td>\n      <td>Graham, Miss. Margaret Edith</td>\n      <td>0</td>\n      <td>19.0</td>\n      <td>0</td>\n      <td>0</td>\n      <td>30.0000</td>\n      <td>S</td>\n    </tr>\n    <tr>\n      <th>888</th>\n      <td>889</td>\n      <td>0</td>\n      <td>3</td>\n      <td>Johnston, Miss. Catherine Helen \"Carrie\"</td>\n      <td>0</td>\n      <td>NaN</td>\n      <td>1</td>\n      <td>2</td>\n      <td>23.4500</td>\n      <td>S</td>\n    </tr>\n    <tr>\n      <th>889</th>\n      <td>890</td>\n      <td>1</td>\n      <td>1</td>\n      <td>Behr, Mr. Karl Howell</td>\n      <td>1</td>\n      <td>26.0</td>\n      <td>0</td>\n      <td>0</td>\n      <td>30.0000</td>\n      <td>C</td>\n    </tr>\n    <tr>\n      <th>890</th>\n      <td>891</td>\n      <td>0</td>\n      <td>3</td>\n      <td>Dooley, Mr. Patrick</td>\n      <td>1</td>\n      <td>32.0</td>\n      <td>0</td>\n      <td>0</td>\n      <td>7.7500</td>\n      <td>Q</td>\n    </tr>\n  </tbody>\n</table>\n<p>891 rows × 10 columns</p>\n</div>"
          },
          "metadata": {}
        }
      ]
    },
    {
      "cell_type": "code",
      "metadata": {
        "tags": [],
        "cell_id": "00008-3275f723-347a-44fd-82f2-234ea2c605ec",
        "deepnote_to_be_reexecuted": false,
        "source_hash": "4a21f927",
        "execution_start": 1619770777339,
        "execution_millis": 16,
        "deepnote_cell_type": "code"
      },
      "source": "survived = train[train['Survived'] == 1]\nnot_survived = train[train['Survived'] == 0]\n\nprint('Survived: %i (%.1f%%)'%(len(survived), float(len(survived))/len(train)*100.0))\nprint('Survived: %i (%.1f%%)'%(len(not_survived), float(len(not_survived))/len(train)*100.0))\n\nprint('Total: %i'%len(train))",
      "execution_count": 11,
      "outputs": [
        {
          "name": "stdout",
          "text": "Survived: 342 (38.4%)\nSurvived: 549 (61.6%)\nTotal: 891\n",
          "output_type": "stream"
        }
      ]
    },
    {
      "cell_type": "code",
      "metadata": {
        "tags": [],
        "cell_id": "00009-86be5c79-303a-4860-bdbb-f585ee8d40ca",
        "deepnote_to_be_reexecuted": false,
        "source_hash": "a36eca7b",
        "execution_start": 1619770780399,
        "execution_millis": 11,
        "deepnote_cell_type": "code"
      },
      "source": "train.Pclass.value_counts()",
      "execution_count": 12,
      "outputs": [
        {
          "output_type": "execute_result",
          "execution_count": 12,
          "data": {
            "text/plain": "3    491\n1    216\n2    184\nName: Pclass, dtype: int64"
          },
          "metadata": {}
        }
      ]
    },
    {
      "cell_type": "code",
      "metadata": {
        "tags": [],
        "cell_id": "00010-3562839f-35c1-4349-a806-6e104b353aab",
        "deepnote_to_be_reexecuted": false,
        "source_hash": "1224060f",
        "execution_start": 1619770781570,
        "execution_millis": 9,
        "deepnote_cell_type": "code"
      },
      "source": "train.groupby('Pclass').Survived.value_counts()",
      "execution_count": 13,
      "outputs": [
        {
          "output_type": "execute_result",
          "execution_count": 13,
          "data": {
            "text/plain": "Pclass  Survived\n1       1           136\n        0            80\n2       0            97\n        1            87\n3       0           372\n        1           119\nName: Survived, dtype: int64"
          },
          "metadata": {}
        }
      ]
    },
    {
      "cell_type": "code",
      "metadata": {
        "tags": [],
        "cell_id": "00011-e90528a8-e61b-425a-bfaf-e0a31fffe96d",
        "deepnote_to_be_reexecuted": false,
        "source_hash": "4391c276",
        "execution_start": 1619770783861,
        "execution_millis": 7,
        "deepnote_cell_type": "code"
      },
      "source": "train[['Pclass','Survived']].groupby(['Pclass'], as_index=False).mean()",
      "execution_count": 14,
      "outputs": [
        {
          "output_type": "execute_result",
          "execution_count": 14,
          "data": {
            "application/vnd.deepnote.dataframe.v2+json": {
              "row_count": 3,
              "column_count": 2,
              "columns": [
                {
                  "name": "Pclass",
                  "dtype": "int64",
                  "stats": {
                    "unique_count": 3,
                    "nan_count": 0,
                    "min": "1",
                    "max": "3",
                    "histogram": [
                      {
                        "bin_start": 1,
                        "bin_end": 1.2,
                        "count": 1
                      },
                      {
                        "bin_start": 1.2,
                        "bin_end": 1.4,
                        "count": 0
                      },
                      {
                        "bin_start": 1.4,
                        "bin_end": 1.6,
                        "count": 0
                      },
                      {
                        "bin_start": 1.6,
                        "bin_end": 1.8,
                        "count": 0
                      },
                      {
                        "bin_start": 1.8,
                        "bin_end": 2,
                        "count": 0
                      },
                      {
                        "bin_start": 2,
                        "bin_end": 2.2,
                        "count": 1
                      },
                      {
                        "bin_start": 2.2,
                        "bin_end": 2.4000000000000004,
                        "count": 0
                      },
                      {
                        "bin_start": 2.4000000000000004,
                        "bin_end": 2.6,
                        "count": 0
                      },
                      {
                        "bin_start": 2.6,
                        "bin_end": 2.8,
                        "count": 0
                      },
                      {
                        "bin_start": 2.8,
                        "bin_end": 3,
                        "count": 1
                      }
                    ]
                  }
                },
                {
                  "name": "Survived",
                  "dtype": "float64",
                  "stats": {
                    "unique_count": 3,
                    "nan_count": 0,
                    "min": "0.24236252545824846",
                    "max": "0.6296296296296297",
                    "histogram": [
                      {
                        "bin_start": 0.24236252545824846,
                        "bin_end": 0.2810892358753866,
                        "count": 1
                      },
                      {
                        "bin_start": 0.2810892358753866,
                        "bin_end": 0.3198159462925247,
                        "count": 0
                      },
                      {
                        "bin_start": 0.3198159462925247,
                        "bin_end": 0.3585426567096628,
                        "count": 0
                      },
                      {
                        "bin_start": 0.3585426567096628,
                        "bin_end": 0.39726936712680094,
                        "count": 0
                      },
                      {
                        "bin_start": 0.39726936712680094,
                        "bin_end": 0.4359960775439391,
                        "count": 0
                      },
                      {
                        "bin_start": 0.4359960775439391,
                        "bin_end": 0.47472278796107714,
                        "count": 1
                      },
                      {
                        "bin_start": 0.47472278796107714,
                        "bin_end": 0.5134494983782153,
                        "count": 0
                      },
                      {
                        "bin_start": 0.5134494983782153,
                        "bin_end": 0.5521762087953535,
                        "count": 0
                      },
                      {
                        "bin_start": 0.5521762087953535,
                        "bin_end": 0.5909029192124915,
                        "count": 0
                      },
                      {
                        "bin_start": 0.5909029192124915,
                        "bin_end": 0.6296296296296297,
                        "count": 1
                      }
                    ]
                  }
                },
                {
                  "name": "_deepnote_index_column",
                  "dtype": "int64"
                }
              ],
              "rows_top": [
                {
                  "Pclass": 1,
                  "Survived": 0.6296296296296297,
                  "_deepnote_index_column": 0
                },
                {
                  "Pclass": 2,
                  "Survived": 0.47282608695652173,
                  "_deepnote_index_column": 1
                },
                {
                  "Pclass": 3,
                  "Survived": 0.24236252545824846,
                  "_deepnote_index_column": 2
                }
              ],
              "rows_bottom": null
            },
            "text/plain": "   Pclass  Survived\n0       1  0.629630\n1       2  0.472826\n2       3  0.242363",
            "text/html": "<div>\n<style scoped>\n    .dataframe tbody tr th:only-of-type {\n        vertical-align: middle;\n    }\n\n    .dataframe tbody tr th {\n        vertical-align: top;\n    }\n\n    .dataframe thead th {\n        text-align: right;\n    }\n</style>\n<table border=\"1\" class=\"dataframe\">\n  <thead>\n    <tr style=\"text-align: right;\">\n      <th></th>\n      <th>Pclass</th>\n      <th>Survived</th>\n    </tr>\n  </thead>\n  <tbody>\n    <tr>\n      <th>0</th>\n      <td>1</td>\n      <td>0.629630</td>\n    </tr>\n    <tr>\n      <th>1</th>\n      <td>2</td>\n      <td>0.472826</td>\n    </tr>\n    <tr>\n      <th>2</th>\n      <td>3</td>\n      <td>0.242363</td>\n    </tr>\n  </tbody>\n</table>\n</div>"
          },
          "metadata": {}
        }
      ]
    },
    {
      "cell_type": "code",
      "metadata": {
        "tags": [],
        "cell_id": "00012-eca43637-e061-462c-bd24-09931cad76a4",
        "deepnote_to_be_reexecuted": false,
        "source_hash": "89b5bc36",
        "execution_start": 1619770785945,
        "execution_millis": 140,
        "deepnote_cell_type": "code"
      },
      "source": "sns.barplot(x='Pclass',y='Survived',ci=None, data=train)",
      "execution_count": 15,
      "outputs": [
        {
          "output_type": "execute_result",
          "execution_count": 15,
          "data": {
            "text/plain": "<AxesSubplot:xlabel='Pclass', ylabel='Survived'>"
          },
          "metadata": {}
        },
        {
          "data": {
            "text/plain": "<Figure size 432x288 with 1 Axes>",
            "image/png": "[encoded data removed]"
          },
          "metadata": {
            "needs_background": "light",
            "image/png": {
              "width": 386,
              "height": 262
            }
          },
          "output_type": "display_data"
        }
      ]
    },
    {
      "cell_type": "markdown",
      "source": "#### People in the 1 Class had the highst rate of suviving the titanic accident. ",
      "metadata": {
        "tags": [],
        "cell_id": "00013-4ff05fd5-92c0-4ade-833d-0891cc5e6b52",
        "deepnote_cell_type": "markdown"
      }
    },
    {
      "cell_type": "code",
      "metadata": {
        "tags": [],
        "cell_id": "00014-72fa0a73-a6bb-454b-b546-57724dd70720",
        "deepnote_to_be_reexecuted": false,
        "source_hash": "bc80bae9",
        "execution_start": 1619770789268,
        "execution_millis": 8,
        "deepnote_cell_type": "code"
      },
      "source": "train.Sex.value_counts()",
      "execution_count": 16,
      "outputs": [
        {
          "output_type": "execute_result",
          "execution_count": 16,
          "data": {
            "text/plain": "1    577\n0    314\nName: Sex, dtype: int64"
          },
          "metadata": {}
        }
      ]
    },
    {
      "cell_type": "code",
      "metadata": {
        "tags": [],
        "cell_id": "00015-1d1d173b-3eab-433f-97f4-293672cc468f",
        "deepnote_to_be_reexecuted": false,
        "source_hash": "eb0d41a2",
        "execution_start": 1619770790982,
        "execution_millis": 8,
        "deepnote_cell_type": "code"
      },
      "source": "train.groupby('Sex').Survived.value_counts()",
      "execution_count": 17,
      "outputs": [
        {
          "output_type": "execute_result",
          "execution_count": 17,
          "data": {
            "text/plain": "Sex  Survived\n0    1           233\n     0            81\n1    0           468\n     1           109\nName: Survived, dtype: int64"
          },
          "metadata": {}
        }
      ]
    },
    {
      "cell_type": "code",
      "metadata": {
        "tags": [],
        "cell_id": "00016-2e20262e-9c09-4133-9423-5a8ec19055d8",
        "deepnote_to_be_reexecuted": false,
        "source_hash": "149cac87",
        "execution_start": 1619770793131,
        "execution_millis": 107,
        "deepnote_cell_type": "code"
      },
      "source": "sns.barplot(x='Sex',y='Survived',ci=None, data=train)",
      "execution_count": 18,
      "outputs": [
        {
          "output_type": "execute_result",
          "execution_count": 18,
          "data": {
            "text/plain": "<AxesSubplot:xlabel='Sex', ylabel='Survived'>"
          },
          "metadata": {}
        },
        {
          "data": {
            "text/plain": "<Figure size 432x288 with 1 Axes>",
            "image/png": "[encoded data removed]"
          },
          "metadata": {
            "needs_background": "light",
            "image/png": {
              "width": 386,
              "height": 262
            }
          },
          "output_type": "display_data"
        }
      ]
    },
    {
      "cell_type": "markdown",
      "source": "#### Femals have the highest chance to survive",
      "metadata": {
        "tags": [],
        "cell_id": "00017-0760ebf1-5387-4629-8ba7-bc5ce3afb300",
        "deepnote_cell_type": "markdown"
      }
    },
    {
      "cell_type": "code",
      "metadata": {
        "tags": [],
        "cell_id": "00018-38ede696-aa82-4def-b3a5-e2f2dd18e9f9",
        "deepnote_to_be_reexecuted": false,
        "source_hash": "59cdc188",
        "execution_start": 1619770795510,
        "execution_millis": 22,
        "deepnote_cell_type": "code"
      },
      "source": "tab = pd.crosstab(train['Pclass'], train['Sex'])\nprint(tab)",
      "execution_count": 19,
      "outputs": [
        {
          "name": "stdout",
          "text": "Sex       0    1\nPclass          \n1        94  122\n2        76  108\n3       144  347\n",
          "output_type": "stream"
        }
      ]
    },
    {
      "cell_type": "code",
      "metadata": {
        "tags": [],
        "cell_id": "00019-0c7f9fa4-fae6-4750-b552-e0771ece1278",
        "deepnote_to_be_reexecuted": false,
        "source_hash": "5afd1277",
        "execution_start": 1619770796919,
        "execution_millis": 165,
        "deepnote_cell_type": "code"
      },
      "source": "tab.div(tab.sum(1).astype(float), axis=0).plot(kind='bar', stacked=True)\nplt.xlabel('Pclass')\nplt.ylabel('Percentage')",
      "execution_count": 20,
      "outputs": [
        {
          "output_type": "execute_result",
          "execution_count": 20,
          "data": {
            "text/plain": "Text(0, 0.5, 'Percentage')"
          },
          "metadata": {}
        },
        {
          "data": {
            "text/plain": "<Figure size 432x288 with 1 Axes>",
            "image/png": "[encoded data removed]"
          },
          "metadata": {
            "needs_background": "light",
            "image/png": {
              "width": 386,
              "height": 259
            }
          },
          "output_type": "display_data"
        }
      ]
    },
    {
      "cell_type": "code",
      "metadata": {
        "tags": [],
        "cell_id": "00020-a24025ea-dd4d-4a3c-a454-acfea4028214",
        "deepnote_to_be_reexecuted": false,
        "source_hash": "777eb207",
        "execution_start": 1619770799920,
        "execution_millis": 596,
        "is_code_hidden": false,
        "deepnote_cell_type": "code"
      },
      "source": "sns.factorplot('Sex','Survived', hue = 'Pclass', size = 4, aspect=2, data=train)",
      "execution_count": 21,
      "outputs": [
        {
          "name": "stderr",
          "text": "/shared-libs/python3.9/py/lib/python3.9/site-packages/seaborn/categorical.py:3714: UserWarning: The `factorplot` function has been renamed to `catplot`. The original name will be removed in a future release. Please update your code. Note that the default `kind` in `factorplot` (`'point'`) has changed `'strip'` in `catplot`.\n  warnings.warn(msg)\n/shared-libs/python3.9/py/lib/python3.9/site-packages/seaborn/categorical.py:3720: UserWarning: The `size` parameter has been renamed to `height`; please update your code.\n  warnings.warn(msg, UserWarning)\n/shared-libs/python3.9/py/lib/python3.9/site-packages/seaborn/_decorators.py:36: FutureWarning: Pass the following variables as keyword args: x, y. From version 0.12, the only valid positional argument will be `data`, and passing other arguments without an explicit keyword will result in an error or misinterpretation.\n  warnings.warn(\n",
          "output_type": "stream"
        },
        {
          "output_type": "execute_result",
          "execution_count": 21,
          "data": {
            "text/plain": "<seaborn.axisgrid.FacetGrid at 0x7f251f7fab20>"
          },
          "metadata": {}
        },
        {
          "data": {
            "text/plain": "<Figure size 618.375x288 with 1 Axes>",
            "image/png": "[encoded data removed]"
          },
          "metadata": {
            "needs_background": "light",
            "image/png": {
              "width": 628,
              "height": 294
            }
          },
          "output_type": "display_data"
        }
      ]
    },
    {
      "cell_type": "markdown",
      "source": "• 0 = Woman and 1 = Men\n• Woman from Class 1 and 2 have the highst chance of suviving. Between 100 and 90 Procent. \n• Men from Class 2 and 3 are most likely to die. Under 20%",
      "metadata": {
        "tags": [],
        "cell_id": "00021-6860cc59-d5f1-44ea-8829-5b69c4818942",
        "deepnote_cell_type": "markdown"
      }
    },
    {
      "cell_type": "code",
      "metadata": {
        "tags": [],
        "cell_id": "00022-297380f8-7980-4c5a-8cf5-84706ad59a45",
        "deepnote_to_be_reexecuted": false,
        "source_hash": "c0797d9d",
        "execution_start": 1619770860820,
        "execution_millis": 7,
        "deepnote_cell_type": "code"
      },
      "source": "train.Embarked.value_counts()",
      "execution_count": 22,
      "outputs": [
        {
          "output_type": "execute_result",
          "execution_count": 22,
          "data": {
            "text/plain": "S    644\nC    168\nQ     77\nName: Embarked, dtype: int64"
          },
          "metadata": {}
        }
      ]
    },
    {
      "cell_type": "code",
      "metadata": {
        "tags": [],
        "cell_id": "00023-65d83c33-fe64-4856-9c2f-984f5a617bc3",
        "deepnote_to_be_reexecuted": false,
        "source_hash": "710069f2",
        "execution_start": 1619770862439,
        "execution_millis": 10,
        "deepnote_cell_type": "code"
      },
      "source": "train.groupby('Embarked').Survived.value_counts()",
      "execution_count": 23,
      "outputs": [
        {
          "output_type": "execute_result",
          "execution_count": 23,
          "data": {
            "text/plain": "Embarked  Survived\nC         1            93\n          0            75\nQ         0            47\n          1            30\nS         0           427\n          1           217\nName: Survived, dtype: int64"
          },
          "metadata": {}
        }
      ]
    },
    {
      "cell_type": "code",
      "metadata": {
        "tags": [],
        "cell_id": "00024-5e777d7e-fc08-44b9-9ba6-9e41815f84e6",
        "deepnote_to_be_reexecuted": false,
        "source_hash": "b170447d",
        "execution_start": 1619770864558,
        "execution_millis": 6,
        "deepnote_cell_type": "code"
      },
      "source": "train[['Embarked','Survived']].groupby(['Embarked'], as_index=False).mean()",
      "execution_count": 24,
      "outputs": [
        {
          "output_type": "execute_result",
          "execution_count": 24,
          "data": {
            "application/vnd.deepnote.dataframe.v2+json": {
              "row_count": 3,
              "column_count": 2,
              "columns": [
                {
                  "name": "Embarked",
                  "dtype": "object",
                  "stats": {
                    "unique_count": 3,
                    "nan_count": 0,
                    "categories": [
                      {
                        "name": "C",
                        "count": 1
                      },
                      {
                        "name": "Q",
                        "count": 1
                      },
                      {
                        "name": "S",
                        "count": 1
                      }
                    ]
                  }
                },
                {
                  "name": "Survived",
                  "dtype": "float64",
                  "stats": {
                    "unique_count": 3,
                    "nan_count": 0,
                    "min": "0.33695652173913043",
                    "max": "0.5535714285714286",
                    "histogram": [
                      {
                        "bin_start": 0.33695652173913043,
                        "bin_end": 0.35861801242236024,
                        "count": 1
                      },
                      {
                        "bin_start": 0.35861801242236024,
                        "bin_end": 0.38027950310559006,
                        "count": 0
                      },
                      {
                        "bin_start": 0.38027950310559006,
                        "bin_end": 0.40194099378881987,
                        "count": 1
                      },
                      {
                        "bin_start": 0.40194099378881987,
                        "bin_end": 0.42360248447204973,
                        "count": 0
                      },
                      {
                        "bin_start": 0.42360248447204973,
                        "bin_end": 0.4452639751552795,
                        "count": 0
                      },
                      {
                        "bin_start": 0.4452639751552795,
                        "bin_end": 0.46692546583850936,
                        "count": 0
                      },
                      {
                        "bin_start": 0.46692546583850936,
                        "bin_end": 0.48858695652173917,
                        "count": 0
                      },
                      {
                        "bin_start": 0.48858695652173917,
                        "bin_end": 0.510248447204969,
                        "count": 0
                      },
                      {
                        "bin_start": 0.510248447204969,
                        "bin_end": 0.5319099378881988,
                        "count": 0
                      },
                      {
                        "bin_start": 0.5319099378881988,
                        "bin_end": 0.5535714285714286,
                        "count": 1
                      }
                    ]
                  }
                },
                {
                  "name": "_deepnote_index_column",
                  "dtype": "int64"
                }
              ],
              "rows_top": [
                {
                  "Embarked": "C",
                  "Survived": 0.5535714285714286,
                  "_deepnote_index_column": 0
                },
                {
                  "Embarked": "Q",
                  "Survived": 0.38961038961038963,
                  "_deepnote_index_column": 1
                },
                {
                  "Embarked": "S",
                  "Survived": 0.33695652173913043,
                  "_deepnote_index_column": 2
                }
              ],
              "rows_bottom": null
            },
            "text/plain": "  Embarked  Survived\n0        C  0.553571\n1        Q  0.389610\n2        S  0.336957",
            "text/html": "<div>\n<style scoped>\n    .dataframe tbody tr th:only-of-type {\n        vertical-align: middle;\n    }\n\n    .dataframe tbody tr th {\n        vertical-align: top;\n    }\n\n    .dataframe thead th {\n        text-align: right;\n    }\n</style>\n<table border=\"1\" class=\"dataframe\">\n  <thead>\n    <tr style=\"text-align: right;\">\n      <th></th>\n      <th>Embarked</th>\n      <th>Survived</th>\n    </tr>\n  </thead>\n  <tbody>\n    <tr>\n      <th>0</th>\n      <td>C</td>\n      <td>0.553571</td>\n    </tr>\n    <tr>\n      <th>1</th>\n      <td>Q</td>\n      <td>0.389610</td>\n    </tr>\n    <tr>\n      <th>2</th>\n      <td>S</td>\n      <td>0.336957</td>\n    </tr>\n  </tbody>\n</table>\n</div>"
          },
          "metadata": {}
        }
      ]
    },
    {
      "cell_type": "code",
      "metadata": {
        "tags": [],
        "cell_id": "00025-7814f510-f646-42f8-822e-ecfce27f4185",
        "deepnote_to_be_reexecuted": false,
        "source_hash": "a105f918",
        "execution_start": 1619770866284,
        "execution_millis": 112,
        "deepnote_cell_type": "code"
      },
      "source": "sns.barplot(x='Embarked',y='Survived', ci=None, data=train)",
      "execution_count": 25,
      "outputs": [
        {
          "output_type": "execute_result",
          "execution_count": 25,
          "data": {
            "text/plain": "<AxesSubplot:xlabel='Embarked', ylabel='Survived'>"
          },
          "metadata": {}
        },
        {
          "data": {
            "text/plain": "<Figure size 432x288 with 1 Axes>",
            "image/png": "[encoded data removed]"
          },
          "metadata": {
            "needs_background": "light",
            "image/png": {
              "width": 386,
              "height": 262
            }
          },
          "output_type": "display_data"
        }
      ]
    },
    {
      "cell_type": "code",
      "metadata": {
        "tags": [],
        "cell_id": "00026-7065c705-dbcb-4804-b3b4-5ee6943f36fe",
        "deepnote_to_be_reexecuted": false,
        "source_hash": "a2bcef10",
        "execution_start": 1619770867888,
        "execution_millis": 7,
        "deepnote_cell_type": "code"
      },
      "source": "train.Parch.value_counts()",
      "execution_count": 26,
      "outputs": [
        {
          "output_type": "execute_result",
          "execution_count": 26,
          "data": {
            "text/plain": "0    678\n1    118\n2     80\n3      5\n5      5\n4      4\n6      1\nName: Parch, dtype: int64"
          },
          "metadata": {}
        }
      ]
    },
    {
      "cell_type": "code",
      "metadata": {
        "tags": [],
        "cell_id": "00027-76e60d62-63a1-4645-a8c1-40f57d8e4be3",
        "deepnote_to_be_reexecuted": false,
        "source_hash": "c73d706",
        "execution_start": 1619770869777,
        "execution_millis": 9,
        "deepnote_cell_type": "code"
      },
      "source": "train.groupby('Parch').Survived.value_counts()",
      "execution_count": 27,
      "outputs": [
        {
          "output_type": "execute_result",
          "execution_count": 27,
          "data": {
            "text/plain": "Parch  Survived\n0      0           445\n       1           233\n1      1            65\n       0            53\n2      0            40\n       1            40\n3      1             3\n       0             2\n4      0             4\n5      0             4\n       1             1\n6      0             1\nName: Survived, dtype: int64"
          },
          "metadata": {}
        }
      ]
    },
    {
      "cell_type": "code",
      "metadata": {
        "tags": [],
        "cell_id": "00028-1769e6a6-0f21-4aa8-a1e8-e4800ed1b3e5",
        "deepnote_to_be_reexecuted": false,
        "source_hash": "2717b3d8",
        "execution_start": 1619770871948,
        "execution_millis": 17,
        "deepnote_cell_type": "code"
      },
      "source": "train[['Parch','Survived']].groupby(['Parch'], as_index=False).mean()",
      "execution_count": 28,
      "outputs": [
        {
          "output_type": "execute_result",
          "execution_count": 28,
          "data": {
            "application/vnd.deepnote.dataframe.v2+json": {
              "row_count": 7,
              "column_count": 2,
              "columns": [
                {
                  "name": "Parch",
                  "dtype": "int64",
                  "stats": {
                    "unique_count": 7,
                    "nan_count": 0,
                    "min": "0",
                    "max": "6",
                    "histogram": [
                      {
                        "bin_start": 0,
                        "bin_end": 0.6,
                        "count": 1
                      },
                      {
                        "bin_start": 0.6,
                        "bin_end": 1.2,
                        "count": 1
                      },
                      {
                        "bin_start": 1.2,
                        "bin_end": 1.7999999999999998,
                        "count": 0
                      },
                      {
                        "bin_start": 1.7999999999999998,
                        "bin_end": 2.4,
                        "count": 1
                      },
                      {
                        "bin_start": 2.4,
                        "bin_end": 3,
                        "count": 0
                      },
                      {
                        "bin_start": 3,
                        "bin_end": 3.5999999999999996,
                        "count": 1
                      },
                      {
                        "bin_start": 3.5999999999999996,
                        "bin_end": 4.2,
                        "count": 1
                      },
                      {
                        "bin_start": 4.2,
                        "bin_end": 4.8,
                        "count": 0
                      },
                      {
                        "bin_start": 4.8,
                        "bin_end": 5.3999999999999995,
                        "count": 1
                      },
                      {
                        "bin_start": 5.3999999999999995,
                        "bin_end": 6,
                        "count": 1
                      }
                    ]
                  }
                },
                {
                  "name": "Survived",
                  "dtype": "float64",
                  "stats": {
                    "unique_count": 6,
                    "nan_count": 0,
                    "min": "0.0",
                    "max": "0.6",
                    "histogram": [
                      {
                        "bin_start": 0,
                        "bin_end": 0.06,
                        "count": 2
                      },
                      {
                        "bin_start": 0.06,
                        "bin_end": 0.12,
                        "count": 0
                      },
                      {
                        "bin_start": 0.12,
                        "bin_end": 0.18,
                        "count": 0
                      },
                      {
                        "bin_start": 0.18,
                        "bin_end": 0.24,
                        "count": 1
                      },
                      {
                        "bin_start": 0.24,
                        "bin_end": 0.3,
                        "count": 0
                      },
                      {
                        "bin_start": 0.3,
                        "bin_end": 0.36,
                        "count": 1
                      },
                      {
                        "bin_start": 0.36,
                        "bin_end": 0.42,
                        "count": 0
                      },
                      {
                        "bin_start": 0.42,
                        "bin_end": 0.48,
                        "count": 0
                      },
                      {
                        "bin_start": 0.48,
                        "bin_end": 0.54,
                        "count": 1
                      },
                      {
                        "bin_start": 0.54,
                        "bin_end": 0.6,
                        "count": 2
                      }
                    ]
                  }
                },
                {
                  "name": "_deepnote_index_column",
                  "dtype": "int64"
                }
              ],
              "rows_top": [
                {
                  "Parch": 0,
                  "Survived": 0.34365781710914456,
                  "_deepnote_index_column": 0
                },
                {
                  "Parch": 1,
                  "Survived": 0.5508474576271186,
                  "_deepnote_index_column": 1
                },
                {
                  "Parch": 2,
                  "Survived": 0.5,
                  "_deepnote_index_column": 2
                },
                {
                  "Parch": 3,
                  "Survived": 0.6,
                  "_deepnote_index_column": 3
                },
                {
                  "Parch": 4,
                  "Survived": 0,
                  "_deepnote_index_column": 4
                },
                {
                  "Parch": 5,
                  "Survived": 0.2,
                  "_deepnote_index_column": 5
                },
                {
                  "Parch": 6,
                  "Survived": 0,
                  "_deepnote_index_column": 6
                }
              ],
              "rows_bottom": null
            },
            "text/plain": "   Parch  Survived\n0      0  0.343658\n1      1  0.550847\n2      2  0.500000\n3      3  0.600000\n4      4  0.000000\n5      5  0.200000\n6      6  0.000000",
            "text/html": "<div>\n<style scoped>\n    .dataframe tbody tr th:only-of-type {\n        vertical-align: middle;\n    }\n\n    .dataframe tbody tr th {\n        vertical-align: top;\n    }\n\n    .dataframe thead th {\n        text-align: right;\n    }\n</style>\n<table border=\"1\" class=\"dataframe\">\n  <thead>\n    <tr style=\"text-align: right;\">\n      <th></th>\n      <th>Parch</th>\n      <th>Survived</th>\n    </tr>\n  </thead>\n  <tbody>\n    <tr>\n      <th>0</th>\n      <td>0</td>\n      <td>0.343658</td>\n    </tr>\n    <tr>\n      <th>1</th>\n      <td>1</td>\n      <td>0.550847</td>\n    </tr>\n    <tr>\n      <th>2</th>\n      <td>2</td>\n      <td>0.500000</td>\n    </tr>\n    <tr>\n      <th>3</th>\n      <td>3</td>\n      <td>0.600000</td>\n    </tr>\n    <tr>\n      <th>4</th>\n      <td>4</td>\n      <td>0.000000</td>\n    </tr>\n    <tr>\n      <th>5</th>\n      <td>5</td>\n      <td>0.200000</td>\n    </tr>\n    <tr>\n      <th>6</th>\n      <td>6</td>\n      <td>0.000000</td>\n    </tr>\n  </tbody>\n</table>\n</div>"
          },
          "metadata": {}
        }
      ]
    },
    {
      "cell_type": "code",
      "metadata": {
        "tags": [],
        "cell_id": "00029-1528dbd5-f735-4f65-ba63-c0cbbf6ce75b",
        "deepnote_to_be_reexecuted": false,
        "source_hash": "f2d611e4",
        "execution_start": 1619770874077,
        "execution_millis": 133,
        "deepnote_cell_type": "code"
      },
      "source": "sns.barplot(x='Parch',y='Survived', ci= None,data=train)",
      "execution_count": 29,
      "outputs": [
        {
          "output_type": "execute_result",
          "execution_count": 29,
          "data": {
            "text/plain": "<AxesSubplot:xlabel='Parch', ylabel='Survived'>"
          },
          "metadata": {}
        },
        {
          "data": {
            "text/plain": "<Figure size 432x288 with 1 Axes>",
            "image/png": "[encoded data removed]"
          },
          "metadata": {
            "needs_background": "light",
            "image/png": {
              "width": 386,
              "height": 262
            }
          },
          "output_type": "display_data"
        }
      ]
    },
    {
      "cell_type": "code",
      "metadata": {
        "tags": [],
        "cell_id": "00030-dff636aa-e0a3-45e4-9aea-8173abef7983",
        "deepnote_to_be_reexecuted": false,
        "source_hash": "91b1ef5a",
        "execution_start": 1619770877325,
        "execution_millis": 204,
        "deepnote_cell_type": "code"
      },
      "source": "sns.violinplot(x='Sex',y='Age', hue='Survived',ci=None, data=train)",
      "execution_count": 30,
      "outputs": [
        {
          "output_type": "execute_result",
          "execution_count": 30,
          "data": {
            "text/plain": "<AxesSubplot:xlabel='Sex', ylabel='Age'>"
          },
          "metadata": {}
        },
        {
          "data": {
            "text/plain": "<Figure size 432x288 with 1 Axes>",
            "image/png": "[encoded data removed]"
          },
          "metadata": {
            "needs_background": "light",
            "image/png": {
              "width": 382,
              "height": 262
            }
          },
          "output_type": "display_data"
        }
      ]
    },
    {
      "cell_type": "code",
      "metadata": {
        "tags": [],
        "cell_id": "00031-42bb2cac-e6bb-4969-ae09-bd0996550c31",
        "deepnote_to_be_reexecuted": false,
        "source_hash": "c2dfe25e",
        "execution_start": 1619770880188,
        "execution_millis": 452,
        "deepnote_cell_type": "code"
      },
      "source": "total_survived = train[train['Survived']==1]\ntotal_not_survived = train[train['Survived']==0]\nmale_survived = train[(train['Survived']==1) & (train['Sex']==\"male\")]\nfemale_survived = train[(train['Survived']==1) & (train['Sex']==\"female\")]\nmale_not_survived = train[(train['Survived']==0) & (train['Sex']==\"male\")]\nfemale_not_survived = train[(train['Survived']==0) & (train['Sex']==\"female\")]\n\nplt.figure(figsize=[15,5])\nplt.subplot(111)\nsns.distplot(total_survived['Age'].dropna().values, bins=range(0, 81, 1), kde=False, color='blue')\nsns.distplot(total_not_survived['Age'].dropna().values, bins=range(0, 81, 1), kde=False, color='red', axlabel='Age')",
      "execution_count": 31,
      "outputs": [
        {
          "name": "stderr",
          "text": "/shared-libs/python3.9/py/lib/python3.9/site-packages/seaborn/distributions.py:2557: FutureWarning: `distplot` is a deprecated function and will be removed in a future version. Please adapt your code to use either `displot` (a figure-level function with similar flexibility) or `histplot` (an axes-level function for histograms).\n  warnings.warn(msg, FutureWarning)\n",
          "output_type": "stream"
        },
        {
          "output_type": "execute_result",
          "execution_count": 31,
          "data": {
            "text/plain": "<AxesSubplot:xlabel='Age'>"
          },
          "metadata": {}
        },
        {
          "data": {
            "text/plain": "<Figure size 1080x360 with 1 Axes>",
            "image/png": "[encoded data removed]"
          },
          "metadata": {
            "needs_background": "light",
            "image/png": {
              "width": 880,
              "height": 317
            }
          },
          "output_type": "display_data"
        }
      ]
    },
    {
      "cell_type": "code",
      "metadata": {
        "tags": [],
        "cell_id": "00032-a4f4cf3f-31e7-4a3c-8636-d2076d91f370",
        "deepnote_to_be_reexecuted": false,
        "source_hash": "fdf07183",
        "execution_start": 1619770898491,
        "execution_millis": 580,
        "deepnote_cell_type": "code"
      },
      "source": "plt.figure(figsize=(15,6))\nsns.heatmap(train.drop('PassengerId',axis=1).corr(), vmax=0.6, square=True, annot=True)",
      "execution_count": 32,
      "outputs": [
        {
          "output_type": "execute_result",
          "execution_count": 32,
          "data": {
            "text/plain": "<AxesSubplot:>"
          },
          "metadata": {}
        },
        {
          "data": {
            "text/plain": "<Figure size 1080x432 with 2 Axes>",
            "image/png": "[encoded data removed]"
          },
          "metadata": {
            "needs_background": "light",
            "image/png": {
              "width": 446,
              "height": 361
            }
          },
          "output_type": "display_data"
        }
      ]
    },
    {
      "cell_type": "markdown",
      "source": "### Data Cleaning\n\n",
      "metadata": {
        "tags": [],
        "cell_id": "00033-66f2b187-5e7e-41c1-b99c-5308732cb821",
        "deepnote_cell_type": "markdown"
      }
    },
    {
      "cell_type": "code",
      "metadata": {
        "tags": [],
        "cell_id": "00033-c6bc56e6-e270-4a5d-a555-3cc088e44379",
        "deepnote_to_be_reexecuted": false,
        "source_hash": "c4bb502d",
        "execution_start": 1619771091069,
        "execution_millis": 1,
        "deepnote_cell_type": "code"
      },
      "source": "# Name -> Title\n\ntrain_test_data = [train, test] # cleaning test and train dataset\n\nfor dataset in train_test_data:\n    dataset['Title'] = dataset.Name.str.extract(' ([A-Za-z]+)\\.')",
      "execution_count": 33,
      "outputs": []
    },
    {
      "cell_type": "code",
      "metadata": {
        "tags": [],
        "cell_id": "00035-ae3511fe-2e54-41c3-a382-e49744562c5e",
        "deepnote_to_be_reexecuted": false,
        "source_hash": "e1f0b45",
        "execution_start": 1619732470375,
        "execution_millis": 44,
        "deepnote_cell_type": "code"
      },
      "source": "train.head()",
      "execution_count": null,
      "outputs": [
        {
          "output_type": "execute_result",
          "execution_count": 60,
          "data": {
            "application/vnd.deepnote.dataframe.v2+json": {
              "row_count": 5,
              "column_count": 13,
              "columns": [
                {
                  "name": "PassengerId",
                  "dtype": "int64",
                  "stats": {
                    "unique_count": 5,
                    "nan_count": 0,
                    "min": "1",
                    "max": "5",
                    "histogram": [
                      {
                        "bin_start": 1,
                        "bin_end": 1.4,
                        "count": 1
                      },
                      {
                        "bin_start": 1.4,
                        "bin_end": 1.8,
                        "count": 0
                      },
                      {
                        "bin_start": 1.8,
                        "bin_end": 2.2,
                        "count": 1
                      },
                      {
                        "bin_start": 2.2,
                        "bin_end": 2.6,
                        "count": 0
                      },
                      {
                        "bin_start": 2.6,
                        "bin_end": 3,
                        "count": 0
                      },
                      {
                        "bin_start": 3,
                        "bin_end": 3.4000000000000004,
                        "count": 1
                      },
                      {
                        "bin_start": 3.4000000000000004,
                        "bin_end": 3.8000000000000003,
                        "count": 0
                      },
                      {
                        "bin_start": 3.8000000000000003,
                        "bin_end": 4.2,
                        "count": 1
                      },
                      {
                        "bin_start": 4.2,
                        "bin_end": 4.6,
                        "count": 0
                      },
                      {
                        "bin_start": 4.6,
                        "bin_end": 5,
                        "count": 1
                      }
                    ]
                  }
                },
                {
                  "name": "Survived",
                  "dtype": "int64",
                  "stats": {
                    "unique_count": 2,
                    "nan_count": 0,
                    "min": "0",
                    "max": "1",
                    "histogram": [
                      {
                        "bin_start": 0,
                        "bin_end": 0.1,
                        "count": 2
                      },
                      {
                        "bin_start": 0.1,
                        "bin_end": 0.2,
                        "count": 0
                      },
                      {
                        "bin_start": 0.2,
                        "bin_end": 0.30000000000000004,
                        "count": 0
                      },
                      {
                        "bin_start": 0.30000000000000004,
                        "bin_end": 0.4,
                        "count": 0
                      },
                      {
                        "bin_start": 0.4,
                        "bin_end": 0.5,
                        "count": 0
                      },
                      {
                        "bin_start": 0.5,
                        "bin_end": 0.6000000000000001,
                        "count": 0
                      },
                      {
                        "bin_start": 0.6000000000000001,
                        "bin_end": 0.7000000000000001,
                        "count": 0
                      },
                      {
                        "bin_start": 0.7000000000000001,
                        "bin_end": 0.8,
                        "count": 0
                      },
                      {
                        "bin_start": 0.8,
                        "bin_end": 0.9,
                        "count": 0
                      },
                      {
                        "bin_start": 0.9,
                        "bin_end": 1,
                        "count": 3
                      }
                    ]
                  }
                },
                {
                  "name": "Pclass",
                  "dtype": "int64",
                  "stats": {
                    "unique_count": 2,
                    "nan_count": 0,
                    "min": "1",
                    "max": "3",
                    "histogram": [
                      {
                        "bin_start": 1,
                        "bin_end": 1.2,
                        "count": 2
                      },
                      {
                        "bin_start": 1.2,
                        "bin_end": 1.4,
                        "count": 0
                      },
                      {
                        "bin_start": 1.4,
                        "bin_end": 1.6,
                        "count": 0
                      },
                      {
                        "bin_start": 1.6,
                        "bin_end": 1.8,
                        "count": 0
                      },
                      {
                        "bin_start": 1.8,
                        "bin_end": 2,
                        "count": 0
                      },
                      {
                        "bin_start": 2,
                        "bin_end": 2.2,
                        "count": 0
                      },
                      {
                        "bin_start": 2.2,
                        "bin_end": 2.4000000000000004,
                        "count": 0
                      },
                      {
                        "bin_start": 2.4000000000000004,
                        "bin_end": 2.6,
                        "count": 0
                      },
                      {
                        "bin_start": 2.6,
                        "bin_end": 2.8,
                        "count": 0
                      },
                      {
                        "bin_start": 2.8,
                        "bin_end": 3,
                        "count": 3
                      }
                    ]
                  }
                },
                {
                  "name": "Name",
                  "dtype": "object",
                  "stats": {
                    "unique_count": 5,
                    "nan_count": 0,
                    "categories": [
                      {
                        "name": "Braund, Mr. Owen Harris",
                        "count": 1
                      },
                      {
                        "name": "Cumings, Mrs. John Bradley (Florence Briggs Thayer)",
                        "count": 1
                      },
                      {
                        "name": "3 others",
                        "count": 3
                      }
                    ]
                  }
                },
                {
                  "name": "Sex",
                  "dtype": "int64",
                  "stats": {
                    "unique_count": 2,
                    "nan_count": 0,
                    "min": "0",
                    "max": "1",
                    "histogram": [
                      {
                        "bin_start": 0,
                        "bin_end": 0.1,
                        "count": 3
                      },
                      {
                        "bin_start": 0.1,
                        "bin_end": 0.2,
                        "count": 0
                      },
                      {
                        "bin_start": 0.2,
                        "bin_end": 0.30000000000000004,
                        "count": 0
                      },
                      {
                        "bin_start": 0.30000000000000004,
                        "bin_end": 0.4,
                        "count": 0
                      },
                      {
                        "bin_start": 0.4,
                        "bin_end": 0.5,
                        "count": 0
                      },
                      {
                        "bin_start": 0.5,
                        "bin_end": 0.6000000000000001,
                        "count": 0
                      },
                      {
                        "bin_start": 0.6000000000000001,
                        "bin_end": 0.7000000000000001,
                        "count": 0
                      },
                      {
                        "bin_start": 0.7000000000000001,
                        "bin_end": 0.8,
                        "count": 0
                      },
                      {
                        "bin_start": 0.8,
                        "bin_end": 0.9,
                        "count": 0
                      },
                      {
                        "bin_start": 0.9,
                        "bin_end": 1,
                        "count": 2
                      }
                    ]
                  }
                },
                {
                  "name": "Age",
                  "dtype": "float64",
                  "stats": {
                    "unique_count": 4,
                    "nan_count": 0,
                    "min": "22.0",
                    "max": "38.0",
                    "histogram": [
                      {
                        "bin_start": 22,
                        "bin_end": 23.6,
                        "count": 1
                      },
                      {
                        "bin_start": 23.6,
                        "bin_end": 25.2,
                        "count": 0
                      },
                      {
                        "bin_start": 25.2,
                        "bin_end": 26.8,
                        "count": 1
                      },
                      {
                        "bin_start": 26.8,
                        "bin_end": 28.4,
                        "count": 0
                      },
                      {
                        "bin_start": 28.4,
                        "bin_end": 30,
                        "count": 0
                      },
                      {
                        "bin_start": 30,
                        "bin_end": 31.6,
                        "count": 0
                      },
                      {
                        "bin_start": 31.6,
                        "bin_end": 33.2,
                        "count": 0
                      },
                      {
                        "bin_start": 33.2,
                        "bin_end": 34.8,
                        "count": 0
                      },
                      {
                        "bin_start": 34.8,
                        "bin_end": 36.4,
                        "count": 2
                      },
                      {
                        "bin_start": 36.4,
                        "bin_end": 38,
                        "count": 1
                      }
                    ]
                  }
                },
                {
                  "name": "SibSp",
                  "dtype": "int64",
                  "stats": {
                    "unique_count": 2,
                    "nan_count": 0,
                    "min": "0",
                    "max": "1",
                    "histogram": [
                      {
                        "bin_start": 0,
                        "bin_end": 0.1,
                        "count": 2
                      },
                      {
                        "bin_start": 0.1,
                        "bin_end": 0.2,
                        "count": 0
                      },
                      {
                        "bin_start": 0.2,
                        "bin_end": 0.30000000000000004,
                        "count": 0
                      },
                      {
                        "bin_start": 0.30000000000000004,
                        "bin_end": 0.4,
                        "count": 0
                      },
                      {
                        "bin_start": 0.4,
                        "bin_end": 0.5,
                        "count": 0
                      },
                      {
                        "bin_start": 0.5,
                        "bin_end": 0.6000000000000001,
                        "count": 0
                      },
                      {
                        "bin_start": 0.6000000000000001,
                        "bin_end": 0.7000000000000001,
                        "count": 0
                      },
                      {
                        "bin_start": 0.7000000000000001,
                        "bin_end": 0.8,
                        "count": 0
                      },
                      {
                        "bin_start": 0.8,
                        "bin_end": 0.9,
                        "count": 0
                      },
                      {
                        "bin_start": 0.9,
                        "bin_end": 1,
                        "count": 3
                      }
                    ]
                  }
                },
                {
                  "name": "Parch",
                  "dtype": "int64",
                  "stats": {
                    "unique_count": 1,
                    "nan_count": 0,
                    "min": "0",
                    "max": "0",
                    "histogram": [
                      {
                        "bin_start": -0.5,
                        "bin_end": -0.4,
                        "count": 0
                      },
                      {
                        "bin_start": -0.4,
                        "bin_end": -0.3,
                        "count": 0
                      },
                      {
                        "bin_start": -0.3,
                        "bin_end": -0.19999999999999996,
                        "count": 0
                      },
                      {
                        "bin_start": -0.19999999999999996,
                        "bin_end": -0.09999999999999998,
                        "count": 0
                      },
                      {
                        "bin_start": -0.09999999999999998,
                        "bin_end": 0,
                        "count": 0
                      },
                      {
                        "bin_start": 0,
                        "bin_end": 0.10000000000000009,
                        "count": 5
                      },
                      {
                        "bin_start": 0.10000000000000009,
                        "bin_end": 0.20000000000000007,
                        "count": 0
                      },
                      {
                        "bin_start": 0.20000000000000007,
                        "bin_end": 0.30000000000000004,
                        "count": 0
                      },
                      {
                        "bin_start": 0.30000000000000004,
                        "bin_end": 0.4,
                        "count": 0
                      },
                      {
                        "bin_start": 0.4,
                        "bin_end": 0.5,
                        "count": 0
                      }
                    ]
                  }
                },
                {
                  "name": "Ticket",
                  "dtype": "object",
                  "stats": {
                    "unique_count": 5,
                    "nan_count": 0,
                    "categories": [
                      {
                        "name": "A/5 21171",
                        "count": 1
                      },
                      {
                        "name": "PC 17599",
                        "count": 1
                      },
                      {
                        "name": "3 others",
                        "count": 3
                      }
                    ]
                  }
                },
                {
                  "name": "Fare",
                  "dtype": "float64",
                  "stats": {
                    "unique_count": 5,
                    "nan_count": 0,
                    "min": "7.25",
                    "max": "71.2833",
                    "histogram": [
                      {
                        "bin_start": 7.25,
                        "bin_end": 13.65333,
                        "count": 3
                      },
                      {
                        "bin_start": 13.65333,
                        "bin_end": 20.05666,
                        "count": 0
                      },
                      {
                        "bin_start": 20.05666,
                        "bin_end": 26.459989999999998,
                        "count": 0
                      },
                      {
                        "bin_start": 26.459989999999998,
                        "bin_end": 32.86332,
                        "count": 0
                      },
                      {
                        "bin_start": 32.86332,
                        "bin_end": 39.26665,
                        "count": 0
                      },
                      {
                        "bin_start": 39.26665,
                        "bin_end": 45.669979999999995,
                        "count": 0
                      },
                      {
                        "bin_start": 45.669979999999995,
                        "bin_end": 52.07331,
                        "count": 0
                      },
                      {
                        "bin_start": 52.07331,
                        "bin_end": 58.476639999999996,
                        "count": 1
                      },
                      {
                        "bin_start": 58.476639999999996,
                        "bin_end": 64.87996999999999,
                        "count": 0
                      },
                      {
                        "bin_start": 64.87996999999999,
                        "bin_end": 71.2833,
                        "count": 1
                      }
                    ]
                  }
                },
                {
                  "name": "Cabin",
                  "dtype": "object",
                  "stats": {
                    "unique_count": 2,
                    "nan_count": 3,
                    "categories": [
                      {
                        "name": "C85",
                        "count": 1
                      },
                      {
                        "name": "C123",
                        "count": 1
                      },
                      {
                        "name": "Missing",
                        "count": 3
                      }
                    ]
                  }
                },
                {
                  "name": "Embarked",
                  "dtype": "object",
                  "stats": {
                    "unique_count": 2,
                    "nan_count": 0,
                    "categories": [
                      {
                        "name": "S",
                        "count": 4
                      },
                      {
                        "name": "C",
                        "count": 1
                      }
                    ]
                  }
                },
                {
                  "name": "Title",
                  "dtype": "object",
                  "stats": {
                    "unique_count": 3,
                    "nan_count": 0,
                    "categories": [
                      {
                        "name": "Mr",
                        "count": 2
                      },
                      {
                        "name": "Mrs",
                        "count": 2
                      },
                      {
                        "name": "Miss",
                        "count": 1
                      }
                    ]
                  }
                },
                {
                  "name": "_deepnote_index_column",
                  "dtype": "int64"
                }
              ],
              "rows_top": [
                {
                  "PassengerId": 1,
                  "Survived": 0,
                  "Pclass": 3,
                  "Name": "Braund, Mr. Owen Harris",
                  "Sex": 1,
                  "Age": 22,
                  "SibSp": 1,
                  "Parch": 0,
                  "Ticket": "A/5 21171",
                  "Fare": 7.25,
                  "Cabin": "nan",
                  "Embarked": "S",
                  "Title": "Mr",
                  "_deepnote_index_column": 0
                },
                {
                  "PassengerId": 2,
                  "Survived": 1,
                  "Pclass": 1,
                  "Name": "Cumings, Mrs. John Bradley (Florence Briggs Thayer)",
                  "Sex": 0,
                  "Age": 38,
                  "SibSp": 1,
                  "Parch": 0,
                  "Ticket": "PC 17599",
                  "Fare": 71.2833,
                  "Cabin": "C85",
                  "Embarked": "C",
                  "Title": "Mrs",
                  "_deepnote_index_column": 1
                },
                {
                  "PassengerId": 3,
                  "Survived": 1,
                  "Pclass": 3,
                  "Name": "Heikkinen, Miss. Laina",
                  "Sex": 0,
                  "Age": 26,
                  "SibSp": 0,
                  "Parch": 0,
                  "Ticket": "STON/O2. 3101282",
                  "Fare": 7.925,
                  "Cabin": "nan",
                  "Embarked": "S",
                  "Title": "Miss",
                  "_deepnote_index_column": 2
                },
                {
                  "PassengerId": 4,
                  "Survived": 1,
                  "Pclass": 1,
                  "Name": "Futrelle, Mrs. Jacques Heath (Lily May Peel)",
                  "Sex": 0,
                  "Age": 35,
                  "SibSp": 1,
                  "Parch": 0,
                  "Ticket": "113803",
                  "Fare": 53.1,
                  "Cabin": "C123",
                  "Embarked": "S",
                  "Title": "Mrs",
                  "_deepnote_index_column": 3
                },
                {
                  "PassengerId": 5,
                  "Survived": 0,
                  "Pclass": 3,
                  "Name": "Allen, Mr. William Henry",
                  "Sex": 1,
                  "Age": 35,
                  "SibSp": 0,
                  "Parch": 0,
                  "Ticket": "373450",
                  "Fare": 8.05,
                  "Cabin": "nan",
                  "Embarked": "S",
                  "Title": "Mr",
                  "_deepnote_index_column": 4
                }
              ],
              "rows_bottom": null
            },
            "text/plain": "   PassengerId  Survived  Pclass  \\\n0            1         0       3   \n1            2         1       1   \n2            3         1       3   \n3            4         1       1   \n4            5         0       3   \n\n                                                Name  Sex   Age  SibSp  Parch  \\\n0                            Braund, Mr. Owen Harris    1  22.0      1      0   \n1  Cumings, Mrs. John Bradley (Florence Briggs Th...    0  38.0      1      0   \n2                             Heikkinen, Miss. Laina    0  26.0      0      0   \n3       Futrelle, Mrs. Jacques Heath (Lily May Peel)    0  35.0      1      0   \n4                           Allen, Mr. William Henry    1  35.0      0      0   \n\n             Ticket     Fare Cabin Embarked Title  \n0         A/5 21171   7.2500   NaN        S    Mr  \n1          PC 17599  71.2833   C85        C   Mrs  \n2  STON/O2. 3101282   7.9250   NaN        S  Miss  \n3            113803  53.1000  C123        S   Mrs  \n4            373450   8.0500   NaN        S    Mr  ",
            "text/html": "<div>\n<style scoped>\n    .dataframe tbody tr th:only-of-type {\n        vertical-align: middle;\n    }\n\n    .dataframe tbody tr th {\n        vertical-align: top;\n    }\n\n    .dataframe thead th {\n        text-align: right;\n    }\n</style>\n<table border=\"1\" class=\"dataframe\">\n  <thead>\n    <tr style=\"text-align: right;\">\n      <th></th>\n      <th>PassengerId</th>\n      <th>Survived</th>\n      <th>Pclass</th>\n      <th>Name</th>\n      <th>Sex</th>\n      <th>Age</th>\n      <th>SibSp</th>\n      <th>Parch</th>\n      <th>Ticket</th>\n      <th>Fare</th>\n      <th>Cabin</th>\n      <th>Embarked</th>\n      <th>Title</th>\n    </tr>\n  </thead>\n  <tbody>\n    <tr>\n      <th>0</th>\n      <td>1</td>\n      <td>0</td>\n      <td>3</td>\n      <td>Braund, Mr. Owen Harris</td>\n      <td>1</td>\n      <td>22.0</td>\n      <td>1</td>\n      <td>0</td>\n      <td>A/5 21171</td>\n      <td>7.2500</td>\n      <td>NaN</td>\n      <td>S</td>\n      <td>Mr</td>\n    </tr>\n    <tr>\n      <th>1</th>\n      <td>2</td>\n      <td>1</td>\n      <td>1</td>\n      <td>Cumings, Mrs. John Bradley (Florence Briggs Th...</td>\n      <td>0</td>\n      <td>38.0</td>\n      <td>1</td>\n      <td>0</td>\n      <td>PC 17599</td>\n      <td>71.2833</td>\n      <td>C85</td>\n      <td>C</td>\n      <td>Mrs</td>\n    </tr>\n    <tr>\n      <th>2</th>\n      <td>3</td>\n      <td>1</td>\n      <td>3</td>\n      <td>Heikkinen, Miss. Laina</td>\n      <td>0</td>\n      <td>26.0</td>\n      <td>0</td>\n      <td>0</td>\n      <td>STON/O2. 3101282</td>\n      <td>7.9250</td>\n      <td>NaN</td>\n      <td>S</td>\n      <td>Miss</td>\n    </tr>\n    <tr>\n      <th>3</th>\n      <td>4</td>\n      <td>1</td>\n      <td>1</td>\n      <td>Futrelle, Mrs. Jacques Heath (Lily May Peel)</td>\n      <td>0</td>\n      <td>35.0</td>\n      <td>1</td>\n      <td>0</td>\n      <td>113803</td>\n      <td>53.1000</td>\n      <td>C123</td>\n      <td>S</td>\n      <td>Mrs</td>\n    </tr>\n    <tr>\n      <th>4</th>\n      <td>5</td>\n      <td>0</td>\n      <td>3</td>\n      <td>Allen, Mr. William Henry</td>\n      <td>1</td>\n      <td>35.0</td>\n      <td>0</td>\n      <td>0</td>\n      <td>373450</td>\n      <td>8.0500</td>\n      <td>NaN</td>\n      <td>S</td>\n      <td>Mr</td>\n    </tr>\n  </tbody>\n</table>\n</div>"
          },
          "metadata": {}
        }
      ]
    },
    {
      "cell_type": "code",
      "source": "#  \n\npd.crosstab(train['Title'], train['Sex'])",
      "metadata": {
        "tags": [],
        "cell_id": "00036-58d84b56-fbc1-42e9-a466-159d5e79058a",
        "deepnote_to_be_reexecuted": false,
        "source_hash": "eb16d988",
        "execution_start": 1619771093774,
        "execution_millis": 27,
        "deepnote_cell_type": "code"
      },
      "outputs": [
        {
          "output_type": "execute_result",
          "execution_count": 34,
          "data": {
            "application/vnd.deepnote.dataframe.v2+json": {
              "row_count": 17,
              "column_count": 2,
              "columns": [
                {
                  "name": 0,
                  "dtype": "int64",
                  "stats": {
                    "unique_count": 5,
                    "nan_count": 0,
                    "min": "0",
                    "max": "182",
                    "histogram": [
                      {
                        "bin_start": 0,
                        "bin_end": 18.2,
                        "count": 15
                      },
                      {
                        "bin_start": 18.2,
                        "bin_end": 36.4,
                        "count": 0
                      },
                      {
                        "bin_start": 36.4,
                        "bin_end": 54.599999999999994,
                        "count": 0
                      },
                      {
                        "bin_start": 54.599999999999994,
                        "bin_end": 72.8,
                        "count": 0
                      },
                      {
                        "bin_start": 72.8,
                        "bin_end": 91,
                        "count": 0
                      },
                      {
                        "bin_start": 91,
                        "bin_end": 109.19999999999999,
                        "count": 0
                      },
                      {
                        "bin_start": 109.19999999999999,
                        "bin_end": 127.39999999999999,
                        "count": 1
                      },
                      {
                        "bin_start": 127.39999999999999,
                        "bin_end": 145.6,
                        "count": 0
                      },
                      {
                        "bin_start": 145.6,
                        "bin_end": 163.79999999999998,
                        "count": 0
                      },
                      {
                        "bin_start": 163.79999999999998,
                        "bin_end": 182,
                        "count": 1
                      }
                    ]
                  }
                },
                {
                  "name": 1,
                  "dtype": "int64",
                  "stats": {
                    "unique_count": 6,
                    "nan_count": 0,
                    "min": "0",
                    "max": "517",
                    "histogram": [
                      {
                        "bin_start": 0,
                        "bin_end": 51.7,
                        "count": 16
                      },
                      {
                        "bin_start": 51.7,
                        "bin_end": 103.4,
                        "count": 0
                      },
                      {
                        "bin_start": 103.4,
                        "bin_end": 155.10000000000002,
                        "count": 0
                      },
                      {
                        "bin_start": 155.10000000000002,
                        "bin_end": 206.8,
                        "count": 0
                      },
                      {
                        "bin_start": 206.8,
                        "bin_end": 258.5,
                        "count": 0
                      },
                      {
                        "bin_start": 258.5,
                        "bin_end": 310.20000000000005,
                        "count": 0
                      },
                      {
                        "bin_start": 310.20000000000005,
                        "bin_end": 361.90000000000003,
                        "count": 0
                      },
                      {
                        "bin_start": 361.90000000000003,
                        "bin_end": 413.6,
                        "count": 0
                      },
                      {
                        "bin_start": 413.6,
                        "bin_end": 465.3,
                        "count": 0
                      },
                      {
                        "bin_start": 465.3,
                        "bin_end": 517,
                        "count": 1
                      }
                    ]
                  }
                },
                {
                  "name": "_deepnote_index_column",
                  "dtype": "object"
                }
              ],
              "rows_top": [
                {
                  "0": 0,
                  "1": 1,
                  "_deepnote_index_column": "Capt"
                },
                {
                  "0": 0,
                  "1": 2,
                  "_deepnote_index_column": "Col"
                },
                {
                  "0": 1,
                  "1": 0,
                  "_deepnote_index_column": "Countess"
                },
                {
                  "0": 0,
                  "1": 1,
                  "_deepnote_index_column": "Don"
                },
                {
                  "0": 1,
                  "1": 6,
                  "_deepnote_index_column": "Dr"
                },
                {
                  "0": 0,
                  "1": 1,
                  "_deepnote_index_column": "Jonkheer"
                },
                {
                  "0": 1,
                  "1": 0,
                  "_deepnote_index_column": "Lady"
                },
                {
                  "0": 0,
                  "1": 2,
                  "_deepnote_index_column": "Major"
                },
                {
                  "0": 0,
                  "1": 40,
                  "_deepnote_index_column": "Master"
                },
                {
                  "0": 182,
                  "1": 0,
                  "_deepnote_index_column": "Miss"
                },
                {
                  "0": 2,
                  "1": 0,
                  "_deepnote_index_column": "Mlle"
                },
                {
                  "0": 1,
                  "1": 0,
                  "_deepnote_index_column": "Mme"
                },
                {
                  "0": 0,
                  "1": 517,
                  "_deepnote_index_column": "Mr"
                },
                {
                  "0": 125,
                  "1": 0,
                  "_deepnote_index_column": "Mrs"
                },
                {
                  "0": 1,
                  "1": 0,
                  "_deepnote_index_column": "Ms"
                },
                {
                  "0": 0,
                  "1": 6,
                  "_deepnote_index_column": "Rev"
                },
                {
                  "0": 0,
                  "1": 1,
                  "_deepnote_index_column": "Sir"
                }
              ],
              "rows_bottom": null
            },
            "text/plain": "Sex         0    1\nTitle             \nCapt        0    1\nCol         0    2\nCountess    1    0\nDon         0    1\nDr          1    6\nJonkheer    0    1\nLady        1    0\nMajor       0    2\nMaster      0   40\nMiss      182    0\nMlle        2    0\nMme         1    0\nMr          0  517\nMrs       125    0\nMs          1    0\nRev         0    6\nSir         0    1",
            "text/html": "<div>\n<style scoped>\n    .dataframe tbody tr th:only-of-type {\n        vertical-align: middle;\n    }\n\n    .dataframe tbody tr th {\n        vertical-align: top;\n    }\n\n    .dataframe thead th {\n        text-align: right;\n    }\n</style>\n<table border=\"1\" class=\"dataframe\">\n  <thead>\n    <tr style=\"text-align: right;\">\n      <th>Sex</th>\n      <th>0</th>\n      <th>1</th>\n    </tr>\n    <tr>\n      <th>Title</th>\n      <th></th>\n      <th></th>\n    </tr>\n  </thead>\n  <tbody>\n    <tr>\n      <th>Capt</th>\n      <td>0</td>\n      <td>1</td>\n    </tr>\n    <tr>\n      <th>Col</th>\n      <td>0</td>\n      <td>2</td>\n    </tr>\n    <tr>\n      <th>Countess</th>\n      <td>1</td>\n      <td>0</td>\n    </tr>\n    <tr>\n      <th>Don</th>\n      <td>0</td>\n      <td>1</td>\n    </tr>\n    <tr>\n      <th>Dr</th>\n      <td>1</td>\n      <td>6</td>\n    </tr>\n    <tr>\n      <th>Jonkheer</th>\n      <td>0</td>\n      <td>1</td>\n    </tr>\n    <tr>\n      <th>Lady</th>\n      <td>1</td>\n      <td>0</td>\n    </tr>\n    <tr>\n      <th>Major</th>\n      <td>0</td>\n      <td>2</td>\n    </tr>\n    <tr>\n      <th>Master</th>\n      <td>0</td>\n      <td>40</td>\n    </tr>\n    <tr>\n      <th>Miss</th>\n      <td>182</td>\n      <td>0</td>\n    </tr>\n    <tr>\n      <th>Mlle</th>\n      <td>2</td>\n      <td>0</td>\n    </tr>\n    <tr>\n      <th>Mme</th>\n      <td>1</td>\n      <td>0</td>\n    </tr>\n    <tr>\n      <th>Mr</th>\n      <td>0</td>\n      <td>517</td>\n    </tr>\n    <tr>\n      <th>Mrs</th>\n      <td>125</td>\n      <td>0</td>\n    </tr>\n    <tr>\n      <th>Ms</th>\n      <td>1</td>\n      <td>0</td>\n    </tr>\n    <tr>\n      <th>Rev</th>\n      <td>0</td>\n      <td>6</td>\n    </tr>\n    <tr>\n      <th>Sir</th>\n      <td>0</td>\n      <td>1</td>\n    </tr>\n  </tbody>\n</table>\n</div>"
          },
          "metadata": {}
        }
      ],
      "execution_count": 34
    },
    {
      "cell_type": "markdown",
      "source": "<a style='text-decoration:none;line-height:16px;display:flex;color:#5B5B62;padding:10px;justify-content:end;' href='https://deepnote.com?utm_source=created-in-deepnote-cell&projectId=3ef03738-7707-4ca7-aa7b-8ae787ea3249' target=\"_blank\">\n<img alt='Created in deepnote.com' style='display:inline;max-height:16px;margin:0px;margin-right:7.5px;' src='data:image/svg+xml;base64,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' > </img>\nCreated in <span style='font-weight:600;margin-left:4px;'>Deepnote</span></a>",
      "metadata": {
        "tags": [],
        "created_in_deepnote_cell": true,
        "deepnote_cell_type": "markdown"
      }
    }
  ],
  "nbformat": 4,
  "nbformat_minor": 2,
  "metadata": {
    "orig_nbformat": 2,
    "deepnote": {
      "is_reactive": false
    },
    "deepnote_notebook_id": "cdfc1209-773c-4db7-81e4-35d10cee7229",
    "deepnote_execution_queue": []
  }
}