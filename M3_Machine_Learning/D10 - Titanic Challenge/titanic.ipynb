{
  "cells": [
    {
      "cell_type": "code",
      "metadata": {
        "tags": [],
        "cell_id": "00000-696cafcb-846f-4b9f-8a6f-46387a6ee6b9",
        "deepnote_to_be_reexecuted": false,
        "source_hash": "98a9069b",
        "execution_start": 1619781482394,
        "execution_millis": 47,
        "deepnote_cell_type": "code"
      },
      "source": "import pandas as pd\nimport numpy as np\nimport seaborn as sns\ntest = pd.read_csv(\"test.csv\")\ntrain = pd.read_csv(\"train.csv\")\n\n# Male is 1, Female is 0\n\ntarget = train.Survived\ny = target\ndf = train\n\ndf.Sex = df.Sex.eq(\"male\").astype(int)\ndf.head(5)\n\n",
      "execution_count": 218,
      "outputs": [
        {
          "output_type": "execute_result",
          "execution_count": 218,
          "data": {
            "application/vnd.deepnote.dataframe.v2+json": {
              "row_count": 5,
              "column_count": 12,
              "columns": [
                {
                  "name": "PassengerId",
                  "dtype": "int64",
                  "stats": {
                    "unique_count": 5,
                    "nan_count": 0,
                    "min": "1",
                    "max": "5",
                    "histogram": [
                      {
                        "bin_start": 1,
                        "bin_end": 1.4,
                        "count": 1
                      },
                      {
                        "bin_start": 1.4,
                        "bin_end": 1.8,
                        "count": 0
                      },
                      {
                        "bin_start": 1.8,
                        "bin_end": 2.2,
                        "count": 1
                      },
                      {
                        "bin_start": 2.2,
                        "bin_end": 2.6,
                        "count": 0
                      },
                      {
                        "bin_start": 2.6,
                        "bin_end": 3,
                        "count": 0
                      },
                      {
                        "bin_start": 3,
                        "bin_end": 3.4000000000000004,
                        "count": 1
                      },
                      {
                        "bin_start": 3.4000000000000004,
                        "bin_end": 3.8000000000000003,
                        "count": 0
                      },
                      {
                        "bin_start": 3.8000000000000003,
                        "bin_end": 4.2,
                        "count": 1
                      },
                      {
                        "bin_start": 4.2,
                        "bin_end": 4.6,
                        "count": 0
                      },
                      {
                        "bin_start": 4.6,
                        "bin_end": 5,
                        "count": 1
                      }
                    ]
                  }
                },
                {
                  "name": "Survived",
                  "dtype": "int64",
                  "stats": {
                    "unique_count": 2,
                    "nan_count": 0,
                    "min": "0",
                    "max": "1",
                    "histogram": [
                      {
                        "bin_start": 0,
                        "bin_end": 0.1,
                        "count": 2
                      },
                      {
                        "bin_start": 0.1,
                        "bin_end": 0.2,
                        "count": 0
                      },
                      {
                        "bin_start": 0.2,
                        "bin_end": 0.30000000000000004,
                        "count": 0
                      },
                      {
                        "bin_start": 0.30000000000000004,
                        "bin_end": 0.4,
                        "count": 0
                      },
                      {
                        "bin_start": 0.4,
                        "bin_end": 0.5,
                        "count": 0
                      },
                      {
                        "bin_start": 0.5,
                        "bin_end": 0.6000000000000001,
                        "count": 0
                      },
                      {
                        "bin_start": 0.6000000000000001,
                        "bin_end": 0.7000000000000001,
                        "count": 0
                      },
                      {
                        "bin_start": 0.7000000000000001,
                        "bin_end": 0.8,
                        "count": 0
                      },
                      {
                        "bin_start": 0.8,
                        "bin_end": 0.9,
                        "count": 0
                      },
                      {
                        "bin_start": 0.9,
                        "bin_end": 1,
                        "count": 3
                      }
                    ]
                  }
                },
                {
                  "name": "Pclass",
                  "dtype": "int64",
                  "stats": {
                    "unique_count": 2,
                    "nan_count": 0,
                    "min": "1",
                    "max": "3",
                    "histogram": [
                      {
                        "bin_start": 1,
                        "bin_end": 1.2,
                        "count": 2
                      },
                      {
                        "bin_start": 1.2,
                        "bin_end": 1.4,
                        "count": 0
                      },
                      {
                        "bin_start": 1.4,
                        "bin_end": 1.6,
                        "count": 0
                      },
                      {
                        "bin_start": 1.6,
                        "bin_end": 1.8,
                        "count": 0
                      },
                      {
                        "bin_start": 1.8,
                        "bin_end": 2,
                        "count": 0
                      },
                      {
                        "bin_start": 2,
                        "bin_end": 2.2,
                        "count": 0
                      },
                      {
                        "bin_start": 2.2,
                        "bin_end": 2.4000000000000004,
                        "count": 0
                      },
                      {
                        "bin_start": 2.4000000000000004,
                        "bin_end": 2.6,
                        "count": 0
                      },
                      {
                        "bin_start": 2.6,
                        "bin_end": 2.8,
                        "count": 0
                      },
                      {
                        "bin_start": 2.8,
                        "bin_end": 3,
                        "count": 3
                      }
                    ]
                  }
                },
                {
                  "name": "Name",
                  "dtype": "object",
                  "stats": {
                    "unique_count": 5,
                    "nan_count": 0,
                    "categories": [
                      {
                        "name": "Braund, Mr. Owen Harris",
                        "count": 1
                      },
                      {
                        "name": "Cumings, Mrs. John Bradley (Florence Briggs Thayer)",
                        "count": 1
                      },
                      {
                        "name": "3 others",
                        "count": 3
                      }
                    ]
                  }
                },
                {
                  "name": "Sex",
                  "dtype": "int64",
                  "stats": {
                    "unique_count": 2,
                    "nan_count": 0,
                    "min": "0",
                    "max": "1",
                    "histogram": [
                      {
                        "bin_start": 0,
                        "bin_end": 0.1,
                        "count": 3
                      },
                      {
                        "bin_start": 0.1,
                        "bin_end": 0.2,
                        "count": 0
                      },
                      {
                        "bin_start": 0.2,
                        "bin_end": 0.30000000000000004,
                        "count": 0
                      },
                      {
                        "bin_start": 0.30000000000000004,
                        "bin_end": 0.4,
                        "count": 0
                      },
                      {
                        "bin_start": 0.4,
                        "bin_end": 0.5,
                        "count": 0
                      },
                      {
                        "bin_start": 0.5,
                        "bin_end": 0.6000000000000001,
                        "count": 0
                      },
                      {
                        "bin_start": 0.6000000000000001,
                        "bin_end": 0.7000000000000001,
                        "count": 0
                      },
                      {
                        "bin_start": 0.7000000000000001,
                        "bin_end": 0.8,
                        "count": 0
                      },
                      {
                        "bin_start": 0.8,
                        "bin_end": 0.9,
                        "count": 0
                      },
                      {
                        "bin_start": 0.9,
                        "bin_end": 1,
                        "count": 2
                      }
                    ]
                  }
                },
                {
                  "name": "Age",
                  "dtype": "float64",
                  "stats": {
                    "unique_count": 4,
                    "nan_count": 0,
                    "min": "22.0",
                    "max": "38.0",
                    "histogram": [
                      {
                        "bin_start": 22,
                        "bin_end": 23.6,
                        "count": 1
                      },
                      {
                        "bin_start": 23.6,
                        "bin_end": 25.2,
                        "count": 0
                      },
                      {
                        "bin_start": 25.2,
                        "bin_end": 26.8,
                        "count": 1
                      },
                      {
                        "bin_start": 26.8,
                        "bin_end": 28.4,
                        "count": 0
                      },
                      {
                        "bin_start": 28.4,
                        "bin_end": 30,
                        "count": 0
                      },
                      {
                        "bin_start": 30,
                        "bin_end": 31.6,
                        "count": 0
                      },
                      {
                        "bin_start": 31.6,
                        "bin_end": 33.2,
                        "count": 0
                      },
                      {
                        "bin_start": 33.2,
                        "bin_end": 34.8,
                        "count": 0
                      },
                      {
                        "bin_start": 34.8,
                        "bin_end": 36.4,
                        "count": 2
                      },
                      {
                        "bin_start": 36.4,
                        "bin_end": 38,
                        "count": 1
                      }
                    ]
                  }
                },
                {
                  "name": "SibSp",
                  "dtype": "int64",
                  "stats": {
                    "unique_count": 2,
                    "nan_count": 0,
                    "min": "0",
                    "max": "1",
                    "histogram": [
                      {
                        "bin_start": 0,
                        "bin_end": 0.1,
                        "count": 2
                      },
                      {
                        "bin_start": 0.1,
                        "bin_end": 0.2,
                        "count": 0
                      },
                      {
                        "bin_start": 0.2,
                        "bin_end": 0.30000000000000004,
                        "count": 0
                      },
                      {
                        "bin_start": 0.30000000000000004,
                        "bin_end": 0.4,
                        "count": 0
                      },
                      {
                        "bin_start": 0.4,
                        "bin_end": 0.5,
                        "count": 0
                      },
                      {
                        "bin_start": 0.5,
                        "bin_end": 0.6000000000000001,
                        "count": 0
                      },
                      {
                        "bin_start": 0.6000000000000001,
                        "bin_end": 0.7000000000000001,
                        "count": 0
                      },
                      {
                        "bin_start": 0.7000000000000001,
                        "bin_end": 0.8,
                        "count": 0
                      },
                      {
                        "bin_start": 0.8,
                        "bin_end": 0.9,
                        "count": 0
                      },
                      {
                        "bin_start": 0.9,
                        "bin_end": 1,
                        "count": 3
                      }
                    ]
                  }
                },
                {
                  "name": "Parch",
                  "dtype": "int64",
                  "stats": {
                    "unique_count": 1,
                    "nan_count": 0,
                    "min": "0",
                    "max": "0",
                    "histogram": [
                      {
                        "bin_start": -0.5,
                        "bin_end": -0.4,
                        "count": 0
                      },
                      {
                        "bin_start": -0.4,
                        "bin_end": -0.3,
                        "count": 0
                      },
                      {
                        "bin_start": -0.3,
                        "bin_end": -0.19999999999999996,
                        "count": 0
                      },
                      {
                        "bin_start": -0.19999999999999996,
                        "bin_end": -0.09999999999999998,
                        "count": 0
                      },
                      {
                        "bin_start": -0.09999999999999998,
                        "bin_end": 0,
                        "count": 0
                      },
                      {
                        "bin_start": 0,
                        "bin_end": 0.10000000000000009,
                        "count": 5
                      },
                      {
                        "bin_start": 0.10000000000000009,
                        "bin_end": 0.20000000000000007,
                        "count": 0
                      },
                      {
                        "bin_start": 0.20000000000000007,
                        "bin_end": 0.30000000000000004,
                        "count": 0
                      },
                      {
                        "bin_start": 0.30000000000000004,
                        "bin_end": 0.4,
                        "count": 0
                      },
                      {
                        "bin_start": 0.4,
                        "bin_end": 0.5,
                        "count": 0
                      }
                    ]
                  }
                },
                {
                  "name": "Ticket",
                  "dtype": "object",
                  "stats": {
                    "unique_count": 5,
                    "nan_count": 0,
                    "categories": [
                      {
                        "name": "A/5 21171",
                        "count": 1
                      },
                      {
                        "name": "PC 17599",
                        "count": 1
                      },
                      {
                        "name": "3 others",
                        "count": 3
                      }
                    ]
                  }
                },
                {
                  "name": "Fare",
                  "dtype": "float64",
                  "stats": {
                    "unique_count": 5,
                    "nan_count": 0,
                    "min": "7.25",
                    "max": "71.2833",
                    "histogram": [
                      {
                        "bin_start": 7.25,
                        "bin_end": 13.65333,
                        "count": 3
                      },
                      {
                        "bin_start": 13.65333,
                        "bin_end": 20.05666,
                        "count": 0
                      },
                      {
                        "bin_start": 20.05666,
                        "bin_end": 26.459989999999998,
                        "count": 0
                      },
                      {
                        "bin_start": 26.459989999999998,
                        "bin_end": 32.86332,
                        "count": 0
                      },
                      {
                        "bin_start": 32.86332,
                        "bin_end": 39.26665,
                        "count": 0
                      },
                      {
                        "bin_start": 39.26665,
                        "bin_end": 45.669979999999995,
                        "count": 0
                      },
                      {
                        "bin_start": 45.669979999999995,
                        "bin_end": 52.07331,
                        "count": 0
                      },
                      {
                        "bin_start": 52.07331,
                        "bin_end": 58.476639999999996,
                        "count": 1
                      },
                      {
                        "bin_start": 58.476639999999996,
                        "bin_end": 64.87996999999999,
                        "count": 0
                      },
                      {
                        "bin_start": 64.87996999999999,
                        "bin_end": 71.2833,
                        "count": 1
                      }
                    ]
                  }
                },
                {
                  "name": "Cabin",
                  "dtype": "object",
                  "stats": {
                    "unique_count": 2,
                    "nan_count": 3,
                    "categories": [
                      {
                        "name": "C85",
                        "count": 1
                      },
                      {
                        "name": "C123",
                        "count": 1
                      },
                      {
                        "name": "Missing",
                        "count": 3
                      }
                    ]
                  }
                },
                {
                  "name": "Embarked",
                  "dtype": "object",
                  "stats": {
                    "unique_count": 2,
                    "nan_count": 0,
                    "categories": [
                      {
                        "name": "S",
                        "count": 4
                      },
                      {
                        "name": "C",
                        "count": 1
                      }
                    ]
                  }
                },
                {
                  "name": "_deepnote_index_column",
                  "dtype": "int64"
                }
              ],
              "rows_top": [
                {
                  "PassengerId": 1,
                  "Survived": 0,
                  "Pclass": 3,
                  "Name": "Braund, Mr. Owen Harris",
                  "Sex": 1,
                  "Age": 22,
                  "SibSp": 1,
                  "Parch": 0,
                  "Ticket": "A/5 21171",
                  "Fare": 7.25,
                  "Cabin": "nan",
                  "Embarked": "S",
                  "_deepnote_index_column": 0
                },
                {
                  "PassengerId": 2,
                  "Survived": 1,
                  "Pclass": 1,
                  "Name": "Cumings, Mrs. John Bradley (Florence Briggs Thayer)",
                  "Sex": 0,
                  "Age": 38,
                  "SibSp": 1,
                  "Parch": 0,
                  "Ticket": "PC 17599",
                  "Fare": 71.2833,
                  "Cabin": "C85",
                  "Embarked": "C",
                  "_deepnote_index_column": 1
                },
                {
                  "PassengerId": 3,
                  "Survived": 1,
                  "Pclass": 3,
                  "Name": "Heikkinen, Miss. Laina",
                  "Sex": 0,
                  "Age": 26,
                  "SibSp": 0,
                  "Parch": 0,
                  "Ticket": "STON/O2. 3101282",
                  "Fare": 7.925,
                  "Cabin": "nan",
                  "Embarked": "S",
                  "_deepnote_index_column": 2
                },
                {
                  "PassengerId": 4,
                  "Survived": 1,
                  "Pclass": 1,
                  "Name": "Futrelle, Mrs. Jacques Heath (Lily May Peel)",
                  "Sex": 0,
                  "Age": 35,
                  "SibSp": 1,
                  "Parch": 0,
                  "Ticket": "113803",
                  "Fare": 53.1,
                  "Cabin": "C123",
                  "Embarked": "S",
                  "_deepnote_index_column": 3
                },
                {
                  "PassengerId": 5,
                  "Survived": 0,
                  "Pclass": 3,
                  "Name": "Allen, Mr. William Henry",
                  "Sex": 1,
                  "Age": 35,
                  "SibSp": 0,
                  "Parch": 0,
                  "Ticket": "373450",
                  "Fare": 8.05,
                  "Cabin": "nan",
                  "Embarked": "S",
                  "_deepnote_index_column": 4
                }
              ],
              "rows_bottom": null
            },
            "text/plain": "   PassengerId  Survived  Pclass  \\\n0            1         0       3   \n1            2         1       1   \n2            3         1       3   \n3            4         1       1   \n4            5         0       3   \n\n                                                Name  Sex   Age  SibSp  Parch  \\\n0                            Braund, Mr. Owen Harris    1  22.0      1      0   \n1  Cumings, Mrs. John Bradley (Florence Briggs Th...    0  38.0      1      0   \n2                             Heikkinen, Miss. Laina    0  26.0      0      0   \n3       Futrelle, Mrs. Jacques Heath (Lily May Peel)    0  35.0      1      0   \n4                           Allen, Mr. William Henry    1  35.0      0      0   \n\n             Ticket     Fare Cabin Embarked  \n0         A/5 21171   7.2500   NaN        S  \n1          PC 17599  71.2833   C85        C  \n2  STON/O2. 3101282   7.9250   NaN        S  \n3            113803  53.1000  C123        S  \n4            373450   8.0500   NaN        S  ",
            "text/html": "<div>\n<style scoped>\n    .dataframe tbody tr th:only-of-type {\n        vertical-align: middle;\n    }\n\n    .dataframe tbody tr th {\n        vertical-align: top;\n    }\n\n    .dataframe thead th {\n        text-align: right;\n    }\n</style>\n<table border=\"1\" class=\"dataframe\">\n  <thead>\n    <tr style=\"text-align: right;\">\n      <th></th>\n      <th>PassengerId</th>\n      <th>Survived</th>\n      <th>Pclass</th>\n      <th>Name</th>\n      <th>Sex</th>\n      <th>Age</th>\n      <th>SibSp</th>\n      <th>Parch</th>\n      <th>Ticket</th>\n      <th>Fare</th>\n      <th>Cabin</th>\n      <th>Embarked</th>\n    </tr>\n  </thead>\n  <tbody>\n    <tr>\n      <th>0</th>\n      <td>1</td>\n      <td>0</td>\n      <td>3</td>\n      <td>Braund, Mr. Owen Harris</td>\n      <td>1</td>\n      <td>22.0</td>\n      <td>1</td>\n      <td>0</td>\n      <td>A/5 21171</td>\n      <td>7.2500</td>\n      <td>NaN</td>\n      <td>S</td>\n    </tr>\n    <tr>\n      <th>1</th>\n      <td>2</td>\n      <td>1</td>\n      <td>1</td>\n      <td>Cumings, Mrs. John Bradley (Florence Briggs Th...</td>\n      <td>0</td>\n      <td>38.0</td>\n      <td>1</td>\n      <td>0</td>\n      <td>PC 17599</td>\n      <td>71.2833</td>\n      <td>C85</td>\n      <td>C</td>\n    </tr>\n    <tr>\n      <th>2</th>\n      <td>3</td>\n      <td>1</td>\n      <td>3</td>\n      <td>Heikkinen, Miss. Laina</td>\n      <td>0</td>\n      <td>26.0</td>\n      <td>0</td>\n      <td>0</td>\n      <td>STON/O2. 3101282</td>\n      <td>7.9250</td>\n      <td>NaN</td>\n      <td>S</td>\n    </tr>\n    <tr>\n      <th>3</th>\n      <td>4</td>\n      <td>1</td>\n      <td>1</td>\n      <td>Futrelle, Mrs. Jacques Heath (Lily May Peel)</td>\n      <td>0</td>\n      <td>35.0</td>\n      <td>1</td>\n      <td>0</td>\n      <td>113803</td>\n      <td>53.1000</td>\n      <td>C123</td>\n      <td>S</td>\n    </tr>\n    <tr>\n      <th>4</th>\n      <td>5</td>\n      <td>0</td>\n      <td>3</td>\n      <td>Allen, Mr. William Henry</td>\n      <td>1</td>\n      <td>35.0</td>\n      <td>0</td>\n      <td>0</td>\n      <td>373450</td>\n      <td>8.0500</td>\n      <td>NaN</td>\n      <td>S</td>\n    </tr>\n  </tbody>\n</table>\n</div>"
          },
          "metadata": {}
        }
      ]
    },
    {
      "cell_type": "code",
      "source": "# Remove data we don't think is important\ndf.drop([\"PassengerId\", \"Name\", \"Cabin\", \"Ticket\"], axis=1, inplace=True)",
      "metadata": {
        "tags": [],
        "cell_id": "00001-156309c7-683e-42fe-ba5d-e76cf03ed8aa",
        "deepnote_to_be_reexecuted": false,
        "source_hash": "e37f8749",
        "execution_start": 1619777892435,
        "execution_millis": 6,
        "deepnote_cell_type": "code"
      },
      "outputs": [],
      "execution_count": 100
    },
    {
      "cell_type": "code",
      "source": "train.isnull().sum()",
      "metadata": {
        "tags": [],
        "cell_id": "00002-39a92cdc-de1b-4285-a2c1-f25976646244",
        "deepnote_to_be_reexecuted": false,
        "source_hash": "f8683763",
        "execution_start": 1619779210436,
        "execution_millis": 51,
        "deepnote_cell_type": "code"
      },
      "outputs": [
        {
          "output_type": "execute_result",
          "execution_count": 143,
          "data": {
            "text/plain": "PassengerId      0\nSurvived         0\nPclass           0\nName             0\nSex              0\nAge            177\nSibSp            0\nParch            0\nTicket           0\nFare             0\nCabin          687\nEmbarked         2\ndtype: int64"
          },
          "metadata": {}
        }
      ],
      "execution_count": 143
    },
    {
      "cell_type": "markdown",
      "source": "## Data Visualisation",
      "metadata": {
        "tags": [],
        "cell_id": "00003-75de0e37-2a0f-4e9e-888d-8c17477e7be1",
        "deepnote_cell_type": "markdown"
      }
    },
    {
      "cell_type": "code",
      "source": "plt.figure(figsize=(7,5))\nplt.title(\"CLASS DIVISION\",size=18)\ntrain.Pclass.value_counts().plot.bar(color=['darkgreen','orange','gold'])",
      "metadata": {
        "tags": [],
        "cell_id": "00024-2f1745b3-9678-49b7-bafe-fab446a4df99",
        "deepnote_to_be_reexecuted": false,
        "source_hash": "91fa1b3a",
        "execution_start": 1619790749771,
        "execution_millis": 142,
        "deepnote_cell_type": "code"
      },
      "outputs": [
        {
          "output_type": "execute_result",
          "execution_count": 459,
          "data": {
            "text/plain": "<AxesSubplot:title={'center':'CLASS DIVISION'}>"
          },
          "metadata": {}
        },
        {
          "data": {
            "text/plain": "<Figure size 504x360 with 1 Axes>",
            "image/png": "[encoded data removed]"
          },
          "metadata": {
            "image/png": {
              "width": 435,
              "height": 322
            }
          },
          "output_type": "display_data"
        }
      ],
      "execution_count": 459
    },
    {
      "cell_type": "code",
      "source": "plt.figure(figsize=(7,5))\ntrain['Fare'].hist(bins = 80, color = 'teal')\nplt.title(\"FARE\",size=20)",
      "metadata": {
        "tags": [],
        "cell_id": "00025-371a0e7d-8839-4c2c-bac7-9c219a54b5af",
        "deepnote_to_be_reexecuted": false,
        "source_hash": "50d2b6",
        "execution_start": 1619790755004,
        "execution_millis": 279,
        "deepnote_cell_type": "code"
      },
      "outputs": [
        {
          "output_type": "execute_result",
          "execution_count": 460,
          "data": {
            "text/plain": "Text(0.5, 1.0, 'FARE')"
          },
          "metadata": {}
        },
        {
          "data": {
            "text/plain": "<Figure size 504x360 with 1 Axes>",
            "image/png": "[encoded data removed]"
          },
          "metadata": {
            "image/png": {
              "width": 435,
              "height": 326
            }
          },
          "output_type": "display_data"
        }
      ],
      "execution_count": 460
    },
    {
      "cell_type": "code",
      "source": "plt.figure(figsize=(7,5))\nplt.title(\"Embarked\",size=18)\ntrain.Embarked.value_counts().plot.bar(color=['darkgreen','orange','gold'])",
      "metadata": {
        "tags": [],
        "cell_id": "00013-b2ed0c36-503a-4bd7-acbd-be59d9a4d814",
        "deepnote_to_be_reexecuted": false,
        "source_hash": "7218768d",
        "execution_start": 1619790785892,
        "execution_millis": 173,
        "deepnote_cell_type": "code"
      },
      "outputs": [
        {
          "output_type": "execute_result",
          "execution_count": 461,
          "data": {
            "text/plain": "<AxesSubplot:title={'center':'Embarked'}>"
          },
          "metadata": {}
        },
        {
          "data": {
            "text/plain": "<Figure size 504x360 with 1 Axes>",
            "image/png": "[encoded data removed]"
          },
          "metadata": {
            "image/png": {
              "width": 435,
              "height": 324
            }
          },
          "output_type": "display_data"
        }
      ],
      "execution_count": 461
    },
    {
      "cell_type": "code",
      "source": "train.Embarked.value_counts()",
      "metadata": {
        "tags": [],
        "cell_id": "00007-6675503c-8a85-4f2a-9948-004a8251304e",
        "deepnote_cell_type": "code"
      },
      "outputs": [],
      "execution_count": null
    },
    {
      "cell_type": "markdown",
      "source": "## Data Comparison",
      "metadata": {
        "tags": [],
        "cell_id": "00008-f40f386b-360c-4d0b-b387-67dc4b8800bb",
        "deepnote_cell_type": "markdown"
      }
    },
    {
      "cell_type": "code",
      "source": "plt.figure(figsize=[12,8])\nsns.set_theme(style=\"darkgrid\")\nsns.lineplot('Sex','Survived', hue = 'Pclass', data=train)",
      "metadata": {
        "tags": [],
        "cell_id": "00005-4d58a9f1-1158-4d22-8232-9a4136b2281a",
        "deepnote_to_be_reexecuted": false,
        "source_hash": "8026ff98",
        "execution_start": 1619789811585,
        "execution_millis": 618,
        "deepnote_cell_type": "code"
      },
      "outputs": [
        {
          "name": "stderr",
          "text": "/shared-libs/python3.7/py/lib/python3.7/site-packages/seaborn/_decorators.py:43: FutureWarning: Pass the following variables as keyword args: x, y. From version 0.12, the only valid positional argument will be `data`, and passing other arguments without an explicit keyword will result in an error or misinterpretation.\n  FutureWarning\n",
          "output_type": "stream"
        },
        {
          "output_type": "execute_result",
          "execution_count": 449,
          "data": {
            "text/plain": "<AxesSubplot:xlabel='Sex', ylabel='Survived'>"
          },
          "metadata": {}
        },
        {
          "data": {
            "text/plain": "<Figure size 864x576 with 1 Axes>",
            "image/png": "[encoded data removed]"
          },
          "metadata": {
            "image/png": {
              "width": 727,
              "height": 485
            }
          },
          "output_type": "display_data"
        }
      ],
      "execution_count": 449
    },
    {
      "cell_type": "code",
      "source": "# fare_info = df[[\"Fare\",\"Pclass\", \"Age\"]]\n# import matplotlib.pyplot as plt\n# fare_info\n\n# plt.scatter(fares.index, fares.values, c=fares.values)\n# plt.hist(fare_info.Fare[fare_info.Fare < 200], bins=20)\n# colors = {1:\"gold\", 2:\"green\", 3:\"brown\"}\n# high_payers = fare_info[fare_info.Fare > 200]\n# color_list = high_payers.replace({\"Pclass\":colors})\n# color_list = list(color_list.Pclass.values)\n# color_list\n# plt.hist(fare_info.Fare[fare_info.Fare > 200], bins=10)\nplt.figure(figsize=(7,5))\nplt.title(\"Fare / Age\",size=18)\nplt.scatter(fare_info.Fare, fare_info.Age, c=fare_info.Pclass)",
      "metadata": {
        "tags": [],
        "cell_id": "00002-48e6fc64-7664-43b6-842c-f65fd12e5111",
        "deepnote_to_be_reexecuted": false,
        "source_hash": "e59b8a1e",
        "execution_start": 1619792379984,
        "execution_millis": 174,
        "deepnote_cell_type": "code"
      },
      "outputs": [
        {
          "output_type": "execute_result",
          "execution_count": 493,
          "data": {
            "text/plain": "<matplotlib.collections.PathCollection at 0x7f75449dcc50>"
          },
          "metadata": {}
        },
        {
          "data": {
            "text/plain": "<Figure size 504x360 with 1 Axes>",
            "image/png": "[encoded data removed]"
          },
          "metadata": {
            "image/png": {
              "width": 428,
              "height": 325
            }
          },
          "output_type": "display_data"
        }
      ],
      "execution_count": 493
    },
    {
      "cell_type": "code",
      "source": "cabins = list(train.Cabin)\nfirst_char = []\nfor cabin in cabins:\n    try:\n        first_char.append(cabin[0])\n    except:\n        first_char.append(0)\n        \n# Maybe do some analysis with just the people who have a recorded cabin\ncabin_counts = pd.Series(first_char).value_counts().sort_index",
      "metadata": {
        "tags": [],
        "cell_id": "00001-0286bc2e-7e1f-445b-96d6-1a1d427651c8",
        "deepnote_to_be_reexecuted": false,
        "source_hash": "c8eaa6b9",
        "execution_start": 1619775395332,
        "execution_millis": 19,
        "deepnote_cell_type": "code"
      },
      "outputs": [
        {
          "output_type": "execute_result",
          "execution_count": 9,
          "data": {
            "text/plain": "<bound method Series.sort_index of 0    687\nC     59\nB     47\nD     33\nE     32\nA     15\nF     13\nG      4\nT      1\ndtype: int64>"
          },
          "metadata": {}
        }
      ],
      "execution_count": 9
    },
    {
      "cell_type": "code",
      "source": "embarked_info = df[[\"Embarked\",\"Pclass\", \"Sex\"]]\nembarked_info.head()",
      "metadata": {
        "tags": [],
        "cell_id": "00009-306c6916-34d4-44db-94ee-c58c3a08dbf6",
        "deepnote_to_be_reexecuted": false,
        "source_hash": "6d4fcd6",
        "execution_start": 1619790086823,
        "execution_millis": 25,
        "deepnote_cell_type": "code"
      },
      "outputs": [
        {
          "output_type": "execute_result",
          "execution_count": 451,
          "data": {
            "application/vnd.deepnote.dataframe.v2+json": {
              "row_count": 5,
              "column_count": 3,
              "columns": [
                {
                  "name": "Embarked",
                  "dtype": "object",
                  "stats": {
                    "unique_count": 2,
                    "nan_count": 0,
                    "categories": [
                      {
                        "name": "S",
                        "count": 4
                      },
                      {
                        "name": "C",
                        "count": 1
                      }
                    ]
                  }
                },
                {
                  "name": "Pclass",
                  "dtype": "int64",
                  "stats": {
                    "unique_count": 2,
                    "nan_count": 0,
                    "min": "1",
                    "max": "3",
                    "histogram": [
                      {
                        "bin_start": 1,
                        "bin_end": 1.2,
                        "count": 2
                      },
                      {
                        "bin_start": 1.2,
                        "bin_end": 1.4,
                        "count": 0
                      },
                      {
                        "bin_start": 1.4,
                        "bin_end": 1.6,
                        "count": 0
                      },
                      {
                        "bin_start": 1.6,
                        "bin_end": 1.8,
                        "count": 0
                      },
                      {
                        "bin_start": 1.8,
                        "bin_end": 2,
                        "count": 0
                      },
                      {
                        "bin_start": 2,
                        "bin_end": 2.2,
                        "count": 0
                      },
                      {
                        "bin_start": 2.2,
                        "bin_end": 2.4000000000000004,
                        "count": 0
                      },
                      {
                        "bin_start": 2.4000000000000004,
                        "bin_end": 2.6,
                        "count": 0
                      },
                      {
                        "bin_start": 2.6,
                        "bin_end": 2.8,
                        "count": 0
                      },
                      {
                        "bin_start": 2.8,
                        "bin_end": 3,
                        "count": 3
                      }
                    ]
                  }
                },
                {
                  "name": "Sex",
                  "dtype": "int64",
                  "stats": {
                    "unique_count": 2,
                    "nan_count": 0,
                    "min": "0",
                    "max": "1",
                    "histogram": [
                      {
                        "bin_start": 0,
                        "bin_end": 0.1,
                        "count": 3
                      },
                      {
                        "bin_start": 0.1,
                        "bin_end": 0.2,
                        "count": 0
                      },
                      {
                        "bin_start": 0.2,
                        "bin_end": 0.30000000000000004,
                        "count": 0
                      },
                      {
                        "bin_start": 0.30000000000000004,
                        "bin_end": 0.4,
                        "count": 0
                      },
                      {
                        "bin_start": 0.4,
                        "bin_end": 0.5,
                        "count": 0
                      },
                      {
                        "bin_start": 0.5,
                        "bin_end": 0.6000000000000001,
                        "count": 0
                      },
                      {
                        "bin_start": 0.6000000000000001,
                        "bin_end": 0.7000000000000001,
                        "count": 0
                      },
                      {
                        "bin_start": 0.7000000000000001,
                        "bin_end": 0.8,
                        "count": 0
                      },
                      {
                        "bin_start": 0.8,
                        "bin_end": 0.9,
                        "count": 0
                      },
                      {
                        "bin_start": 0.9,
                        "bin_end": 1,
                        "count": 2
                      }
                    ]
                  }
                },
                {
                  "name": "_deepnote_index_column",
                  "dtype": "int64"
                }
              ],
              "rows_top": [
                {
                  "Embarked": "S",
                  "Pclass": 3,
                  "Sex": 1,
                  "_deepnote_index_column": 0
                },
                {
                  "Embarked": "C",
                  "Pclass": 1,
                  "Sex": 0,
                  "_deepnote_index_column": 1
                },
                {
                  "Embarked": "S",
                  "Pclass": 3,
                  "Sex": 0,
                  "_deepnote_index_column": 2
                },
                {
                  "Embarked": "S",
                  "Pclass": 1,
                  "Sex": 0,
                  "_deepnote_index_column": 3
                },
                {
                  "Embarked": "S",
                  "Pclass": 3,
                  "Sex": 1,
                  "_deepnote_index_column": 4
                }
              ],
              "rows_bottom": null
            },
            "text/plain": "  Embarked  Pclass  Sex\n0        S       3    1\n1        C       1    0\n2        S       3    0\n3        S       1    0\n4        S       3    1",
            "text/html": "<div>\n<style scoped>\n    .dataframe tbody tr th:only-of-type {\n        vertical-align: middle;\n    }\n\n    .dataframe tbody tr th {\n        vertical-align: top;\n    }\n\n    .dataframe thead th {\n        text-align: right;\n    }\n</style>\n<table border=\"1\" class=\"dataframe\">\n  <thead>\n    <tr style=\"text-align: right;\">\n      <th></th>\n      <th>Embarked</th>\n      <th>Pclass</th>\n      <th>Sex</th>\n    </tr>\n  </thead>\n  <tbody>\n    <tr>\n      <th>0</th>\n      <td>S</td>\n      <td>3</td>\n      <td>1</td>\n    </tr>\n    <tr>\n      <th>1</th>\n      <td>C</td>\n      <td>1</td>\n      <td>0</td>\n    </tr>\n    <tr>\n      <th>2</th>\n      <td>S</td>\n      <td>3</td>\n      <td>0</td>\n    </tr>\n    <tr>\n      <th>3</th>\n      <td>S</td>\n      <td>1</td>\n      <td>0</td>\n    </tr>\n    <tr>\n      <th>4</th>\n      <td>S</td>\n      <td>3</td>\n      <td>1</td>\n    </tr>\n  </tbody>\n</table>\n</div>"
          },
          "metadata": {}
        }
      ],
      "execution_count": 451
    },
    {
      "cell_type": "code",
      "source": "train[['Sex','Survived']].groupby(['Sex'], as_index=False).mean()",
      "metadata": {
        "tags": [],
        "cell_id": "00011-dd405db0-3e5a-4b75-82ef-75071063504f",
        "deepnote_to_be_reexecuted": false,
        "source_hash": "6f6d934b",
        "execution_start": 1619779310240,
        "execution_millis": 52,
        "deepnote_cell_type": "code"
      },
      "outputs": [
        {
          "output_type": "execute_result",
          "execution_count": 149,
          "data": {
            "application/vnd.deepnote.dataframe.v2+json": {
              "row_count": 2,
              "column_count": 2,
              "columns": [
                {
                  "name": "Sex",
                  "dtype": "int64",
                  "stats": {
                    "unique_count": 2,
                    "nan_count": 0,
                    "min": "0",
                    "max": "1",
                    "histogram": [
                      {
                        "bin_start": 0,
                        "bin_end": 0.1,
                        "count": 1
                      },
                      {
                        "bin_start": 0.1,
                        "bin_end": 0.2,
                        "count": 0
                      },
                      {
                        "bin_start": 0.2,
                        "bin_end": 0.30000000000000004,
                        "count": 0
                      },
                      {
                        "bin_start": 0.30000000000000004,
                        "bin_end": 0.4,
                        "count": 0
                      },
                      {
                        "bin_start": 0.4,
                        "bin_end": 0.5,
                        "count": 0
                      },
                      {
                        "bin_start": 0.5,
                        "bin_end": 0.6000000000000001,
                        "count": 0
                      },
                      {
                        "bin_start": 0.6000000000000001,
                        "bin_end": 0.7000000000000001,
                        "count": 0
                      },
                      {
                        "bin_start": 0.7000000000000001,
                        "bin_end": 0.8,
                        "count": 0
                      },
                      {
                        "bin_start": 0.8,
                        "bin_end": 0.9,
                        "count": 0
                      },
                      {
                        "bin_start": 0.9,
                        "bin_end": 1,
                        "count": 1
                      }
                    ]
                  }
                },
                {
                  "name": "Survived",
                  "dtype": "float64",
                  "stats": {
                    "unique_count": 2,
                    "nan_count": 0,
                    "min": "0.18890814558058924",
                    "max": "0.7420382165605095",
                    "histogram": [
                      {
                        "bin_start": 0.18890814558058924,
                        "bin_end": 0.24422115267858127,
                        "count": 1
                      },
                      {
                        "bin_start": 0.24422115267858127,
                        "bin_end": 0.29953415977657327,
                        "count": 0
                      },
                      {
                        "bin_start": 0.29953415977657327,
                        "bin_end": 0.3548471668745653,
                        "count": 0
                      },
                      {
                        "bin_start": 0.3548471668745653,
                        "bin_end": 0.41016017397255733,
                        "count": 0
                      },
                      {
                        "bin_start": 0.41016017397255733,
                        "bin_end": 0.46547318107054936,
                        "count": 0
                      },
                      {
                        "bin_start": 0.46547318107054936,
                        "bin_end": 0.5207861881685414,
                        "count": 0
                      },
                      {
                        "bin_start": 0.5207861881685414,
                        "bin_end": 0.5760991952665334,
                        "count": 0
                      },
                      {
                        "bin_start": 0.5760991952665334,
                        "bin_end": 0.6314122023645254,
                        "count": 0
                      },
                      {
                        "bin_start": 0.6314122023645254,
                        "bin_end": 0.6867252094625175,
                        "count": 0
                      },
                      {
                        "bin_start": 0.6867252094625175,
                        "bin_end": 0.7420382165605095,
                        "count": 1
                      }
                    ]
                  }
                },
                {
                  "name": "_deepnote_index_column",
                  "dtype": "int64"
                }
              ],
              "rows_top": [
                {
                  "Sex": 0,
                  "Survived": 0.7420382165605095,
                  "_deepnote_index_column": 0
                },
                {
                  "Sex": 1,
                  "Survived": 0.18890814558058924,
                  "_deepnote_index_column": 1
                }
              ],
              "rows_bottom": null
            },
            "text/plain": "   Sex  Survived\n0    0  0.742038\n1    1  0.188908",
            "text/html": "<div>\n<style scoped>\n    .dataframe tbody tr th:only-of-type {\n        vertical-align: middle;\n    }\n\n    .dataframe tbody tr th {\n        vertical-align: top;\n    }\n\n    .dataframe thead th {\n        text-align: right;\n    }\n</style>\n<table border=\"1\" class=\"dataframe\">\n  <thead>\n    <tr style=\"text-align: right;\">\n      <th></th>\n      <th>Sex</th>\n      <th>Survived</th>\n    </tr>\n  </thead>\n  <tbody>\n    <tr>\n      <th>0</th>\n      <td>0</td>\n      <td>0.742038</td>\n    </tr>\n    <tr>\n      <th>1</th>\n      <td>1</td>\n      <td>0.188908</td>\n    </tr>\n  </tbody>\n</table>\n</div>"
          },
          "metadata": {}
        }
      ],
      "execution_count": 149
    },
    {
      "cell_type": "code",
      "source": "plt.figure(figsize=(7,5))\nplt.title(\"Heatmap\",size=18)\ncorrMatrix = df.corr()\nsns.heatmap(corrMatrix, annot=True)\n",
      "metadata": {
        "tags": [],
        "cell_id": "00002-8532d37e-07ad-4696-ae78-548029ac16f1",
        "deepnote_to_be_reexecuted": false,
        "source_hash": "c1272801",
        "execution_start": 1619790985355,
        "execution_millis": 984,
        "deepnote_cell_type": "code"
      },
      "outputs": [
        {
          "output_type": "execute_result",
          "execution_count": 464,
          "data": {
            "text/plain": "<AxesSubplot:title={'center':'Heatmap'}>"
          },
          "metadata": {}
        },
        {
          "data": {
            "text/plain": "<Figure size 504x360 with 2 Axes>",
            "image/png": "[encoded data removed]"
          },
          "metadata": {
            "image/png": {
              "width": 472,
              "height": 382
            }
          },
          "output_type": "display_data"
        }
      ],
      "execution_count": 464
    },
    {
      "cell_type": "code",
      "source": "train[['Age','Survived']].groupby(['Age'], as_index=False).mean()",
      "metadata": {
        "tags": [],
        "cell_id": "00012-3a67752e-e304-4452-95f7-c4a8a59194a6",
        "deepnote_to_be_reexecuted": false,
        "source_hash": "7927b31f",
        "execution_start": 1619779354361,
        "execution_millis": 51,
        "deepnote_cell_type": "code"
      },
      "outputs": [
        {
          "output_type": "execute_result",
          "execution_count": 151,
          "data": {
            "application/vnd.deepnote.dataframe.v2+json": {
              "row_count": 88,
              "column_count": 2,
              "columns": [
                {
                  "name": "Age",
                  "dtype": "float64",
                  "stats": {
                    "unique_count": 88,
                    "nan_count": 0,
                    "min": "0.42",
                    "max": "80.0",
                    "histogram": [
                      {
                        "bin_start": 0.42,
                        "bin_end": 8.378,
                        "count": 13
                      },
                      {
                        "bin_start": 8.378,
                        "bin_end": 16.336000000000002,
                        "count": 9
                      },
                      {
                        "bin_start": 16.336000000000002,
                        "bin_end": 24.294000000000004,
                        "count": 10
                      },
                      {
                        "bin_start": 24.294000000000004,
                        "bin_end": 32.252,
                        "count": 11
                      },
                      {
                        "bin_start": 32.252,
                        "bin_end": 40.21,
                        "count": 11
                      },
                      {
                        "bin_start": 40.21,
                        "bin_end": 48.168000000000006,
                        "count": 10
                      },
                      {
                        "bin_start": 48.168000000000006,
                        "bin_end": 56.126000000000005,
                        "count": 9
                      },
                      {
                        "bin_start": 56.126000000000005,
                        "bin_end": 64.084,
                        "count": 8
                      },
                      {
                        "bin_start": 64.084,
                        "bin_end": 72.042,
                        "count": 5
                      },
                      {
                        "bin_start": 72.042,
                        "bin_end": 80,
                        "count": 2
                      }
                    ]
                  }
                },
                {
                  "name": "Survived",
                  "dtype": "float64",
                  "stats": {
                    "unique_count": 31,
                    "nan_count": 0,
                    "min": "0.0",
                    "max": "1.0",
                    "histogram": [
                      {
                        "bin_start": 0,
                        "bin_end": 0.1,
                        "count": 23
                      },
                      {
                        "bin_start": 0.1,
                        "bin_end": 0.2,
                        "count": 2
                      },
                      {
                        "bin_start": 0.2,
                        "bin_end": 0.30000000000000004,
                        "count": 9
                      },
                      {
                        "bin_start": 0.30000000000000004,
                        "bin_end": 0.4,
                        "count": 10
                      },
                      {
                        "bin_start": 0.4,
                        "bin_end": 0.5,
                        "count": 11
                      },
                      {
                        "bin_start": 0.5,
                        "bin_end": 0.6000000000000001,
                        "count": 13
                      },
                      {
                        "bin_start": 0.6000000000000001,
                        "bin_end": 0.7000000000000001,
                        "count": 6
                      },
                      {
                        "bin_start": 0.7000000000000001,
                        "bin_end": 0.8,
                        "count": 1
                      },
                      {
                        "bin_start": 0.8,
                        "bin_end": 0.9,
                        "count": 2
                      },
                      {
                        "bin_start": 0.9,
                        "bin_end": 1,
                        "count": 11
                      }
                    ]
                  }
                },
                {
                  "name": "_deepnote_index_column",
                  "dtype": "int64"
                }
              ],
              "rows_top": [
                {
                  "Age": 0.42,
                  "Survived": 1,
                  "_deepnote_index_column": 0
                },
                {
                  "Age": 0.67,
                  "Survived": 1,
                  "_deepnote_index_column": 1
                },
                {
                  "Age": 0.75,
                  "Survived": 1,
                  "_deepnote_index_column": 2
                },
                {
                  "Age": 0.83,
                  "Survived": 1,
                  "_deepnote_index_column": 3
                },
                {
                  "Age": 0.92,
                  "Survived": 1,
                  "_deepnote_index_column": 4
                },
                {
                  "Age": 1,
                  "Survived": 0.7142857142857143,
                  "_deepnote_index_column": 5
                },
                {
                  "Age": 2,
                  "Survived": 0.3,
                  "_deepnote_index_column": 6
                },
                {
                  "Age": 3,
                  "Survived": 0.8333333333333334,
                  "_deepnote_index_column": 7
                },
                {
                  "Age": 4,
                  "Survived": 0.7,
                  "_deepnote_index_column": 8
                },
                {
                  "Age": 5,
                  "Survived": 1,
                  "_deepnote_index_column": 9
                },
                {
                  "Age": 6,
                  "Survived": 0.6666666666666666,
                  "_deepnote_index_column": 10
                },
                {
                  "Age": 7,
                  "Survived": 0.3333333333333333,
                  "_deepnote_index_column": 11
                },
                {
                  "Age": 8,
                  "Survived": 0.5,
                  "_deepnote_index_column": 12
                },
                {
                  "Age": 9,
                  "Survived": 0.25,
                  "_deepnote_index_column": 13
                },
                {
                  "Age": 10,
                  "Survived": 0,
                  "_deepnote_index_column": 14
                },
                {
                  "Age": 11,
                  "Survived": 0.25,
                  "_deepnote_index_column": 15
                },
                {
                  "Age": 12,
                  "Survived": 1,
                  "_deepnote_index_column": 16
                },
                {
                  "Age": 13,
                  "Survived": 1,
                  "_deepnote_index_column": 17
                },
                {
                  "Age": 14,
                  "Survived": 0.5,
                  "_deepnote_index_column": 18
                },
                {
                  "Age": 14.5,
                  "Survived": 0,
                  "_deepnote_index_column": 19
                },
                {
                  "Age": 15,
                  "Survived": 0.8,
                  "_deepnote_index_column": 20
                },
                {
                  "Age": 16,
                  "Survived": 0.35294117647058826,
                  "_deepnote_index_column": 21
                },
                {
                  "Age": 17,
                  "Survived": 0.46153846153846156,
                  "_deepnote_index_column": 22
                },
                {
                  "Age": 18,
                  "Survived": 0.34615384615384615,
                  "_deepnote_index_column": 23
                },
                {
                  "Age": 19,
                  "Survived": 0.36,
                  "_deepnote_index_column": 24
                },
                {
                  "Age": 20,
                  "Survived": 0.2,
                  "_deepnote_index_column": 25
                },
                {
                  "Age": 20.5,
                  "Survived": 0,
                  "_deepnote_index_column": 26
                },
                {
                  "Age": 21,
                  "Survived": 0.20833333333333334,
                  "_deepnote_index_column": 27
                },
                {
                  "Age": 22,
                  "Survived": 0.4074074074074074,
                  "_deepnote_index_column": 28
                },
                {
                  "Age": 23,
                  "Survived": 0.3333333333333333,
                  "_deepnote_index_column": 29
                },
                {
                  "Age": 23.5,
                  "Survived": 0,
                  "_deepnote_index_column": 30
                },
                {
                  "Age": 24,
                  "Survived": 0.5,
                  "_deepnote_index_column": 31
                },
                {
                  "Age": 24.5,
                  "Survived": 0,
                  "_deepnote_index_column": 32
                },
                {
                  "Age": 25,
                  "Survived": 0.2608695652173913,
                  "_deepnote_index_column": 33
                },
                {
                  "Age": 26,
                  "Survived": 0.3333333333333333,
                  "_deepnote_index_column": 34
                },
                {
                  "Age": 27,
                  "Survived": 0.6111111111111112,
                  "_deepnote_index_column": 35
                },
                {
                  "Age": 28,
                  "Survived": 0.28,
                  "_deepnote_index_column": 36
                },
                {
                  "Age": 28.5,
                  "Survived": 0,
                  "_deepnote_index_column": 37
                },
                {
                  "Age": 29,
                  "Survived": 0.4,
                  "_deepnote_index_column": 38
                },
                {
                  "Age": 30,
                  "Survived": 0.4,
                  "_deepnote_index_column": 39
                },
                {
                  "Age": 30.5,
                  "Survived": 0,
                  "_deepnote_index_column": 40
                },
                {
                  "Age": 31,
                  "Survived": 0.47058823529411764,
                  "_deepnote_index_column": 41
                },
                {
                  "Age": 32,
                  "Survived": 0.5,
                  "_deepnote_index_column": 42
                },
                {
                  "Age": 32.5,
                  "Survived": 0.5,
                  "_deepnote_index_column": 43
                },
                {
                  "Age": 33,
                  "Survived": 0.4,
                  "_deepnote_index_column": 44
                },
                {
                  "Age": 34,
                  "Survived": 0.4,
                  "_deepnote_index_column": 45
                },
                {
                  "Age": 34.5,
                  "Survived": 0,
                  "_deepnote_index_column": 46
                },
                {
                  "Age": 35,
                  "Survived": 0.6111111111111112,
                  "_deepnote_index_column": 47
                },
                {
                  "Age": 36,
                  "Survived": 0.5,
                  "_deepnote_index_column": 48
                },
                {
                  "Age": 36.5,
                  "Survived": 0,
                  "_deepnote_index_column": 49
                },
                {
                  "Age": 37,
                  "Survived": 0.16666666666666666,
                  "_deepnote_index_column": 50
                },
                {
                  "Age": 38,
                  "Survived": 0.45454545454545453,
                  "_deepnote_index_column": 51
                },
                {
                  "Age": 39,
                  "Survived": 0.35714285714285715,
                  "_deepnote_index_column": 52
                },
                {
                  "Age": 40,
                  "Survived": 0.46153846153846156,
                  "_deepnote_index_column": 53
                },
                {
                  "Age": 40.5,
                  "Survived": 0,
                  "_deepnote_index_column": 54
                },
                {
                  "Age": 41,
                  "Survived": 0.3333333333333333,
                  "_deepnote_index_column": 55
                },
                {
                  "Age": 42,
                  "Survived": 0.46153846153846156,
                  "_deepnote_index_column": 56
                },
                {
                  "Age": 43,
                  "Survived": 0.2,
                  "_deepnote_index_column": 57
                },
                {
                  "Age": 44,
                  "Survived": 0.3333333333333333,
                  "_deepnote_index_column": 58
                },
                {
                  "Age": 45,
                  "Survived": 0.4166666666666667,
                  "_deepnote_index_column": 59
                },
                {
                  "Age": 45.5,
                  "Survived": 0,
                  "_deepnote_index_column": 60
                },
                {
                  "Age": 46,
                  "Survived": 0,
                  "_deepnote_index_column": 61
                },
                {
                  "Age": 47,
                  "Survived": 0.1111111111111111,
                  "_deepnote_index_column": 62
                },
                {
                  "Age": 48,
                  "Survived": 0.6666666666666666,
                  "_deepnote_index_column": 63
                },
                {
                  "Age": 49,
                  "Survived": 0.6666666666666666,
                  "_deepnote_index_column": 64
                },
                {
                  "Age": 50,
                  "Survived": 0.5,
                  "_deepnote_index_column": 65
                },
                {
                  "Age": 51,
                  "Survived": 0.2857142857142857,
                  "_deepnote_index_column": 66
                },
                {
                  "Age": 52,
                  "Survived": 0.5,
                  "_deepnote_index_column": 67
                },
                {
                  "Age": 53,
                  "Survived": 1,
                  "_deepnote_index_column": 68
                },
                {
                  "Age": 54,
                  "Survived": 0.375,
                  "_deepnote_index_column": 69
                },
                {
                  "Age": 55,
                  "Survived": 0.5,
                  "_deepnote_index_column": 70
                },
                {
                  "Age": 55.5,
                  "Survived": 0,
                  "_deepnote_index_column": 71
                },
                {
                  "Age": 56,
                  "Survived": 0.5,
                  "_deepnote_index_column": 72
                },
                {
                  "Age": 57,
                  "Survived": 0,
                  "_deepnote_index_column": 73
                },
                {
                  "Age": 58,
                  "Survived": 0.6,
                  "_deepnote_index_column": 74
                },
                {
                  "Age": 59,
                  "Survived": 0,
                  "_deepnote_index_column": 75
                },
                {
                  "Age": 60,
                  "Survived": 0.5,
                  "_deepnote_index_column": 76
                },
                {
                  "Age": 61,
                  "Survived": 0,
                  "_deepnote_index_column": 77
                },
                {
                  "Age": 62,
                  "Survived": 0.5,
                  "_deepnote_index_column": 78
                },
                {
                  "Age": 63,
                  "Survived": 1,
                  "_deepnote_index_column": 79
                },
                {
                  "Age": 64,
                  "Survived": 0,
                  "_deepnote_index_column": 80
                },
                {
                  "Age": 65,
                  "Survived": 0,
                  "_deepnote_index_column": 81
                },
                {
                  "Age": 66,
                  "Survived": 0,
                  "_deepnote_index_column": 82
                },
                {
                  "Age": 70,
                  "Survived": 0,
                  "_deepnote_index_column": 83
                },
                {
                  "Age": 70.5,
                  "Survived": 0,
                  "_deepnote_index_column": 84
                },
                {
                  "Age": 71,
                  "Survived": 0,
                  "_deepnote_index_column": 85
                },
                {
                  "Age": 74,
                  "Survived": 0,
                  "_deepnote_index_column": 86
                },
                {
                  "Age": 80,
                  "Survived": 1,
                  "_deepnote_index_column": 87
                }
              ],
              "rows_bottom": null
            },
            "text/plain": "      Age  Survived\n0    0.42       1.0\n1    0.67       1.0\n2    0.75       1.0\n3    0.83       1.0\n4    0.92       1.0\n..    ...       ...\n83  70.00       0.0\n84  70.50       0.0\n85  71.00       0.0\n86  74.00       0.0\n87  80.00       1.0\n\n[88 rows x 2 columns]",
            "text/html": "<div>\n<style scoped>\n    .dataframe tbody tr th:only-of-type {\n        vertical-align: middle;\n    }\n\n    .dataframe tbody tr th {\n        vertical-align: top;\n    }\n\n    .dataframe thead th {\n        text-align: right;\n    }\n</style>\n<table border=\"1\" class=\"dataframe\">\n  <thead>\n    <tr style=\"text-align: right;\">\n      <th></th>\n      <th>Age</th>\n      <th>Survived</th>\n    </tr>\n  </thead>\n  <tbody>\n    <tr>\n      <th>0</th>\n      <td>0.42</td>\n      <td>1.0</td>\n    </tr>\n    <tr>\n      <th>1</th>\n      <td>0.67</td>\n      <td>1.0</td>\n    </tr>\n    <tr>\n      <th>2</th>\n      <td>0.75</td>\n      <td>1.0</td>\n    </tr>\n    <tr>\n      <th>3</th>\n      <td>0.83</td>\n      <td>1.0</td>\n    </tr>\n    <tr>\n      <th>4</th>\n      <td>0.92</td>\n      <td>1.0</td>\n    </tr>\n    <tr>\n      <th>...</th>\n      <td>...</td>\n      <td>...</td>\n    </tr>\n    <tr>\n      <th>83</th>\n      <td>70.00</td>\n      <td>0.0</td>\n    </tr>\n    <tr>\n      <th>84</th>\n      <td>70.50</td>\n      <td>0.0</td>\n    </tr>\n    <tr>\n      <th>85</th>\n      <td>71.00</td>\n      <td>0.0</td>\n    </tr>\n    <tr>\n      <th>86</th>\n      <td>74.00</td>\n      <td>0.0</td>\n    </tr>\n    <tr>\n      <th>87</th>\n      <td>80.00</td>\n      <td>1.0</td>\n    </tr>\n  </tbody>\n</table>\n<p>88 rows × 2 columns</p>\n</div>"
          },
          "metadata": {}
        }
      ],
      "execution_count": 151
    },
    {
      "cell_type": "code",
      "source": "mw = train[['Sex','Survived']].groupby(['Sex'], as_index=False).mean()\nmw",
      "metadata": {
        "tags": [],
        "cell_id": "00016-53536087-c7f5-4521-90c5-d5e258b5ec85",
        "deepnote_to_be_reexecuted": false,
        "source_hash": "e664d150",
        "execution_start": 1619781896038,
        "execution_millis": 18,
        "deepnote_cell_type": "code"
      },
      "outputs": [
        {
          "output_type": "execute_result",
          "execution_count": 239,
          "data": {
            "application/vnd.deepnote.dataframe.v2+json": {
              "row_count": 2,
              "column_count": 2,
              "columns": [
                {
                  "name": "Sex",
                  "dtype": "int64",
                  "stats": {
                    "unique_count": 2,
                    "nan_count": 0,
                    "min": "0",
                    "max": "1",
                    "histogram": [
                      {
                        "bin_start": 0,
                        "bin_end": 0.1,
                        "count": 1
                      },
                      {
                        "bin_start": 0.1,
                        "bin_end": 0.2,
                        "count": 0
                      },
                      {
                        "bin_start": 0.2,
                        "bin_end": 0.30000000000000004,
                        "count": 0
                      },
                      {
                        "bin_start": 0.30000000000000004,
                        "bin_end": 0.4,
                        "count": 0
                      },
                      {
                        "bin_start": 0.4,
                        "bin_end": 0.5,
                        "count": 0
                      },
                      {
                        "bin_start": 0.5,
                        "bin_end": 0.6000000000000001,
                        "count": 0
                      },
                      {
                        "bin_start": 0.6000000000000001,
                        "bin_end": 0.7000000000000001,
                        "count": 0
                      },
                      {
                        "bin_start": 0.7000000000000001,
                        "bin_end": 0.8,
                        "count": 0
                      },
                      {
                        "bin_start": 0.8,
                        "bin_end": 0.9,
                        "count": 0
                      },
                      {
                        "bin_start": 0.9,
                        "bin_end": 1,
                        "count": 1
                      }
                    ]
                  }
                },
                {
                  "name": "Survived",
                  "dtype": "float64",
                  "stats": {
                    "unique_count": 2,
                    "nan_count": 0,
                    "min": "0.2052980132450331",
                    "max": "0.7547892720306514",
                    "histogram": [
                      {
                        "bin_start": 0.2052980132450331,
                        "bin_end": 0.26024713912359493,
                        "count": 1
                      },
                      {
                        "bin_start": 0.26024713912359493,
                        "bin_end": 0.31519626500215675,
                        "count": 0
                      },
                      {
                        "bin_start": 0.31519626500215675,
                        "bin_end": 0.37014539088071857,
                        "count": 0
                      },
                      {
                        "bin_start": 0.37014539088071857,
                        "bin_end": 0.4250945167592804,
                        "count": 0
                      },
                      {
                        "bin_start": 0.4250945167592804,
                        "bin_end": 0.4800436426378422,
                        "count": 0
                      },
                      {
                        "bin_start": 0.4800436426378422,
                        "bin_end": 0.534992768516404,
                        "count": 0
                      },
                      {
                        "bin_start": 0.534992768516404,
                        "bin_end": 0.5899418943949659,
                        "count": 0
                      },
                      {
                        "bin_start": 0.5899418943949659,
                        "bin_end": 0.6448910202735276,
                        "count": 0
                      },
                      {
                        "bin_start": 0.6448910202735276,
                        "bin_end": 0.6998401461520896,
                        "count": 0
                      },
                      {
                        "bin_start": 0.6998401461520896,
                        "bin_end": 0.7547892720306514,
                        "count": 1
                      }
                    ]
                  }
                },
                {
                  "name": "_deepnote_index_column",
                  "dtype": "int64"
                }
              ],
              "rows_top": [
                {
                  "Sex": 0,
                  "Survived": 0.7547892720306514,
                  "_deepnote_index_column": 0
                },
                {
                  "Sex": 1,
                  "Survived": 0.2052980132450331,
                  "_deepnote_index_column": 1
                }
              ],
              "rows_bottom": null
            },
            "text/plain": "   Sex  Survived\n0    0  0.754789\n1    1  0.205298",
            "text/html": "<div>\n<style scoped>\n    .dataframe tbody tr th:only-of-type {\n        vertical-align: middle;\n    }\n\n    .dataframe tbody tr th {\n        vertical-align: top;\n    }\n\n    .dataframe thead th {\n        text-align: right;\n    }\n</style>\n<table border=\"1\" class=\"dataframe\">\n  <thead>\n    <tr style=\"text-align: right;\">\n      <th></th>\n      <th>Sex</th>\n      <th>Survived</th>\n    </tr>\n  </thead>\n  <tbody>\n    <tr>\n      <th>0</th>\n      <td>0</td>\n      <td>0.754789</td>\n    </tr>\n    <tr>\n      <th>1</th>\n      <td>1</td>\n      <td>0.205298</td>\n    </tr>\n  </tbody>\n</table>\n</div>"
          },
          "metadata": {}
        }
      ],
      "execution_count": 239
    },
    {
      "cell_type": "code",
      "source": "sns.jointplot(data=train, x='Sex',y='Age', hue='Survived', height=8)",
      "metadata": {
        "tags": [],
        "cell_id": "00017-cc526e39-eaae-41b7-aabb-55d0f4b46e30",
        "deepnote_to_be_reexecuted": false,
        "source_hash": "7daca0cf",
        "execution_start": 1619783046408,
        "execution_millis": 633,
        "deepnote_cell_type": "code"
      },
      "outputs": [
        {
          "output_type": "execute_result",
          "execution_count": 275,
          "data": {
            "text/plain": "<seaborn.axisgrid.JointGrid at 0x7f754ae49290>"
          },
          "metadata": {}
        },
        {
          "data": {
            "text/plain": "<Figure size 576x576 with 3 Axes>",
            "image/png": "[encoded data removed]"
          },
          "metadata": {
            "image/png": {
              "width": 561,
              "height": 564
            }
          },
          "output_type": "display_data"
        }
      ],
      "execution_count": 275
    },
    {
      "cell_type": "code",
      "source": "train.Sex.value_counts()",
      "metadata": {
        "tags": [],
        "cell_id": "00016-6c43247b-7613-4804-9a46-631d59ab031a",
        "deepnote_to_be_reexecuted": false,
        "source_hash": "bc80bae9",
        "execution_start": 1619781803217,
        "execution_millis": 11,
        "deepnote_cell_type": "code"
      },
      "outputs": [
        {
          "output_type": "execute_result",
          "execution_count": 236,
          "data": {
            "text/plain": "1    453\n0    261\nName: Sex, dtype: int64"
          },
          "metadata": {}
        }
      ],
      "execution_count": 236
    },
    {
      "cell_type": "code",
      "source": "plt.figure(figsize=(7,5))\nsns.countplot(x = 'Survived', hue = 'Pclass', data = train)\nplt.title(\"SURVIVED AND PCLASS\",size=18)",
      "metadata": {
        "tags": [],
        "cell_id": "00019-b146b18b-945b-4c1d-a376-400bd43e3def",
        "deepnote_to_be_reexecuted": false,
        "source_hash": "8f13d79",
        "execution_start": 1619791457883,
        "execution_millis": 181,
        "deepnote_cell_type": "code"
      },
      "outputs": [
        {
          "output_type": "execute_result",
          "execution_count": 474,
          "data": {
            "text/plain": "Text(0.5, 1.0, 'SURVIVED AND PCLASS')"
          },
          "metadata": {}
        },
        {
          "data": {
            "text/plain": "<Figure size 504x360 with 1 Axes>",
            "image/png": "[encoded data removed]"
          },
          "metadata": {
            "image/png": {
              "width": 452,
              "height": 342
            }
          },
          "output_type": "display_data"
        }
      ],
      "execution_count": 474
    },
    {
      "cell_type": "code",
      "source": "train[['Pclass','Survived']].groupby(['Pclass'], as_index=False).mean()",
      "metadata": {
        "tags": [],
        "cell_id": "00020-aec07c57-7356-4cb0-9c08-7c88aafa8867",
        "deepnote_to_be_reexecuted": false,
        "source_hash": "4391c276",
        "execution_start": 1619791526315,
        "execution_millis": 13,
        "deepnote_cell_type": "code"
      },
      "outputs": [
        {
          "output_type": "execute_result",
          "execution_count": 475,
          "data": {
            "application/vnd.deepnote.dataframe.v2+json": {
              "row_count": 3,
              "column_count": 2,
              "columns": [
                {
                  "name": "Pclass",
                  "dtype": "int64",
                  "stats": {
                    "unique_count": 3,
                    "nan_count": 0,
                    "min": "1",
                    "max": "3",
                    "histogram": [
                      {
                        "bin_start": 1,
                        "bin_end": 1.2,
                        "count": 1
                      },
                      {
                        "bin_start": 1.2,
                        "bin_end": 1.4,
                        "count": 0
                      },
                      {
                        "bin_start": 1.4,
                        "bin_end": 1.6,
                        "count": 0
                      },
                      {
                        "bin_start": 1.6,
                        "bin_end": 1.8,
                        "count": 0
                      },
                      {
                        "bin_start": 1.8,
                        "bin_end": 2,
                        "count": 0
                      },
                      {
                        "bin_start": 2,
                        "bin_end": 2.2,
                        "count": 1
                      },
                      {
                        "bin_start": 2.2,
                        "bin_end": 2.4000000000000004,
                        "count": 0
                      },
                      {
                        "bin_start": 2.4000000000000004,
                        "bin_end": 2.6,
                        "count": 0
                      },
                      {
                        "bin_start": 2.6,
                        "bin_end": 2.8,
                        "count": 0
                      },
                      {
                        "bin_start": 2.8,
                        "bin_end": 3,
                        "count": 1
                      }
                    ]
                  }
                },
                {
                  "name": "Survived",
                  "dtype": "float64",
                  "stats": {
                    "unique_count": 3,
                    "nan_count": 0,
                    "min": "0.23943661971830985",
                    "max": "0.6521739130434783",
                    "histogram": [
                      {
                        "bin_start": 0.23943661971830985,
                        "bin_end": 0.2807103490508267,
                        "count": 1
                      },
                      {
                        "bin_start": 0.2807103490508267,
                        "bin_end": 0.32198407838334353,
                        "count": 0
                      },
                      {
                        "bin_start": 0.32198407838334353,
                        "bin_end": 0.36325780771586036,
                        "count": 0
                      },
                      {
                        "bin_start": 0.36325780771586036,
                        "bin_end": 0.4045315370483772,
                        "count": 0
                      },
                      {
                        "bin_start": 0.4045315370483772,
                        "bin_end": 0.445805266380894,
                        "count": 0
                      },
                      {
                        "bin_start": 0.445805266380894,
                        "bin_end": 0.4870789957134109,
                        "count": 1
                      },
                      {
                        "bin_start": 0.4870789957134109,
                        "bin_end": 0.5283527250459278,
                        "count": 0
                      },
                      {
                        "bin_start": 0.5283527250459278,
                        "bin_end": 0.5696264543784446,
                        "count": 0
                      },
                      {
                        "bin_start": 0.5696264543784446,
                        "bin_end": 0.6109001837109614,
                        "count": 0
                      },
                      {
                        "bin_start": 0.6109001837109614,
                        "bin_end": 0.6521739130434783,
                        "count": 1
                      }
                    ]
                  }
                },
                {
                  "name": "_deepnote_index_column",
                  "dtype": "int64"
                }
              ],
              "rows_top": [
                {
                  "Pclass": 1,
                  "Survived": 0.6521739130434783,
                  "_deepnote_index_column": 0
                },
                {
                  "Pclass": 2,
                  "Survived": 0.4797687861271676,
                  "_deepnote_index_column": 1
                },
                {
                  "Pclass": 3,
                  "Survived": 0.23943661971830985,
                  "_deepnote_index_column": 2
                }
              ],
              "rows_bottom": null
            },
            "text/plain": "   Pclass  Survived\n0       1  0.652174\n1       2  0.479769\n2       3  0.239437",
            "text/html": "<div>\n<style scoped>\n    .dataframe tbody tr th:only-of-type {\n        vertical-align: middle;\n    }\n\n    .dataframe tbody tr th {\n        vertical-align: top;\n    }\n\n    .dataframe thead th {\n        text-align: right;\n    }\n</style>\n<table border=\"1\" class=\"dataframe\">\n  <thead>\n    <tr style=\"text-align: right;\">\n      <th></th>\n      <th>Pclass</th>\n      <th>Survived</th>\n    </tr>\n  </thead>\n  <tbody>\n    <tr>\n      <th>0</th>\n      <td>1</td>\n      <td>0.652174</td>\n    </tr>\n    <tr>\n      <th>1</th>\n      <td>2</td>\n      <td>0.479769</td>\n    </tr>\n    <tr>\n      <th>2</th>\n      <td>3</td>\n      <td>0.239437</td>\n    </tr>\n  </tbody>\n</table>\n</div>"
          },
          "metadata": {}
        }
      ],
      "execution_count": 475
    },
    {
      "cell_type": "code",
      "source": "train[['Embarked','Survived']].groupby(['Embarked'], as_index=False).mean()",
      "metadata": {
        "tags": [],
        "cell_id": "00011-fcf17b53-3376-42f9-b2e0-4b7f9392e90f",
        "deepnote_to_be_reexecuted": false,
        "source_hash": "b170447d",
        "execution_start": 1619779284843,
        "execution_millis": 22,
        "deepnote_cell_type": "code"
      },
      "outputs": [
        {
          "output_type": "execute_result",
          "execution_count": 147,
          "data": {
            "application/vnd.deepnote.dataframe.v2+json": {
              "row_count": 3,
              "column_count": 2,
              "columns": [
                {
                  "name": "Embarked",
                  "dtype": "object",
                  "stats": {
                    "unique_count": 3,
                    "nan_count": 0,
                    "categories": [
                      {
                        "name": "C",
                        "count": 1
                      },
                      {
                        "name": "Q",
                        "count": 1
                      },
                      {
                        "name": "S",
                        "count": 1
                      }
                    ]
                  }
                },
                {
                  "name": "Survived",
                  "dtype": "float64",
                  "stats": {
                    "unique_count": 3,
                    "nan_count": 0,
                    "min": "0.33695652173913043",
                    "max": "0.5535714285714286",
                    "histogram": [
                      {
                        "bin_start": 0.33695652173913043,
                        "bin_end": 0.35861801242236024,
                        "count": 1
                      },
                      {
                        "bin_start": 0.35861801242236024,
                        "bin_end": 0.38027950310559006,
                        "count": 0
                      },
                      {
                        "bin_start": 0.38027950310559006,
                        "bin_end": 0.40194099378881987,
                        "count": 1
                      },
                      {
                        "bin_start": 0.40194099378881987,
                        "bin_end": 0.42360248447204973,
                        "count": 0
                      },
                      {
                        "bin_start": 0.42360248447204973,
                        "bin_end": 0.4452639751552795,
                        "count": 0
                      },
                      {
                        "bin_start": 0.4452639751552795,
                        "bin_end": 0.46692546583850936,
                        "count": 0
                      },
                      {
                        "bin_start": 0.46692546583850936,
                        "bin_end": 0.48858695652173917,
                        "count": 0
                      },
                      {
                        "bin_start": 0.48858695652173917,
                        "bin_end": 0.510248447204969,
                        "count": 0
                      },
                      {
                        "bin_start": 0.510248447204969,
                        "bin_end": 0.5319099378881988,
                        "count": 0
                      },
                      {
                        "bin_start": 0.5319099378881988,
                        "bin_end": 0.5535714285714286,
                        "count": 1
                      }
                    ]
                  }
                },
                {
                  "name": "_deepnote_index_column",
                  "dtype": "int64"
                }
              ],
              "rows_top": [
                {
                  "Embarked": "C",
                  "Survived": 0.5535714285714286,
                  "_deepnote_index_column": 0
                },
                {
                  "Embarked": "Q",
                  "Survived": 0.38961038961038963,
                  "_deepnote_index_column": 1
                },
                {
                  "Embarked": "S",
                  "Survived": 0.33695652173913043,
                  "_deepnote_index_column": 2
                }
              ],
              "rows_bottom": null
            },
            "text/plain": "  Embarked  Survived\n0        C  0.553571\n1        Q  0.389610\n2        S  0.336957",
            "text/html": "<div>\n<style scoped>\n    .dataframe tbody tr th:only-of-type {\n        vertical-align: middle;\n    }\n\n    .dataframe tbody tr th {\n        vertical-align: top;\n    }\n\n    .dataframe thead th {\n        text-align: right;\n    }\n</style>\n<table border=\"1\" class=\"dataframe\">\n  <thead>\n    <tr style=\"text-align: right;\">\n      <th></th>\n      <th>Embarked</th>\n      <th>Survived</th>\n    </tr>\n  </thead>\n  <tbody>\n    <tr>\n      <th>0</th>\n      <td>C</td>\n      <td>0.553571</td>\n    </tr>\n    <tr>\n      <th>1</th>\n      <td>Q</td>\n      <td>0.389610</td>\n    </tr>\n    <tr>\n      <th>2</th>\n      <td>S</td>\n      <td>0.336957</td>\n    </tr>\n  </tbody>\n</table>\n</div>"
          },
          "metadata": {}
        }
      ],
      "execution_count": 147
    },
    {
      "cell_type": "code",
      "source": "plt.figure(figsize=[7,5])\n# sns.set_theme(style=\"darkgrid\")\nsns.barplot(x='Embarked',y='Survived', ci=None, data=train)",
      "metadata": {
        "tags": [],
        "cell_id": "00016-086c1a3a-4b76-4e9f-8b14-dfa5177aab5c",
        "deepnote_to_be_reexecuted": false,
        "source_hash": "4c564c02",
        "execution_start": 1619791402517,
        "execution_millis": 129,
        "deepnote_cell_type": "code"
      },
      "outputs": [
        {
          "output_type": "execute_result",
          "execution_count": 469,
          "data": {
            "text/plain": "<AxesSubplot:xlabel='Embarked', ylabel='Survived'>"
          },
          "metadata": {}
        },
        {
          "data": {
            "text/plain": "<Figure size 504x360 with 1 Axes>",
            "image/png": "[encoded data removed]"
          },
          "metadata": {
            "image/png": {
              "width": 448,
              "height": 322
            }
          },
          "output_type": "display_data"
        }
      ],
      "execution_count": 469
    },
    {
      "cell_type": "code",
      "source": "survived_total = train[train['Survived'] == 1]\nnot_survived_total = train[train['Survived'] == 0]\nmale_survived = train[(train['Survived'] == 1) & (train['Sex'] == 'male')]\nfemale_survived = train[(train['Survived'] == 1) & (train['Sex'] == 'female')]\nmale_not_survived = train[(train['Survived'] == 0) & (train['Sex'] == 'male')]\nfemale_not_survived = train[(train['Survived'] == 0) & (train['Sex'] == 'female')]\n\nplt.figure(figsize=[10,5])\nplt.subplot(111)\nsns.distplot(survived_total['Age'].dropna().values, bins=range(0, 81, 1), kde=False, color='y')\nsns.distplot(not_survived_total['Age'].dropna().values, bins=range(0, 81, 1), kde=False, color='b', axlabel='Age')",
      "metadata": {
        "tags": [],
        "cell_id": "00017-c62f2f63-9430-4643-b331-e35c534d2682",
        "deepnote_to_be_reexecuted": false,
        "source_hash": "5caa4c9f",
        "execution_start": 1619792041031,
        "execution_millis": 475,
        "deepnote_cell_type": "code"
      },
      "outputs": [
        {
          "name": "stderr",
          "text": "/shared-libs/python3.7/py/lib/python3.7/site-packages/seaborn/distributions.py:2557: FutureWarning: `distplot` is a deprecated function and will be removed in a future version. Please adapt your code to use either `displot` (a figure-level function with similar flexibility) or `histplot` (an axes-level function for histograms).\n  warnings.warn(msg, FutureWarning)\n",
          "output_type": "stream"
        },
        {
          "output_type": "execute_result",
          "execution_count": 479,
          "data": {
            "text/plain": "<AxesSubplot:xlabel='Age'>"
          },
          "metadata": {}
        },
        {
          "data": {
            "text/plain": "<Figure size 720x360 with 1 Axes>",
            "image/png": "[encoded data removed]"
          },
          "metadata": {
            "image/png": {
              "width": 606,
              "height": 322
            }
          },
          "output_type": "display_data"
        }
      ],
      "execution_count": 479
    },
    {
      "cell_type": "markdown",
      "source": "## Models & Predictions",
      "metadata": {
        "tags": [],
        "cell_id": "00022-2feb6dd0-f889-4e5e-a6e8-fa62dc4e0592",
        "deepnote_cell_type": "markdown"
      }
    },
    {
      "cell_type": "code",
      "source": "# Feature engineerg\n\n#years = X_train.Age.astype(int).value_counts().sort_index()\n#plt.scatter(years.index, years.values)\n#years\n#years = years.transpose()\n# baby = 0-4\n# child = 5-9\n# teen = 10-14\n# young_adult = 15-19\n# adult = 20-40\n# senior = 41+\n\ndef bin_ages(X_train):\n    X_train[\"Age\"] = X_train[\"Age\"].astype(int)\n    X_train[\"baby\"] = X_train[\"Age\"].le(4).astype(int)\n    X_train[\"child\"] = X_train[\"Age\"].between(5,9).astype(int)\n    X_train[\"teen\"] = X_train[\"Age\"].between(10,14).astype(int)\n    X_train[\"young_adult\"] = X_train[\"Age\"].between(15,19).astype(int)\n    X_train[\"adult\"] = X_train[\"Age\"].between(20,40).astype(int)\n    X_train[\"senior\"] = X_train[\"Age\"].ge(41).astype(int)\n    return X_train\n\n\ndef one_hot_embark(X):\n    one_hots = pd.get_dummies(X[\"Embarked\"], prefix='Embark')\n    X[\"Embark_C\"] = one_hots[\"Embark_C\"]\n    X[\"Embark_Q\"] = one_hots[\"Embark_Q\"]\n    X[\"Embark_S\"] = one_hots[\"Embark_S\"]\n    return X\n\n\ndef one_hot_sex(X):\n    dummies = pd.get_dummies(X.Sex)\n    X[\"female\"] = dummies[\"female\"]\n    X[\"male\"] = dummies[\"male\"]\n    return X\n\n\ndef one_hot_class(X):\n    class_dummies = pd.get_dummies(X.Pclass)\n    X[\"Upper_class\"] = class_dummies[1]\n    X[\"Middle_class\"] = class_dummies[2]\n    X[\"Lower_class\"] = class_dummies[3]\n    return X",
      "metadata": {
        "tags": [],
        "cell_id": "00003-531dc227-3dcb-4f27-aab6-21629c90c87a",
        "deepnote_to_be_reexecuted": false,
        "source_hash": "5a662277",
        "execution_start": 1619788889412,
        "execution_millis": 1,
        "deepnote_cell_type": "code"
      },
      "outputs": [],
      "execution_count": 429
    },
    {
      "cell_type": "markdown",
      "source": "### Random Forest",
      "metadata": {
        "tags": [],
        "cell_id": "00025-21798b1f-acd1-4bfb-b48d-ccee0d7b0599",
        "deepnote_cell_type": "markdown"
      }
    },
    {
      "cell_type": "code",
      "source": "#Random forest modeling\n\nfrom sklearn import tree\nfrom sklearn.ensemble import RandomForestClassifier\nfrom sklearn.model_selection import train_test_split, cross_val_score\nfrom sklearn.model_selection import GridSearchCV\nfrom sklearn.preprocessing import StandardScaler\nfrom sklearn.preprocessing import LabelEncoder\nfrom sklearn.preprocessing import OneHotEncoder\n \n# Load the data\ntrain = pd.read_csv(\"train.csv\")\n# Turn Male/Female into 1/0\n#train.Sex = train.Sex.eq(\"male\").astype(int)\n# one-hot encode them\n\n\n\n# Clean up some incomplete rows\ntrain = train.dropna(subset=[\"Age\"])\ntrain = train.dropna(subset=[\"Embarked\"])\n\ny = train.Survived\nX = train.drop([\"Survived\"], axis=1)\nX.index = X.PassengerId\n\n\nX = one_hot_embark(X)\nX = one_hot_sex(X)\nX = one_hot_class(X)\nX = bin_ages(X)\n\nX = X.drop([\"PassengerId\", \"Name\",\"Age\", \"Sex\",\"Cabin\", \"Ticket\", \"Embarked\"], axis=1)\n\nX_train, X_test, y_train, y_test = train_test_split(X, y, train_size=0.8, random_state=0)\n\nclf = RandomForestClassifier(criterion=\"entropy\", random_state=0, n_estimators=100)\nclf.fit(X_train, y_train)\nscores = cross_val_score(clf, X_test, y_test)\nprint(f\"Random Forest scored: {scores.mean()}\")\n\n# from sklearn.model_selection import GridSearchCV\n# params = {\"n_estimators\":[100,200,300], \"criterion\":(\"gini\", \"entropy\")}\n# grid_clf = GridSearchCV(RandomForestClassifier(), params).fit(X_train, y_train)\n\n# preds = grid_clf.predict(X_test)\n# acc = grid_clf.score(X_test, y_test)\n# grid_scores = cross_val_score(grid_clf, X_test, y_test)\n# print(f\"Random Forest scored: {grid_scores.mean()}\")",
      "metadata": {
        "tags": [],
        "cell_id": "00002-85806811-823e-4c88-a848-8900ea67f83b",
        "deepnote_to_be_reexecuted": false,
        "source_hash": "6183d891",
        "execution_start": 1619793037351,
        "execution_millis": 867,
        "deepnote_cell_type": "code"
      },
      "outputs": [
        {
          "name": "stdout",
          "text": "Random Forest scored: 0.7620689655172413\n",
          "output_type": "stream"
        }
      ],
      "execution_count": 494
    },
    {
      "cell_type": "code",
      "source": "\"\"\"\ntrain.csv\nfrom this we make X_train, X_test\nPlay with the models \nWhen we are satisfied, run the models on test.csv\n\"\"\"\n#Predicted y DataFram\n\ntest = pd.read_csv(\"test.csv\")\n\ntest = test.dropna(subset=[\"Age\"])\ntest = test.dropna(subset=[\"Embarked\"])\ntest = test.dropna(subset=[\"Fare\"])\n\n\nXtest = test\n\nXtest = bin_ages(Xtest)\nXtest = one_hot_embark(Xtest)\nXtest = one_hot_sex(Xtest)\nXtest = one_hot_class(Xtest)\nXtest = Xtest.drop([\"PassengerId\", \"Name\",\"Age\", \"Sex\",\"Cabin\", \"Ticket\", \"Embarked\"], axis=1)\n\n#print(Xtest.isnull().sum())\n\n\nRandom_forest_predict = clf.predict(Xtest)\nprint(Random_forest_predict)\n\n#push to df\n\nResults = test\nResults[\"Survival prediction\"]= Random_forest_predict\nResults.to_csv()\nResults.head()",
      "metadata": {
        "tags": [],
        "cell_id": "00005-0a97f8af-706c-49e3-b7e3-bbf59de9e4e6",
        "deepnote_to_be_reexecuted": false,
        "source_hash": "1624152b",
        "execution_start": 1619793240507,
        "execution_millis": 59,
        "deepnote_cell_type": "code"
      },
      "outputs": [
        {
          "name": "stdout",
          "text": "[0 1 0 1 1 1 0 1 1 0 1 0 1 1 0 0 0 1 0 1 1 0 1 1 0 0 1 1 0 1 0 1 1 1 0 1 1\n 1 1 1 1 1 0 0 1 0 0 1 1 0 1 1 1 0 1 1 1 0 1 0 1 1 0 0 0 1 1 0 0 1 1 0 1 1\n 1 1 0 1 1 1 1 1 1 1 1 1 0 0 1 1 0 1 1 1 1 0 1 1 0 1 1 1 1 1 1 1 1 1 0 1 1\n 1 0 0 1 1 1 0 1 1 0 1 1 1 0 1 1 1 0 1 1 1 1 1 1 0 1 1 1 1 1 1 1 1 0 1 0 1\n 1 1 1 1 1 1 1 1 1 1 1 1 1 1 1 0 1 0 1 0 1 1 0 1 1 1 0 1 1 1 1 1 1 1 1 0 1\n 0 1 1 0 1 1 1 1 1 1 1 1 1 1 1 0 1 1 1 1 1 1 1 1 1 0 1 1 0 1 1 1 1 1 1 1 0\n 1 1 0 0 1 1 1 1 0 1 1 1 1 1 1 1 1 1 1 0 0 1 1 1 1 1 0 1 0 1 0 0 1 1 1 1 1\n 1 0 1 1 0 1 0 1 1 1 1 1 1 0 1 1 1 1 1 1 1 1 1 1 0 0 1 1 0 0 1 0 1 0 1 1 1\n 1 1 1 1 0 0 1 1 1 1 0 0 0 1 1 1 0 1 0 1 1 0 0 1 0 1 1 0 1 1 1 0 1 0 1]\n",
          "output_type": "stream"
        },
        {
          "output_type": "execute_result",
          "execution_count": 499,
          "data": {
            "application/vnd.deepnote.dataframe.v2+json": {
              "row_count": 5,
              "column_count": 26,
              "columns": [
                {
                  "name": "PassengerId",
                  "dtype": "int64",
                  "stats": {
                    "unique_count": 5,
                    "nan_count": 0,
                    "min": "892",
                    "max": "896",
                    "histogram": [
                      {
                        "bin_start": 892,
                        "bin_end": 892.4,
                        "count": 1
                      },
                      {
                        "bin_start": 892.4,
                        "bin_end": 892.8,
                        "count": 0
                      },
                      {
                        "bin_start": 892.8,
                        "bin_end": 893.2,
                        "count": 1
                      },
                      {
                        "bin_start": 893.2,
                        "bin_end": 893.6,
                        "count": 0
                      },
                      {
                        "bin_start": 893.6,
                        "bin_end": 894,
                        "count": 0
                      },
                      {
                        "bin_start": 894,
                        "bin_end": 894.4,
                        "count": 1
                      },
                      {
                        "bin_start": 894.4,
                        "bin_end": 894.8,
                        "count": 0
                      },
                      {
                        "bin_start": 894.8,
                        "bin_end": 895.2,
                        "count": 1
                      },
                      {
                        "bin_start": 895.2,
                        "bin_end": 895.6,
                        "count": 0
                      },
                      {
                        "bin_start": 895.6,
                        "bin_end": 896,
                        "count": 1
                      }
                    ]
                  }
                },
                {
                  "name": "Pclass",
                  "dtype": "int64",
                  "stats": {
                    "unique_count": 2,
                    "nan_count": 0,
                    "min": "2",
                    "max": "3",
                    "histogram": [
                      {
                        "bin_start": 2,
                        "bin_end": 2.1,
                        "count": 1
                      },
                      {
                        "bin_start": 2.1,
                        "bin_end": 2.2,
                        "count": 0
                      },
                      {
                        "bin_start": 2.2,
                        "bin_end": 2.3,
                        "count": 0
                      },
                      {
                        "bin_start": 2.3,
                        "bin_end": 2.4,
                        "count": 0
                      },
                      {
                        "bin_start": 2.4,
                        "bin_end": 2.5,
                        "count": 0
                      },
                      {
                        "bin_start": 2.5,
                        "bin_end": 2.6,
                        "count": 0
                      },
                      {
                        "bin_start": 2.6,
                        "bin_end": 2.7,
                        "count": 0
                      },
                      {
                        "bin_start": 2.7,
                        "bin_end": 2.8,
                        "count": 0
                      },
                      {
                        "bin_start": 2.8,
                        "bin_end": 2.9,
                        "count": 0
                      },
                      {
                        "bin_start": 2.9,
                        "bin_end": 3,
                        "count": 4
                      }
                    ]
                  }
                },
                {
                  "name": "Name",
                  "dtype": "object",
                  "stats": {
                    "unique_count": 5,
                    "nan_count": 0,
                    "categories": [
                      {
                        "name": "Kelly, Mr. James",
                        "count": 1
                      },
                      {
                        "name": "Wilkes, Mrs. James (Ellen Needs)",
                        "count": 1
                      },
                      {
                        "name": "3 others",
                        "count": 3
                      }
                    ]
                  }
                },
                {
                  "name": "Sex",
                  "dtype": "object",
                  "stats": {
                    "unique_count": 2,
                    "nan_count": 0,
                    "categories": [
                      {
                        "name": "male",
                        "count": 3
                      },
                      {
                        "name": "female",
                        "count": 2
                      }
                    ]
                  }
                },
                {
                  "name": "Age",
                  "dtype": "int64",
                  "stats": {
                    "unique_count": 5,
                    "nan_count": 0,
                    "min": "22",
                    "max": "62",
                    "histogram": [
                      {
                        "bin_start": 22,
                        "bin_end": 26,
                        "count": 1
                      },
                      {
                        "bin_start": 26,
                        "bin_end": 30,
                        "count": 1
                      },
                      {
                        "bin_start": 30,
                        "bin_end": 34,
                        "count": 0
                      },
                      {
                        "bin_start": 34,
                        "bin_end": 38,
                        "count": 1
                      },
                      {
                        "bin_start": 38,
                        "bin_end": 42,
                        "count": 0
                      },
                      {
                        "bin_start": 42,
                        "bin_end": 46,
                        "count": 0
                      },
                      {
                        "bin_start": 46,
                        "bin_end": 50,
                        "count": 1
                      },
                      {
                        "bin_start": 50,
                        "bin_end": 54,
                        "count": 0
                      },
                      {
                        "bin_start": 54,
                        "bin_end": 58,
                        "count": 0
                      },
                      {
                        "bin_start": 58,
                        "bin_end": 62,
                        "count": 1
                      }
                    ]
                  }
                },
                {
                  "name": "SibSp",
                  "dtype": "int64",
                  "stats": {
                    "unique_count": 2,
                    "nan_count": 0,
                    "min": "0",
                    "max": "1",
                    "histogram": [
                      {
                        "bin_start": 0,
                        "bin_end": 0.1,
                        "count": 3
                      },
                      {
                        "bin_start": 0.1,
                        "bin_end": 0.2,
                        "count": 0
                      },
                      {
                        "bin_start": 0.2,
                        "bin_end": 0.30000000000000004,
                        "count": 0
                      },
                      {
                        "bin_start": 0.30000000000000004,
                        "bin_end": 0.4,
                        "count": 0
                      },
                      {
                        "bin_start": 0.4,
                        "bin_end": 0.5,
                        "count": 0
                      },
                      {
                        "bin_start": 0.5,
                        "bin_end": 0.6000000000000001,
                        "count": 0
                      },
                      {
                        "bin_start": 0.6000000000000001,
                        "bin_end": 0.7000000000000001,
                        "count": 0
                      },
                      {
                        "bin_start": 0.7000000000000001,
                        "bin_end": 0.8,
                        "count": 0
                      },
                      {
                        "bin_start": 0.8,
                        "bin_end": 0.9,
                        "count": 0
                      },
                      {
                        "bin_start": 0.9,
                        "bin_end": 1,
                        "count": 2
                      }
                    ]
                  }
                },
                {
                  "name": "Parch",
                  "dtype": "int64",
                  "stats": {
                    "unique_count": 2,
                    "nan_count": 0,
                    "min": "0",
                    "max": "1",
                    "histogram": [
                      {
                        "bin_start": 0,
                        "bin_end": 0.1,
                        "count": 4
                      },
                      {
                        "bin_start": 0.1,
                        "bin_end": 0.2,
                        "count": 0
                      },
                      {
                        "bin_start": 0.2,
                        "bin_end": 0.30000000000000004,
                        "count": 0
                      },
                      {
                        "bin_start": 0.30000000000000004,
                        "bin_end": 0.4,
                        "count": 0
                      },
                      {
                        "bin_start": 0.4,
                        "bin_end": 0.5,
                        "count": 0
                      },
                      {
                        "bin_start": 0.5,
                        "bin_end": 0.6000000000000001,
                        "count": 0
                      },
                      {
                        "bin_start": 0.6000000000000001,
                        "bin_end": 0.7000000000000001,
                        "count": 0
                      },
                      {
                        "bin_start": 0.7000000000000001,
                        "bin_end": 0.8,
                        "count": 0
                      },
                      {
                        "bin_start": 0.8,
                        "bin_end": 0.9,
                        "count": 0
                      },
                      {
                        "bin_start": 0.9,
                        "bin_end": 1,
                        "count": 1
                      }
                    ]
                  }
                },
                {
                  "name": "Ticket",
                  "dtype": "object",
                  "stats": {
                    "unique_count": 5,
                    "nan_count": 0,
                    "categories": [
                      {
                        "name": "330911",
                        "count": 1
                      },
                      {
                        "name": "363272",
                        "count": 1
                      },
                      {
                        "name": "3 others",
                        "count": 3
                      }
                    ]
                  }
                },
                {
                  "name": "Fare",
                  "dtype": "float64",
                  "stats": {
                    "unique_count": 5,
                    "nan_count": 0,
                    "min": "7.0",
                    "max": "12.2875",
                    "histogram": [
                      {
                        "bin_start": 7,
                        "bin_end": 7.52875,
                        "count": 1
                      },
                      {
                        "bin_start": 7.52875,
                        "bin_end": 8.0575,
                        "count": 1
                      },
                      {
                        "bin_start": 8.0575,
                        "bin_end": 8.58625,
                        "count": 0
                      },
                      {
                        "bin_start": 8.58625,
                        "bin_end": 9.115,
                        "count": 1
                      },
                      {
                        "bin_start": 9.115,
                        "bin_end": 9.64375,
                        "count": 0
                      },
                      {
                        "bin_start": 9.64375,
                        "bin_end": 10.1725,
                        "count": 1
                      },
                      {
                        "bin_start": 10.1725,
                        "bin_end": 10.70125,
                        "count": 0
                      },
                      {
                        "bin_start": 10.70125,
                        "bin_end": 11.23,
                        "count": 0
                      },
                      {
                        "bin_start": 11.23,
                        "bin_end": 11.75875,
                        "count": 0
                      },
                      {
                        "bin_start": 11.75875,
                        "bin_end": 12.2875,
                        "count": 1
                      }
                    ]
                  }
                },
                {
                  "name": "Cabin",
                  "dtype": "object",
                  "stats": {
                    "unique_count": 0,
                    "nan_count": 5,
                    "categories": [
                      {
                        "name": "Missing",
                        "count": 5
                      }
                    ]
                  }
                },
                {
                  "name": "Embarked",
                  "dtype": "object",
                  "stats": {
                    "unique_count": 2,
                    "nan_count": 0,
                    "categories": [
                      {
                        "name": "S",
                        "count": 3
                      },
                      {
                        "name": "Q",
                        "count": 2
                      }
                    ]
                  }
                },
                {
                  "name": "baby",
                  "dtype": "int64",
                  "stats": {
                    "unique_count": 1,
                    "nan_count": 0,
                    "min": "0",
                    "max": "0",
                    "histogram": [
                      {
                        "bin_start": -0.5,
                        "bin_end": -0.4,
                        "count": 0
                      },
                      {
                        "bin_start": -0.4,
                        "bin_end": -0.3,
                        "count": 0
                      },
                      {
                        "bin_start": -0.3,
                        "bin_end": -0.19999999999999996,
                        "count": 0
                      },
                      {
                        "bin_start": -0.19999999999999996,
                        "bin_end": -0.09999999999999998,
                        "count": 0
                      },
                      {
                        "bin_start": -0.09999999999999998,
                        "bin_end": 0,
                        "count": 0
                      },
                      {
                        "bin_start": 0,
                        "bin_end": 0.10000000000000009,
                        "count": 5
                      },
                      {
                        "bin_start": 0.10000000000000009,
                        "bin_end": 0.20000000000000007,
                        "count": 0
                      },
                      {
                        "bin_start": 0.20000000000000007,
                        "bin_end": 0.30000000000000004,
                        "count": 0
                      },
                      {
                        "bin_start": 0.30000000000000004,
                        "bin_end": 0.4,
                        "count": 0
                      },
                      {
                        "bin_start": 0.4,
                        "bin_end": 0.5,
                        "count": 0
                      }
                    ]
                  }
                },
                {
                  "name": "child",
                  "dtype": "int64",
                  "stats": {
                    "unique_count": 1,
                    "nan_count": 0,
                    "min": "0",
                    "max": "0",
                    "histogram": [
                      {
                        "bin_start": -0.5,
                        "bin_end": -0.4,
                        "count": 0
                      },
                      {
                        "bin_start": -0.4,
                        "bin_end": -0.3,
                        "count": 0
                      },
                      {
                        "bin_start": -0.3,
                        "bin_end": -0.19999999999999996,
                        "count": 0
                      },
                      {
                        "bin_start": -0.19999999999999996,
                        "bin_end": -0.09999999999999998,
                        "count": 0
                      },
                      {
                        "bin_start": -0.09999999999999998,
                        "bin_end": 0,
                        "count": 0
                      },
                      {
                        "bin_start": 0,
                        "bin_end": 0.10000000000000009,
                        "count": 5
                      },
                      {
                        "bin_start": 0.10000000000000009,
                        "bin_end": 0.20000000000000007,
                        "count": 0
                      },
                      {
                        "bin_start": 0.20000000000000007,
                        "bin_end": 0.30000000000000004,
                        "count": 0
                      },
                      {
                        "bin_start": 0.30000000000000004,
                        "bin_end": 0.4,
                        "count": 0
                      },
                      {
                        "bin_start": 0.4,
                        "bin_end": 0.5,
                        "count": 0
                      }
                    ]
                  }
                },
                {
                  "name": "teen",
                  "dtype": "int64",
                  "stats": {
                    "unique_count": 1,
                    "nan_count": 0,
                    "min": "0",
                    "max": "0",
                    "histogram": [
                      {
                        "bin_start": -0.5,
                        "bin_end": -0.4,
                        "count": 0
                      },
                      {
                        "bin_start": -0.4,
                        "bin_end": -0.3,
                        "count": 0
                      },
                      {
                        "bin_start": -0.3,
                        "bin_end": -0.19999999999999996,
                        "count": 0
                      },
                      {
                        "bin_start": -0.19999999999999996,
                        "bin_end": -0.09999999999999998,
                        "count": 0
                      },
                      {
                        "bin_start": -0.09999999999999998,
                        "bin_end": 0,
                        "count": 0
                      },
                      {
                        "bin_start": 0,
                        "bin_end": 0.10000000000000009,
                        "count": 5
                      },
                      {
                        "bin_start": 0.10000000000000009,
                        "bin_end": 0.20000000000000007,
                        "count": 0
                      },
                      {
                        "bin_start": 0.20000000000000007,
                        "bin_end": 0.30000000000000004,
                        "count": 0
                      },
                      {
                        "bin_start": 0.30000000000000004,
                        "bin_end": 0.4,
                        "count": 0
                      },
                      {
                        "bin_start": 0.4,
                        "bin_end": 0.5,
                        "count": 0
                      }
                    ]
                  }
                },
                {
                  "name": "young_adult",
                  "dtype": "int64",
                  "stats": {
                    "unique_count": 1,
                    "nan_count": 0,
                    "min": "0",
                    "max": "0",
                    "histogram": [
                      {
                        "bin_start": -0.5,
                        "bin_end": -0.4,
                        "count": 0
                      },
                      {
                        "bin_start": -0.4,
                        "bin_end": -0.3,
                        "count": 0
                      },
                      {
                        "bin_start": -0.3,
                        "bin_end": -0.19999999999999996,
                        "count": 0
                      },
                      {
                        "bin_start": -0.19999999999999996,
                        "bin_end": -0.09999999999999998,
                        "count": 0
                      },
                      {
                        "bin_start": -0.09999999999999998,
                        "bin_end": 0,
                        "count": 0
                      },
                      {
                        "bin_start": 0,
                        "bin_end": 0.10000000000000009,
                        "count": 5
                      },
                      {
                        "bin_start": 0.10000000000000009,
                        "bin_end": 0.20000000000000007,
                        "count": 0
                      },
                      {
                        "bin_start": 0.20000000000000007,
                        "bin_end": 0.30000000000000004,
                        "count": 0
                      },
                      {
                        "bin_start": 0.30000000000000004,
                        "bin_end": 0.4,
                        "count": 0
                      },
                      {
                        "bin_start": 0.4,
                        "bin_end": 0.5,
                        "count": 0
                      }
                    ]
                  }
                },
                {
                  "name": "adult",
                  "dtype": "int64",
                  "stats": {
                    "unique_count": 2,
                    "nan_count": 0,
                    "min": "0",
                    "max": "1",
                    "histogram": [
                      {
                        "bin_start": 0,
                        "bin_end": 0.1,
                        "count": 2
                      },
                      {
                        "bin_start": 0.1,
                        "bin_end": 0.2,
                        "count": 0
                      },
                      {
                        "bin_start": 0.2,
                        "bin_end": 0.30000000000000004,
                        "count": 0
                      },
                      {
                        "bin_start": 0.30000000000000004,
                        "bin_end": 0.4,
                        "count": 0
                      },
                      {
                        "bin_start": 0.4,
                        "bin_end": 0.5,
                        "count": 0
                      },
                      {
                        "bin_start": 0.5,
                        "bin_end": 0.6000000000000001,
                        "count": 0
                      },
                      {
                        "bin_start": 0.6000000000000001,
                        "bin_end": 0.7000000000000001,
                        "count": 0
                      },
                      {
                        "bin_start": 0.7000000000000001,
                        "bin_end": 0.8,
                        "count": 0
                      },
                      {
                        "bin_start": 0.8,
                        "bin_end": 0.9,
                        "count": 0
                      },
                      {
                        "bin_start": 0.9,
                        "bin_end": 1,
                        "count": 3
                      }
                    ]
                  }
                },
                {
                  "name": "senior",
                  "dtype": "int64",
                  "stats": {
                    "unique_count": 2,
                    "nan_count": 0,
                    "min": "0",
                    "max": "1",
                    "histogram": [
                      {
                        "bin_start": 0,
                        "bin_end": 0.1,
                        "count": 3
                      },
                      {
                        "bin_start": 0.1,
                        "bin_end": 0.2,
                        "count": 0
                      },
                      {
                        "bin_start": 0.2,
                        "bin_end": 0.30000000000000004,
                        "count": 0
                      },
                      {
                        "bin_start": 0.30000000000000004,
                        "bin_end": 0.4,
                        "count": 0
                      },
                      {
                        "bin_start": 0.4,
                        "bin_end": 0.5,
                        "count": 0
                      },
                      {
                        "bin_start": 0.5,
                        "bin_end": 0.6000000000000001,
                        "count": 0
                      },
                      {
                        "bin_start": 0.6000000000000001,
                        "bin_end": 0.7000000000000001,
                        "count": 0
                      },
                      {
                        "bin_start": 0.7000000000000001,
                        "bin_end": 0.8,
                        "count": 0
                      },
                      {
                        "bin_start": 0.8,
                        "bin_end": 0.9,
                        "count": 0
                      },
                      {
                        "bin_start": 0.9,
                        "bin_end": 1,
                        "count": 2
                      }
                    ]
                  }
                },
                {
                  "name": "Embark_C",
                  "dtype": "uint8",
                  "stats": {
                    "unique_count": 1,
                    "nan_count": 0,
                    "min": "0",
                    "max": "0",
                    "histogram": [
                      {
                        "bin_start": -0.5,
                        "bin_end": -0.4,
                        "count": 0
                      },
                      {
                        "bin_start": -0.4,
                        "bin_end": -0.3,
                        "count": 0
                      },
                      {
                        "bin_start": -0.3,
                        "bin_end": -0.19999999999999996,
                        "count": 0
                      },
                      {
                        "bin_start": -0.19999999999999996,
                        "bin_end": -0.09999999999999998,
                        "count": 0
                      },
                      {
                        "bin_start": -0.09999999999999998,
                        "bin_end": 0,
                        "count": 0
                      },
                      {
                        "bin_start": 0,
                        "bin_end": 0.10000000000000009,
                        "count": 5
                      },
                      {
                        "bin_start": 0.10000000000000009,
                        "bin_end": 0.20000000000000007,
                        "count": 0
                      },
                      {
                        "bin_start": 0.20000000000000007,
                        "bin_end": 0.30000000000000004,
                        "count": 0
                      },
                      {
                        "bin_start": 0.30000000000000004,
                        "bin_end": 0.4,
                        "count": 0
                      },
                      {
                        "bin_start": 0.4,
                        "bin_end": 0.5,
                        "count": 0
                      }
                    ]
                  }
                },
                {
                  "name": "Embark_Q",
                  "dtype": "uint8",
                  "stats": {
                    "unique_count": 2,
                    "nan_count": 0,
                    "min": "0",
                    "max": "1",
                    "histogram": [
                      {
                        "bin_start": 0,
                        "bin_end": 0.1,
                        "count": 3
                      },
                      {
                        "bin_start": 0.1,
                        "bin_end": 0.2,
                        "count": 0
                      },
                      {
                        "bin_start": 0.2,
                        "bin_end": 0.30000000000000004,
                        "count": 0
                      },
                      {
                        "bin_start": 0.30000000000000004,
                        "bin_end": 0.4,
                        "count": 0
                      },
                      {
                        "bin_start": 0.4,
                        "bin_end": 0.5,
                        "count": 0
                      },
                      {
                        "bin_start": 0.5,
                        "bin_end": 0.6000000000000001,
                        "count": 0
                      },
                      {
                        "bin_start": 0.6000000000000001,
                        "bin_end": 0.7000000000000001,
                        "count": 0
                      },
                      {
                        "bin_start": 0.7000000000000001,
                        "bin_end": 0.8,
                        "count": 0
                      },
                      {
                        "bin_start": 0.8,
                        "bin_end": 0.9,
                        "count": 0
                      },
                      {
                        "bin_start": 0.9,
                        "bin_end": 1,
                        "count": 2
                      }
                    ]
                  }
                },
                {
                  "name": "Embark_S",
                  "dtype": "uint8",
                  "stats": {
                    "unique_count": 2,
                    "nan_count": 0,
                    "min": "0",
                    "max": "1",
                    "histogram": [
                      {
                        "bin_start": 0,
                        "bin_end": 0.1,
                        "count": 2
                      },
                      {
                        "bin_start": 0.1,
                        "bin_end": 0.2,
                        "count": 0
                      },
                      {
                        "bin_start": 0.2,
                        "bin_end": 0.30000000000000004,
                        "count": 0
                      },
                      {
                        "bin_start": 0.30000000000000004,
                        "bin_end": 0.4,
                        "count": 0
                      },
                      {
                        "bin_start": 0.4,
                        "bin_end": 0.5,
                        "count": 0
                      },
                      {
                        "bin_start": 0.5,
                        "bin_end": 0.6000000000000001,
                        "count": 0
                      },
                      {
                        "bin_start": 0.6000000000000001,
                        "bin_end": 0.7000000000000001,
                        "count": 0
                      },
                      {
                        "bin_start": 0.7000000000000001,
                        "bin_end": 0.8,
                        "count": 0
                      },
                      {
                        "bin_start": 0.8,
                        "bin_end": 0.9,
                        "count": 0
                      },
                      {
                        "bin_start": 0.9,
                        "bin_end": 1,
                        "count": 3
                      }
                    ]
                  }
                },
                {
                  "name": "female",
                  "dtype": "uint8",
                  "stats": {
                    "unique_count": 2,
                    "nan_count": 0,
                    "min": "0",
                    "max": "1",
                    "histogram": [
                      {
                        "bin_start": 0,
                        "bin_end": 0.1,
                        "count": 3
                      },
                      {
                        "bin_start": 0.1,
                        "bin_end": 0.2,
                        "count": 0
                      },
                      {
                        "bin_start": 0.2,
                        "bin_end": 0.30000000000000004,
                        "count": 0
                      },
                      {
                        "bin_start": 0.30000000000000004,
                        "bin_end": 0.4,
                        "count": 0
                      },
                      {
                        "bin_start": 0.4,
                        "bin_end": 0.5,
                        "count": 0
                      },
                      {
                        "bin_start": 0.5,
                        "bin_end": 0.6000000000000001,
                        "count": 0
                      },
                      {
                        "bin_start": 0.6000000000000001,
                        "bin_end": 0.7000000000000001,
                        "count": 0
                      },
                      {
                        "bin_start": 0.7000000000000001,
                        "bin_end": 0.8,
                        "count": 0
                      },
                      {
                        "bin_start": 0.8,
                        "bin_end": 0.9,
                        "count": 0
                      },
                      {
                        "bin_start": 0.9,
                        "bin_end": 1,
                        "count": 2
                      }
                    ]
                  }
                },
                {
                  "name": "male",
                  "dtype": "uint8",
                  "stats": {
                    "unique_count": 2,
                    "nan_count": 0,
                    "min": "0",
                    "max": "1",
                    "histogram": [
                      {
                        "bin_start": 0,
                        "bin_end": 0.1,
                        "count": 2
                      },
                      {
                        "bin_start": 0.1,
                        "bin_end": 0.2,
                        "count": 0
                      },
                      {
                        "bin_start": 0.2,
                        "bin_end": 0.30000000000000004,
                        "count": 0
                      },
                      {
                        "bin_start": 0.30000000000000004,
                        "bin_end": 0.4,
                        "count": 0
                      },
                      {
                        "bin_start": 0.4,
                        "bin_end": 0.5,
                        "count": 0
                      },
                      {
                        "bin_start": 0.5,
                        "bin_end": 0.6000000000000001,
                        "count": 0
                      },
                      {
                        "bin_start": 0.6000000000000001,
                        "bin_end": 0.7000000000000001,
                        "count": 0
                      },
                      {
                        "bin_start": 0.7000000000000001,
                        "bin_end": 0.8,
                        "count": 0
                      },
                      {
                        "bin_start": 0.8,
                        "bin_end": 0.9,
                        "count": 0
                      },
                      {
                        "bin_start": 0.9,
                        "bin_end": 1,
                        "count": 3
                      }
                    ]
                  }
                },
                {
                  "name": "Upper_class",
                  "dtype": "uint8",
                  "stats": {
                    "unique_count": 1,
                    "nan_count": 0,
                    "min": "0",
                    "max": "0",
                    "histogram": [
                      {
                        "bin_start": -0.5,
                        "bin_end": -0.4,
                        "count": 0
                      },
                      {
                        "bin_start": -0.4,
                        "bin_end": -0.3,
                        "count": 0
                      },
                      {
                        "bin_start": -0.3,
                        "bin_end": -0.19999999999999996,
                        "count": 0
                      },
                      {
                        "bin_start": -0.19999999999999996,
                        "bin_end": -0.09999999999999998,
                        "count": 0
                      },
                      {
                        "bin_start": -0.09999999999999998,
                        "bin_end": 0,
                        "count": 0
                      },
                      {
                        "bin_start": 0,
                        "bin_end": 0.10000000000000009,
                        "count": 5
                      },
                      {
                        "bin_start": 0.10000000000000009,
                        "bin_end": 0.20000000000000007,
                        "count": 0
                      },
                      {
                        "bin_start": 0.20000000000000007,
                        "bin_end": 0.30000000000000004,
                        "count": 0
                      },
                      {
                        "bin_start": 0.30000000000000004,
                        "bin_end": 0.4,
                        "count": 0
                      },
                      {
                        "bin_start": 0.4,
                        "bin_end": 0.5,
                        "count": 0
                      }
                    ]
                  }
                },
                {
                  "name": "Middle_class",
                  "dtype": "uint8",
                  "stats": {
                    "unique_count": 2,
                    "nan_count": 0,
                    "min": "0",
                    "max": "1",
                    "histogram": [
                      {
                        "bin_start": 0,
                        "bin_end": 0.1,
                        "count": 4
                      },
                      {
                        "bin_start": 0.1,
                        "bin_end": 0.2,
                        "count": 0
                      },
                      {
                        "bin_start": 0.2,
                        "bin_end": 0.30000000000000004,
                        "count": 0
                      },
                      {
                        "bin_start": 0.30000000000000004,
                        "bin_end": 0.4,
                        "count": 0
                      },
                      {
                        "bin_start": 0.4,
                        "bin_end": 0.5,
                        "count": 0
                      },
                      {
                        "bin_start": 0.5,
                        "bin_end": 0.6000000000000001,
                        "count": 0
                      },
                      {
                        "bin_start": 0.6000000000000001,
                        "bin_end": 0.7000000000000001,
                        "count": 0
                      },
                      {
                        "bin_start": 0.7000000000000001,
                        "bin_end": 0.8,
                        "count": 0
                      },
                      {
                        "bin_start": 0.8,
                        "bin_end": 0.9,
                        "count": 0
                      },
                      {
                        "bin_start": 0.9,
                        "bin_end": 1,
                        "count": 1
                      }
                    ]
                  }
                },
                {
                  "name": "Lower_class",
                  "dtype": "uint8",
                  "stats": {
                    "unique_count": 2,
                    "nan_count": 0,
                    "min": "0",
                    "max": "1",
                    "histogram": [
                      {
                        "bin_start": 0,
                        "bin_end": 0.1,
                        "count": 1
                      },
                      {
                        "bin_start": 0.1,
                        "bin_end": 0.2,
                        "count": 0
                      },
                      {
                        "bin_start": 0.2,
                        "bin_end": 0.30000000000000004,
                        "count": 0
                      },
                      {
                        "bin_start": 0.30000000000000004,
                        "bin_end": 0.4,
                        "count": 0
                      },
                      {
                        "bin_start": 0.4,
                        "bin_end": 0.5,
                        "count": 0
                      },
                      {
                        "bin_start": 0.5,
                        "bin_end": 0.6000000000000001,
                        "count": 0
                      },
                      {
                        "bin_start": 0.6000000000000001,
                        "bin_end": 0.7000000000000001,
                        "count": 0
                      },
                      {
                        "bin_start": 0.7000000000000001,
                        "bin_end": 0.8,
                        "count": 0
                      },
                      {
                        "bin_start": 0.8,
                        "bin_end": 0.9,
                        "count": 0
                      },
                      {
                        "bin_start": 0.9,
                        "bin_end": 1,
                        "count": 4
                      }
                    ]
                  }
                },
                {
                  "name": "Survival prediction",
                  "dtype": "int64",
                  "stats": {
                    "unique_count": 2,
                    "nan_count": 0,
                    "min": "0",
                    "max": "1",
                    "histogram": [
                      {
                        "bin_start": 0,
                        "bin_end": 0.1,
                        "count": 2
                      },
                      {
                        "bin_start": 0.1,
                        "bin_end": 0.2,
                        "count": 0
                      },
                      {
                        "bin_start": 0.2,
                        "bin_end": 0.30000000000000004,
                        "count": 0
                      },
                      {
                        "bin_start": 0.30000000000000004,
                        "bin_end": 0.4,
                        "count": 0
                      },
                      {
                        "bin_start": 0.4,
                        "bin_end": 0.5,
                        "count": 0
                      },
                      {
                        "bin_start": 0.5,
                        "bin_end": 0.6000000000000001,
                        "count": 0
                      },
                      {
                        "bin_start": 0.6000000000000001,
                        "bin_end": 0.7000000000000001,
                        "count": 0
                      },
                      {
                        "bin_start": 0.7000000000000001,
                        "bin_end": 0.8,
                        "count": 0
                      },
                      {
                        "bin_start": 0.8,
                        "bin_end": 0.9,
                        "count": 0
                      },
                      {
                        "bin_start": 0.9,
                        "bin_end": 1,
                        "count": 3
                      }
                    ]
                  }
                },
                {
                  "name": "_deepnote_index_column",
                  "dtype": "int64"
                }
              ],
              "rows_top": [
                {
                  "PassengerId": 892,
                  "Pclass": 3,
                  "Name": "Kelly, Mr. James",
                  "Sex": "male",
                  "Age": 34,
                  "SibSp": 0,
                  "Parch": 0,
                  "Ticket": "330911",
                  "Fare": 7.8292,
                  "Cabin": "nan",
                  "Embarked": "Q",
                  "baby": 0,
                  "child": 0,
                  "teen": 0,
                  "young_adult": 0,
                  "adult": 1,
                  "senior": 0,
                  "Embark_C": 0,
                  "Embark_Q": 1,
                  "Embark_S": 0,
                  "female": 0,
                  "male": 1,
                  "Upper_class": 0,
                  "Middle_class": 0,
                  "Lower_class": 1,
                  "Survival prediction": 0,
                  "_deepnote_index_column": 0
                },
                {
                  "PassengerId": 893,
                  "Pclass": 3,
                  "Name": "Wilkes, Mrs. James (Ellen Needs)",
                  "Sex": "female",
                  "Age": 47,
                  "SibSp": 1,
                  "Parch": 0,
                  "Ticket": "363272",
                  "Fare": 7,
                  "Cabin": "nan",
                  "Embarked": "S",
                  "baby": 0,
                  "child": 0,
                  "teen": 0,
                  "young_adult": 0,
                  "adult": 0,
                  "senior": 1,
                  "Embark_C": 0,
                  "Embark_Q": 0,
                  "Embark_S": 1,
                  "female": 1,
                  "male": 0,
                  "Upper_class": 0,
                  "Middle_class": 0,
                  "Lower_class": 1,
                  "Survival prediction": 1,
                  "_deepnote_index_column": 1
                },
                {
                  "PassengerId": 894,
                  "Pclass": 2,
                  "Name": "Myles, Mr. Thomas Francis",
                  "Sex": "male",
                  "Age": 62,
                  "SibSp": 0,
                  "Parch": 0,
                  "Ticket": "240276",
                  "Fare": 9.6875,
                  "Cabin": "nan",
                  "Embarked": "Q",
                  "baby": 0,
                  "child": 0,
                  "teen": 0,
                  "young_adult": 0,
                  "adult": 0,
                  "senior": 1,
                  "Embark_C": 0,
                  "Embark_Q": 1,
                  "Embark_S": 0,
                  "female": 0,
                  "male": 1,
                  "Upper_class": 0,
                  "Middle_class": 1,
                  "Lower_class": 0,
                  "Survival prediction": 0,
                  "_deepnote_index_column": 2
                },
                {
                  "PassengerId": 895,
                  "Pclass": 3,
                  "Name": "Wirz, Mr. Albert",
                  "Sex": "male",
                  "Age": 27,
                  "SibSp": 0,
                  "Parch": 0,
                  "Ticket": "315154",
                  "Fare": 8.6625,
                  "Cabin": "nan",
                  "Embarked": "S",
                  "baby": 0,
                  "child": 0,
                  "teen": 0,
                  "young_adult": 0,
                  "adult": 1,
                  "senior": 0,
                  "Embark_C": 0,
                  "Embark_Q": 0,
                  "Embark_S": 1,
                  "female": 0,
                  "male": 1,
                  "Upper_class": 0,
                  "Middle_class": 0,
                  "Lower_class": 1,
                  "Survival prediction": 1,
                  "_deepnote_index_column": 3
                },
                {
                  "PassengerId": 896,
                  "Pclass": 3,
                  "Name": "Hirvonen, Mrs. Alexander (Helga E Lindqvist)",
                  "Sex": "female",
                  "Age": 22,
                  "SibSp": 1,
                  "Parch": 1,
                  "Ticket": "3101298",
                  "Fare": 12.2875,
                  "Cabin": "nan",
                  "Embarked": "S",
                  "baby": 0,
                  "child": 0,
                  "teen": 0,
                  "young_adult": 0,
                  "adult": 1,
                  "senior": 0,
                  "Embark_C": 0,
                  "Embark_Q": 0,
                  "Embark_S": 1,
                  "female": 1,
                  "male": 0,
                  "Upper_class": 0,
                  "Middle_class": 0,
                  "Lower_class": 1,
                  "Survival prediction": 1,
                  "_deepnote_index_column": 4
                }
              ],
              "rows_bottom": null
            },
            "text/plain": "   PassengerId  Pclass                                          Name     Sex  \\\n0          892       3                              Kelly, Mr. James    male   \n1          893       3              Wilkes, Mrs. James (Ellen Needs)  female   \n2          894       2                     Myles, Mr. Thomas Francis    male   \n3          895       3                              Wirz, Mr. Albert    male   \n4          896       3  Hirvonen, Mrs. Alexander (Helga E Lindqvist)  female   \n\n   Age  SibSp  Parch   Ticket     Fare Cabin  ... senior  Embark_C  Embark_Q  \\\n0   34      0      0   330911   7.8292   NaN  ...      0         0         1   \n1   47      1      0   363272   7.0000   NaN  ...      1         0         0   \n2   62      0      0   240276   9.6875   NaN  ...      1         0         1   \n3   27      0      0   315154   8.6625   NaN  ...      0         0         0   \n4   22      1      1  3101298  12.2875   NaN  ...      0         0         0   \n\n   Embark_S  female  male  Upper_class  Middle_class  Lower_class  \\\n0         0       0     1            0             0            1   \n1         1       1     0            0             0            1   \n2         0       0     1            0             1            0   \n3         1       0     1            0             0            1   \n4         1       1     0            0             0            1   \n\n   Survival prediction  \n0                    0  \n1                    1  \n2                    0  \n3                    1  \n4                    1  \n\n[5 rows x 26 columns]",
            "text/html": "<div>\n<style scoped>\n    .dataframe tbody tr th:only-of-type {\n        vertical-align: middle;\n    }\n\n    .dataframe tbody tr th {\n        vertical-align: top;\n    }\n\n    .dataframe thead th {\n        text-align: right;\n    }\n</style>\n<table border=\"1\" class=\"dataframe\">\n  <thead>\n    <tr style=\"text-align: right;\">\n      <th></th>\n      <th>PassengerId</th>\n      <th>Pclass</th>\n      <th>Name</th>\n      <th>Sex</th>\n      <th>Age</th>\n      <th>SibSp</th>\n      <th>Parch</th>\n      <th>Ticket</th>\n      <th>Fare</th>\n      <th>Cabin</th>\n      <th>...</th>\n      <th>senior</th>\n      <th>Embark_C</th>\n      <th>Embark_Q</th>\n      <th>Embark_S</th>\n      <th>female</th>\n      <th>male</th>\n      <th>Upper_class</th>\n      <th>Middle_class</th>\n      <th>Lower_class</th>\n      <th>Survival prediction</th>\n    </tr>\n  </thead>\n  <tbody>\n    <tr>\n      <th>0</th>\n      <td>892</td>\n      <td>3</td>\n      <td>Kelly, Mr. James</td>\n      <td>male</td>\n      <td>34</td>\n      <td>0</td>\n      <td>0</td>\n      <td>330911</td>\n      <td>7.8292</td>\n      <td>NaN</td>\n      <td>...</td>\n      <td>0</td>\n      <td>0</td>\n      <td>1</td>\n      <td>0</td>\n      <td>0</td>\n      <td>1</td>\n      <td>0</td>\n      <td>0</td>\n      <td>1</td>\n      <td>0</td>\n    </tr>\n    <tr>\n      <th>1</th>\n      <td>893</td>\n      <td>3</td>\n      <td>Wilkes, Mrs. James (Ellen Needs)</td>\n      <td>female</td>\n      <td>47</td>\n      <td>1</td>\n      <td>0</td>\n      <td>363272</td>\n      <td>7.0000</td>\n      <td>NaN</td>\n      <td>...</td>\n      <td>1</td>\n      <td>0</td>\n      <td>0</td>\n      <td>1</td>\n      <td>1</td>\n      <td>0</td>\n      <td>0</td>\n      <td>0</td>\n      <td>1</td>\n      <td>1</td>\n    </tr>\n    <tr>\n      <th>2</th>\n      <td>894</td>\n      <td>2</td>\n      <td>Myles, Mr. Thomas Francis</td>\n      <td>male</td>\n      <td>62</td>\n      <td>0</td>\n      <td>0</td>\n      <td>240276</td>\n      <td>9.6875</td>\n      <td>NaN</td>\n      <td>...</td>\n      <td>1</td>\n      <td>0</td>\n      <td>1</td>\n      <td>0</td>\n      <td>0</td>\n      <td>1</td>\n      <td>0</td>\n      <td>1</td>\n      <td>0</td>\n      <td>0</td>\n    </tr>\n    <tr>\n      <th>3</th>\n      <td>895</td>\n      <td>3</td>\n      <td>Wirz, Mr. Albert</td>\n      <td>male</td>\n      <td>27</td>\n      <td>0</td>\n      <td>0</td>\n      <td>315154</td>\n      <td>8.6625</td>\n      <td>NaN</td>\n      <td>...</td>\n      <td>0</td>\n      <td>0</td>\n      <td>0</td>\n      <td>1</td>\n      <td>0</td>\n      <td>1</td>\n      <td>0</td>\n      <td>0</td>\n      <td>1</td>\n      <td>1</td>\n    </tr>\n    <tr>\n      <th>4</th>\n      <td>896</td>\n      <td>3</td>\n      <td>Hirvonen, Mrs. Alexander (Helga E Lindqvist)</td>\n      <td>female</td>\n      <td>22</td>\n      <td>1</td>\n      <td>1</td>\n      <td>3101298</td>\n      <td>12.2875</td>\n      <td>NaN</td>\n      <td>...</td>\n      <td>0</td>\n      <td>0</td>\n      <td>0</td>\n      <td>1</td>\n      <td>1</td>\n      <td>0</td>\n      <td>0</td>\n      <td>0</td>\n      <td>1</td>\n      <td>1</td>\n    </tr>\n  </tbody>\n</table>\n<p>5 rows × 26 columns</p>\n</div>"
          },
          "metadata": {}
        }
      ],
      "execution_count": 499
    },
    {
      "cell_type": "markdown",
      "source": "### SVM",
      "metadata": {
        "tags": [],
        "cell_id": "00026-20283138-fcd4-483f-80eb-fdd7a816ddc2",
        "deepnote_cell_type": "markdown"
      }
    },
    {
      "cell_type": "code",
      "source": "from sklearn.svm import SVC\nclf = SVC().fit(X_train, y_train)\nscores = cross_val_score(clf, X_test, y_test)\nprint(f\"A support vector machine scored: {scores.mean()}\")",
      "metadata": {
        "tags": [],
        "cell_id": "00004-a7b29550-8b9e-4267-a313-e637955c25be",
        "deepnote_to_be_reexecuted": false,
        "source_hash": "1cda5c6a",
        "execution_start": 1619788631629,
        "execution_millis": 35,
        "deepnote_cell_type": "code"
      },
      "outputs": [
        {
          "name": "stdout",
          "text": "A support vector machine scored: 0.7482758620689655\n",
          "output_type": "stream"
        }
      ],
      "execution_count": 420
    },
    {
      "cell_type": "markdown",
      "source": "### Neural Network",
      "metadata": {
        "tags": [],
        "cell_id": "00027-4aaf853b-1796-4e06-b540-f936e245523d",
        "deepnote_cell_type": "markdown"
      }
    },
    {
      "cell_type": "code",
      "source": "from sklearn.neural_network import MLPClassifier\n\nscaler = StandardScaler()\nscaler.fit(X_train)\nX_train = scaler.transform(X_train)\nX_test = scaler.transform(X_test)\n\n\n\nmlp = MLPClassifier(hidden_layer_sizes = [10,100,10], learning_rate=\"adaptive\", learning_rate_init=0.08)\nmlp.fit(X_train,y_train)\nscores = cross_val_score(mlp, X_test, y_test)\nscores.mean()\n\nprint(f\"A random neural network from a begginer's tutorial scored: {scores.mean()}\")",
      "metadata": {
        "tags": [],
        "cell_id": "00005-b26ac17b-c9fe-46d4-bf77-e23a2eab19de",
        "deepnote_to_be_reexecuted": false,
        "source_hash": "9bd92455",
        "execution_start": 1619788618876,
        "execution_millis": 757,
        "deepnote_cell_type": "code"
      },
      "outputs": [
        {
          "name": "stdout",
          "text": "A random neural network from a begginer's tutorial scored: 0.7620689655172413\n",
          "output_type": "stream"
        }
      ],
      "execution_count": 417
    },
    {
      "cell_type": "code",
      "source": "",
      "metadata": {
        "tags": [],
        "cell_id": "00033-ee05daf0-4b61-4331-a2f9-47c89a08bc88",
        "deepnote_cell_type": "code"
      },
      "outputs": [],
      "execution_count": null
    },
    {
      "cell_type": "markdown",
      "source": "<a style='text-decoration:none;line-height:16px;display:flex;color:#5B5B62;padding:10px;justify-content:end;' href='https://deepnote.com?utm_source=created-in-deepnote-cell&projectId=c078c1be-ce4b-4213-a2c3-f117e70673fe' target=\"_blank\">\n<img alt='Created in deepnote.com' style='display:inline;max-height:16px;margin:0px;margin-right:7.5px;' src='data:image/svg+xml;base64,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' > </img>\nCreated in <span style='font-weight:600;margin-left:4px;'>Deepnote</span></a>",
      "metadata": {
        "tags": [],
        "created_in_deepnote_cell": true,
        "deepnote_cell_type": "markdown"
      }
    }
  ],
  "nbformat": 4,
  "nbformat_minor": 2,
  "metadata": {
    "orig_nbformat": 2,
    "deepnote": {
      "is_reactive": false
    },
    "deepnote_notebook_id": "93f9db7e-23c6-4354-b9cf-2020bca1e2af",
    "deepnote_execution_queue": []
  }
}