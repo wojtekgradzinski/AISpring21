{
 "cells": [
  {
   "cell_type": "markdown",
   "metadata": {},
   "source": [
    "## Linear Algebra Quiz #1\n",
    "\n",
    "![title](./img/1_0.jpeg)\n",
    "\n",
    "We strongly suggest working with numpy :)"
   ]
  },
  {
   "cell_type": "code",
   "execution_count": 1,
   "metadata": {},
   "outputs": [],
   "source": [
    "#Do your imports here\n",
    "import numpy as np"
   ]
  },
  {
   "cell_type": "markdown",
   "metadata": {},
   "source": [
    "![title](./img/1_1.png)"
   ]
  },
  {
   "cell_type": "code",
   "execution_count": 5,
   "metadata": {},
   "outputs": [
    {
     "data": {
      "text/plain": [
       "3.7416573867739413"
      ]
     },
     "execution_count": 5,
     "metadata": {},
     "output_type": "execute_result"
    }
   ],
   "source": [
    "# type a function that given a 3_dimensional vector it is able to calculate its magnitude\n",
    "\n",
    "def magnitude_3(a,b,c):\n",
    "    X = [a, b, c]\n",
    "    return np.linalg.norm(X)\n",
    "magnitude_3(1,2,3)\n",
    "    \n",
    "# type a function that given a n_dimensional vector it is able to calculate its magnitude\n",
    "# if you want to try this from python (not jupyter notebook) https://docs.python.org/3/library/argparse.html would be a good addition\n",
    "# if you are doing this from a jupyter notebook only, you can try to promt the user for an input  \n",
    "\n",
    "# def magnitude_complete(#inputs):"
   ]
  },
  {
   "cell_type": "markdown",
   "metadata": {},
   "source": [
    "uncomment the following line when you are ready to test"
   ]
  },
  {
   "cell_type": "code",
   "execution_count": 6,
   "metadata": {},
   "outputs": [
    {
     "data": {
      "text/plain": [
       "True"
      ]
     },
     "execution_count": 6,
     "metadata": {},
     "output_type": "execute_result"
    }
   ],
   "source": [
    "def magnitude_complete(*args):#inputs  \n",
    "    X = []   \n",
    "    for arg in args:\n",
    "        X.append(arg)    \n",
    "    return np.linalg.norm(X)\n",
    "\n",
    "#magnitude_complete(1) == 1.0\n",
    "magnitude_complete(1,2) >= 2.236\n",
    "#magnitude_complete(1,2,3) >= 3.741\n",
    "#magnitude_complete(1,2,3,4,5) >= 5.477\n",
    "#magnitude_complete(1,2,3,4,5) >= 7.416"
   ]
  },
  {
   "cell_type": "markdown",
   "metadata": {},
   "source": [
    "![title](./img/1_2.png)"
   ]
  },
  {
   "cell_type": "code",
   "execution_count": 10,
   "metadata": {},
   "outputs": [
    {
     "data": {
      "text/plain": [
       "6.557438524302"
      ]
     },
     "execution_count": 10,
     "metadata": {},
     "output_type": "execute_result"
    }
   ],
   "source": [
    "def magnitude_vectors(a, b):\n",
    "    #checks that size is equal\n",
    "    \n",
    "    #returns the magnitude\n",
    "\n",
    "    X = [a, b]\n",
    "    return np.linalg.norm(X)\n",
    "\n",
    "a = [5,1]\n",
    "b = [-4,-1]\n",
    "magnitude_vectors(a,b)"
   ]
  },
  {
   "cell_type": "markdown",
   "metadata": {},
   "source": [
    "![title](./img/1_3.png)"
   ]
  },
  {
   "cell_type": "code",
   "execution_count": 11,
   "metadata": {},
   "outputs": [],
   "source": [
    "def direction_vectors(a, b):\n",
    "    #checks that size is equal\n",
    "    return np.cross(a,b)\n",
    "    #returns the magnitude\n",
    "\n",
    "# or if you want to do it all in one batch:\n",
    "def magdir_vectors(a, b):\n",
    "    #checks that size is equal\n",
    "    return f'The magnitude of a + b is {magnitude_vectors(a, b)} and the direction is {direction_vectors(a, b)}'\n",
    "\n",
    "\n",
    "a = [5,1]\n",
    "b = [-4,-1]\n",
    "    #returns the magnitude and direction in a nicely printed format \n",
    "    #\"The magnitude of a + b is X and the direction is Y\""
   ]
  },
  {
   "cell_type": "code",
   "execution_count": 12,
   "metadata": {},
   "outputs": [
    {
     "data": {
      "text/plain": [
       "'The magnitude of a + b is 6.557438524302 and the direction is -1'"
      ]
     },
     "execution_count": 12,
     "metadata": {},
     "output_type": "execute_result"
    }
   ],
   "source": [
    "magdir_vectors(a,b)"
   ]
  },
  {
   "cell_type": "markdown",
   "metadata": {},
   "source": [
    "![title](./img/1_4.png)\n",
    "- What is the magnitude of αx⃗? \n",
    "- If α>0, will the direction of the resulting vector change?\n",
    "- If α<0, will the direction of the resulting vector change?\n",
    "- If −1<α<1, will ∥αx⃗∥  increase, decrease or stay the same?"
   ]
  },
  {
   "cell_type": "code",
   "execution_count": 14,
   "metadata": {},
   "outputs": [],
   "source": [
    "def alpha_magnitude(alpha, b):\n",
    "    #returns the resulting magnitude, if the direction has changed and what has happened to the vector\n",
    "    b = np.array(b)\n",
    "    vector = alpha * b\n",
    "    return (vector, np.linalg.norm(vector))"
   ]
  },
  {
   "cell_type": "code",
   "execution_count": 17,
   "metadata": {},
   "outputs": [
    {
     "data": {
      "text/plain": [
       "(array([-5, -1]), 5.0990195135927845)"
      ]
     },
     "execution_count": 17,
     "metadata": {},
     "output_type": "execute_result"
    }
   ],
   "source": [
    "alpha_magnitude(-1, [5,1])"
   ]
  }
 ],
 "metadata": {
  "kernelspec": {
   "display_name": "Python 3",
   "language": "python",
   "name": "python3"
  },
  "language_info": {
   "codemirror_mode": {
    "name": "ipython",
    "version": 3
   },
   "file_extension": ".py",
   "mimetype": "text/x-python",
   "name": "python",
   "nbconvert_exporter": "python",
   "pygments_lexer": "ipython3",
   "version": "3.8.8"
  }
 },
 "nbformat": 4,
 "nbformat_minor": 2
}
