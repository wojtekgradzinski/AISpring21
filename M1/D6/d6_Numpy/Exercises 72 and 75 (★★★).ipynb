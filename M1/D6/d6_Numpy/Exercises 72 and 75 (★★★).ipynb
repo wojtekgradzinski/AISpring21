{
 "cells": [
  {
   "cell_type": "code",
   "execution_count": 5,
   "metadata": {
    "slideshow": {
     "slide_type": "slide"
    }
   },
   "outputs": [],
   "source": [
    "# Import the needed libraries\n",
    "import numpy as np"
   ]
  },
  {
   "cell_type": "markdown",
   "metadata": {},
   "source": [
    "**72. How to swap two rows of an array?** "
   ]
  },
  {
   "cell_type": "code",
   "execution_count": 6,
   "metadata": {},
   "outputs": [
    {
     "name": "stdout",
     "output_type": "stream",
     "text": [
      "[[0 1 2 3 4]\n",
      " [5 6 7 8 9]]\n",
      "[[5 6 7 8 9]\n",
      " [0 1 2 3 4]]\n"
     ]
    }
   ],
   "source": [
    "# same principle as a,b = b,a on python variables\n",
    "arr = np.arange(10).reshape(2,5)\n",
    "print(arr)\n",
    "arr[[0,1]] = arr[[1,0]]\n",
    "print(arr)"
   ]
  },
  {
   "cell_type": "markdown",
   "metadata": {},
   "source": [
    "**75. How to compute averages using a sliding window over an array?**"
   ]
  },
  {
   "cell_type": "code",
   "execution_count": 7,
   "metadata": {},
   "outputs": [
    {
     "name": "stdout",
     "output_type": "stream",
     "text": [
      "[[2 5 4]\n",
      " [5 3 4]\n",
      " [4 5 5]]\n",
      "\n",
      "\n",
      "[ 2  7 11 16 19 23 27 32 37]\n",
      "Average: 19.33\n"
     ]
    }
   ],
   "source": [
    "array = np.random.randint(2,6, size=(3,3))\n",
    "# first print the array\n",
    "print (array)\n",
    "a = np.cumsum(array)\n",
    "print(\"\\n\")\n",
    "# print the sum of the matrix -> 2, then 2+5=7, then 7+4=11, then 11+5=16\n",
    "print (a)\n",
    "print (\"Average:\", round(np.average(a),2))"
   ]
  }
 ],
 "metadata": {
  "kernelspec": {
   "display_name": "Python 3",
   "language": "python",
   "name": "python3"
  },
  "language_info": {
   "codemirror_mode": {
    "name": "ipython",
    "version": 3
   },
   "file_extension": ".py",
   "mimetype": "text/x-python",
   "name": "python",
   "nbconvert_exporter": "python",
   "pygments_lexer": "ipython3",
   "version": "3.8.5"
  }
 },
 "nbformat": 4,
 "nbformat_minor": 5
}
