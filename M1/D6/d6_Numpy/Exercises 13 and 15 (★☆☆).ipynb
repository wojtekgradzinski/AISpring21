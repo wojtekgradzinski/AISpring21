{
 "cells": [
  {
   "cell_type": "code",
   "execution_count": null,
   "metadata": {},
   "outputs": [],
   "source": [
    "# Import the needed libraries"
   ]
  },
  {
   "cell_type": "markdown",
   "metadata": {},
   "source": [
    "**13. Create a 10x10 array with random values and find the minimum and maximum values**"
   ]
  },
  {
   "cell_type": "code",
   "execution_count": 6,
   "metadata": {},
   "outputs": [
    {
     "name": "stdout",
     "output_type": "stream",
     "text": [
      "Original Array:\n",
      "[[0.99372001 0.06593564 0.44037016 0.05316323 0.02599786 0.40218487\n",
      "  0.27144505 0.10649024 0.44686493 0.8448535 ]\n",
      " [0.49764405 0.22756313 0.03425712 0.65828417 0.50582715 0.8610883\n",
      "  0.65613091 0.65556834 0.40238439 0.03284365]\n",
      " [0.89543765 0.74967017 0.38757658 0.92710205 0.77561023 0.46206758\n",
      "  0.77749501 0.02331833 0.34624757 0.34510868]\n",
      " [0.19325792 0.24916846 0.1912085  0.38702745 0.19864032 0.02162651\n",
      "  0.23571469 0.04448769 0.96519805 0.65286085]\n",
      " [0.29971957 0.10686993 0.51405908 0.8492499  0.05244143 0.20731996\n",
      "  0.04422827 0.15545016 0.69439632 0.83312659]\n",
      " [0.14688951 0.35261073 0.33960653 0.53092361 0.92285981 0.10391055\n",
      "  0.94312671 0.63016003 0.49255772 0.53084911]\n",
      " [0.19305663 0.65889533 0.68810678 0.61132412 0.18181701 0.25827252\n",
      "  0.792581   0.66647965 0.24796013 0.95830762]\n",
      " [0.0414651  0.99174434 0.03418896 0.2742213  0.94048152 0.48847593\n",
      "  0.50535521 0.37081542 0.00206646 0.19512355]\n",
      " [0.08022115 0.12859198 0.78980928 0.99097752 0.35845064 0.71517015\n",
      "  0.9203129  0.88886409 0.97914045 0.60075351]\n",
      " [0.67541497 0.51481951 0.64269227 0.36800022 0.51766963 0.03180858\n",
      "  0.48011514 0.30356833 0.58705246 0.79106637]]\n",
      "Minimum Value:  0.0020664578965355895\n",
      "Maximum Value:  0.9937200057760524\n"
     ]
    }
   ],
   "source": [
    "import numpy as np\n",
    "x = np.random.random((10,10))\n",
    "print(\"Original Array:\")\n",
    "print(x) \n",
    "xmin, xmax = x.min(), x.max()\n",
    "print(\"Minimum Value: \", xmin)\n",
    "print(\"Maximum Value: \", xmax)"
   ]
  },
  {
   "cell_type": "markdown",
   "metadata": {},
   "source": [
    "**15. Create a 2d array with 1 on the border and 0 inside**"
   ]
  },
  {
   "cell_type": "code",
   "execution_count": 9,
   "metadata": {},
   "outputs": [
    {
     "name": "stdout",
     "output_type": "stream",
     "text": [
      "[[1. 1. 1. 1. 1. 1. 1. 1. 1. 1.]\n",
      " [1. 0. 0. 0. 0. 0. 0. 0. 0. 1.]\n",
      " [1. 0. 0. 0. 0. 0. 0. 0. 0. 1.]\n",
      " [1. 0. 0. 0. 0. 0. 0. 0. 0. 1.]\n",
      " [1. 0. 0. 0. 0. 0. 0. 0. 0. 1.]\n",
      " [1. 0. 0. 0. 0. 0. 0. 0. 0. 1.]\n",
      " [1. 0. 0. 0. 0. 0. 0. 0. 0. 1.]\n",
      " [1. 0. 0. 0. 0. 0. 0. 0. 0. 1.]\n",
      " [1. 0. 0. 0. 0. 0. 0. 0. 0. 1.]\n",
      " [1. 1. 1. 1. 1. 1. 1. 1. 1. 1.]]\n"
     ]
    }
   ],
   "source": [
    "import numpy as np\n",
    "x = np.ones((10,10))\n",
    "x[1:-1,1:-1] = 0\n",
    "print(x)"
   ]
  }
 ],
 "metadata": {
  "kernelspec": {
   "display_name": "Python 3",
   "language": "python",
   "name": "python3"
  },
  "language_info": {
   "codemirror_mode": {
    "name": "ipython",
    "version": 3
   },
   "file_extension": ".py",
   "mimetype": "text/x-python",
   "name": "python",
   "nbconvert_exporter": "python",
   "pygments_lexer": "ipython3",
   "version": "3.8.5"
  }
 },
 "nbformat": 4,
 "nbformat_minor": 5
}
