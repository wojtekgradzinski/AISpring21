{
 "cells": [
  {
   "cell_type": "markdown",
   "id": "twelve-atlanta",
   "metadata": {},
   "source": [
    "**Exercise:**\n",
    "\n",
    "* Extract the 10 days weather from san Francisco in weather.gov.\n",
    "- inspect with the console\n",
    "- write code to target the right elements of the text\n",
    "- For each day, you need to store:\n",
    "\n",
    "* The day of the week (Saturday)\n",
    "* The date (12/09)\n",
    "* A short description of the conditions (Clear early then increasing cloudiness after midnight. Low 41F. Winds light and variable)\n",
    "* The temperature low and high, with a function of your own to convert into Celsius\n",
    "* For each element you scrape, The name of the item you targetted (ex: DailyContent--daypartDate--3MM0J)\n",
    "* Save all of this into a Pandas dataframe"
   ]
  },
  {
   "cell_type": "code",
   "execution_count": 18,
   "id": "female-intelligence",
   "metadata": {},
   "outputs": [],
   "source": [
    "import pandas as pd\n",
    "from bs4 import BeautifulSoup\n",
    "import requests\n",
    "import html"
   ]
  },
  {
   "cell_type": "code",
   "execution_count": 19,
   "id": "african-texture",
   "metadata": {},
   "outputs": [],
   "source": [
    "page = requests.get(\"https://forecast.weather.gov/MapClick.php?lat=37.777120000000025&lon=-122.41963999999996#.X9DVpBakolQ\")\n",
    "soup = BeautifulSoup(page.content, 'html.parser') #whole html\n",
    "html = list(soup.children)[2] #whole html nicer format #concept children parent in web dev\n",
    "body = list(html.children)[3] #[in get sibling]\n",
    "main = list(body.children)[1] #one deeper in main\n",
    "#print(body)\n",
    "#print(main)\n",
    "\n",
    "tombstone_container = soup.find_all(\"div\", class_ =\"tombstone-container\")\n",
    "#print(tombstone_container)\n",
    "\n",
    "period_name_container = soup.find_all('div',class_= \"col-sm-2 forecast-label\")\n",
    "#print(period_name_container)\n",
    "\n",
    "temp_container = soup.find_all(\"p\", class_= 'temp')\n",
    "#print(temp_container)\n",
    "\n",
    "\n",
    "\n",
    "#temp_high_container = soup.find_all(\"p\", class_= 'temp-high')\n",
    "#print(temp_high_container)\n",
    "#temp_low_container = soup.find_all(\"p\", class_= 'temp-low')\n",
    "#print(temp_low_container)\n",
    "\n",
    "description_container = soup.find_all(\"div\", class_= \"forecast-text\")\n",
    "#print(description_container)"
   ]
  },
  {
   "cell_type": "code",
   "execution_count": 20,
   "id": "checked-caribbean",
   "metadata": {
    "scrolled": true
   },
   "outputs": [
    {
     "name": "stdout",
     "output_type": "stream",
     "text": [
      "['Today', 'Tonight', 'Thursday', 'Thursday Night', 'Friday', 'Friday Night', 'Saturday', 'Saturday Night', 'Sunday', 'Sunday Night', 'Monday', 'Monday Night', 'Tuesday']\n"
     ]
    }
   ],
   "source": [
    "#print(period_name_container)\n",
    "days = []\n",
    "for b in period_name_container:\n",
    "    days.append(b.getText()) #if its in a div -> first b = div/second b = div.find('b')\n",
    "print(days)"
   ]
  },
  {
   "cell_type": "code",
   "execution_count": 21,
   "id": "engaged-credits",
   "metadata": {},
   "outputs": [],
   "source": [
    "#days_weekdays = weekday"
   ]
  },
  {
   "cell_type": "code",
   "execution_count": 22,
   "id": "southern-bundle",
   "metadata": {},
   "outputs": [],
   "source": [
    "#temps_in_F = []\n",
    "#for p in temp_container:\n",
    "#    temps_in_F.append(p.getText())\n",
    "#print(temps_in_F)"
   ]
  },
  {
   "cell_type": "code",
   "execution_count": 23,
   "id": "prerequisite-robertson",
   "metadata": {},
   "outputs": [
    {
     "name": "stdout",
     "output_type": "stream",
     "text": [
      "['Mostly sunny, with a high near 66. Light and variable wind becoming west 8 to 13 mph in the morning. ', 'Partly cloudy, with a low around 48. West wind 10 to 17 mph, with gusts as high as 23 mph. ', 'Sunny, with a high near 61. West wind 7 to 17 mph, with gusts as high as 23 mph. ', 'Clear, with a low around 46. Northwest wind 5 to 14 mph, with gusts as high as 18 mph. ', 'Sunny, with a high near 69. North wind 8 to 10 mph. ', 'Clear, with a low around 47.', 'Sunny, with a high near 74.', 'Clear, with a low around 49.', 'Sunny, with a high near 69.', 'Mostly clear, with a low around 49.', 'Sunny, with a high near 66.', 'Clear, with a low around 48.', 'Sunny, with a high near 69.']\n"
     ]
    }
   ],
   "source": [
    "description = []\n",
    "for div in description_container:\n",
    "    description.append(div.getText())\n",
    "print(description)"
   ]
  },
  {
   "cell_type": "code",
   "execution_count": 24,
   "id": "square-regression",
   "metadata": {
    "scrolled": true
   },
   "outputs": [
    {
     "name": "stdout",
     "output_type": "stream",
     "text": [
      "['66', '48', '61', '46', '69', '47', '74', '49', '69', '49', '66', '48', '69']\n",
      "[18.89, 8.89, 16.11, 7.78, 20.56, 8.33, 23.33, 9.44, 20.56, 9.44, 18.89, 8.89, 20.56]\n"
     ]
    }
   ],
   "source": [
    "temps = [] #get the temperature from the description text \n",
    "for i in range(len(description)):\n",
    "    desc = description[i]\n",
    "    desc = desc.split('.')\n",
    "    desc = desc[0]\n",
    "    desc = desc.split()\n",
    "    temps.append(desc[-1])\n",
    "print(temps)\n",
    "\n",
    "##convert fahrenheit to C\n",
    "#°C = (°F − 32) / 1,8\n",
    "temps_in_C = []\n",
    "for temp in temps:\n",
    "    new_temp = (int(temp)-32)/ 1.8\n",
    "    new_temp = round(new_temp,2)\n",
    "    temps_in_C.append(new_temp)\n",
    "print(temps_in_C)"
   ]
  },
  {
   "cell_type": "code",
   "execution_count": 25,
   "id": "affecting-removal",
   "metadata": {},
   "outputs": [
    {
     "name": "stdout",
     "output_type": "stream",
     "text": [
      "2021-03-24\n"
     ]
    }
   ],
   "source": [
    "from datetime import date\n",
    "today = date.today()\n",
    "print(today)"
   ]
  },
  {
   "cell_type": "code",
   "execution_count": 26,
   "id": "critical-brand",
   "metadata": {},
   "outputs": [],
   "source": [
    "df = pd.DataFrame({\n",
    "    'days':days,\n",
    "    'temps_in_C':temps_in_C,\n",
    "    'description':description\n",
    "                  })"
   ]
  },
  {
   "cell_type": "code",
   "execution_count": 27,
   "id": "auburn-range",
   "metadata": {},
   "outputs": [
    {
     "data": {
      "text/html": [
       "<div>\n",
       "<style scoped>\n",
       "    .dataframe tbody tr th:only-of-type {\n",
       "        vertical-align: middle;\n",
       "    }\n",
       "\n",
       "    .dataframe tbody tr th {\n",
       "        vertical-align: top;\n",
       "    }\n",
       "\n",
       "    .dataframe thead th {\n",
       "        text-align: right;\n",
       "    }\n",
       "</style>\n",
       "<table border=\"1\" class=\"dataframe\">\n",
       "  <thead>\n",
       "    <tr style=\"text-align: right;\">\n",
       "      <th></th>\n",
       "      <th>days</th>\n",
       "      <th>temps_in_C</th>\n",
       "      <th>description</th>\n",
       "    </tr>\n",
       "  </thead>\n",
       "  <tbody>\n",
       "    <tr>\n",
       "      <th>0</th>\n",
       "      <td>Today</td>\n",
       "      <td>18.89</td>\n",
       "      <td>Mostly sunny, with a high near 66. Light and v...</td>\n",
       "    </tr>\n",
       "    <tr>\n",
       "      <th>1</th>\n",
       "      <td>Tonight</td>\n",
       "      <td>8.89</td>\n",
       "      <td>Partly cloudy, with a low around 48. West wind...</td>\n",
       "    </tr>\n",
       "    <tr>\n",
       "      <th>2</th>\n",
       "      <td>Thursday</td>\n",
       "      <td>16.11</td>\n",
       "      <td>Sunny, with a high near 61. West wind 7 to 17 ...</td>\n",
       "    </tr>\n",
       "    <tr>\n",
       "      <th>3</th>\n",
       "      <td>Thursday Night</td>\n",
       "      <td>7.78</td>\n",
       "      <td>Clear, with a low around 46. Northwest wind 5 ...</td>\n",
       "    </tr>\n",
       "    <tr>\n",
       "      <th>4</th>\n",
       "      <td>Friday</td>\n",
       "      <td>20.56</td>\n",
       "      <td>Sunny, with a high near 69. North wind 8 to 10...</td>\n",
       "    </tr>\n",
       "    <tr>\n",
       "      <th>5</th>\n",
       "      <td>Friday Night</td>\n",
       "      <td>8.33</td>\n",
       "      <td>Clear, with a low around 47.</td>\n",
       "    </tr>\n",
       "    <tr>\n",
       "      <th>6</th>\n",
       "      <td>Saturday</td>\n",
       "      <td>23.33</td>\n",
       "      <td>Sunny, with a high near 74.</td>\n",
       "    </tr>\n",
       "    <tr>\n",
       "      <th>7</th>\n",
       "      <td>Saturday Night</td>\n",
       "      <td>9.44</td>\n",
       "      <td>Clear, with a low around 49.</td>\n",
       "    </tr>\n",
       "    <tr>\n",
       "      <th>8</th>\n",
       "      <td>Sunday</td>\n",
       "      <td>20.56</td>\n",
       "      <td>Sunny, with a high near 69.</td>\n",
       "    </tr>\n",
       "    <tr>\n",
       "      <th>9</th>\n",
       "      <td>Sunday Night</td>\n",
       "      <td>9.44</td>\n",
       "      <td>Mostly clear, with a low around 49.</td>\n",
       "    </tr>\n",
       "    <tr>\n",
       "      <th>10</th>\n",
       "      <td>Monday</td>\n",
       "      <td>18.89</td>\n",
       "      <td>Sunny, with a high near 66.</td>\n",
       "    </tr>\n",
       "    <tr>\n",
       "      <th>11</th>\n",
       "      <td>Monday Night</td>\n",
       "      <td>8.89</td>\n",
       "      <td>Clear, with a low around 48.</td>\n",
       "    </tr>\n",
       "    <tr>\n",
       "      <th>12</th>\n",
       "      <td>Tuesday</td>\n",
       "      <td>20.56</td>\n",
       "      <td>Sunny, with a high near 69.</td>\n",
       "    </tr>\n",
       "  </tbody>\n",
       "</table>\n",
       "</div>"
      ],
      "text/plain": [
       "              days  temps_in_C  \\\n",
       "0            Today       18.89   \n",
       "1          Tonight        8.89   \n",
       "2         Thursday       16.11   \n",
       "3   Thursday Night        7.78   \n",
       "4           Friday       20.56   \n",
       "5     Friday Night        8.33   \n",
       "6         Saturday       23.33   \n",
       "7   Saturday Night        9.44   \n",
       "8           Sunday       20.56   \n",
       "9     Sunday Night        9.44   \n",
       "10          Monday       18.89   \n",
       "11    Monday Night        8.89   \n",
       "12         Tuesday       20.56   \n",
       "\n",
       "                                          description  \n",
       "0   Mostly sunny, with a high near 66. Light and v...  \n",
       "1   Partly cloudy, with a low around 48. West wind...  \n",
       "2   Sunny, with a high near 61. West wind 7 to 17 ...  \n",
       "3   Clear, with a low around 46. Northwest wind 5 ...  \n",
       "4   Sunny, with a high near 69. North wind 8 to 10...  \n",
       "5                        Clear, with a low around 47.  \n",
       "6                         Sunny, with a high near 74.  \n",
       "7                        Clear, with a low around 49.  \n",
       "8                         Sunny, with a high near 69.  \n",
       "9                 Mostly clear, with a low around 49.  \n",
       "10                        Sunny, with a high near 66.  \n",
       "11                       Clear, with a low around 48.  \n",
       "12                        Sunny, with a high near 69.  "
      ]
     },
     "metadata": {},
     "output_type": "display_data"
    }
   ],
   "source": [
    "display(df)"
   ]
  }
 ],
 "metadata": {
  "kernelspec": {
   "display_name": "Python 3",
   "language": "python",
   "name": "python3"
  },
  "language_info": {
   "codemirror_mode": {
    "name": "ipython",
    "version": 3
   },
   "file_extension": ".py",
   "mimetype": "text/x-python",
   "name": "python",
   "nbconvert_exporter": "python",
   "pygments_lexer": "ipython3",
   "version": "3.8.8"
  }
 },
 "nbformat": 4,
 "nbformat_minor": 5
}
