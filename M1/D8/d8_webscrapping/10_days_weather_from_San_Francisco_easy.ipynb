{
 "cells": [
  {
   "cell_type": "markdown",
   "id": "suffering-assistant",
   "metadata": {},
   "source": [
    "**Exercise:**\n",
    "\n",
    "* Extract the 10 days weather from san Francisco in weather.gov.\n",
    "- inspect with the console\n",
    "- write code to target the right elements of the text\n",
    "- For each day, you need to store:\n",
    "\n",
    "* The day of the week (Saturday)\n",
    "* The date (12/09)\n",
    "* A short description of the conditions (Clear early then increasing cloudiness after midnight. Low 41F. Winds light and variable)\n",
    "* The temperature low and high, with a function of your own to convert into Celsius\n",
    "* For each element you scrape, The name of the item you targetted (ex: DailyContent--daypartDate--3MM0J)\n",
    "* Save all of this into a Pandas dataframe"
   ]
  },
  {
   "cell_type": "code",
   "execution_count": 1,
   "id": "female-intelligence",
   "metadata": {},
   "outputs": [],
   "source": [
    "import pandas as pd\n",
    "from bs4 import BeautifulSoup\n",
    "import requests\n",
    "import html"
   ]
  },
  {
   "cell_type": "code",
   "execution_count": 2,
   "id": "african-texture",
   "metadata": {},
   "outputs": [
    {
     "data": {
      "text/plain": [
       "<Response [200]>"
      ]
     },
     "execution_count": 2,
     "metadata": {},
     "output_type": "execute_result"
    }
   ],
   "source": [
    "page = requests.get(\"https://forecast.weather.gov/MapClick.php?lat=37.777120000000025&lon=-122.41963999999996#.X9DVpBakolQ\")\n",
    "soup = BeautifulSoup(page.content, 'html.parser') #whole html\n",
    "html = list(soup.children)[2] #whole html nicer format #concept children parent in web dev\n",
    "body = list(html.children)[3] #[in get sibling]\n",
    "main = list(body.children)[1] #one deeper in main\n",
    "#print(body)\n",
    "#print(main)\n",
    "\n",
    "tombstone_container = soup.find_all(\"div\", class_ =\"tombstone-container\")\n",
    "#print(tombstone_container)\n",
    "\n",
    "period_name_container = soup.find_all('div',class_= \"col-sm-2 forecast-label\")\n",
    "#print(period_name_container)\n",
    "\n",
    "temp_container = soup.find_all(\"p\", class_= 'temp')\n",
    "#print(temp_container)\n",
    "\n",
    "\n",
    "\n",
    "#temp_high_container = soup.find_all(\"p\", class_= 'temp-high')\n",
    "#print(temp_high_container)\n",
    "#temp_low_container = soup.find_all(\"p\", class_= 'temp-low')\n",
    "#print(temp_low_container)\n",
    "\n",
    "description_container = soup.find_all(\"div\", class_= \"forecast-text\")\n",
    "#print(description_container)"
   ]
  },
  {
   "cell_type": "code",
   "execution_count": 3,
   "id": "checked-caribbean",
   "metadata": {
    "scrolled": true
   },
   "outputs": [],
   "source": [
    "#print(period_name_container)\n",
    "days = []\n",
    "for b in period_name_container:\n",
    "    days.append(b.getText()) #if its in a div -> first b = div/second b = div.find('b')\n",
    "print(days)"
   ]
  },
  {
   "cell_type": "code",
   "execution_count": 4,
   "id": "engaged-credits",
   "metadata": {},
   "outputs": [],
   "source": [
    "#days_weekdays = weekday"
   ]
  },
  {
   "cell_type": "code",
   "execution_count": 5,
   "id": "southern-bundle",
   "metadata": {},
   "outputs": [
    {
     "name": "stdout",
     "output_type": "stream",
     "text": [
      "Mostly sunny, with a high near 66. Light and variable wind becoming west 8 to 13 mph in the morning. \n",
      "Partly cloudy, with a low around 48. West wind 10 to 17 mph, with gusts as high as 23 mph. \n",
      "Sunny, with a high near 61. West wind 7 to 17 mph, with gusts as high as 23 mph. \n",
      "Clear, with a low around 46. Northwest wind 5 to 14 mph, with gusts as high as 18 mph. \n",
      "Sunny, with a high near 69. North wind 8 to 10 mph. \n",
      "Clear, with a low around 47.\n",
      "Sunny, with a high near 74.\n",
      "Clear, with a low around 49.\n",
      "Sunny, with a high near 69.\n",
      "Mostly clear, with a low around 49.\n",
      "Sunny, with a high near 66.\n",
      "Clear, with a low around 48.\n",
      "Sunny, with a high near 69.\n"
     ]
    }
   ],
   "source": [
    "#temps_in_F = []\n",
    "#for p in temp_container:\n",
    "#    temps_in_F.append(p.getText())\n",
    "#print(temps_in_F)"
   ]
  },
  {
   "cell_type": "code",
   "execution_count": 6,
   "id": "prerequisite-robertson",
   "metadata": {},
   "outputs": [
    {
     "name": "stdout",
     "output_type": "stream",
     "text": [
      "['Today', 'Tonight', 'Thursday', 'Thursday Night', 'Friday', 'Friday Night', 'Saturday', 'Saturday Night', 'Sunday', 'Sunday Night', 'Monday', 'Monday Night', 'Tuesday']\n"
     ]
    }
   ],
   "source": [
    "description = []\n",
    "for div in description_container:\n",
    "    description.append(div.getText())\n",
    "print(description)"
   ]
  },
  {
   "cell_type": "code",
   "execution_count": 7,
   "id": "square-regression",
   "metadata": {
    "scrolled": true
   },
   "outputs": [
    {
     "name": "stdout",
     "output_type": "stream",
     "text": [
      "['Mostly sunny, with a high near 66. Light and variable wind becoming west 8 to 13 mph in the morning. ', 'Partly cloudy, with a low around 48. West wind 10 to 17 mph, with gusts as high as 23 mph. ', 'Sunny, with a high near 61. West wind 7 to 17 mph, with gusts as high as 23 mph. ', 'Clear, with a low around 46. Northwest wind 5 to 14 mph, with gusts as high as 18 mph. ', 'Sunny, with a high near 69. North wind 8 to 10 mph. ', 'Clear, with a low around 47.', 'Sunny, with a high near 74.', 'Clear, with a low around 49.', 'Sunny, with a high near 69.', 'Mostly clear, with a low around 49.', 'Sunny, with a high near 66.', 'Clear, with a low around 48.', 'Sunny, with a high near 69.']\n"
     ]
    }
   ],
   "source": [
    "temps = [] #get the temperature from the description text \n",
    "for i in range(len(description)):\n",
    "    desc = description[i]\n",
    "    desc = desc.split('.')\n",
    "    desc = desc[0]\n",
    "    desc = desc.split()\n",
    "    temps.append(desc[-1])\n",
    "print(temps)\n",
    "\n",
    "##convert fahrenheit to C\n",
    "#°C = (°F − 32) / 1,8\n",
    "temps_in_C = []\n",
    "for temp in temps:\n",
    "    new_temp = (int(temp)-32)/ 1.8\n",
    "    new_temp = round(new_temp,2)\n",
    "    temps_in_C.append(new_temp)\n",
    "print(temps_in_C)"
   ]
  },
  {
   "cell_type": "code",
   "execution_count": 17,
   "id": "affecting-removal",
   "metadata": {},
   "outputs": [
    {
     "ename": "AttributeError",
     "evalue": "'Series' object has no attribute 'split'",
     "output_type": "error",
     "traceback": [
      "\u001b[0;31m---------------------------------------------------------------------------\u001b[0m",
      "\u001b[0;31mAttributeError\u001b[0m                            Traceback (most recent call last)",
      "\u001b[0;32m<ipython-input-17-1ecaa42ea762>\u001b[0m in \u001b[0;36m<module>\u001b[0;34m\u001b[0m\n\u001b[1;32m      2\u001b[0m \u001b[0;32mfor\u001b[0m \u001b[0mi\u001b[0m \u001b[0;32min\u001b[0m \u001b[0mrange\u001b[0m\u001b[0;34m(\u001b[0m\u001b[0mlen\u001b[0m\u001b[0;34m(\u001b[0m\u001b[0mdescription\u001b[0m\u001b[0;34m)\u001b[0m\u001b[0;34m)\u001b[0m\u001b[0;34m:\u001b[0m\u001b[0;34m\u001b[0m\u001b[0;34m\u001b[0m\u001b[0m\n\u001b[1;32m      3\u001b[0m     \u001b[0mdesc\u001b[0m \u001b[0;34m=\u001b[0m \u001b[0mdescription\u001b[0m\u001b[0;34m[\u001b[0m\u001b[0mi\u001b[0m\u001b[0;34m]\u001b[0m\u001b[0;34m\u001b[0m\u001b[0;34m\u001b[0m\u001b[0m\n\u001b[0;32m----> 4\u001b[0;31m     \u001b[0mdesc\u001b[0m \u001b[0;34m=\u001b[0m \u001b[0mdesc\u001b[0m\u001b[0;34m.\u001b[0m\u001b[0msplit\u001b[0m\u001b[0;34m(\u001b[0m\u001b[0;34m'.'\u001b[0m\u001b[0;34m)\u001b[0m\u001b[0;34m\u001b[0m\u001b[0;34m\u001b[0m\u001b[0m\n\u001b[0m\u001b[1;32m      5\u001b[0m     \u001b[0mdesc\u001b[0m \u001b[0;34m=\u001b[0m \u001b[0mdesc\u001b[0m\u001b[0;34m[\u001b[0m\u001b[0;36m0\u001b[0m\u001b[0;34m]\u001b[0m\u001b[0;34m\u001b[0m\u001b[0;34m\u001b[0m\u001b[0m\n\u001b[1;32m      6\u001b[0m     \u001b[0mdesc\u001b[0m \u001b[0;34m=\u001b[0m \u001b[0mdesc\u001b[0m\u001b[0;34m.\u001b[0m\u001b[0msplit\u001b[0m\u001b[0;34m(\u001b[0m\u001b[0;34m)\u001b[0m\u001b[0;34m\u001b[0m\u001b[0;34m\u001b[0m\u001b[0m\n",
      "\u001b[0;32m/opt/anaconda3/envs/fistaenv/lib/python3.8/site-packages/pandas/core/generic.py\u001b[0m in \u001b[0;36m__getattr__\u001b[0;34m(self, name)\u001b[0m\n\u001b[1;32m   5463\u001b[0m             \u001b[0;32mif\u001b[0m \u001b[0mself\u001b[0m\u001b[0;34m.\u001b[0m\u001b[0m_info_axis\u001b[0m\u001b[0;34m.\u001b[0m\u001b[0m_can_hold_identifiers_and_holds_name\u001b[0m\u001b[0;34m(\u001b[0m\u001b[0mname\u001b[0m\u001b[0;34m)\u001b[0m\u001b[0;34m:\u001b[0m\u001b[0;34m\u001b[0m\u001b[0;34m\u001b[0m\u001b[0m\n\u001b[1;32m   5464\u001b[0m                 \u001b[0;32mreturn\u001b[0m \u001b[0mself\u001b[0m\u001b[0;34m[\u001b[0m\u001b[0mname\u001b[0m\u001b[0;34m]\u001b[0m\u001b[0;34m\u001b[0m\u001b[0;34m\u001b[0m\u001b[0m\n\u001b[0;32m-> 5465\u001b[0;31m             \u001b[0;32mreturn\u001b[0m \u001b[0mobject\u001b[0m\u001b[0;34m.\u001b[0m\u001b[0m__getattribute__\u001b[0m\u001b[0;34m(\u001b[0m\u001b[0mself\u001b[0m\u001b[0;34m,\u001b[0m \u001b[0mname\u001b[0m\u001b[0;34m)\u001b[0m\u001b[0;34m\u001b[0m\u001b[0;34m\u001b[0m\u001b[0m\n\u001b[0m\u001b[1;32m   5466\u001b[0m \u001b[0;34m\u001b[0m\u001b[0m\n\u001b[1;32m   5467\u001b[0m     \u001b[0;32mdef\u001b[0m \u001b[0m__setattr__\u001b[0m\u001b[0;34m(\u001b[0m\u001b[0mself\u001b[0m\u001b[0;34m,\u001b[0m \u001b[0mname\u001b[0m\u001b[0;34m:\u001b[0m \u001b[0mstr\u001b[0m\u001b[0;34m,\u001b[0m \u001b[0mvalue\u001b[0m\u001b[0;34m)\u001b[0m \u001b[0;34m->\u001b[0m \u001b[0;32mNone\u001b[0m\u001b[0;34m:\u001b[0m\u001b[0;34m\u001b[0m\u001b[0;34m\u001b[0m\u001b[0m\n",
      "\u001b[0;31mAttributeError\u001b[0m: 'Series' object has no attribute 'split'"
     ]
    }
   ],
   "source": [
    "from datetime import date\n",
    "today = date.today()\n",
    "print(today)"
   ]
  },
  {
   "cell_type": "code",
   "execution_count": null,
   "id": "behavioral-cowboy",
   "metadata": {},
   "outputs": [],
   "source": [
    "df = pd.DataFrame({\n",
    "    'days':days,\n",
    "    'temps_in_C':temps_in_C,\n",
    "    'description':description\n",
    "                  })"
   ]
  },
  {
   "cell_type": "code",
   "execution_count": null,
   "id": "quick-london",
   "metadata": {},
   "outputs": [],
   "source": []
  }
 ],
 "metadata": {
  "kernelspec": {
   "display_name": "Python 3",
   "language": "python",
   "name": "python3"
  },
  "language_info": {
   "codemirror_mode": {
    "name": "ipython",
    "version": 3
   },
   "file_extension": ".py",
   "mimetype": "text/x-python",
   "name": "python",
   "nbconvert_exporter": "python",
   "pygments_lexer": "ipython3",
   "version": "3.8.8"
  }
 },
 "nbformat": 4,
 "nbformat_minor": 5
}
