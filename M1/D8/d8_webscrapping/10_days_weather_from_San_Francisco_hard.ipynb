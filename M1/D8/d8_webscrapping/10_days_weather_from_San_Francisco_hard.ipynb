{
 "cells": [
  {
   "cell_type": "code",
   "execution_count": 2,
   "id": "several-tower",
   "metadata": {},
   "outputs": [],
   "source": [
    "import pandas as pd\n",
    "from bs4 import BeautifulSoup\n",
    "import requests\n",
    "import json \n",
    "import csv\n",
    "import html"
   ]
  },
  {
   "cell_type": "code",
   "execution_count": 5,
   "id": "hungry-nevada",
   "metadata": {
    "scrolled": true
   },
   "outputs": [
    {
     "data": {
      "text/plain": [
       "<Response [200]>"
      ]
     },
     "execution_count": 5,
     "metadata": {},
     "output_type": "execute_result"
    }
   ],
   "source": [
    "page = requests.get(\"https://weather.com/weather/tenday/l/San+Francisco+CA?canonicalCityId=dfdaba8cbe3a4d12a8796e1f7b1ccc7174b4b0a2d5ddb1c8566ae9f154fa638c\")\n",
    "page"
   ]
  },
  {
   "cell_type": "code",
   "execution_count": 6,
   "id": "serial-flash",
   "metadata": {},
   "outputs": [],
   "source": [
    "# Print the status code of the response.\n",
    "page = requests.get(\"https://weather.com/weather/tenday/l/San+Francisco+CA?canonicalCityId=dfdaba8cbe3a4d12a8796e1f7b1ccc7174b4b0a2d5ddb1c8566ae9f154fa638c\")\n",
    "soup = BeautifulSoup(page.content, 'html.parser') #whole html\n",
    "html = list(soup.children)[2] #whole html nicer format #concept children parent in web dev\n",
    "body = list(html.children)[3] #[in get sibling]\n",
    "main = list(body.children)[1] #one deeper in main\n",
    "#print(body)\n",
    "#print(main)\n",
    "\n",
    "tombstone_container = soup.find_all(\"div\", class_ =\"tombstone-container\")\n",
    "#print(tombstone_container)\n",
    "\n",
    "period_name_container = soup.find_all('div',class_= \"col-sm-2 forecast-label\")\n",
    "#print(period_name_container)\n",
    "\n",
    "temp_container = soup.find_all(\"p\", class_= 'temp')\n",
    "#print(temp_container)\n",
    "\n",
    "\n",
    "\n",
    "#temp_high_container = soup.find_all(\"p\", class_= 'temp-high')\n",
    "#print(temp_high_container)\n",
    "#temp_low_container = soup.find_all(\"p\", class_= 'temp-low')\n",
    "#print(temp_low_container)\n",
    "\n",
    "description_container = soup.find_all(\"div\", class_= \"forecast-text\")\n",
    "#print(description_container)"
   ]
  },
  {
   "cell_type": "code",
   "execution_count": null,
   "id": "bottom-desert",
   "metadata": {},
   "outputs": [],
   "source": []
  },
  {
   "cell_type": "code",
   "execution_count": null,
   "id": "needed-imperial",
   "metadata": {},
   "outputs": [],
   "source": []
  },
  {
   "cell_type": "code",
   "execution_count": null,
   "id": "adaptive-worst",
   "metadata": {},
   "outputs": [],
   "source": []
  },
  {
   "cell_type": "code",
   "execution_count": null,
   "id": "radical-riding",
   "metadata": {},
   "outputs": [],
   "source": []
  },
  {
   "cell_type": "code",
   "execution_count": null,
   "id": "ranging-height",
   "metadata": {},
   "outputs": [],
   "source": []
  },
  {
   "cell_type": "code",
   "execution_count": null,
   "id": "blind-forward",
   "metadata": {},
   "outputs": [],
   "source": []
  }
 ],
 "metadata": {
  "kernelspec": {
   "display_name": "Python 3",
   "language": "python",
   "name": "python3"
  },
  "language_info": {
   "codemirror_mode": {
    "name": "ipython",
    "version": 3
   },
   "file_extension": ".py",
   "mimetype": "text/x-python",
   "name": "python",
   "nbconvert_exporter": "python",
   "pygments_lexer": "ipython3",
   "version": "3.8.8"
  }
 },
 "nbformat": 4,
 "nbformat_minor": 5
}
