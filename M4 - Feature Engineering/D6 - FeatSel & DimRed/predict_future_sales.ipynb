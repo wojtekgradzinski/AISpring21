{
 "cells": [
  {
   "cell_type": "code",
   "metadata": {
    "tags": [],
    "cell_id": "00000-d6d6b847-f31e-4a14-8000-2c92dc46a182",
    "deepnote_to_be_reexecuted": false,
    "source_hash": "505561f9",
    "execution_start": 1620644453762,
    "execution_millis": 426,
    "deepnote_cell_type": "code"
   },
   "source": [
    "import pandas as pd\n",
    "import numpy as np\n",
    "import matplotlib.pyplot as plt "
   ],
   "execution_count": 5,
   "outputs": []
  },
  {
   "cell_type": "code",
   "source": [
    "df_train = pd.read_csv('sales_train.csv')\n",
    "df_test = pd.read_csv('test.csv')\n",
    "df_items = pd.read_csv('items.csv', index_col='item_id')\n",
    "df_categories = pd.read_csv('categories.csv', index_col='category_id')\n",
    "df_shops = pd.read_csv('shops.csv', index_col='shop_id')\n",
    "df_sub   = pd.read_csv(\"sample_submission.csv\", index_col=\"ID\")"
   ],
   "metadata": {
    "tags": [],
    "cell_id": "00002-6e4bacef-42d8-4aaa-aef2-be28a0bf1906",
    "deepnote_to_be_reexecuted": false,
    "source_hash": "565be4e5",
    "execution_start": 1620644462871,
    "execution_millis": 48,
    "deepnote_cell_type": "code"
   },
   "outputs": [],
   "execution_count": 6
  },
  {
   "cell_type": "code",
   "source": [
    "df_train.describe()\n",
    "# df_categories.describe()\n",
    "# df_shops.describe()"
   ],
   "metadata": {
    "tags": [],
    "cell_id": "00006-c4bfa06c-6ec7-4b15-9081-ba07a4f87f31",
    "deepnote_to_be_reexecuted": false,
    "source_hash": "5b9c39d3",
    "execution_start": 1620644514814,
    "execution_millis": 18,
    "deepnote_cell_type": "code"
   },
   "outputs": [
    {
     "data": {
      "text/plain": "       date_block_num       shop_id       item_id    item_price  item_cnt_day\ncount    2.935849e+06  2.935849e+06  2.935849e+06  2.935849e+06  2.935849e+06\nmean     1.456991e+01  3.300173e+01  1.019723e+04  8.908532e+02  1.242641e+00\nstd      9.422988e+00  1.622697e+01  6.324297e+03  1.729800e+03  2.618834e+00\nmin      0.000000e+00  0.000000e+00  0.000000e+00 -1.000000e+00 -2.200000e+01\n25%      7.000000e+00  2.200000e+01  4.476000e+03  2.490000e+02  1.000000e+00\n50%      1.400000e+01  3.100000e+01  9.343000e+03  3.990000e+02  1.000000e+00\n75%      2.300000e+01  4.700000e+01  1.568400e+04  9.990000e+02  1.000000e+00\nmax      3.300000e+01  5.900000e+01  2.216900e+04  3.079800e+05  2.169000e+03",
      "text/html": "<div>\n<style scoped>\n    .dataframe tbody tr th:only-of-type {\n        vertical-align: middle;\n    }\n\n    .dataframe tbody tr th {\n        vertical-align: top;\n    }\n\n    .dataframe thead th {\n        text-align: right;\n    }\n</style>\n<table border=\"1\" class=\"dataframe\">\n  <thead>\n    <tr style=\"text-align: right;\">\n      <th></th>\n      <th>date_block_num</th>\n      <th>shop_id</th>\n      <th>item_id</th>\n      <th>item_price</th>\n      <th>item_cnt_day</th>\n    </tr>\n  </thead>\n  <tbody>\n    <tr>\n      <th>count</th>\n      <td>2.935849e+06</td>\n      <td>2.935849e+06</td>\n      <td>2.935849e+06</td>\n      <td>2.935849e+06</td>\n      <td>2.935849e+06</td>\n    </tr>\n    <tr>\n      <th>mean</th>\n      <td>1.456991e+01</td>\n      <td>3.300173e+01</td>\n      <td>1.019723e+04</td>\n      <td>8.908532e+02</td>\n      <td>1.242641e+00</td>\n    </tr>\n    <tr>\n      <th>std</th>\n      <td>9.422988e+00</td>\n      <td>1.622697e+01</td>\n      <td>6.324297e+03</td>\n      <td>1.729800e+03</td>\n      <td>2.618834e+00</td>\n    </tr>\n    <tr>\n      <th>min</th>\n      <td>0.000000e+00</td>\n      <td>0.000000e+00</td>\n      <td>0.000000e+00</td>\n      <td>-1.000000e+00</td>\n      <td>-2.200000e+01</td>\n    </tr>\n    <tr>\n      <th>25%</th>\n      <td>7.000000e+00</td>\n      <td>2.200000e+01</td>\n      <td>4.476000e+03</td>\n      <td>2.490000e+02</td>\n      <td>1.000000e+00</td>\n    </tr>\n    <tr>\n      <th>50%</th>\n      <td>1.400000e+01</td>\n      <td>3.100000e+01</td>\n      <td>9.343000e+03</td>\n      <td>3.990000e+02</td>\n      <td>1.000000e+00</td>\n    </tr>\n    <tr>\n      <th>75%</th>\n      <td>2.300000e+01</td>\n      <td>4.700000e+01</td>\n      <td>1.568400e+04</td>\n      <td>9.990000e+02</td>\n      <td>1.000000e+00</td>\n    </tr>\n    <tr>\n      <th>max</th>\n      <td>3.300000e+01</td>\n      <td>5.900000e+01</td>\n      <td>2.216900e+04</td>\n      <td>3.079800e+05</td>\n      <td>2.169000e+03</td>\n    </tr>\n  </tbody>\n</table>\n</div>"
     },
     "execution_count": 7,
     "metadata": {},
     "output_type": "execute_result"
    }
   ],
   "execution_count": 7
  },
  {
   "cell_type": "code",
   "source": [
    "df_train['item_cnt_day'].sort_values(ascending=False)"
   ],
   "metadata": {
    "tags": [],
    "cell_id": "00007-34528b24-8978-4b15-b9cf-d7c14fbd34a3",
    "deepnote_to_be_reexecuted": false,
    "source_hash": "7644947b",
    "execution_start": 1620645070253,
    "execution_millis": 154,
    "deepnote_cell_type": "code"
   },
   "outputs": [
    {
     "data": {
      "text/plain": "2909818    2169.0\n2326930    1000.0\n2864235     669.0\n2851091     637.0\n2608040     624.0\n            ...  \n59156        -6.0\n940092       -6.0\n2048519      -9.0\n1835454     -16.0\n1057907     -22.0\nName: item_cnt_day, Length: 2935849, dtype: float64"
     },
     "execution_count": 8,
     "metadata": {},
     "output_type": "execute_result"
    }
   ],
   "execution_count": 8
  },
  {
   "cell_type": "code",
   "source": [
    "df_sales_train.corr()[\"item_price\"].abs().sort_values().plot.barh();"
   ],
   "metadata": {
    "tags": [],
    "cell_id": "00009-bc09872a-e256-40fa-b9c8-fa83b19a8004",
    "deepnote_to_be_reexecuted": false,
    "source_hash": "d3bd604c",
    "execution_start": 1620644040886,
    "execution_millis": 603,
    "deepnote_cell_type": "code"
   },
   "outputs": [
    {
     "ename": "NameError",
     "evalue": "name 'df_sales_train' is not defined",
     "output_type": "error",
     "traceback": [
      "\u001B[0;31m---------------------------------------------------------------------------\u001B[0m",
      "\u001B[0;31mNameError\u001B[0m                                 Traceback (most recent call last)",
      "\u001B[0;32m<ipython-input-9-74b9fe3751f6>\u001B[0m in \u001B[0;36m<module>\u001B[0;34m\u001B[0m\n\u001B[0;32m----> 1\u001B[0;31m \u001B[0mdf_sales_train\u001B[0m\u001B[0;34m.\u001B[0m\u001B[0mcorr\u001B[0m\u001B[0;34m(\u001B[0m\u001B[0;34m)\u001B[0m\u001B[0;34m[\u001B[0m\u001B[0;34m\"item_price\"\u001B[0m\u001B[0;34m]\u001B[0m\u001B[0;34m.\u001B[0m\u001B[0mabs\u001B[0m\u001B[0;34m(\u001B[0m\u001B[0;34m)\u001B[0m\u001B[0;34m.\u001B[0m\u001B[0msort_values\u001B[0m\u001B[0;34m(\u001B[0m\u001B[0;34m)\u001B[0m\u001B[0;34m.\u001B[0m\u001B[0mplot\u001B[0m\u001B[0;34m.\u001B[0m\u001B[0mbarh\u001B[0m\u001B[0;34m(\u001B[0m\u001B[0;34m)\u001B[0m\u001B[0;34m;\u001B[0m\u001B[0;34m\u001B[0m\u001B[0;34m\u001B[0m\u001B[0m\n\u001B[0m\u001B[1;32m      2\u001B[0m \u001B[0;34m\u001B[0m\u001B[0m\n",
      "\u001B[0;31mNameError\u001B[0m: name 'df_sales_train' is not defined"
     ]
    }
   ],
   "execution_count": 9
  },
  {
   "cell_type": "code",
   "source": [
    "df_train.groupby(\"item_id\").agg({\"shop_id\": \"nunique\"}).reset_index().plot.scatter(\"item_id\", \"shop_id\", figsize=(10, 6), s=10);"
   ],
   "metadata": {
    "tags": [],
    "cell_id": "00010-3c18aae0-ca6f-43a8-ada7-1781dac5d251",
    "deepnote_cell_type": "code"
   },
   "outputs": [],
   "execution_count": null
  },
  {
   "source": [
    "### October 2015 sales"
   ],
   "cell_type": "markdown",
   "metadata": {}
  },
  {
   "cell_type": "code",
   "source": [
    "october_sales = df_train.loc[df_train['date_block_num']==33]\n",
    "october_sales"
   ],
   "metadata": {
    "tags": [],
    "cell_id": "00010-e6bb1ad6-fa01-411c-b27d-f26cb3d697fc",
    "deepnote_to_be_reexecuted": false,
    "source_hash": "d4629450",
    "execution_start": 1620644378802,
    "execution_millis": 93,
    "deepnote_cell_type": "code"
   },
   "outputs": [],
   "execution_count": null
  },
  {
   "cell_type": "code",
   "execution_count": null,
   "metadata": {},
   "outputs": [],
   "source": [
    "october_sales = df_train[df_train.date_block_num==33]"
   ]
  },
  {
   "cell_type": "code",
   "execution_count": null,
   "metadata": {},
   "outputs": [],
   "source": [
    "df_train.drop(df_train.loc[df_train['date_block_num'] != 33 ].index, inplace=True)\n",
    "\n",
    "df_train"
   ]
  },
  {
   "cell_type": "code",
   "execution_count": null,
   "metadata": {},
   "outputs": [],
   "source": [
    "df_train.groupby(['date_block_num']).agg(['mean'])"
   ]
  },
  {
   "cell_type": "code",
   "execution_count": null,
   "metadata": {},
   "outputs": [],
   "source": [
    "df_train_1 = df_train[df_train.item_cnt_day < 0]"
   ]
  },
  {
   "cell_type": "code",
   "execution_count": null,
   "metadata": {},
   "outputs": [],
   "source": [
    "full = df_train.shape[0]\n",
    "ref = df_train_1.shape[0]\n",
    "percentage_refunds = round(ref / full, 5)\n",
    "print(\"% of refunds:\", percentage_refunds * 100, '%')"
   ]
  },
  {
   "cell_type": "code",
   "execution_count": null,
   "outputs": [],
   "source": [
    "venn2([set((df_train.shop_id.astype(str) + df_train.item_id.astype(str)).unique()),\n",
    "       set((df_test.shop_id.astype(str)  + df_test.item_id.astype(str)).unique())],\n",
    "      set_labels = ('Train', 'Test'), set_colors=('darkcyan', 'goldenrod'), alpha = 0.7)\n",
    "plt.show()"
   ],
   "metadata": {
    "collapsed": false,
    "pycharm": {
     "name": "#%%\n"
    }
   }
  },
  {
   "cell_type": "code",
   "execution_count": null,
   "outputs": [],
   "source": [
    "venn2([set(df_train.item_id.unique()), set(df_test.item_id.unique())],\n",
    "      set_labels = ('Train items', 'Test items'), set_colors=('darkcyan', 'goldenrod'), alpha = 0.7)\n",
    "plt.show()\n"
   ],
   "metadata": {
    "collapsed": false,
    "pycharm": {
     "name": "#%%\n"
    }
   }
  },
  {
   "cell_type": "markdown",
   "source": [
    "## October X November"
   ],
   "metadata": {
    "collapsed": false,
    "pycharm": {
     "name": "#%% md\n"
    }
   }
  },
  {
   "cell_type": "code",
   "execution_count": null,
   "outputs": [],
   "source": [
    "sep_2015 = df_train[df_train.date_block_num==32]\n",
    "oct_2015 = df_train[df_train.date_block_num==33]\n",
    "\n",
    "oct15_item_shop = oct_2015.groupby([\"shop_id\", \"item_id\"])[\"item_cnt_day\"].sum().reset_index()"
   ],
   "metadata": {
    "collapsed": false,
    "pycharm": {
     "name": "#%%\n"
    }
   }
  },
  {
   "cell_type": "code",
   "execution_count": null,
   "outputs": [],
   "source": [
    "venn2([set(oct_2015.item_id.unique()),\n",
    "       set(df_test.item_id.unique())],\n",
    "      set_labels = ('Items oct', 'Items nov'), set_colors=('darkcyan', 'goldenrod'), alpha = 0.7)\n",
    "plt.show()\n"
   ],
   "metadata": {
    "collapsed": false,
    "pycharm": {
     "name": "#%%\n"
    }
   }
  },
  {
   "cell_type": "code",
   "execution_count": null,
   "outputs": [],
   "source": [
    "venn3([set(sep_2015.item_id.unique()),\n",
    "       set(oct_2015.item_id.unique()),\n",
    "       set(df_test.item_id.unique())],\n",
    "      set_labels = ('Items sep', 'Items oct', 'Items nov'), set_colors=('darkcyan', 'goldenrod', 'orchid'), alpha = 0.7)\n",
    "plt.show()\n"
   ],
   "metadata": {
    "collapsed": false,
    "pycharm": {
     "name": "#%%\n"
    }
   }
  },
  {
   "cell_type": "code",
   "execution_count": null,
   "metadata": {},
   "outputs": [],
   "source": [
    "october_sales.shop_id.nunique()"
   ]
  },
  {
   "cell_type": "code",
   "execution_count": null,
   "metadata": {},
   "outputs": [],
   "source": [
    "october_sales.item_id.nunique()"
   ]
  },
  {
   "cell_type": "code",
   "execution_count": null,
   "metadata": {},
   "outputs": [],
   "source": [
    "october_sales.groupby([\"shop_id\", \"item_id\"])[[\"item_cnt_day\"]].agg([\"min\", \"max\", \"mean\", \"count\", \"sum\"])"
   ]
  },
  {
   "cell_type": "code",
   "execution_count": null,
   "metadata": {},
   "outputs": [],
   "source": [
    "october_sales_agg = october_sales.groupby([\"shop_id\", \"item_id\"])[\"item_cnt_day\"].sum().reset_index()"
   ]
  },
  {
   "cell_type": "code",
   "execution_count": null,
   "metadata": {},
   "outputs": [],
   "source": [
    "df_test\n"
   ]
  },
  {
   "cell_type": "code",
   "execution_count": null,
   "metadata": {},
   "outputs": [],
   "source": [
    "df_sub.head()"
   ]
  },
  {
   "cell_type": "code",
   "execution_count": null,
   "metadata": {},
   "outputs": [],
   "source": [
    "results = pd.merge(left = df_test,         # Left table for the join\n",
    "                   right = october_sales_agg, # Right table for the join\n",
    "                   on=[\"shop_id\", \"item_id\"], # Common keys\n",
    "                   how='left')          # Type of join\n",
    "\n",
    "results.head()"
   ]
  },
  {
   "cell_type": "code",
   "execution_count": null,
   "metadata": {},
   "outputs": [],
   "source": [
    "print(\"% of missings:\", results.item_cnt_day.isna().sum() / len(results) * 100)"
   ]
  },
  {
   "cell_type": "code",
   "execution_count": null,
   "metadata": {},
   "outputs": [],
   "source": [
    "# Fill missings with zeros\n",
    "\n",
    "results.item_cnt_day = results.item_cnt_day.fillna(0)\n",
    "results.head()"
   ]
  },
  {
   "cell_type": "code",
   "execution_count": null,
   "metadata": {},
   "outputs": [],
   "source": [
    "# clipping (limit) mins and max values\n",
    "results.item_cnt_day = results.item_cnt_day.clip(lower=0, upper=20)\n",
    "results.head()"
   ]
  },
  {
   "cell_type": "code",
   "execution_count": null,
   "metadata": {},
   "outputs": [],
   "source": [
    "df_sub[\"item_cnt_month\"] = results[\"item_cnt_day\"]\n",
    "df_sub.head()"
   ]
  },
  {
   "cell_type": "code",
   "execution_count": null,
   "metadata": {},
   "outputs": [],
   "source": [
    "df_sub.to_csv(\"oct2015.csv\")"
   ]
  },
  {
   "cell_type": "code",
   "execution_count": null,
   "metadata": {},
   "outputs": [],
   "source": [
    "!head oct2015.csv"
   ]
  },
  {
   "cell_type": "code",
   "execution_count": null,
   "metadata": {},
   "outputs": [],
   "source": []
  },
  {
   "cell_type": "code",
   "execution_count": null,
   "metadata": {},
   "outputs": [],
   "source": []
  },
  {
   "cell_type": "markdown",
   "source": [],
   "metadata": {
    "tags": [],
    "created_in_deepnote_cell": true,
    "deepnote_cell_type": "markdown"
   }
  }
 ],
 "nbformat": 4,
 "nbformat_minor": 2,
 "metadata": {
  "orig_nbformat": 2,
  "deepnote": {
   "is_reactive": false
  },
  "deepnote_notebook_id": "1b9a6fbe-7a99-4ee4-b12d-316e874460b0",
  "deepnote_execution_queue": [],
  "kernelspec": {
   "name": "python3",
   "language": "python",
   "display_name": "Python 3"
  }
 }
}